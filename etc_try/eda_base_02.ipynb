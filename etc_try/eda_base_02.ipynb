{
 "cells": [
  {
   "cell_type": "code",
   "execution_count": 105,
   "id": "8c0c7361",
   "metadata": {},
   "outputs": [],
   "source": [
    "import pandas as pd\n",
    "import numpy as np\n",
    "import os\n",
    "import pandas as pd\n",
    "import matplotlib.pyplot as plt"
   ]
  },
  {
   "cell_type": "code",
   "execution_count": 106,
   "id": "cc173bf1",
   "metadata": {},
   "outputs": [],
   "source": [
    "df = pd.read_csv(\"아이브1년치_참여데이터.csv\")"
   ]
  },
  {
   "cell_type": "code",
   "execution_count": 107,
   "id": "49dcb1b3",
   "metadata": {},
   "outputs": [
    {
     "data": {
      "application/vnd.microsoft.datawrangler.viewer.v0+json": {
       "columns": [
        {
         "name": "index",
         "rawType": "int64",
         "type": "integer"
        },
        {
         "name": "Unnamed: 0",
         "rawType": "int64",
         "type": "integer"
        },
        {
         "name": "rpt_time_date",
         "rawType": "object",
         "type": "string"
        },
        {
         "name": "rpt_time_time",
         "rawType": "int64",
         "type": "integer"
        },
        {
         "name": "ads_idx",
         "rawType": "int64",
         "type": "integer"
        },
        {
         "name": "mda_idx",
         "rawType": "int64",
         "type": "integer"
        },
        {
         "name": "rpt_time_clk",
         "rawType": "int64",
         "type": "integer"
        },
        {
         "name": "rpt_time_turn",
         "rawType": "int64",
         "type": "integer"
        },
        {
         "name": "rpt_time_scost",
         "rawType": "int64",
         "type": "integer"
        },
        {
         "name": "rpt_time_acost",
         "rawType": "int64",
         "type": "integer"
        },
        {
         "name": "rpt_time_cost",
         "rawType": "int64",
         "type": "integer"
        },
        {
         "name": "rpt_time_earn",
         "rawType": "int64",
         "type": "integer"
        }
       ],
       "ref": "9b59898e-abfb-4133-b613-60df1df2cbdc",
       "rows": [
        [
         "0",
         "0",
         "2024-07-27",
         "0",
         "4418",
         "761",
         "1",
         "0",
         "0",
         "0",
         "0",
         "0"
        ],
        [
         "1",
         "1",
         "2024-07-27",
         "0",
         "7377",
         "213",
         "1",
         "0",
         "0",
         "0",
         "0",
         "0"
        ],
        [
         "2",
         "2",
         "2024-07-27",
         "0",
         "7377",
         "337",
         "1",
         "0",
         "0",
         "0",
         "0",
         "0"
        ],
        [
         "3",
         "3",
         "2024-07-27",
         "0",
         "7377",
         "496",
         "1",
         "1",
         "230",
         "230",
         "180",
         "180"
        ],
        [
         "4",
         "4",
         "2024-07-27",
         "0",
         "7528",
         "792",
         "1",
         "0",
         "0",
         "0",
         "0",
         "0"
        ]
       ],
       "shape": {
        "columns": 11,
        "rows": 5
       }
      },
      "text/html": [
       "<div>\n",
       "<style scoped>\n",
       "    .dataframe tbody tr th:only-of-type {\n",
       "        vertical-align: middle;\n",
       "    }\n",
       "\n",
       "    .dataframe tbody tr th {\n",
       "        vertical-align: top;\n",
       "    }\n",
       "\n",
       "    .dataframe thead th {\n",
       "        text-align: right;\n",
       "    }\n",
       "</style>\n",
       "<table border=\"1\" class=\"dataframe\">\n",
       "  <thead>\n",
       "    <tr style=\"text-align: right;\">\n",
       "      <th></th>\n",
       "      <th>Unnamed: 0</th>\n",
       "      <th>rpt_time_date</th>\n",
       "      <th>rpt_time_time</th>\n",
       "      <th>ads_idx</th>\n",
       "      <th>mda_idx</th>\n",
       "      <th>rpt_time_clk</th>\n",
       "      <th>rpt_time_turn</th>\n",
       "      <th>rpt_time_scost</th>\n",
       "      <th>rpt_time_acost</th>\n",
       "      <th>rpt_time_cost</th>\n",
       "      <th>rpt_time_earn</th>\n",
       "    </tr>\n",
       "  </thead>\n",
       "  <tbody>\n",
       "    <tr>\n",
       "      <th>0</th>\n",
       "      <td>0</td>\n",
       "      <td>2024-07-27</td>\n",
       "      <td>0</td>\n",
       "      <td>4418</td>\n",
       "      <td>761</td>\n",
       "      <td>1</td>\n",
       "      <td>0</td>\n",
       "      <td>0</td>\n",
       "      <td>0</td>\n",
       "      <td>0</td>\n",
       "      <td>0</td>\n",
       "    </tr>\n",
       "    <tr>\n",
       "      <th>1</th>\n",
       "      <td>1</td>\n",
       "      <td>2024-07-27</td>\n",
       "      <td>0</td>\n",
       "      <td>7377</td>\n",
       "      <td>213</td>\n",
       "      <td>1</td>\n",
       "      <td>0</td>\n",
       "      <td>0</td>\n",
       "      <td>0</td>\n",
       "      <td>0</td>\n",
       "      <td>0</td>\n",
       "    </tr>\n",
       "    <tr>\n",
       "      <th>2</th>\n",
       "      <td>2</td>\n",
       "      <td>2024-07-27</td>\n",
       "      <td>0</td>\n",
       "      <td>7377</td>\n",
       "      <td>337</td>\n",
       "      <td>1</td>\n",
       "      <td>0</td>\n",
       "      <td>0</td>\n",
       "      <td>0</td>\n",
       "      <td>0</td>\n",
       "      <td>0</td>\n",
       "    </tr>\n",
       "    <tr>\n",
       "      <th>3</th>\n",
       "      <td>3</td>\n",
       "      <td>2024-07-27</td>\n",
       "      <td>0</td>\n",
       "      <td>7377</td>\n",
       "      <td>496</td>\n",
       "      <td>1</td>\n",
       "      <td>1</td>\n",
       "      <td>230</td>\n",
       "      <td>230</td>\n",
       "      <td>180</td>\n",
       "      <td>180</td>\n",
       "    </tr>\n",
       "    <tr>\n",
       "      <th>4</th>\n",
       "      <td>4</td>\n",
       "      <td>2024-07-27</td>\n",
       "      <td>0</td>\n",
       "      <td>7528</td>\n",
       "      <td>792</td>\n",
       "      <td>1</td>\n",
       "      <td>0</td>\n",
       "      <td>0</td>\n",
       "      <td>0</td>\n",
       "      <td>0</td>\n",
       "      <td>0</td>\n",
       "    </tr>\n",
       "  </tbody>\n",
       "</table>\n",
       "</div>"
      ],
      "text/plain": [
       "   Unnamed: 0 rpt_time_date  rpt_time_time  ads_idx  mda_idx  rpt_time_clk  \\\n",
       "0           0    2024-07-27              0     4418      761             1   \n",
       "1           1    2024-07-27              0     7377      213             1   \n",
       "2           2    2024-07-27              0     7377      337             1   \n",
       "3           3    2024-07-27              0     7377      496             1   \n",
       "4           4    2024-07-27              0     7528      792             1   \n",
       "\n",
       "   rpt_time_turn  rpt_time_scost  rpt_time_acost  rpt_time_cost  rpt_time_earn  \n",
       "0              0               0               0              0              0  \n",
       "1              0               0               0              0              0  \n",
       "2              0               0               0              0              0  \n",
       "3              1             230             230            180            180  \n",
       "4              0               0               0              0              0  "
      ]
     },
     "execution_count": 107,
     "metadata": {},
     "output_type": "execute_result"
    }
   ],
   "source": [
    "df.head()"
   ]
  },
  {
   "cell_type": "code",
   "execution_count": 108,
   "id": "5f03ab96",
   "metadata": {},
   "outputs": [
    {
     "name": "stdout",
     "output_type": "stream",
     "text": [
      "<class 'pandas.core.frame.DataFrame'>\n",
      "RangeIndex: 6953146 entries, 0 to 6953145\n",
      "Data columns (total 11 columns):\n",
      " #   Column          Dtype \n",
      "---  ------          ----- \n",
      " 0   Unnamed: 0      int64 \n",
      " 1   rpt_time_date   object\n",
      " 2   rpt_time_time   int64 \n",
      " 3   ads_idx         int64 \n",
      " 4   mda_idx         int64 \n",
      " 5   rpt_time_clk    int64 \n",
      " 6   rpt_time_turn   int64 \n",
      " 7   rpt_time_scost  int64 \n",
      " 8   rpt_time_acost  int64 \n",
      " 9   rpt_time_cost   int64 \n",
      " 10  rpt_time_earn   int64 \n",
      "dtypes: int64(10), object(1)\n",
      "memory usage: 583.5+ MB\n"
     ]
    }
   ],
   "source": [
    "df.info()"
   ]
  },
  {
   "cell_type": "markdown",
   "id": "b408a44c",
   "metadata": {},
   "source": [
    "### 데이터 전처리"
   ]
  },
  {
   "cell_type": "code",
   "execution_count": 109,
   "id": "6138e1da",
   "metadata": {},
   "outputs": [
    {
     "name": "stderr",
     "output_type": "stream",
     "text": [
      "/var/folders/hl/90p2p86n5cs6t3p_1xwxdx2r0000gn/T/ipykernel_99806/2216591216.py:5: DtypeWarning: Columns (12,13,19) have mixed types. Specify dtype option on import or set low_memory=False.\n",
      "  ads_list = pd.read_csv(\"df_list.csv\")\n",
      "/var/folders/hl/90p2p86n5cs6t3p_1xwxdx2r0000gn/T/ipykernel_99806/2216591216.py:7: UserWarning: Could not infer format, so each element will be parsed individually, falling back to `dateutil`. To ensure parsing is consistent and as-expected, please specify a format.\n",
      "  ads_list['ads_edate'] = pd.to_datetime(ads_list['ads_edate'], errors='coerce')\n"
     ]
    }
   ],
   "source": [
    "# 광고목록에서 현재 진행중인 광고 찾기\n",
    "\n",
    "import datetime\n",
    "\n",
    "ads_list = pd.read_csv(\"df_list.csv\")\n",
    "\n",
    "ads_list['ads_edate'] = pd.to_datetime(ads_list['ads_edate'], errors='coerce')\n",
    "\n",
    "# 2025. 8. 29 전 날짜 삭제\n",
    "compare_date = datetime.date(2025, 8, 29)\n",
    "condition1 = ads_list['ads_edate'].dt.date >= compare_date\n",
    "ads_list_filtered = ads_list[condition1]\n",
    "\n",
    "# delyn이 N인 행만 남기기\n",
    "ads_list_filtered = ads_list_filtered[ads_list_filtered['delyn'] == 'N']\n",
    "\n",
    "\n",
    "\n",
    "# # 아이브1년치_참여데이터 불러오기\n",
    "# ive_time_report = pd.read_csv('아이브1년치_참여데이터.csv', index_col=0)\n",
    "\n",
    "# # rpt_time_date 컬럼을 datetime 형태로 변경하기\n",
    "# ive_time_report['rpt_time_date'] = pd.to_datetime(ive_time_report['rpt_time_date'], format='%Y-%m-%d')\n",
    "\n",
    "\n",
    "\n",
    "# # 교집합의 크기(개수) 계산\n",
    "# set_a = set(ads_list_filtered['ads_idx'])\n",
    "# set_b = set(ive_time_report['ads_idx'])\n",
    "\n",
    "# len(set_a & set_b)"
   ]
  },
  {
   "cell_type": "code",
   "execution_count": 118,
   "id": "5ab12daa",
   "metadata": {},
   "outputs": [],
   "source": [
    "ads_list_c = ads_list_filtered[['ads_idx', 'ads_sdate','ads_edate']]"
   ]
  },
  {
   "cell_type": "code",
   "execution_count": 119,
   "id": "1be60ddc",
   "metadata": {},
   "outputs": [],
   "source": [
    "# ads_list_c에 있는 ads_idx만 필터링\n",
    "df_filtered = df[df['ads_idx'].isin(ads_list_c['ads_idx'])]\n",
    "\n",
    "# 두 데이터 합치기 (ads_idx 기준)\n",
    "merged_df = pd.merge(df_filtered, ads_list_c, on='ads_idx', how='inner')"
   ]
  },
  {
   "cell_type": "code",
   "execution_count": 120,
   "id": "c879a9c0",
   "metadata": {},
   "outputs": [
    {
     "name": "stdout",
     "output_type": "stream",
     "text": [
      "<class 'pandas.core.frame.DataFrame'>\n",
      "RangeIndex: 2436703 entries, 0 to 2436702\n",
      "Data columns (total 13 columns):\n",
      " #   Column          Dtype         \n",
      "---  ------          -----         \n",
      " 0   Unnamed: 0      int64         \n",
      " 1   rpt_time_date   object        \n",
      " 2   rpt_time_time   int64         \n",
      " 3   ads_idx         int64         \n",
      " 4   mda_idx         int64         \n",
      " 5   rpt_time_clk    int64         \n",
      " 6   rpt_time_turn   int64         \n",
      " 7   rpt_time_scost  int64         \n",
      " 8   rpt_time_acost  int64         \n",
      " 9   rpt_time_cost   int64         \n",
      " 10  rpt_time_earn   int64         \n",
      " 11  ads_sdate       object        \n",
      " 12  ads_edate       datetime64[ns]\n",
      "dtypes: datetime64[ns](1), int64(10), object(2)\n",
      "memory usage: 241.7+ MB\n"
     ]
    }
   ],
   "source": [
    "merged_df.info()"
   ]
  },
  {
   "cell_type": "markdown",
   "id": "fecca2ab",
   "metadata": {},
   "source": [
    "##### 여기서부터 실험중"
   ]
  },
  {
   "cell_type": "code",
   "execution_count": 114,
   "id": "a1b08c1b",
   "metadata": {},
   "outputs": [
    {
     "data": {
      "application/vnd.microsoft.datawrangler.viewer.v0+json": {
       "columns": [
        {
         "name": "ads_idx",
         "rawType": "int64",
         "type": "integer"
        },
        {
         "name": "rpt_time_turn",
         "rawType": "int64",
         "type": "integer"
        }
       ],
       "ref": "b217ec0b-d0ed-4e9a-9f0d-d1527a813b05",
       "rows": [
        [
         "19488",
         "248660"
        ],
        [
         "133653",
         "88986"
        ],
        [
         "11748",
         "88442"
        ],
        [
         "93443",
         "76568"
        ],
        [
         "119943",
         "76354"
        ],
        [
         "9982",
         "55196"
        ],
        [
         "91174",
         "54796"
        ],
        [
         "355772",
         "49198"
        ],
        [
         "119681",
         "44520"
        ],
        [
         "94739",
         "42400"
        ]
       ],
       "shape": {
        "columns": 1,
        "rows": 10
       }
      },
      "text/plain": [
       "ads_idx\n",
       "19488     248660\n",
       "133653     88986\n",
       "11748      88442\n",
       "93443      76568\n",
       "119943     76354\n",
       "9982       55196\n",
       "91174      54796\n",
       "355772     49198\n",
       "119681     44520\n",
       "94739      42400\n",
       "Name: rpt_time_turn, dtype: int64"
      ]
     },
     "execution_count": 114,
     "metadata": {},
     "output_type": "execute_result"
    }
   ],
   "source": [
    "merged_df.groupby('ads_idx')[\"rpt_time_turn\"].sum().sort_values(ascending=False).head(10)"
   ]
  },
  {
   "cell_type": "code",
   "execution_count": 141,
   "id": "cf7ccbef",
   "metadata": {},
   "outputs": [
    {
     "name": "stdout",
     "output_type": "stream",
     "text": [
      "     mda_idx  counts\n",
      "4        213    3614\n",
      "28       496    2513\n",
      "43       579    2307\n",
      "78       701    2292\n",
      "76       688    2179\n",
      "..       ...     ...\n",
      "11       322       1\n",
      "128      847       1\n",
      "19       409       1\n",
      "24       466       1\n",
      "102      791       1\n",
      "\n",
      "[173 rows x 2 columns]\n"
     ]
    }
   ],
   "source": [
    "ads_id = 19488\n",
    "\n",
    "# 특정 광고 필터링 후 mda_idx별 행 개수\n",
    "mda_counts = merged_df[merged_df['ads_idx'] == ads_id] \\\n",
    "    .groupby('mda_idx').size().reset_index(name='counts') \\\n",
    "    .sort_values('counts', ascending=False)\n",
    "\n",
    "print(mda_counts)\n"
   ]
  },
  {
   "cell_type": "code",
   "execution_count": 142,
   "id": "6d491c69",
   "metadata": {},
   "outputs": [
    {
     "name": "stdout",
     "output_type": "stream",
     "text": [
      "     mda_idx     unique_start_dates\n",
      "0         22  [2022-09-23 12:00:00]\n",
      "1         28  [2022-09-23 12:00:00]\n",
      "2         30  [2022-09-23 12:00:00]\n",
      "3         54  [2022-09-23 12:00:00]\n",
      "4        213  [2022-09-23 12:00:00]\n",
      "..       ...                    ...\n",
      "168     1046  [2022-09-23 12:00:00]\n",
      "169     1047  [2022-09-23 12:00:00]\n",
      "170     1048  [2022-09-23 12:00:00]\n",
      "171     1051  [2022-09-23 12:00:00]\n",
      "172     1061  [2022-09-23 12:00:00]\n",
      "\n",
      "[173 rows x 2 columns]\n"
     ]
    }
   ],
   "source": [
    "ads_id =19488 \n",
    "\n",
    "result = merged_df[merged_df['ads_idx'] == ads_id] \\\n",
    "    .groupby('mda_idx')['ads_sdate'] \\\n",
    "    .apply(lambda x: sorted(x.unique())) \\\n",
    "    .reset_index(name='unique_start_dates')\n",
    "\n",
    "print(result)"
   ]
  },
  {
   "cell_type": "code",
   "execution_count": 139,
   "id": "ffee7572",
   "metadata": {},
   "outputs": [
    {
     "data": {
      "application/vnd.microsoft.datawrangler.viewer.v0+json": {
       "columns": [
        {
         "name": "ads_idx",
         "rawType": "int64",
         "type": "integer"
        },
        {
         "name": "ads_sdate",
         "rawType": "int64",
         "type": "integer"
        }
       ],
       "ref": "bc011875-7217-4b3e-b3ce-562b15b67099",
       "rows": [
        [
         "2595",
         "1"
        ],
        [
         "163144",
         "1"
        ],
        [
         "163162",
         "1"
        ],
        [
         "163161",
         "1"
        ],
        [
         "163160",
         "1"
        ],
        [
         "163159",
         "1"
        ],
        [
         "163157",
         "1"
        ],
        [
         "163156",
         "1"
        ],
        [
         "163155",
         "1"
        ],
        [
         "163154",
         "1"
        ]
       ],
       "shape": {
        "columns": 1,
        "rows": 10
       }
      },
      "text/plain": [
       "ads_idx\n",
       "2595      1\n",
       "163144    1\n",
       "163162    1\n",
       "163161    1\n",
       "163160    1\n",
       "163159    1\n",
       "163157    1\n",
       "163156    1\n",
       "163155    1\n",
       "163154    1\n",
       "Name: ads_sdate, dtype: int64"
      ]
     },
     "execution_count": 139,
     "metadata": {},
     "output_type": "execute_result"
    }
   ],
   "source": [
    "merged_df.groupby('ads_idx')[\"ads_sdate\"].nunique().sort_values(ascending=False).head(10)"
   ]
  },
  {
   "cell_type": "code",
   "execution_count": 124,
   "id": "abfaf8c6",
   "metadata": {},
   "outputs": [
    {
     "data": {
      "application/vnd.microsoft.datawrangler.viewer.v0+json": {
       "columns": [
        {
         "name": "ads_idx",
         "rawType": "int64",
         "type": "integer"
        },
        {
         "name": "ads_sdate",
         "rawType": "int64",
         "type": "integer"
        }
       ],
       "ref": "8b52a407-c4ed-414f-9517-4b752f3e3bff",
       "rows": [
        [
         "2595",
         "1"
        ],
        [
         "163144",
         "1"
        ],
        [
         "163162",
         "1"
        ],
        [
         "163161",
         "1"
        ],
        [
         "163160",
         "1"
        ],
        [
         "163159",
         "1"
        ],
        [
         "163157",
         "1"
        ],
        [
         "163156",
         "1"
        ],
        [
         "163155",
         "1"
        ],
        [
         "163154",
         "1"
        ]
       ],
       "shape": {
        "columns": 1,
        "rows": 10
       }
      },
      "text/plain": [
       "ads_idx\n",
       "2595      1\n",
       "163144    1\n",
       "163162    1\n",
       "163161    1\n",
       "163160    1\n",
       "163159    1\n",
       "163157    1\n",
       "163156    1\n",
       "163155    1\n",
       "163154    1\n",
       "Name: ads_sdate, dtype: int64"
      ]
     },
     "execution_count": 124,
     "metadata": {},
     "output_type": "execute_result"
    }
   ],
   "source": [
    "merged_df.groupby('ads_idx')[\"ads_sdate\"].nunique().sort_values(ascending=False).head(10)\n"
   ]
  },
  {
   "cell_type": "code",
   "execution_count": 150,
   "id": "7a011608",
   "metadata": {},
   "outputs": [
    {
     "name": "stdout",
     "output_type": "stream",
     "text": [
      "최대 유니크 날짜 개수: 399\n",
      "최소 유니크 날짜 개수: 1\n",
      "평균 유니크 날짜 개수: 17.43\n"
     ]
    }
   ],
   "source": [
    "# ads × mda별 rpt_time_date 유니크 개수\n",
    "unique_counts = merged_df.groupby(['ads_idx', 'mda_idx'])['rpt_time_date'].nunique()\n",
    "\n",
    "# 최대, 최소, 평균\n",
    "max_count = unique_counts.max()\n",
    "min_count = unique_counts.min()\n",
    "mean_count = unique_counts.mean()\n",
    "\n",
    "print(f\"최대 유니크 날짜 개수: {max_count}\")\n",
    "print(f\"최소 유니크 날짜 개수: {min_count}\")\n",
    "print(f\"평균 유니크 날짜 개수: {mean_count:.2f}\")\n"
   ]
  },
  {
   "cell_type": "code",
   "execution_count": 129,
   "id": "d396f11d",
   "metadata": {},
   "outputs": [
    {
     "data": {
      "application/vnd.microsoft.datawrangler.viewer.v0+json": {
       "columns": [
        {
         "name": "ads_idx",
         "rawType": "int64",
         "type": "integer"
        },
        {
         "name": "mda_idx",
         "rawType": "int64",
         "type": "integer"
        }
       ],
       "ref": "fde0a85d-c62a-4105-87dc-107b65d55173",
       "rows": [
        [
         "133653",
         "207347"
        ],
        [
         "19488",
         "92496"
        ],
        [
         "28781",
         "59237"
        ],
        [
         "73878",
         "53513"
        ],
        [
         "21037",
         "48989"
        ],
        [
         "6667",
         "46018"
        ],
        [
         "14074",
         "37532"
        ],
        [
         "21038",
         "28622"
        ],
        [
         "20256",
         "26788"
        ],
        [
         "56225",
         "25074"
        ]
       ],
       "shape": {
        "columns": 1,
        "rows": 10
       }
      },
      "text/plain": [
       "ads_idx\n",
       "133653    207347\n",
       "19488      92496\n",
       "28781      59237\n",
       "73878      53513\n",
       "21037      48989\n",
       "6667       46018\n",
       "14074      37532\n",
       "21038      28622\n",
       "20256      26788\n",
       "56225      25074\n",
       "Name: mda_idx, dtype: int64"
      ]
     },
     "execution_count": 129,
     "metadata": {},
     "output_type": "execute_result"
    }
   ],
   "source": [
    "merged_df.groupby('ads_idx')[\"mda_idx\"].count().sort_values(ascending=False).head(10)"
   ]
  },
  {
   "cell_type": "code",
   "execution_count": 130,
   "id": "416de686",
   "metadata": {},
   "outputs": [
    {
     "data": {
      "application/vnd.microsoft.datawrangler.viewer.v0+json": {
       "columns": [
        {
         "name": "ads_idx",
         "rawType": "int64",
         "type": "integer"
        },
        {
         "name": "mda_idx",
         "rawType": "int64",
         "type": "integer"
        }
       ],
       "ref": "c7c68e48-1154-4bb1-9d6e-fc712e8bc2c0",
       "rows": [
        [
         "19488",
         "173"
        ],
        [
         "133653",
         "166"
        ],
        [
         "6667",
         "164"
        ],
        [
         "13928",
         "145"
        ],
        [
         "119943",
         "140"
        ],
        [
         "11748",
         "134"
        ],
        [
         "73878",
         "128"
        ],
        [
         "28781",
         "118"
        ],
        [
         "146311",
         "117"
        ],
        [
         "56468",
         "116"
        ],
        [
         "56225",
         "116"
        ],
        [
         "81446",
         "114"
        ],
        [
         "93788",
         "107"
        ],
        [
         "20258",
         "105"
        ],
        [
         "90507",
         "104"
        ],
        [
         "93375",
         "103"
        ],
        [
         "94739",
         "99"
        ],
        [
         "93376",
         "98"
        ],
        [
         "20257",
         "97"
        ],
        [
         "72966",
         "97"
        ],
        [
         "94580",
         "97"
        ],
        [
         "173547",
         "96"
        ],
        [
         "99380",
         "96"
        ],
        [
         "20256",
         "96"
        ],
        [
         "32243",
         "94"
        ],
        [
         "355772",
         "94"
        ],
        [
         "108602",
         "93"
        ],
        [
         "154157",
         "93"
        ],
        [
         "9982",
         "92"
        ],
        [
         "72969",
         "92"
        ],
        [
         "443782",
         "92"
        ],
        [
         "177798",
         "91"
        ],
        [
         "119681",
         "90"
        ],
        [
         "14074",
         "90"
        ],
        [
         "83822",
         "90"
        ],
        [
         "399200",
         "89"
        ],
        [
         "168241",
         "88"
        ],
        [
         "14134",
         "87"
        ],
        [
         "376949",
         "85"
        ],
        [
         "117718",
         "85"
        ],
        [
         "111424",
         "85"
        ],
        [
         "130276",
         "85"
        ],
        [
         "161312",
         "84"
        ],
        [
         "92476",
         "83"
        ],
        [
         "52982",
         "83"
        ],
        [
         "94487",
         "82"
        ],
        [
         "49648",
         "81"
        ],
        [
         "72967",
         "81"
        ],
        [
         "139362",
         "80"
        ],
        [
         "115767",
         "79"
        ]
       ],
       "shape": {
        "columns": 1,
        "rows": 1751
       }
      },
      "text/plain": [
       "ads_idx\n",
       "19488     173\n",
       "133653    166\n",
       "6667      164\n",
       "13928     145\n",
       "119943    140\n",
       "         ... \n",
       "72964       1\n",
       "130269      1\n",
       "130270      1\n",
       "70424       1\n",
       "385444      1\n",
       "Name: mda_idx, Length: 1751, dtype: int64"
      ]
     },
     "execution_count": 130,
     "metadata": {},
     "output_type": "execute_result"
    }
   ],
   "source": [
    "merged_df.groupby('ads_idx')[\"mda_idx\"].nunique().sort_values(ascending=False)\n"
   ]
  },
  {
   "cell_type": "code",
   "execution_count": 127,
   "id": "74e9b469",
   "metadata": {},
   "outputs": [
    {
     "data": {
      "application/vnd.microsoft.datawrangler.viewer.v0+json": {
       "columns": [
        {
         "name": "mda_idx",
         "rawType": "int64",
         "type": "integer"
        },
        {
         "name": "ads_sdate",
         "rawType": "int64",
         "type": "integer"
        }
       ],
       "ref": "cd8d6639-dbd8-4da0-9306-6cdca17df60c",
       "rows": [
        [
         "270",
         "838"
        ],
        [
         "371",
         "483"
        ],
        [
         "790",
         "475"
        ],
        [
         "281",
         "460"
        ],
        [
         "761",
         "456"
        ],
        [
         "246",
         "433"
        ],
        [
         "54",
         "416"
        ],
        [
         "22",
         "412"
        ],
        [
         "817",
         "391"
        ],
        [
         "337",
         "390"
        ]
       ],
       "shape": {
        "columns": 1,
        "rows": 10
       }
      },
      "text/plain": [
       "mda_idx\n",
       "270    838\n",
       "371    483\n",
       "790    475\n",
       "281    460\n",
       "761    456\n",
       "246    433\n",
       "54     416\n",
       "22     412\n",
       "817    391\n",
       "337    390\n",
       "Name: ads_sdate, dtype: int64"
      ]
     },
     "execution_count": 127,
     "metadata": {},
     "output_type": "execute_result"
    }
   ],
   "source": [
    "merged_df.groupby('mda_idx')[\"ads_sdate\"].nunique().sort_values(ascending=False).head(10)\n"
   ]
  },
  {
   "cell_type": "code",
   "execution_count": 145,
   "id": "4763b75a",
   "metadata": {},
   "outputs": [
    {
     "name": "stdout",
     "output_type": "stream",
     "text": [
      "   ads_idx  mda_idx                                        start_dates\n",
      "0     2595       54  [2018-09-14 12:00:00, 2018-09-14 12:00:00, 201...\n",
      "1     2595      246  [2018-09-14 12:00:00, 2018-09-14 12:00:00, 201...\n",
      "2     2595      270  [2018-09-14 12:00:00, 2018-09-14 12:00:00, 201...\n",
      "3     2595      290         [2018-09-14 12:00:00, 2018-09-14 12:00:00]\n",
      "4     2595      337  [2018-09-14 12:00:00, 2018-09-14 12:00:00, 201...\n",
      "5     2595      389                              [2018-09-14 12:00:00]\n",
      "6     2595      482                              [2018-09-14 12:00:00]\n",
      "7     2595      583  [2018-09-14 12:00:00, 2018-09-14 12:00:00, 201...\n",
      "8     2595      630         [2018-09-14 12:00:00, 2018-09-14 12:00:00]\n",
      "9     2595      761  [2018-09-14 12:00:00, 2018-09-14 12:00:00, 201...\n"
     ]
    }
   ],
   "source": [
    "result = merged_df.groupby(['ads_idx', 'mda_idx'])['ads_sdate'] \\\n",
    "    .apply(list) \\\n",
    "    .reset_index(name='start_dates')\n",
    "\n",
    "print(result.head(10))"
   ]
  },
  {
   "cell_type": "code",
   "execution_count": 134,
   "id": "df9f60ab",
   "metadata": {},
   "outputs": [
    {
     "name": "stdout",
     "output_type": "stream",
     "text": [
      "   mda_idx     unique_start_dates\n",
      "0       22  [2025-06-10 17:00:00]\n",
      "1       73  [2025-06-10 17:00:00]\n",
      "2      270  [2025-06-10 17:00:00]\n",
      "3      281  [2025-06-10 17:00:00]\n",
      "4      371  [2025-06-10 17:00:00]\n",
      "5      539  [2025-06-10 17:00:00]\n",
      "6      540  [2025-06-10 17:00:00]\n",
      "7      645  [2025-06-10 17:00:00]\n",
      "8      790  [2025-06-10 17:00:00]\n",
      "9      854  [2025-06-10 17:00:00]\n"
     ]
    }
   ],
   "source": [
    "ads_id =19488 \n",
    "\n",
    "result = merged_df[merged_df['ads_idx'] == ads_id] \\\n",
    "    .groupby('mda_idx')['ads_sdate'] \\\n",
    "    .apply(lambda x: sorted(x.unique())) \\\n",
    "    .reset_index(name='unique_start_dates')\n",
    "\n",
    "print(result)"
   ]
  },
  {
   "cell_type": "markdown",
   "id": "a6a4f9dd",
   "metadata": {},
   "source": [
    "#####여기서부턴 원상복귀"
   ]
  },
  {
   "cell_type": "code",
   "execution_count": null,
   "id": "00aa2335",
   "metadata": {},
   "outputs": [],
   "source": [
    "# # 전환수가 클리수볻다 큰 경우 제거\n",
    "# merged_df = merged_df[merged_df['rpt_time_clk'] >= merged_df['rpt_time_turn']]"
   ]
  },
  {
   "cell_type": "code",
   "execution_count": 63,
   "id": "45145b76",
   "metadata": {},
   "outputs": [
    {
     "name": "stderr",
     "output_type": "stream",
     "text": [
      "/var/folders/hl/90p2p86n5cs6t3p_1xwxdx2r0000gn/T/ipykernel_99806/716114964.py:2: SettingWithCopyWarning: \n",
      "A value is trying to be set on a copy of a slice from a DataFrame.\n",
      "Try using .loc[row_indexer,col_indexer] = value instead\n",
      "\n",
      "See the caveats in the documentation: https://pandas.pydata.org/pandas-docs/stable/user_guide/indexing.html#returning-a-view-versus-a-copy\n",
      "  merged_df[\"unique_id\"] = (\n",
      "/var/folders/hl/90p2p86n5cs6t3p_1xwxdx2r0000gn/T/ipykernel_99806/716114964.py:8: SettingWithCopyWarning: \n",
      "A value is trying to be set on a copy of a slice from a DataFrame.\n",
      "Try using .loc[row_indexer,col_indexer] = value instead\n",
      "\n",
      "See the caveats in the documentation: https://pandas.pydata.org/pandas-docs/stable/user_guide/indexing.html#returning-a-view-versus-a-copy\n",
      "  merged_df[\"unique_id\"] = merged_df[\"unique_id\"].astype(int)\n"
     ]
    }
   ],
   "source": [
    "# 고유 ID 생성: ads_idx와 mda_idx를 결합\n",
    "merged_df[\"unique_id\"] = (\n",
    "    merged_df[\"ads_idx\"].astype(str).str.zfill(6) +   # ads_idx는 항상 6자리\n",
    "    merged_df[\"mda_idx\"].astype(str).str.zfill(4)     # mda_idx는 항상 4자리\n",
    ")\n",
    "\n",
    "# 필요하다면 숫자로 변환\n",
    "merged_df[\"unique_id\"] = merged_df[\"unique_id\"].astype(int)"
   ]
  },
  {
   "cell_type": "code",
   "execution_count": 64,
   "id": "26de5d48",
   "metadata": {},
   "outputs": [
    {
     "data": {
      "text/plain": [
       "26378"
      ]
     },
     "execution_count": 64,
     "metadata": {},
     "output_type": "execute_result"
    }
   ],
   "source": [
    "merged_df[\"unique_id\"].nunique()"
   ]
  },
  {
   "cell_type": "code",
   "execution_count": 65,
   "id": "f2d17159",
   "metadata": {},
   "outputs": [
    {
     "name": "stdout",
     "output_type": "stream",
     "text": [
      "<class 'pandas.core.frame.DataFrame'>\n",
      "Index: 2375380 entries, 0 to 2436702\n",
      "Data columns (total 13 columns):\n",
      " #   Column          Dtype         \n",
      "---  ------          -----         \n",
      " 0   Unnamed: 0      int64         \n",
      " 1   rpt_time_date   object        \n",
      " 2   rpt_time_time   int64         \n",
      " 3   ads_idx         int64         \n",
      " 4   mda_idx         int64         \n",
      " 5   rpt_time_clk    int64         \n",
      " 6   rpt_time_turn   int64         \n",
      " 7   rpt_time_scost  int64         \n",
      " 8   rpt_time_acost  int64         \n",
      " 9   rpt_time_cost   int64         \n",
      " 10  rpt_time_earn   int64         \n",
      " 11  ads_edate       datetime64[ns]\n",
      " 12  unique_id       int64         \n",
      "dtypes: datetime64[ns](1), int64(11), object(1)\n",
      "memory usage: 253.7+ MB\n"
     ]
    }
   ],
   "source": [
    "merged_df.info()"
   ]
  },
  {
   "cell_type": "code",
   "execution_count": null,
   "id": "e8afb5f9",
   "metadata": {},
   "outputs": [],
   "source": []
  },
  {
   "cell_type": "code",
   "execution_count": 66,
   "id": "1cc765f7",
   "metadata": {},
   "outputs": [],
   "source": [
    "df_time = merged_df[[\"unique_id\", \"rpt_time_date\", \"rpt_time_turn\"]].copy()"
   ]
  },
  {
   "cell_type": "code",
   "execution_count": 67,
   "id": "f9241756",
   "metadata": {},
   "outputs": [],
   "source": [
    "# 일 단위로 집계\n",
    "\n",
    "df_time[\"rpt_time_date\"] = pd.to_datetime(df_time[\"rpt_time_date\"])\n",
    "\n",
    "# 그룹화\n",
    "df_day = (\n",
    "    df_time.groupby([\"unique_id\", \"rpt_time_date\"], as_index=False)[\"rpt_time_turn\"].sum()\n",
    "    .rename(columns={\"rpt_time_turn\": \"turn_sum\"})\n",
    ")"
   ]
  },
  {
   "cell_type": "code",
   "execution_count": 68,
   "id": "554a0b32",
   "metadata": {},
   "outputs": [
    {
     "data": {
      "application/vnd.microsoft.datawrangler.viewer.v0+json": {
       "columns": [
        {
         "name": "index",
         "rawType": "int64",
         "type": "integer"
        },
        {
         "name": "unique_id",
         "rawType": "int64",
         "type": "integer"
        },
        {
         "name": "rpt_time_date",
         "rawType": "datetime64[ns]",
         "type": "datetime"
        },
        {
         "name": "turn_sum",
         "rawType": "int64",
         "type": "integer"
        }
       ],
       "ref": "296504a1-2a02-4b11-9f53-afe9d394eb09",
       "rows": [
        [
         "0",
         "25950054",
         "2025-03-22 00:00:00",
         "11"
        ],
        [
         "1",
         "25950054",
         "2025-03-23 00:00:00",
         "4"
        ],
        [
         "2",
         "25950054",
         "2025-03-24 00:00:00",
         "5"
        ],
        [
         "3",
         "25950054",
         "2025-03-25 00:00:00",
         "0"
        ],
        [
         "4",
         "25950054",
         "2025-03-26 00:00:00",
         "1"
        ]
       ],
       "shape": {
        "columns": 3,
        "rows": 5
       }
      },
      "text/html": [
       "<div>\n",
       "<style scoped>\n",
       "    .dataframe tbody tr th:only-of-type {\n",
       "        vertical-align: middle;\n",
       "    }\n",
       "\n",
       "    .dataframe tbody tr th {\n",
       "        vertical-align: top;\n",
       "    }\n",
       "\n",
       "    .dataframe thead th {\n",
       "        text-align: right;\n",
       "    }\n",
       "</style>\n",
       "<table border=\"1\" class=\"dataframe\">\n",
       "  <thead>\n",
       "    <tr style=\"text-align: right;\">\n",
       "      <th></th>\n",
       "      <th>unique_id</th>\n",
       "      <th>rpt_time_date</th>\n",
       "      <th>turn_sum</th>\n",
       "    </tr>\n",
       "  </thead>\n",
       "  <tbody>\n",
       "    <tr>\n",
       "      <th>0</th>\n",
       "      <td>25950054</td>\n",
       "      <td>2025-03-22</td>\n",
       "      <td>11</td>\n",
       "    </tr>\n",
       "    <tr>\n",
       "      <th>1</th>\n",
       "      <td>25950054</td>\n",
       "      <td>2025-03-23</td>\n",
       "      <td>4</td>\n",
       "    </tr>\n",
       "    <tr>\n",
       "      <th>2</th>\n",
       "      <td>25950054</td>\n",
       "      <td>2025-03-24</td>\n",
       "      <td>5</td>\n",
       "    </tr>\n",
       "    <tr>\n",
       "      <th>3</th>\n",
       "      <td>25950054</td>\n",
       "      <td>2025-03-25</td>\n",
       "      <td>0</td>\n",
       "    </tr>\n",
       "    <tr>\n",
       "      <th>4</th>\n",
       "      <td>25950054</td>\n",
       "      <td>2025-03-26</td>\n",
       "      <td>1</td>\n",
       "    </tr>\n",
       "  </tbody>\n",
       "</table>\n",
       "</div>"
      ],
      "text/plain": [
       "   unique_id rpt_time_date  turn_sum\n",
       "0   25950054    2025-03-22        11\n",
       "1   25950054    2025-03-23         4\n",
       "2   25950054    2025-03-24         5\n",
       "3   25950054    2025-03-25         0\n",
       "4   25950054    2025-03-26         1"
      ]
     },
     "execution_count": 68,
     "metadata": {},
     "output_type": "execute_result"
    }
   ],
   "source": [
    "df_day.head()"
   ]
  },
  {
   "cell_type": "code",
   "execution_count": 69,
   "id": "4ed211d2",
   "metadata": {},
   "outputs": [],
   "source": [
    "\n",
    "df_day[\"unique_id\"] = df_day[\"unique_id\"].astype(\"category\")\n"
   ]
  },
  {
   "cell_type": "markdown",
   "id": "dbecf924",
   "metadata": {},
   "source": [
    "###  타깃값 분포 확인"
   ]
  },
  {
   "cell_type": "code",
   "execution_count": 70,
   "id": "b2cc4361",
   "metadata": {},
   "outputs": [
    {
     "data": {
      "image/png": "[encoded data removed]",
      "text/plain": [
       "<Figure size 800x500 with 1 Axes>"
      ]
     },
     "metadata": {},
     "output_type": "display_data"
    }
   ],
   "source": [
    "import matplotlib.pyplot as plt\n",
    "import seaborn as sns\n",
    "\n",
    "# 히스토그램 + KDE\n",
    "plt.figure(figsize=(8,5))\n",
    "sns.histplot(df_week[\"turn_sum\"], bins=30, kde=True)\n",
    "plt.title(\"Distribution of turn_sum\")\n",
    "plt.xlabel(\"turn_sum\")\n",
    "plt.ylabel(\"Frequency\")\n",
    "plt.show()\n"
   ]
  },
  {
   "cell_type": "code",
   "execution_count": 71,
   "id": "52361e8f",
   "metadata": {},
   "outputs": [
    {
     "data": {
      "image/png": "[encoded data removed]",
      "text/plain": [
       "<Figure size 600x400 with 1 Axes>"
      ]
     },
     "metadata": {},
     "output_type": "display_data"
    }
   ],
   "source": [
    "plt.figure(figsize=(6,4))\n",
    "sns.boxplot(x=df_week[\"turn_sum\"])\n",
    "plt.title(\"Boxplot of turn_sum\")\n",
    "plt.show()"
   ]
  },
  {
   "cell_type": "code",
   "execution_count": 72,
   "id": "9a6d134b",
   "metadata": {},
   "outputs": [
    {
     "data": {
      "text/plain": [
       "293339"
      ]
     },
     "execution_count": 72,
     "metadata": {},
     "output_type": "execute_result"
    }
   ],
   "source": [
    "(df_week[\"turn_sum\"]==0).sum()"
   ]
  },
  {
   "cell_type": "code",
   "execution_count": 73,
   "id": "fec6fad8",
   "metadata": {},
   "outputs": [
    {
     "name": "stdout",
     "output_type": "stream",
     "text": [
      "0인 비율: 63.75% (293,339개)\n",
      "0이 아닌 비율: 36.25% (166,836개)\n"
     ]
    }
   ],
   "source": [
    "zero_count = (df_week[\"turn_sum\"] == 0).sum()\n",
    "nonzero_count = (df_week[\"turn_sum\"] > 0).sum()\n",
    "zero_ratio = zero_count / len(df_week)\n",
    "\n",
    "print(f\"0인 비율: {zero_ratio:.2%} ({zero_count:,}개)\")\n",
    "print(f\"0이 아닌 비율: {1-zero_ratio:.2%} ({nonzero_count:,}개)\")"
   ]
  },
  {
   "cell_type": "code",
   "execution_count": 74,
   "id": "faf82291",
   "metadata": {},
   "outputs": [
    {
     "name": "stdout",
     "output_type": "stream",
     "text": [
      "전환수 > 0인 아이디 수: 13174\n",
      "전환수 == 0인 아이디 수: 13222\n"
     ]
    }
   ],
   "source": [
    "# 아이디별 전환수 합계\n",
    "id_sum = df_week.groupby(\"unique_id\", as_index=False)[\"turn_sum\"].sum()\n",
    "\n",
    "# 전환수 합계 > 0인 아이디 개수\n",
    "positive_count = (id_sum[\"turn_sum\"] > 0).sum()\n",
    "\n",
    "# 전환수 합계 == 0인 아이디 개수\n",
    "zero_count = (id_sum[\"turn_sum\"] == 0).sum()\n",
    "\n",
    "print(\"전환수 > 0인 아이디 수:\", positive_count)\n",
    "print(\"전환수 == 0인 아이디 수:\", zero_count)"
   ]
  },
  {
   "cell_type": "code",
   "execution_count": null,
   "id": "84d27464",
   "metadata": {},
   "outputs": [],
   "source": []
  },
  {
   "cell_type": "markdown",
   "id": "46265395",
   "metadata": {},
   "source": [
    "### 타깃값 로그 변환"
   ]
  },
  {
   "cell_type": "code",
   "execution_count": 75,
   "id": "20141cdc",
   "metadata": {},
   "outputs": [],
   "source": [
    "import numpy as np\n",
    "\n",
    "# turn_sum 로그 변환 (0 포함 가능) y=log(1+x)\n",
    "df_day[\"turn_sum_log\"] = np.log1p(df_day[\"turn_sum\"])"
   ]
  },
  {
   "cell_type": "code",
   "execution_count": 76,
   "id": "6616ad6f",
   "metadata": {},
   "outputs": [
    {
     "data": {
      "image/png": "[encoded data removed]",
      "text/plain": [
       "<Figure size 800x500 with 1 Axes>"
      ]
     },
     "metadata": {},
     "output_type": "display_data"
    }
   ],
   "source": [
    "import matplotlib.pyplot as plt\n",
    "import seaborn as sns\n",
    "\n",
    "# 히스토그램 + KDE\n",
    "plt.figure(figsize=(8,5))\n",
    "sns.histplot(df_day[\"turn_sum_log\"], bins=30, kde=True)\n",
    "plt.title(\"Distribution of turn_sum_log\")\n",
    "plt.xlabel(\"turn_sum_log\")\n",
    "plt.ylabel(\"Frequency\")\n",
    "plt.show()\n"
   ]
  },
  {
   "cell_type": "code",
   "execution_count": null,
   "id": "3c2c77ef",
   "metadata": {},
   "outputs": [],
   "source": []
  },
  {
   "cell_type": "markdown",
   "id": "452f1f4c",
   "metadata": {},
   "source": [
    "### 모델링"
   ]
  },
  {
   "cell_type": "markdown",
   "id": "e3ed4411",
   "metadata": {},
   "source": [
    "#### 데이터 분리"
   ]
  },
  {
   "cell_type": "code",
   "execution_count": 77,
   "id": "8dfd7b1e",
   "metadata": {},
   "outputs": [
    {
     "name": "stdout",
     "output_type": "stream",
     "text": [
      "<class 'pandas.core.frame.DataFrame'>\n",
      "RangeIndex: 456351 entries, 0 to 456350\n",
      "Data columns (total 4 columns):\n",
      " #   Column         Non-Null Count   Dtype         \n",
      "---  ------         --------------   -----         \n",
      " 0   unique_id      456351 non-null  category      \n",
      " 1   rpt_time_date  456351 non-null  datetime64[ns]\n",
      " 2   turn_sum       456351 non-null  int64         \n",
      " 3   turn_sum_log   456351 non-null  float64       \n",
      "dtypes: category(1), datetime64[ns](1), float64(1), int64(1)\n",
      "memory usage: 12.5 MB\n"
     ]
    }
   ],
   "source": [
    "df_day.info()"
   ]
  },
  {
   "cell_type": "code",
   "execution_count": 78,
   "id": "c6e71466",
   "metadata": {},
   "outputs": [
    {
     "data": {
      "application/vnd.microsoft.datawrangler.viewer.v0+json": {
       "columns": [
        {
         "name": "index",
         "rawType": "int64",
         "type": "integer"
        },
        {
         "name": "unique_id",
         "rawType": "category",
         "type": "unknown"
        },
        {
         "name": "rpt_time_date",
         "rawType": "datetime64[ns]",
         "type": "datetime"
        },
        {
         "name": "turn_sum",
         "rawType": "int64",
         "type": "integer"
        },
        {
         "name": "turn_sum_log",
         "rawType": "float64",
         "type": "float"
        }
       ],
       "ref": "44f42c9e-e82c-473f-8ca1-375d4a1bd0a3",
       "rows": [
        [
         "95",
         "25950290",
         "2024-12-01 00:00:00",
         "0",
         "0.0"
        ],
        [
         "222",
         "25950389",
         "2024-09-13 00:00:00",
         "1",
         "0.6931471805599453"
        ],
        [
         "223",
         "25950482",
         "2025-01-08 00:00:00",
         "0",
         "0.0"
        ],
        [
         "2415",
         "66670411",
         "2024-08-27 00:00:00",
         "1",
         "0.6931471805599453"
        ],
        [
         "2636",
         "66670453",
         "2024-08-18 00:00:00",
         "0",
         "0.0"
        ],
        [
         "2637",
         "66670456",
         "2024-09-29 00:00:00",
         "0",
         "0.0"
        ],
        [
         "4968",
         "66670718",
         "2025-04-14 00:00:00",
         "0",
         "0.0"
        ],
        [
         "5258",
         "66670782",
         "2025-04-14 00:00:00",
         "0",
         "0.0"
        ],
        [
         "5508",
         "66670802",
         "2024-08-13 00:00:00",
         "0",
         "0.0"
        ],
        [
         "6594",
         "66671029",
         "2025-04-17 00:00:00",
         "0",
         "0.0"
        ],
        [
         "6608",
         "66671037",
         "2025-04-16 00:00:00",
         "0",
         "0.0"
        ],
        [
         "7615",
         "73770768",
         "2024-12-09 00:00:00",
         "1",
         "0.6931471805599453"
        ],
        [
         "7616",
         "73770788",
         "2024-08-14 00:00:00",
         "1",
         "0.6931471805599453"
        ],
        [
         "7631",
         "73770969",
         "2024-12-04 00:00:00",
         "1",
         "0.6931471805599453"
        ],
        [
         "7976",
         "77800375",
         "2024-09-16 00:00:00",
         "1",
         "0.6931471805599453"
        ],
        [
         "7980",
         "77800389",
         "2024-07-30 00:00:00",
         "3",
         "1.3862943611198906"
        ],
        [
         "8163",
         "77800702",
         "2024-08-05 00:00:00",
         "11",
         "2.4849066497880004"
        ],
        [
         "8240",
         "77800770",
         "2024-07-29 00:00:00",
         "1",
         "0.6931471805599453"
        ],
        [
         "8241",
         "77800771",
         "2024-08-04 00:00:00",
         "1",
         "0.6931471805599453"
        ],
        [
         "8244",
         "77800778",
         "2024-07-30 00:00:00",
         "1",
         "0.6931471805599453"
        ],
        [
         "8245",
         "77800788",
         "2024-08-09 00:00:00",
         "1",
         "0.6931471805599453"
        ],
        [
         "8290",
         "77800854",
         "2024-12-25 00:00:00",
         "0",
         "0.0"
        ],
        [
         "8311",
         "97160030",
         "2025-07-17 00:00:00",
         "0",
         "0.0"
        ],
        [
         "8320",
         "97160583",
         "2025-06-26 00:00:00",
         "2",
         "1.0986122886681098"
        ],
        [
         "8350",
         "97160790",
         "2025-07-09 00:00:00",
         "0",
         "0.0"
        ],
        [
         "8351",
         "97170022",
         "2024-11-19 00:00:00",
         "0",
         "0.0"
        ],
        [
         "8352",
         "97170213",
         "2024-11-19 00:00:00",
         "0",
         "0.0"
        ],
        [
         "8353",
         "97170496",
         "2024-11-19 00:00:00",
         "3",
         "1.3862943611198906"
        ],
        [
         "8354",
         "97170761",
         "2024-11-19 00:00:00",
         "2",
         "1.0986122886681098"
        ],
        [
         "8747",
         "99820389",
         "2024-09-21 00:00:00",
         "1",
         "0.6931471805599453"
        ],
        [
         "8754",
         "99820413",
         "2024-11-30 00:00:00",
         "0",
         "0.0"
        ],
        [
         "8755",
         "99820491",
         "2024-07-27 00:00:00",
         "1",
         "0.6931471805599453"
        ],
        [
         "8827",
         "99820646",
         "2024-07-28 00:00:00",
         "2",
         "1.0986122886681098"
        ],
        [
         "8921",
         "99820711",
         "2024-07-28 00:00:00",
         "0",
         "0.0"
        ],
        [
         "9058",
         "99820770",
         "2024-08-15 00:00:00",
         "1",
         "0.6931471805599453"
        ],
        [
         "9059",
         "99820771",
         "2024-08-04 00:00:00",
         "1",
         "0.6931471805599453"
        ],
        [
         "9062",
         "99820785",
         "2025-06-30 00:00:00",
         "0",
         "0.0"
        ],
        [
         "9519",
         "99820846",
         "2024-09-11 00:00:00",
         "0",
         "0.0"
        ],
        [
         "9708",
         "99820973",
         "2025-06-30 00:00:00",
         "1",
         "0.6931471805599453"
        ],
        [
         "9761",
         "99820993",
         "2025-03-04 00:00:00",
         "0",
         "0.0"
        ],
        [
         "9916",
         "99821005",
         "2025-05-11 00:00:00",
         "0",
         "0.0"
        ],
        [
         "11446",
         "105000281",
         "2025-02-08 00:00:00",
         "0",
         "0.0"
        ],
        [
         "11538",
         "105000568",
         "2025-02-22 00:00:00",
         "0",
         "0.0"
        ],
        [
         "11568",
         "105000645",
         "2024-12-10 00:00:00",
         "0",
         "0.0"
        ],
        [
         "11569",
         "105000686",
         "2024-08-27 00:00:00",
         "0",
         "0.0"
        ],
        [
         "11647",
         "105000805",
         "2024-08-24 00:00:00",
         "0",
         "0.0"
        ],
        [
         "11648",
         "105000817",
         "2025-02-18 00:00:00",
         "0",
         "0.0"
        ],
        [
         "12229",
         "110590532",
         "2024-10-19 00:00:00",
         "0",
         "0.0"
        ],
        [
         "12230",
         "110590564",
         "2024-08-21 00:00:00",
         "0",
         "0.0"
        ],
        [
         "12300",
         "110590720",
         "2024-09-10 00:00:00",
         "0",
         "0.0"
        ]
       ],
       "shape": {
        "columns": 4,
        "rows": 6108
       }
      },
      "text/html": [
       "<div>\n",
       "<style scoped>\n",
       "    .dataframe tbody tr th:only-of-type {\n",
       "        vertical-align: middle;\n",
       "    }\n",
       "\n",
       "    .dataframe tbody tr th {\n",
       "        vertical-align: top;\n",
       "    }\n",
       "\n",
       "    .dataframe thead th {\n",
       "        text-align: right;\n",
       "    }\n",
       "</style>\n",
       "<table border=\"1\" class=\"dataframe\">\n",
       "  <thead>\n",
       "    <tr style=\"text-align: right;\">\n",
       "      <th></th>\n",
       "      <th>unique_id</th>\n",
       "      <th>rpt_time_date</th>\n",
       "      <th>turn_sum</th>\n",
       "      <th>turn_sum_log</th>\n",
       "    </tr>\n",
       "  </thead>\n",
       "  <tbody>\n",
       "    <tr>\n",
       "      <th>95</th>\n",
       "      <td>25950290</td>\n",
       "      <td>2024-12-01</td>\n",
       "      <td>0</td>\n",
       "      <td>0.000000</td>\n",
       "    </tr>\n",
       "    <tr>\n",
       "      <th>222</th>\n",
       "      <td>25950389</td>\n",
       "      <td>2024-09-13</td>\n",
       "      <td>1</td>\n",
       "      <td>0.693147</td>\n",
       "    </tr>\n",
       "    <tr>\n",
       "      <th>223</th>\n",
       "      <td>25950482</td>\n",
       "      <td>2025-01-08</td>\n",
       "      <td>0</td>\n",
       "      <td>0.000000</td>\n",
       "    </tr>\n",
       "    <tr>\n",
       "      <th>2415</th>\n",
       "      <td>66670411</td>\n",
       "      <td>2024-08-27</td>\n",
       "      <td>1</td>\n",
       "      <td>0.693147</td>\n",
       "    </tr>\n",
       "    <tr>\n",
       "      <th>2636</th>\n",
       "      <td>66670453</td>\n",
       "      <td>2024-08-18</td>\n",
       "      <td>0</td>\n",
       "      <td>0.000000</td>\n",
       "    </tr>\n",
       "    <tr>\n",
       "      <th>...</th>\n",
       "      <td>...</td>\n",
       "      <td>...</td>\n",
       "      <td>...</td>\n",
       "      <td>...</td>\n",
       "    </tr>\n",
       "    <tr>\n",
       "      <th>456319</th>\n",
       "      <td>4469020645</td>\n",
       "      <td>2025-08-25</td>\n",
       "      <td>0</td>\n",
       "      <td>0.000000</td>\n",
       "    </tr>\n",
       "    <tr>\n",
       "      <th>456320</th>\n",
       "      <td>4469020854</td>\n",
       "      <td>2025-08-25</td>\n",
       "      <td>0</td>\n",
       "      <td>0.000000</td>\n",
       "    </tr>\n",
       "    <tr>\n",
       "      <th>456321</th>\n",
       "      <td>4469021037</td>\n",
       "      <td>2025-08-25</td>\n",
       "      <td>0</td>\n",
       "      <td>0.000000</td>\n",
       "    </tr>\n",
       "    <tr>\n",
       "      <th>456332</th>\n",
       "      <td>4469170766</td>\n",
       "      <td>2025-08-25</td>\n",
       "      <td>0</td>\n",
       "      <td>0.000000</td>\n",
       "    </tr>\n",
       "    <tr>\n",
       "      <th>456347</th>\n",
       "      <td>4469180711</td>\n",
       "      <td>2025-08-25</td>\n",
       "      <td>0</td>\n",
       "      <td>0.000000</td>\n",
       "    </tr>\n",
       "  </tbody>\n",
       "</table>\n",
       "<p>6108 rows × 4 columns</p>\n",
       "</div>"
      ],
      "text/plain": [
       "         unique_id rpt_time_date  turn_sum  turn_sum_log\n",
       "95        25950290    2024-12-01         0      0.000000\n",
       "222       25950389    2024-09-13         1      0.693147\n",
       "223       25950482    2025-01-08         0      0.000000\n",
       "2415      66670411    2024-08-27         1      0.693147\n",
       "2636      66670453    2024-08-18         0      0.000000\n",
       "...            ...           ...       ...           ...\n",
       "456319  4469020645    2025-08-25         0      0.000000\n",
       "456320  4469020854    2025-08-25         0      0.000000\n",
       "456321  4469021037    2025-08-25         0      0.000000\n",
       "456332  4469170766    2025-08-25         0      0.000000\n",
       "456347  4469180711    2025-08-25         0      0.000000\n",
       "\n",
       "[6108 rows x 4 columns]"
      ]
     },
     "execution_count": 78,
     "metadata": {},
     "output_type": "execute_result"
    }
   ],
   "source": [
    "# 각 아이디별로 날짜 개수 세기 약 6천개 지워야 함....\n",
    "# 아이디별 날짜 개수 계산\n",
    "date_counts = df_day.groupby(\"unique_id\")[\"rpt_time_date\"].nunique()\n",
    "\n",
    "# 2개 미만인 아이디만 필터\n",
    "ids_less_than_2 = date_counts[date_counts < 2].index\n",
    "\n",
    "# 해당 아이디 데이터 확인\n",
    "df_day[df_day[\"unique_id\"].isin(ids_less_than_2)]"
   ]
  },
  {
   "cell_type": "code",
   "execution_count": 79,
   "id": "3b3c03c7",
   "metadata": {},
   "outputs": [],
   "source": [
    "# 1️⃣ 날짜가 2개 미만인 아이디 제거\n",
    "date_counts = df_day.groupby(\"unique_id\")[\"rpt_time_date\"].nunique()\n",
    "valid_ids = date_counts[date_counts >= 2].index\n",
    "df_day = df_day[df_day[\"unique_id\"].isin(valid_ids)]"
   ]
  },
  {
   "cell_type": "code",
   "execution_count": 80,
   "id": "aa9bca0a",
   "metadata": {},
   "outputs": [],
   "source": [
    "df_day[\"date_int\"] = df_day[\"rpt_time_date\"].dt.strftime(\"%Y%m%d\").astype(int)"
   ]
  },
  {
   "cell_type": "code",
   "execution_count": 81,
   "id": "1cc18bf9",
   "metadata": {},
   "outputs": [],
   "source": [
    "import pandas as pd\n",
    "\n",
    "\n",
    "train_list = []\n",
    "test_list = []\n",
    "\n",
    "for ad_id, group in df_day.groupby(\"unique_id\"):\n",
    "    group = group.sort_values(\"rpt_time_date\")\n",
    "    \n",
    "    # 마지막 날짜를 test로 분리\n",
    "    test = group.tail(1)\n",
    "    train = group.iloc[:-1]\n",
    "    \n",
    "    train_list.append(train)\n",
    "    test_list.append(test)\n",
    "\n",
    "train_df = pd.concat(train_list)\n",
    "test_df = pd.concat(test_list)\n"
   ]
  },
  {
   "cell_type": "code",
   "execution_count": 82,
   "id": "ba620bfb",
   "metadata": {},
   "outputs": [
    {
     "name": "stdout",
     "output_type": "stream",
     "text": [
      "Train shape: (429973, 5)\n",
      "Test shape: (20270, 5)\n"
     ]
    }
   ],
   "source": [
    "# 3️⃣ 확인\n",
    "print(\"Train shape:\", train_df.shape)\n",
    "print(\"Test shape:\", test_df.shape)"
   ]
  },
  {
   "cell_type": "code",
   "execution_count": 83,
   "id": "ca78ff08",
   "metadata": {},
   "outputs": [
    {
     "name": "stdout",
     "output_type": "stream",
     "text": [
      "<class 'pandas.core.frame.DataFrame'>\n",
      "Index: 429973 entries, 0 to 456349\n",
      "Data columns (total 5 columns):\n",
      " #   Column         Non-Null Count   Dtype         \n",
      "---  ------         --------------   -----         \n",
      " 0   unique_id      429973 non-null  category      \n",
      " 1   rpt_time_date  429973 non-null  datetime64[ns]\n",
      " 2   turn_sum       429973 non-null  int64         \n",
      " 3   turn_sum_log   429973 non-null  float64       \n",
      " 4   date_int       429973 non-null  int64         \n",
      "dtypes: category(1), datetime64[ns](1), float64(1), int64(2)\n",
      "memory usage: 18.4 MB\n"
     ]
    }
   ],
   "source": [
    "train_df.info()"
   ]
  },
  {
   "cell_type": "code",
   "execution_count": 84,
   "id": "d48a9328",
   "metadata": {},
   "outputs": [],
   "source": [
    "features = [\"unique_id\", \"date_int\"]  # 필요하면 요일/월 등 추가 가능\n",
    "target = \"turn_sum_log\""
   ]
  },
  {
   "cell_type": "code",
   "execution_count": 85,
   "id": "7e2a31eb",
   "metadata": {},
   "outputs": [],
   "source": [
    "# 로그변환된 target을 지수변환하기 위한 함수\n",
    "def exp_transform(y):\n",
    "    return np.expm1(y)  # log1p -> expm1, 0 값도 안전하게 처리\n",
    "\n",
    "# MAPE 계산 함수\n",
    "def mean_absolute_percentage_error(y_true, y_pred):\n",
    "    y_true, y_pred = np.array(y_true), np.array(y_pred)\n",
    "    return np.mean(np.abs((y_true - y_pred) / np.clip(y_true, 1e-8, None))) * 100"
   ]
  },
  {
   "cell_type": "markdown",
   "id": "4a4c88a1",
   "metadata": {},
   "source": [
    "#### RandomForestRegressor"
   ]
  },
  {
   "cell_type": "code",
   "execution_count": 87,
   "id": "d27262e6",
   "metadata": {},
   "outputs": [
    {
     "name": "stdout",
     "output_type": "stream",
     "text": [
      "Train 성능:\n",
      "R2: 0.5199, MAE: 3.08, MSE: 857.08, RMSE: 29.28, MAPE: 1324119287.33%\n"
     ]
    }
   ],
   "source": [
    "from sklearn.ensemble import RandomForestRegressor\n",
    "from sklearn.metrics import mean_squared_error, mean_absolute_error, r2_score\n",
    "import numpy as np\n",
    "\n",
    "\n",
    "# 모델 초기화\n",
    "rf = RandomForestRegressor()\n",
    "\n",
    "# 1️⃣ Train 데이터 학습\n",
    "rf.fit(train_df[features], train_df[target])\n",
    "\n",
    "# 2️⃣ Train 데이터 예측\n",
    "pred_train = rf.predict(train_df[features])\n",
    "\n",
    "pred_train_exp = exp_transform(pred_train)\n",
    "y_train_exp = exp_transform(train_df[target])\n",
    "\n",
    "# 3️⃣ Train 성능 평가\n",
    "mse_train = mean_squared_error(y_train_exp, pred_train_exp)\n",
    "rmse_train = np.sqrt(mse_train)\n",
    "mae_train = mean_absolute_error(y_train_exp, pred_train_exp)\n",
    "r2_train = r2_score(y_train_exp, pred_train_exp)\n",
    "mape_train = mean_absolute_percentage_error(y_train_exp, pred_train_exp)\n",
    "\n",
    "print(\"Train 성능:\")\n",
    "print(f\"R2: {r2_train:.4f}, MAE: {mae_train:.2f}, MSE: {mse_train:.2f}, RMSE: {rmse_train:.2f}, MAPE: {mape_train:.2f}%\")\n",
    "\n"
   ]
  },
  {
   "cell_type": "code",
   "execution_count": 88,
   "id": "390b32c5",
   "metadata": {},
   "outputs": [
    {
     "name": "stdout",
     "output_type": "stream",
     "text": [
      "Test 성능:\n",
      "R2: 0.0964, MAE: 8.46, MSE: 5392.51, RMSE: 73.43, MAPE: 4717518876.35%\n"
     ]
    }
   ],
   "source": [
    "# 4️⃣ Test 데이터 예측\n",
    "pred_test = rf.predict(test_df[features])\n",
    "\n",
    "pred_test_exp = exp_transform(pred_test)\n",
    "y_test_exp = exp_transform(test_df[target])\n",
    "\n",
    "# 5️⃣ Test 성능 평가\n",
    "mse_test = mean_squared_error(y_test_exp, pred_test_exp)\n",
    "rmse_test = np.sqrt(mse_test)\n",
    "mae_test = mean_absolute_error(y_test_exp, pred_test_exp)\n",
    "r2_test = r2_score(y_test_exp, pred_test_exp)\n",
    "mape_test = mean_absolute_percentage_error(y_test_exp, pred_test_exp)\n",
    "\n",
    "print(\"Test 성능:\")\n",
    "print(f\"R2: {r2_test:.4f}, MAE: {mae_test:.2f}, MSE: {mse_test:.2f}, RMSE: {rmse_test:.2f}, MAPE: {mape_test:.2f}%\")"
   ]
  },
  {
   "cell_type": "markdown",
   "id": "59178a4e",
   "metadata": {},
   "source": [
    "#### XGBoost"
   ]
  },
  {
   "cell_type": "code",
   "execution_count": 89,
   "id": "b71c5773",
   "metadata": {},
   "outputs": [
    {
     "name": "stdout",
     "output_type": "stream",
     "text": [
      "2.1.1\n"
     ]
    }
   ],
   "source": [
    "import xgboost\n",
    "print(xgboost.__version__)"
   ]
  },
  {
   "cell_type": "code",
   "execution_count": 100,
   "id": "cc0da6f8",
   "metadata": {},
   "outputs": [
    {
     "name": "stdout",
     "output_type": "stream",
     "text": [
      "Train 성능:\n",
      "R2: 0.5434, MAE: 3.28, MSE: 815.12, RMSE: 28.55, MAPE: 1829784019.41%\n"
     ]
    }
   ],
   "source": [
    "import xgboost as xgb\n",
    "\n",
    "# 모델 초기화\n",
    "xgb_model = xgb.XGBRegressor(enable_categorical=True)\n",
    "\n",
    "# 1️⃣ Train 데이터 학습\n",
    "xgb_model.fit(train_df[features], train_df[target])\n",
    "\n",
    "# 2️⃣ Train 데이터 예측\n",
    "pred_train = xgb_model.predict(train_df[features])\n",
    "\n",
    "pred_train_exp = exp_transform(pred_train)\n",
    "y_train_exp = exp_transform(train_df[target])\n",
    "\n",
    "# 3️⃣ Train 성능 평가\n",
    "mse_train = mean_squared_error(y_train_exp, pred_train_exp)\n",
    "rmse_train = np.sqrt(mse_train)\n",
    "mae_train = mean_absolute_error(y_train_exp, pred_train_exp)\n",
    "r2_train = r2_score(y_train_exp, pred_train_exp)\n",
    "mape_train = mean_absolute_percentage_error(y_train_exp, pred_train_exp)\n",
    "\n",
    "print(\"Train 성능:\")\n",
    "print(f\"R2: {r2_train:.4f}, MAE: {mae_train:.2f}, MSE: {mse_train:.2f}, RMSE: {rmse_train:.2f}, MAPE: {mape_train:.2f}%\")\n",
    "\n"
   ]
  },
  {
   "cell_type": "code",
   "execution_count": 101,
   "id": "58372494",
   "metadata": {},
   "outputs": [
    {
     "name": "stdout",
     "output_type": "stream",
     "text": [
      "Test 성능:\n",
      "R2: 0.4228, MAE: 6.41, MSE: 3444.93, RMSE: 58.69, MAPE: 2490604683.86%\n"
     ]
    }
   ],
   "source": [
    "# 4️⃣ Test 데이터 예측\n",
    "pred_test = xgb_model.predict(test_df[features])\n",
    "\n",
    "pred_test_exp = exp_transform(pred_test)\n",
    "y_test_exp = exp_transform(test_df[target])\n",
    "\n",
    "# 5️⃣ Test 성능 평가\n",
    "mse_test = mean_squared_error(y_test_exp, pred_test_exp)\n",
    "rmse_test = np.sqrt(mse_test)\n",
    "mae_test = mean_absolute_error(y_test_exp, pred_test_exp)\n",
    "r2_test = r2_score(y_test_exp, pred_test_exp)\n",
    "mape_test = mean_absolute_percentage_error(y_test_exp, pred_test_exp)\n",
    "\n",
    "print(\"Test 성능:\")\n",
    "print(f\"R2: {r2_test:.4f}, MAE: {mae_test:.2f}, MSE: {mse_test:.2f}, RMSE: {rmse_test:.2f}, MAPE: {mape_test:.2f}%\")"
   ]
  },
  {
   "cell_type": "code",
   "execution_count": 104,
   "id": "8346dfac",
   "metadata": {},
   "outputs": [
    {
     "name": "stdout",
     "output_type": "stream",
     "text": [
      "실제값: [1.]\n",
      "예측값: [0.87848884]\n",
      "오차: [0.12151116]\n"
     ]
    }
   ],
   "source": [
    "y_pred = xgb_model.predict( test_df.loc[ \n",
    "    (test_df['unique_id'] == 25950054) & (test_df['date_int'] == 20250404), features ] ) \n",
    "\n",
    "\n",
    "# 실제값 추출\n",
    "y_true = test_df.loc[\n",
    "    (test_df['unique_id'] == 25950054) & (test_df['date_int'] == 20250404),\n",
    "    target\n",
    "]\n",
    "\n",
    "# exp_transform을 쓰신다면 실제/예측 모두 변환\n",
    "y_true_exp = exp_transform(y_true)\n",
    "y_pred_exp = exp_transform(y_pred)\n",
    "\n",
    "# 비교 출력\n",
    "print(\"실제값:\", y_true_exp.values)\n",
    "print(\"예측값:\", y_pred_exp)\n",
    "\n",
    "# 차이\n",
    "print(\"오차:\", (y_true_exp.values - y_pred_exp))\n"
   ]
  },
  {
   "cell_type": "markdown",
   "id": "505bd952",
   "metadata": {},
   "source": [
    "#### LGBM"
   ]
  },
  {
   "cell_type": "code",
   "execution_count": 95,
   "id": "d27fed87",
   "metadata": {},
   "outputs": [
    {
     "name": "stdout",
     "output_type": "stream",
     "text": [
      "[LightGBM] [Warning] Categorical features with more bins than the configured maximum bin number found.\n",
      "[LightGBM] [Warning] For categorical features, max_bin and max_bin_by_feature may be ignored with a large number of categories.\n",
      "[LightGBM] [Info] Auto-choosing row-wise multi-threading, the overhead of testing was 0.003178 seconds.\n",
      "You can set `force_row_wise=true` to remove the overhead.\n",
      "And if memory is not enough, you can set `force_col_wise=true`.\n",
      "[LightGBM] [Info] Total Bins 11184\n",
      "[LightGBM] [Info] Number of data points in the train set: 429973, number of used features: 2\n",
      "[LightGBM] [Info] Start training from score 0.583240\n",
      "Train 성능:\n",
      "R2: 0.2597, MAE: 4.00, MSE: 1321.71, RMSE: 36.36, MAPE: 2199887050.04%\n"
     ]
    }
   ],
   "source": [
    "import lightgbm as lgb\n",
    "\n",
    "lgb_model = lgb.LGBMRegressor()\n",
    "\n",
    "# 1️⃣ Train 데이터 학습\n",
    "lgb_model.fit(train_df[features], train_df[target])\n",
    "\n",
    "# 2️⃣ Train 데이터 예측\n",
    "pred_train = lgb_model.predict(train_df[features])\n",
    "\n",
    "pred_train_exp = exp_transform(pred_train)\n",
    "y_train_exp = exp_transform(train_df[target])\n",
    "\n",
    "# 3️⃣ Train 성능 평가\n",
    "mse_train = mean_squared_error(y_train_exp, pred_train_exp)\n",
    "rmse_train = np.sqrt(mse_train)\n",
    "mae_train = mean_absolute_error(y_train_exp, pred_train_exp)\n",
    "r2_train = r2_score(y_train_exp, pred_train_exp)\n",
    "mape_train = mean_absolute_percentage_error(y_train_exp, pred_train_exp)\n",
    "\n",
    "print(\"Train 성능:\")\n",
    "print(f\"R2: {r2_train:.4f}, MAE: {mae_train:.2f}, MSE: {mse_train:.2f}, RMSE: {rmse_train:.2f}, MAPE: {mape_train:.2f}%\")\n",
    "\n"
   ]
  },
  {
   "cell_type": "code",
   "execution_count": 96,
   "id": "f7b4ad50",
   "metadata": {},
   "outputs": [
    {
     "name": "stdout",
     "output_type": "stream",
     "text": [
      "Test 성능:\n",
      "R2: -0.0023, MAE: 8.59, MSE: 5981.53, RMSE: 77.34, MAPE: 2905475386.83%\n"
     ]
    }
   ],
   "source": [
    "# 4️⃣ Test 데이터 예측\n",
    "pred_test = lgb_model.predict(test_df[features])\n",
    "\n",
    "pred_test_exp = exp_transform(pred_test)\n",
    "y_test_exp = exp_transform(test_df[target])\n",
    "\n",
    "# 5️⃣ Test 성능 평가\n",
    "mse_test = mean_squared_error(y_test_exp, pred_test_exp)\n",
    "rmse_test = np.sqrt(mse_test)\n",
    "mae_test = mean_absolute_error(y_test_exp, pred_test_exp)\n",
    "r2_test = r2_score(y_test_exp, pred_test_exp)\n",
    "mape_test = mean_absolute_percentage_error(y_test_exp, pred_test_exp)\n",
    "\n",
    "print(\"Test 성능:\")\n",
    "print(f\"R2: {r2_test:.4f}, MAE: {mae_test:.2f}, MSE: {mse_test:.2f}, RMSE: {rmse_test:.2f}, MAPE: {mape_test:.2f}%\")"
   ]
  },
  {
   "cell_type": "code",
   "execution_count": null,
   "id": "b327332d",
   "metadata": {},
   "outputs": [],
   "source": []
  },
  {
   "cell_type": "markdown",
   "id": "afad7c7d",
   "metadata": {},
   "source": []
  }
 ],
 "metadata": {
  "kernelspec": {
   "display_name": "py38",
   "language": "python",
   "name": "python3"
  },
  "language_info": {
   "codemirror_mode": {
    "name": "ipython",
    "version": 3
   },
   "file_extension": ".py",
   "mimetype": "text/x-python",
   "name": "python",
   "nbconvert_exporter": "python",
   "pygments_lexer": "ipython3",
   "version": "3.8.20"
  }
 },
 "nbformat": 4,
 "nbformat_minor": 5
}
