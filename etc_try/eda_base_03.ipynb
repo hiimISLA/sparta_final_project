{
 "cells": [
  {
   "cell_type": "markdown",
   "id": "e252f0c7",
   "metadata": {},
   "source": [
    "# 9/11 2차 시도 베이스모델 성능 테스트\n",
    "\n",
    "- dt → y/m/d 나눠서 칼럼 세개\n",
    "- id→ 수치로 해도 상관 없음\n",
    "- train/valid/test로 나눠서 성능 확인 train으로 학습 후 valid로 예측 → 파라미터 최적화 이후 같은 모델로 test 데이터에 적용 (8:1:1)\n",
    "- 현재 기점으로 과거까지 연속적으로 채워져 있지 않은 광고 행은 삭제 "
   ]
  },
  {
   "cell_type": "code",
   "execution_count": 52,
   "id": "8c0c7361",
   "metadata": {},
   "outputs": [],
   "source": [
    "import pandas as pd\n",
    "import numpy as np\n",
    "import os\n",
    "import pandas as pd\n",
    "import matplotlib.pyplot as plt"
   ]
  },
  {
   "cell_type": "code",
   "execution_count": 53,
   "id": "cc173bf1",
   "metadata": {},
   "outputs": [],
   "source": [
    "df_one_year = pd.read_csv(\"아이브1년치_참여데이터.csv\")"
   ]
  },
  {
   "cell_type": "markdown",
   "id": "b408a44c",
   "metadata": {},
   "source": [
    "### 데이터 전처리"
   ]
  },
  {
   "cell_type": "code",
   "execution_count": 54,
   "id": "6138e1da",
   "metadata": {},
   "outputs": [
    {
     "name": "stderr",
     "output_type": "stream",
     "text": [
      "/var/folders/hl/90p2p86n5cs6t3p_1xwxdx2r0000gn/T/ipykernel_66080/3760130258.py:5: DtypeWarning: Columns (12,13,19) have mixed types. Specify dtype option on import or set low_memory=False.\n",
      "  ads_list = pd.read_csv(\"df_list.csv\")\n",
      "/var/folders/hl/90p2p86n5cs6t3p_1xwxdx2r0000gn/T/ipykernel_66080/3760130258.py:7: UserWarning: Could not infer format, so each element will be parsed individually, falling back to `dateutil`. To ensure parsing is consistent and as-expected, please specify a format.\n",
      "  ads_list['ads_edate'] = pd.to_datetime(ads_list['ads_edate'], errors='coerce')\n"
     ]
    }
   ],
   "source": [
    "# 광고목록에서 현재 진행중인 광고 찾기\n",
    "\n",
    "import datetime\n",
    "\n",
    "ads_list = pd.read_csv(\"df_list.csv\")\n",
    "\n",
    "ads_list['ads_edate'] = pd.to_datetime(ads_list['ads_edate'], errors='coerce')\n",
    "\n",
    "# 2025. 8. 29 전 날짜 삭제\n",
    "compare_date = datetime.date(2025, 8, 29)\n",
    "condition1 = ads_list['ads_edate'].dt.date >= compare_date\n",
    "ads_list_filtered = ads_list[condition1]\n",
    "\n",
    "# delyn이 N인 행만 남기기\n",
    "ads_list_filtered = ads_list_filtered[ads_list_filtered['delyn'] == 'N']\n",
    "\n",
    "\n",
    "ads_list_c = ads_list_filtered[['ads_idx', 'ads_sdate','ads_edate']]\n",
    "\n",
    "# ads_list_c에 있는 ads_idx만 필터링\n",
    "df_filtered = df_one_year[df_one_year['ads_idx'].isin(ads_list_c['ads_idx'])]\n",
    "\n",
    "# 두 데이터 합치기 (ads_idx 기준)\n",
    "# merged_df = pd.merge(df_filtered, ads_list_c, on='ads_idx', how='inner')"
   ]
  },
  {
   "cell_type": "code",
   "execution_count": 55,
   "id": "c879a9c0",
   "metadata": {},
   "outputs": [
    {
     "name": "stdout",
     "output_type": "stream",
     "text": [
      "<class 'pandas.core.frame.DataFrame'>\n",
      "Index: 2436703 entries, 1 to 6953131\n",
      "Data columns (total 11 columns):\n",
      " #   Column          Dtype \n",
      "---  ------          ----- \n",
      " 0   Unnamed: 0      int64 \n",
      " 1   rpt_time_date   object\n",
      " 2   rpt_time_time   int64 \n",
      " 3   ads_idx         int64 \n",
      " 4   mda_idx         int64 \n",
      " 5   rpt_time_clk    int64 \n",
      " 6   rpt_time_turn   int64 \n",
      " 7   rpt_time_scost  int64 \n",
      " 8   rpt_time_acost  int64 \n",
      " 9   rpt_time_cost   int64 \n",
      " 10  rpt_time_earn   int64 \n",
      "dtypes: int64(10), object(1)\n",
      "memory usage: 223.1+ MB\n"
     ]
    }
   ],
   "source": [
    "df_filtered.info()"
   ]
  },
  {
   "cell_type": "code",
   "execution_count": 56,
   "id": "84a952cd",
   "metadata": {},
   "outputs": [
    {
     "name": "stdout",
     "output_type": "stream",
     "text": [
      "클릭수보다 전환수가 큰 행 수: 61323\n",
      "      ads_idx  rpt_time_clk  rpt_time_turn\n",
      "111     28449             0              1\n",
      "425     56468             6              8\n",
      "427     56468             4              6\n",
      "433     56468             3              4\n",
      "434     56468             5              6\n",
      "439     56468             3              4\n",
      "448     56468             3              4\n",
      "487     60673             0              1\n",
      "1487    14074             0              1\n",
      "1582    28822             0              1\n"
     ]
    }
   ],
   "source": [
    "# 클릭수보다 전환수가 큰 경우 확인\n",
    "over_conversion = df_filtered[df_filtered['rpt_time_turn'] > df_filtered['rpt_time_clk']]\n",
    "\n",
    "# 몇 건인지 확인\n",
    "print(\"클릭수보다 전환수가 큰 행 수:\", len(over_conversion))\n",
    "\n",
    "# 어떤 광고인지 확인 (상위 10개 예시)\n",
    "print(over_conversion[['ads_idx', 'rpt_time_clk', 'rpt_time_turn']].head(10))\n"
   ]
  },
  {
   "cell_type": "code",
   "execution_count": 57,
   "id": "00aa2335",
   "metadata": {},
   "outputs": [
    {
     "name": "stdout",
     "output_type": "stream",
     "text": [
      "클릭수보다 전환수가 큰 행 수 (조정 후): 0\n"
     ]
    }
   ],
   "source": [
    "# 클릭수보다 전환수가 큰 경우 전환수를 클릭수로 맞춤\n",
    "df_filtered.loc[\n",
    "    df_filtered['rpt_time_turn'] > df_filtered['rpt_time_clk'], \n",
    "    'rpt_time_turn'\n",
    "] = df_filtered['rpt_time_clk']\n",
    "\n",
    "# 확인\n",
    "over_conversion_after = df_filtered[df_filtered['rpt_time_turn'] > df_filtered['rpt_time_clk']]\n",
    "print(\"클릭수보다 전환수가 큰 행 수 (조정 후):\", len(over_conversion_after))\n"
   ]
  },
  {
   "cell_type": "code",
   "execution_count": 58,
   "id": "45145b76",
   "metadata": {},
   "outputs": [
    {
     "name": "stderr",
     "output_type": "stream",
     "text": [
      "/var/folders/hl/90p2p86n5cs6t3p_1xwxdx2r0000gn/T/ipykernel_66080/2541911634.py:2: SettingWithCopyWarning: \n",
      "A value is trying to be set on a copy of a slice from a DataFrame.\n",
      "Try using .loc[row_indexer,col_indexer] = value instead\n",
      "\n",
      "See the caveats in the documentation: https://pandas.pydata.org/pandas-docs/stable/user_guide/indexing.html#returning-a-view-versus-a-copy\n",
      "  df_filtered[\"unique_id\"] = (\n",
      "/var/folders/hl/90p2p86n5cs6t3p_1xwxdx2r0000gn/T/ipykernel_66080/2541911634.py:8: SettingWithCopyWarning: \n",
      "A value is trying to be set on a copy of a slice from a DataFrame.\n",
      "Try using .loc[row_indexer,col_indexer] = value instead\n",
      "\n",
      "See the caveats in the documentation: https://pandas.pydata.org/pandas-docs/stable/user_guide/indexing.html#returning-a-view-versus-a-copy\n",
      "  df_filtered[\"unique_id\"] = df_filtered[\"unique_id\"].astype(int)\n"
     ]
    }
   ],
   "source": [
    "# 고유 ID 생성: ads_idx와 mda_idx를 결합\n",
    "df_filtered[\"unique_id\"] = (\n",
    "    df_filtered[\"ads_idx\"].astype(str).str.zfill(6) +   # ads_idx는 항상 6자리\n",
    "    df_filtered[\"mda_idx\"].astype(str).str.zfill(4)     # mda_idx는 항상 4자리\n",
    ")\n",
    "\n",
    "# 필요하다면 숫자로 변환\n",
    "df_filtered[\"unique_id\"] = df_filtered[\"unique_id\"].astype(int)"
   ]
  },
  {
   "cell_type": "code",
   "execution_count": 59,
   "id": "26de5d48",
   "metadata": {},
   "outputs": [
    {
     "name": "stdout",
     "output_type": "stream",
     "text": [
      "고유 광고 수 (ads_idx): 1751\n",
      "고유 MDA 수 (mda_idx): 328\n",
      "고유 unique_id 수: 26396\n"
     ]
    }
   ],
   "source": [
    "#예측할 고유 ID 개수 확인\n",
    "print(\"고유 광고 수 (ads_idx):\", df_filtered[\"ads_idx\"].nunique())\n",
    "print(\"고유 MDA 수 (mda_idx):\", df_filtered[\"mda_idx\"].nunique())\n",
    "print(\"고유 unique_id 수:\", df_filtered[\"unique_id\"].nunique())\n"
   ]
  },
  {
   "cell_type": "markdown",
   "id": "9d5dcb12",
   "metadata": {},
   "source": [
    "##### 2차 전처리"
   ]
  },
  {
   "cell_type": "code",
   "execution_count": 60,
   "id": "f9241756",
   "metadata": {},
   "outputs": [
    {
     "name": "stderr",
     "output_type": "stream",
     "text": [
      "/var/folders/hl/90p2p86n5cs6t3p_1xwxdx2r0000gn/T/ipykernel_66080/1680672317.py:2: SettingWithCopyWarning: \n",
      "A value is trying to be set on a copy of a slice from a DataFrame.\n",
      "Try using .loc[row_indexer,col_indexer] = value instead\n",
      "\n",
      "See the caveats in the documentation: https://pandas.pydata.org/pandas-docs/stable/user_guide/indexing.html#returning-a-view-versus-a-copy\n",
      "  df_filtered[\"rpt_time_date\"] = pd.to_datetime(df_filtered[\"rpt_time_date\"])\n"
     ]
    }
   ],
   "source": [
    "# rpt_time_date를 datetime으로 변환\n",
    "df_filtered[\"rpt_time_date\"] = pd.to_datetime(df_filtered[\"rpt_time_date\"])\n",
    "\n",
    "# 그룹화하면서 ads_idx, mda_idx도 첫 번째 값으로 가져오기\n",
    "df_day = (\n",
    "    df_filtered.groupby([\"unique_id\", \"rpt_time_date\"], as_index=False)\n",
    "    .agg({\n",
    "        \"rpt_time_turn\": \"sum\",\n",
    "        \"ads_idx\": \"first\",\n",
    "        \"mda_idx\": \"first\"\n",
    "    })\n",
    "    .rename(columns={\"rpt_time_turn\": \"turn_sum\"})\n",
    ")\n"
   ]
  },
  {
   "cell_type": "code",
   "execution_count": 61,
   "id": "79ce3ee1",
   "metadata": {},
   "outputs": [],
   "source": [
    "# import pandas as pd\n",
    "\n",
    "# # 8/27, 8/28, 8/29 날짜 지정\n",
    "# target_dates = pd.to_datetime(['2024-08-25','2024-08-26','2024-08-27','2024-08-28','2024-08-29'])\n",
    "\n",
    "# # 해당 날짜 중 하나라도 있는 광고 ID\n",
    "# ads_with_recent = df_day[df_day['rpt_time_date'].isin(target_dates)]['unique_id'].unique()\n",
    "\n",
    "# # 해당 광고만 남기기\n",
    "# df_filtered = df_day[df_day['unique_id'].isin(ads_with_recent)]\n",
    "\n",
    "# print(\"8/27, 8/28, 8/29 중 하나라도 데이터가 있는 광고 수:\", df_filtered['unique_id'].nunique())\n",
    "# print(df_filtered.head())\n"
   ]
  },
  {
   "cell_type": "code",
   "execution_count": 62,
   "id": "c6dfcf34",
   "metadata": {},
   "outputs": [],
   "source": [
    "# import pandas as pd\n",
    "\n",
    "# # 8/28, 8/29 날짜 지정\n",
    "# target_dates = pd.to_datetime(['2024-08-28', '2024-08-29'])\n",
    "\n",
    "# # 8/28 또는 8/29 데이터가 있는 광고 ID\n",
    "# ads_with_recent = df_day[df_day['rpt_time_date'].isin(target_dates)]['unique_id'].unique()\n",
    "\n",
    "# # 해당 광고만 남기기\n",
    "# df_filtered = df_day[df_day['unique_id'].isin(ads_with_recent)]\n",
    "\n",
    "# print(\"8/28 또는 8/29 데이터가 있는 광고 수:\", df_filtered['unique_id'].nunique())\n",
    "# print(df_filtered.head())\n"
   ]
  },
  {
   "cell_type": "code",
   "execution_count": 111,
   "id": "7520603f",
   "metadata": {},
   "outputs": [
    {
     "name": "stdout",
     "output_type": "stream",
     "text": [
      "8/29 데이터가 있는 광고 수: 91\n",
      "      unique_id rpt_time_date  turn_sum  ads_idx  mda_idx  turn_sum_log  year  \\\n",
      "9113   99820824    2024-08-25         0     9982      824      0.000000  2024   \n",
      "9114   99820824    2024-08-28        10     9982      824      2.397895  2024   \n",
      "9115   99820824    2024-08-29        62     9982      824      4.143135  2024   \n",
      "9116   99820824    2024-08-30        87     9982      824      4.477337  2024   \n",
      "9117   99820824    2024-08-31        85     9982      824      4.454347  2024   \n",
      "\n",
      "      month  day  \n",
      "9113      8   25  \n",
      "9114      8   28  \n",
      "9115      8   29  \n",
      "9116      8   30  \n",
      "9117      8   31  \n"
     ]
    }
   ],
   "source": [
    "import pandas as pd\n",
    "\n",
    "# 8/29 날짜 지정\n",
    "target_date = pd.to_datetime('2025-08-29')\n",
    "\n",
    "# 8/29 데이터가 있는 광고 ID\n",
    "ads_with_0829 = df_day[df_day['rpt_time_date'] == target_date]['unique_id'].unique()\n",
    "\n",
    "# 8/29 데이터 없는 광고 제거\n",
    "df_day = df_day[df_day['unique_id'].isin(ads_with_0829)]\n",
    "\n",
    "print(\"8/29 데이터가 있는 광고 수:\", df_day['unique_id'].nunique())\n",
    "print(df_day.head())\n"
   ]
  },
  {
   "cell_type": "code",
   "execution_count": 65,
   "id": "4d4c2ae6",
   "metadata": {},
   "outputs": [
    {
     "name": "stdout",
     "output_type": "stream",
     "text": [
      "고유 광고 수 (ads_idx): 286\n",
      "고유 MDA 수 (mda_idx): 124\n",
      "고유 unique_id 수: 1312\n"
     ]
    }
   ],
   "source": [
    "#예측할 고유 ID 개수 확인\n",
    "print(\"고유 광고 수 (ads_idx):\", df_day[\"ads_idx\"].nunique())\n",
    "print(\"고유 MDA 수 (mda_idx):\", df_day[\"mda_idx\"].nunique())\n",
    "print(\"고유 unique_id 수:\", df_day[\"unique_id\"].nunique())"
   ]
  },
  {
   "cell_type": "markdown",
   "id": "dbecf924",
   "metadata": {},
   "source": [
    "###  타깃값 분포 확인"
   ]
  },
  {
   "cell_type": "code",
   "execution_count": 19,
   "id": "b2cc4361",
   "metadata": {},
   "outputs": [
    {
     "data": {
      "image/png": "[encoded data removed]",
      "text/plain": [
       "<Figure size 800x500 with 1 Axes>"
      ]
     },
     "metadata": {},
     "output_type": "display_data"
    }
   ],
   "source": [
    "import matplotlib.pyplot as plt\n",
    "import seaborn as sns\n",
    "\n",
    "# 히스토그램 + KDE\n",
    "plt.figure(figsize=(8,5))\n",
    "sns.histplot(df_day[\"turn_sum\"], bins=30, kde=True)\n",
    "plt.title(\"Distribution of turn_sum\")\n",
    "plt.xlabel(\"turn_sum\")\n",
    "plt.ylabel(\"Frequency\")\n",
    "plt.show()\n"
   ]
  },
  {
   "cell_type": "code",
   "execution_count": 20,
   "id": "52361e8f",
   "metadata": {},
   "outputs": [
    {
     "data": {
      "image/png": "[encoded data removed]",
      "text/plain": [
       "<Figure size 600x400 with 1 Axes>"
      ]
     },
     "metadata": {},
     "output_type": "display_data"
    }
   ],
   "source": [
    "plt.figure(figsize=(6,4))\n",
    "sns.boxplot(x=df_day[\"turn_sum\"])\n",
    "plt.title(\"Boxplot of turn_sum\")\n",
    "plt.show()"
   ]
  },
  {
   "cell_type": "code",
   "execution_count": 21,
   "id": "9a6d134b",
   "metadata": {},
   "outputs": [
    {
     "data": {
      "text/plain": [
       "304268"
      ]
     },
     "execution_count": 21,
     "metadata": {},
     "output_type": "execute_result"
    }
   ],
   "source": [
    "(df_day[\"turn_sum\"]==0).sum()"
   ]
  },
  {
   "cell_type": "code",
   "execution_count": 22,
   "id": "fec6fad8",
   "metadata": {},
   "outputs": [
    {
     "name": "stdout",
     "output_type": "stream",
     "text": [
      "0인 비율: 67.66% (304,268개)\n",
      "0이 아닌 비율: 32.34% (145,422개)\n"
     ]
    }
   ],
   "source": [
    "zero_count = (df_day[\"turn_sum\"] == 0).sum()\n",
    "nonzero_count = (df_day[\"turn_sum\"] > 0).sum()\n",
    "zero_ratio = zero_count / len(df_day)\n",
    "\n",
    "print(f\"0인 비율: {zero_ratio:.2%} ({zero_count:,}개)\")\n",
    "print(f\"0이 아닌 비율: {1-zero_ratio:.2%} ({nonzero_count:,}개)\")"
   ]
  },
  {
   "cell_type": "code",
   "execution_count": 27,
   "id": "faf82291",
   "metadata": {},
   "outputs": [
    {
     "name": "stdout",
     "output_type": "stream",
     "text": [
      "전환수 > 0인 아이디 수: 11073\n",
      "전환수 == 0인 아이디 수: 12993\n"
     ]
    }
   ],
   "source": [
    "# 아이디별 전환수 합계\n",
    "id_sum = df_day.groupby(\"unique_id\", as_index=False)[\"turn_sum\"].sum()\n",
    "\n",
    "# 전환수 합계 > 0인 아이디 개수\n",
    "positive_count = (id_sum[\"turn_sum\"] > 0).sum()\n",
    "\n",
    "# 전환수 합계 == 0인 아이디 개수\n",
    "zero_count = (id_sum[\"turn_sum\"] == 0).sum()\n",
    "\n",
    "print(\"전환수 > 0인 아이디 수:\", positive_count)\n",
    "print(\"전환수 == 0인 아이디 수:\", zero_count)"
   ]
  },
  {
   "cell_type": "code",
   "execution_count": 24,
   "id": "84d27464",
   "metadata": {},
   "outputs": [
    {
     "name": "stdout",
     "output_type": "stream",
     "text": [
      "<class 'pandas.core.frame.DataFrame'>\n",
      "Index: 449690 entries, 0 to 460174\n",
      "Data columns (total 5 columns):\n",
      " #   Column         Non-Null Count   Dtype         \n",
      "---  ------         --------------   -----         \n",
      " 0   unique_id      449690 non-null  int64         \n",
      " 1   rpt_time_date  449690 non-null  datetime64[ns]\n",
      " 2   turn_sum       449690 non-null  int64         \n",
      " 3   ads_idx        449690 non-null  int64         \n",
      " 4   mda_idx        449690 non-null  int64         \n",
      "dtypes: datetime64[ns](1), int64(4)\n",
      "memory usage: 20.6 MB\n"
     ]
    }
   ],
   "source": [
    "df_day.info()"
   ]
  },
  {
   "cell_type": "markdown",
   "id": "46265395",
   "metadata": {},
   "source": [
    "### 타깃값 로그 변환"
   ]
  },
  {
   "cell_type": "code",
   "execution_count": 66,
   "id": "20141cdc",
   "metadata": {},
   "outputs": [],
   "source": [
    "import numpy as np\n",
    "\n",
    "# turn_sum 로그 변환 (0 포함 가능) y=log(1+x)\n",
    "df_day[\"turn_sum_log\"] = np.log1p(df_day[\"turn_sum\"])"
   ]
  },
  {
   "cell_type": "code",
   "execution_count": 67,
   "id": "6616ad6f",
   "metadata": {},
   "outputs": [
    {
     "data": {
      "image/png": "[encoded data removed]",
      "text/plain": [
       "<Figure size 800x500 with 1 Axes>"
      ]
     },
     "metadata": {},
     "output_type": "display_data"
    }
   ],
   "source": [
    "import matplotlib.pyplot as plt\n",
    "import seaborn as sns\n",
    "\n",
    "# 히스토그램 + KDE\n",
    "plt.figure(figsize=(8,5))\n",
    "sns.histplot(df_day[\"turn_sum_log\"], bins=30, kde=True)\n",
    "plt.title(\"Distribution of turn_sum_log\")\n",
    "plt.xlabel(\"turn_sum_log\")\n",
    "plt.ylabel(\"Frequency\")\n",
    "plt.show()\n"
   ]
  },
  {
   "cell_type": "code",
   "execution_count": null,
   "id": "3c2c77ef",
   "metadata": {},
   "outputs": [],
   "source": []
  },
  {
   "cell_type": "markdown",
   "id": "452f1f4c",
   "metadata": {},
   "source": [
    "### 모델링"
   ]
  },
  {
   "cell_type": "markdown",
   "id": "e3ed4411",
   "metadata": {},
   "source": [
    "#### 데이터 분리"
   ]
  },
  {
   "cell_type": "code",
   "execution_count": 68,
   "id": "8dfd7b1e",
   "metadata": {},
   "outputs": [
    {
     "name": "stdout",
     "output_type": "stream",
     "text": [
      "<class 'pandas.core.frame.DataFrame'>\n",
      "Index: 118320 entries, 601 to 263677\n",
      "Data columns (total 6 columns):\n",
      " #   Column         Non-Null Count   Dtype         \n",
      "---  ------         --------------   -----         \n",
      " 0   unique_id      118320 non-null  int64         \n",
      " 1   rpt_time_date  118320 non-null  datetime64[ns]\n",
      " 2   turn_sum       118320 non-null  int64         \n",
      " 3   ads_idx        118320 non-null  int64         \n",
      " 4   mda_idx        118320 non-null  int64         \n",
      " 5   turn_sum_log   118320 non-null  float64       \n",
      "dtypes: datetime64[ns](1), float64(1), int64(4)\n",
      "memory usage: 6.3 MB\n"
     ]
    }
   ],
   "source": [
    "df_day.info()"
   ]
  },
  {
   "cell_type": "code",
   "execution_count": 69,
   "id": "c906ee50",
   "metadata": {},
   "outputs": [
    {
     "name": "stdout",
     "output_type": "stream",
     "text": [
      "count    1312.000000\n",
      "mean       90.182927\n",
      "std        96.264883\n",
      "min         1.000000\n",
      "25%        34.000000\n",
      "50%        57.000000\n",
      "75%        87.000000\n",
      "max       399.000000\n",
      "Name: rpt_time_date, dtype: float64\n"
     ]
    }
   ],
   "source": [
    "# 광고별 데이터 날짜 길이\n",
    "ad_days = df_day.groupby('unique_id')['rpt_time_date'].nunique()\n",
    "\n",
    "# 통계량 확인\n",
    "stats = ad_days.describe()  # count, mean, std, min, 25%, 50%, 75%, max 포함\n",
    "print(stats)"
   ]
  },
  {
   "cell_type": "code",
   "execution_count": null,
   "id": "3b3c03c7",
   "metadata": {},
   "outputs": [],
   "source": [
    "# 1️⃣ 날짜가 30일 이상인 것만 가져가기 정규분포에 의해서\n",
    "date_counts = df_day.groupby(\"unique_id\")[\"rpt_time_date\"].nunique()\n",
    "valid_ids = date_counts[date_counts >= 30].index\n",
    "df_day = df_day[df_day[\"unique_id\"].isin(valid_ids)]"
   ]
  },
  {
   "cell_type": "code",
   "execution_count": 72,
   "id": "b3c4cd31",
   "metadata": {},
   "outputs": [
    {
     "name": "stdout",
     "output_type": "stream",
     "text": [
      "고유 광고 수 (ads_idx): 247\n",
      "고유 MDA 수 (mda_idx): 110\n",
      "고유 unique_id 수: 1028\n"
     ]
    }
   ],
   "source": [
    "#예측할 고유 ID 개수 확인\n",
    "print(\"고유 광고 수 (ads_idx):\", df_day[\"ads_idx\"].nunique())\n",
    "print(\"고유 MDA 수 (mda_idx):\", df_day[\"mda_idx\"].nunique())\n",
    "print(\"고유 unique_id 수:\", df_day[\"unique_id\"].nunique())"
   ]
  },
  {
   "cell_type": "code",
   "execution_count": 74,
   "id": "f99fba75",
   "metadata": {},
   "outputs": [
    {
     "name": "stdout",
     "output_type": "stream",
     "text": [
      "2024-08-27 데이터 없는 광고 수: 159\n",
      "2024-08-28 데이터 없는 광고 수: 138\n",
      "2024-08-29 데이터 없는 광고 수: 0\n"
     ]
    }
   ],
   "source": [
    "\n",
    "# 확인할 날짜 리스트\n",
    "dates_to_check = ['2024-08-27', '2024-08-28', '2024-08-29']\n",
    "\n",
    "for date_str in dates_to_check:\n",
    "    date = pd.to_datetime(date_str)\n",
    "    missing_count = df_day[~df_day['unique_id'].isin(\n",
    "        df_day[df_day['rpt_time_date'] == date]['unique_id']\n",
    "    )]['unique_id'].nunique()\n",
    "    \n",
    "    print(f\"{date_str} 데이터 없는 광고 수:\", missing_count)"
   ]
  },
  {
   "cell_type": "code",
   "execution_count": 93,
   "id": "d6763b07",
   "metadata": {},
   "outputs": [
    {
     "name": "stdout",
     "output_type": "stream",
     "text": [
      "   rpt_time_date  unique_id  turn_sum  ads_idx  mda_idx  turn_sum_log    year  \\\n",
      "0     2024-08-13   66670054       5.0   6667.0     54.0      1.791759  2024.0   \n",
      "1     2024-08-14   66670054      12.0   6667.0     54.0      2.564949  2024.0   \n",
      "2     2024-08-15   66670054      20.0   6667.0     54.0      3.044522  2024.0   \n",
      "3     2024-08-16   66670054       9.0   6667.0     54.0      2.302585  2024.0   \n",
      "4     2024-08-17   66670054      16.0   6667.0     54.0      2.833213  2024.0   \n",
      "5     2024-08-18   66670054      12.0   6667.0     54.0      2.564949  2024.0   \n",
      "6     2024-08-19   66670054       0.0      NaN      NaN      0.000000     NaN   \n",
      "7     2024-08-20   66670054       0.0   6667.0     54.0      0.000000  2024.0   \n",
      "8     2024-08-21   66670054       1.0   6667.0     54.0      0.693147  2024.0   \n",
      "9     2024-08-22   66670054       4.0   6667.0     54.0      1.609438  2024.0   \n",
      "10    2024-08-23   66670054       2.0   6667.0     54.0      1.098612  2024.0   \n",
      "11    2024-08-24   66670054       1.0   6667.0     54.0      0.693147  2024.0   \n",
      "12    2024-08-25   66670054       2.0   6667.0     54.0      1.098612  2024.0   \n",
      "13    2024-08-26   66670054       7.0   6667.0     54.0      2.079442  2024.0   \n",
      "14    2024-08-27   66670054       7.0   6667.0     54.0      2.079442  2024.0   \n",
      "\n",
      "    month   day  flag  \n",
      "0     8.0  13.0     1  \n",
      "1     8.0  14.0     1  \n",
      "2     8.0  15.0     1  \n",
      "3     8.0  16.0     1  \n",
      "4     8.0  17.0     1  \n",
      "5     8.0  18.0     1  \n",
      "6     NaN   NaN     0  \n",
      "7     8.0  20.0     1  \n",
      "8     8.0  21.0     1  \n",
      "9     8.0  22.0     1  \n",
      "10    8.0  23.0     1  \n",
      "11    8.0  24.0     1  \n",
      "12    8.0  25.0     1  \n",
      "13    8.0  26.0     1  \n",
      "14    8.0  27.0     1  \n"
     ]
    }
   ],
   "source": [
    "import pandas as pd\n",
    "\n",
    "# 오늘 날짜\n",
    "end_date = pd.to_datetime(\"2024-08-29\")\n",
    "\n",
    "filled_list = []\n",
    "\n",
    "for uid, group in df_day.groupby(\"unique_id\"):\n",
    "    # 아이디별 시작 날짜 ~ 8/29까지 생성\n",
    "    start_date = group['rpt_time_date'].min()\n",
    "    all_dates = pd.date_range(start=start_date, end=end_date, freq=\"D\")\n",
    "\n",
    "    # 날짜 기준으로 reindex\n",
    "    g = group.set_index(\"rpt_time_date\").reindex(all_dates)\n",
    "\n",
    "    # flag: 기존 데이터 있으면 1, 없으면 0\n",
    "    g[\"flag\"] = g[\"turn_sum\"].notna().astype(int)\n",
    "\n",
    "    # 원래 값 없던 날은 turn_sum = 0\n",
    "    g[\"turn_sum\"] = g[\"turn_sum\"].fillna(0)\n",
    "    g[\"turn_sum_log\"] = g[\"turn_sum_log\"].fillna(0)\n",
    "\n",
    "\n",
    "    # ID 다시 넣기\n",
    "    g[\"unique_id\"] = uid\n",
    "    g = g.reset_index().rename(columns={\"index\": \"rpt_time_date\"})\n",
    "\n",
    "    filled_list.append(g)\n",
    "\n",
    "df_fill = pd.concat(filled_list, ignore_index=True)\n",
    "\n",
    "print(df_fill.head(15))\n"
   ]
  },
  {
   "cell_type": "code",
   "execution_count": 101,
   "id": "d4fa8233",
   "metadata": {},
   "outputs": [],
   "source": [
    "df_fill['year'] = df_fill['rpt_time_date'].dt.year\n",
    "df_fill['month'] = df_fill['rpt_time_date'].dt.month\n",
    "df_fill['day'] = df_fill['rpt_time_date'].dt.day\n"
   ]
  },
  {
   "cell_type": "code",
   "execution_count": 88,
   "id": "99ece338",
   "metadata": {},
   "outputs": [
    {
     "name": "stdout",
     "output_type": "stream",
     "text": [
      "<class 'pandas.core.frame.DataFrame'>\n",
      "RangeIndex: 28277 entries, 0 to 28276\n",
      "Data columns (total 10 columns):\n",
      " #   Column         Non-Null Count  Dtype         \n",
      "---  ------         --------------  -----         \n",
      " 0   rpt_time_date  28277 non-null  datetime64[ns]\n",
      " 1   unique_id      28277 non-null  int64         \n",
      " 2   turn_sum       28277 non-null  float64       \n",
      " 3   ads_idx        23156 non-null  float64       \n",
      " 4   mda_idx        23156 non-null  float64       \n",
      " 5   turn_sum_log   23156 non-null  float64       \n",
      " 6   year           23156 non-null  float64       \n",
      " 7   month          23156 non-null  float64       \n",
      " 8   day            23156 non-null  float64       \n",
      " 9   flag           28277 non-null  int64         \n",
      "dtypes: datetime64[ns](1), float64(7), int64(2)\n",
      "memory usage: 2.2 MB\n"
     ]
    }
   ],
   "source": [
    "df_fill.info()"
   ]
  },
  {
   "cell_type": "code",
   "execution_count": 102,
   "id": "1cc18bf9",
   "metadata": {},
   "outputs": [
    {
     "name": "stdout",
     "output_type": "stream",
     "text": [
      "Train shape: (26236, 10)\n",
      "Valid shape: (1995, 10)\n",
      "Test shape: (2041, 10)\n"
     ]
    }
   ],
   "source": [
    "train_list = []\n",
    "valid_list = []\n",
    "test_list = []\n",
    "\n",
    "for ad_id, group in df_fill.groupby(\"unique_id\"):\n",
    "    group = group.sort_values(\"rpt_time_date\")\n",
    "    \n",
    "    # 마지막 1일 → test, 그 전날 → valid, 나머지 → train\n",
    "    test = group.tail(2)\n",
    "    valid = group.iloc[-4:-2]\n",
    "    train = group.iloc[:-2]\n",
    "    \n",
    "    train_list.append(train)\n",
    "    valid_list.append(valid)\n",
    "    test_list.append(test)\n",
    "\n",
    "train_df = pd.concat(train_list)\n",
    "valid_df = pd.concat(valid_list)\n",
    "test_df = pd.concat(test_list)\n",
    "\n",
    "print(\"Train shape:\", train_df.shape)\n",
    "print(\"Valid shape:\", valid_df.shape)\n",
    "print(\"Test shape:\", test_df.shape)\n"
   ]
  },
  {
   "cell_type": "code",
   "execution_count": 100,
   "id": "7c5a54d5",
   "metadata": {},
   "outputs": [
    {
     "data": {
      "application/vnd.microsoft.datawrangler.viewer.v0+json": {
       "columns": [
        {
         "name": "index",
         "rawType": "int64",
         "type": "integer"
        },
        {
         "name": "rpt_time_date",
         "rawType": "datetime64[ns]",
         "type": "datetime"
        },
        {
         "name": "unique_id",
         "rawType": "int64",
         "type": "integer"
        },
        {
         "name": "turn_sum",
         "rawType": "float64",
         "type": "float"
        },
        {
         "name": "ads_idx",
         "rawType": "float64",
         "type": "float"
        },
        {
         "name": "mda_idx",
         "rawType": "float64",
         "type": "float"
        },
        {
         "name": "turn_sum_log",
         "rawType": "float64",
         "type": "float"
        },
        {
         "name": "year",
         "rawType": "float64",
         "type": "float"
        },
        {
         "name": "month",
         "rawType": "float64",
         "type": "float"
        },
        {
         "name": "day",
         "rawType": "float64",
         "type": "float"
        },
        {
         "name": "flag",
         "rawType": "int64",
         "type": "integer"
        }
       ],
       "ref": "dfe63698-52c4-4832-b981-d198e2818abf",
       "rows": [
        [
         "13",
         "2024-08-26 00:00:00",
         "66670054",
         "7.0",
         "6667.0",
         "54.0",
         "2.0794415416798357",
         "2024.0",
         "8.0",
         "26.0",
         "1"
        ],
        [
         "14",
         "2024-08-27 00:00:00",
         "66670054",
         "7.0",
         "6667.0",
         "54.0",
         "2.0794415416798357",
         "2024.0",
         "8.0",
         "27.0",
         "1"
        ],
        [
         "30",
         "2024-08-26 00:00:00",
         "66670213",
         "97.0",
         "6667.0",
         "213.0",
         "4.584967478670572",
         "2024.0",
         "8.0",
         "26.0",
         "1"
        ],
        [
         "31",
         "2024-08-27 00:00:00",
         "66670213",
         "169.0",
         "6667.0",
         "213.0",
         "5.135798437050262",
         "2024.0",
         "8.0",
         "27.0",
         "1"
        ],
        [
         "47",
         "2024-08-26 00:00:00",
         "66670270",
         "0.0",
         "6667.0",
         "270.0",
         "0.0",
         "2024.0",
         "8.0",
         "26.0",
         "1"
        ],
        [
         "48",
         "2024-08-27 00:00:00",
         "66670270",
         "0.0",
         "6667.0",
         "270.0",
         "0.0",
         "2024.0",
         "8.0",
         "27.0",
         "1"
        ],
        [
         "64",
         "2024-08-26 00:00:00",
         "66670337",
         "1.0",
         "6667.0",
         "337.0",
         "0.6931471805599453",
         "2024.0",
         "8.0",
         "26.0",
         "1"
        ],
        [
         "65",
         "2024-08-27 00:00:00",
         "66670337",
         "0.0",
         "6667.0",
         "337.0",
         "0.0",
         "2024.0",
         "8.0",
         "27.0",
         "1"
        ],
        [
         "81",
         "2024-08-26 00:00:00",
         "66670371",
         "7.0",
         "6667.0",
         "371.0",
         "2.0794415416798357",
         "2024.0",
         "8.0",
         "26.0",
         "1"
        ],
        [
         "82",
         "2024-08-27 00:00:00",
         "66670371",
         "2.0",
         "6667.0",
         "371.0",
         "1.0986122886681098",
         "2024.0",
         "8.0",
         "27.0",
         "1"
        ],
        [
         "98",
         "2024-08-26 00:00:00",
         "66670496",
         "5.0",
         "6667.0",
         "496.0",
         "1.791759469228055",
         "2024.0",
         "8.0",
         "26.0",
         "1"
        ],
        [
         "99",
         "2024-08-27 00:00:00",
         "66670496",
         "10.0",
         "6667.0",
         "496.0",
         "2.3978952727983707",
         "2024.0",
         "8.0",
         "27.0",
         "1"
        ],
        [
         "132",
         "2024-08-26 00:00:00",
         "73770022",
         "0.0",
         null,
         null,
         "0.0",
         null,
         null,
         null,
         "0"
        ],
        [
         "133",
         "2024-08-27 00:00:00",
         "73770022",
         "1.0",
         "7377.0",
         "22.0",
         "0.6931471805599453",
         "2024.0",
         "8.0",
         "27.0",
         "1"
        ],
        [
         "166",
         "2024-08-26 00:00:00",
         "73770054",
         "1.0",
         "7377.0",
         "54.0",
         "0.6931471805599453",
         "2024.0",
         "8.0",
         "26.0",
         "1"
        ],
        [
         "167",
         "2024-08-27 00:00:00",
         "73770054",
         "0.0",
         "7377.0",
         "54.0",
         "0.0",
         "2024.0",
         "8.0",
         "27.0",
         "1"
        ],
        [
         "200",
         "2024-08-26 00:00:00",
         "73770213",
         "30.0",
         "7377.0",
         "213.0",
         "3.4339872044851463",
         "2024.0",
         "8.0",
         "26.0",
         "1"
        ],
        [
         "201",
         "2024-08-27 00:00:00",
         "73770213",
         "30.0",
         "7377.0",
         "213.0",
         "3.4339872044851463",
         "2024.0",
         "8.0",
         "27.0",
         "1"
        ],
        [
         "234",
         "2024-08-26 00:00:00",
         "73770294",
         "0.0",
         null,
         null,
         "0.0",
         null,
         null,
         null,
         "0"
        ],
        [
         "235",
         "2024-08-27 00:00:00",
         "73770294",
         "1.0",
         "7377.0",
         "294.0",
         "0.6931471805599453",
         "2024.0",
         "8.0",
         "27.0",
         "1"
        ],
        [
         "268",
         "2024-08-26 00:00:00",
         "73770337",
         "0.0",
         null,
         null,
         "0.0",
         null,
         null,
         null,
         "0"
        ],
        [
         "269",
         "2024-08-27 00:00:00",
         "73770337",
         "0.0",
         null,
         null,
         "0.0",
         null,
         null,
         null,
         "0"
        ],
        [
         "302",
         "2024-08-26 00:00:00",
         "73770401",
         "1.0",
         "7377.0",
         "401.0",
         "0.6931471805599453",
         "2024.0",
         "8.0",
         "26.0",
         "1"
        ],
        [
         "303",
         "2024-08-27 00:00:00",
         "73770401",
         "1.0",
         "7377.0",
         "401.0",
         "0.6931471805599453",
         "2024.0",
         "8.0",
         "27.0",
         "1"
        ],
        [
         "331",
         "2024-08-26 00:00:00",
         "73770583",
         "0.0",
         null,
         null,
         "0.0",
         null,
         null,
         null,
         "0"
        ],
        [
         "332",
         "2024-08-27 00:00:00",
         "73770583",
         "0.0",
         null,
         null,
         "0.0",
         null,
         null,
         null,
         "0"
        ],
        [
         "349",
         "2024-08-26 00:00:00",
         "77800087",
         "1.0",
         "7780.0",
         "87.0",
         "0.6931471805599453",
         "2024.0",
         "8.0",
         "26.0",
         "1"
        ],
        [
         "350",
         "2024-08-27 00:00:00",
         "77800087",
         "1.0",
         "7780.0",
         "87.0",
         "0.6931471805599453",
         "2024.0",
         "8.0",
         "27.0",
         "1"
        ],
        [
         "381",
         "2024-08-26 00:00:00",
         "77800270",
         "2.0",
         "7780.0",
         "270.0",
         "1.0986122886681098",
         "2024.0",
         "8.0",
         "26.0",
         "1"
        ],
        [
         "382",
         "2024-08-27 00:00:00",
         "77800270",
         "0.0",
         null,
         null,
         "0.0",
         null,
         null,
         null,
         "0"
        ],
        [
         "405",
         "2024-08-26 00:00:00",
         "77800401",
         "6.0",
         "7780.0",
         "401.0",
         "1.9459101490553132",
         "2024.0",
         "8.0",
         "26.0",
         "1"
        ],
        [
         "406",
         "2024-08-27 00:00:00",
         "77800401",
         "1.0",
         "7780.0",
         "401.0",
         "0.6931471805599453",
         "2024.0",
         "8.0",
         "27.0",
         "1"
        ],
        [
         "437",
         "2024-08-26 00:00:00",
         "77800761",
         "2.0",
         "7780.0",
         "761.0",
         "1.0986122886681098",
         "2024.0",
         "8.0",
         "26.0",
         "1"
        ],
        [
         "438",
         "2024-08-27 00:00:00",
         "77800761",
         "1.0",
         "7780.0",
         "761.0",
         "0.6931471805599453",
         "2024.0",
         "8.0",
         "27.0",
         "1"
        ],
        [
         "466",
         "2024-08-26 00:00:00",
         "99820371",
         "1.0",
         "9982.0",
         "371.0",
         "0.6931471805599453",
         "2024.0",
         "8.0",
         "26.0",
         "1"
        ],
        [
         "467",
         "2024-08-27 00:00:00",
         "99820371",
         "1.0",
         "9982.0",
         "371.0",
         "0.6931471805599453",
         "2024.0",
         "8.0",
         "27.0",
         "1"
        ],
        [
         "500",
         "2024-08-26 00:00:00",
         "99820761",
         "0.0",
         null,
         null,
         "0.0",
         null,
         null,
         null,
         "0"
        ],
        [
         "501",
         "2024-08-27 00:00:00",
         "99820761",
         "0.0",
         "9982.0",
         "761.0",
         "0.0",
         "2024.0",
         "8.0",
         "27.0",
         "1"
        ],
        [
         "505",
         "2024-08-26 00:00:00",
         "99820824",
         "0.0",
         null,
         null,
         "0.0",
         null,
         null,
         null,
         "0"
        ],
        [
         "506",
         "2024-08-27 00:00:00",
         "99820824",
         "0.0",
         null,
         null,
         "0.0",
         null,
         null,
         null,
         "0"
        ],
        [
         "513",
         "2024-08-26 00:00:00",
         "105000496",
         "0.0",
         "10500.0",
         "496.0",
         "0.0",
         "2024.0",
         "8.0",
         "26.0",
         "1"
        ],
        [
         "514",
         "2024-08-27 00:00:00",
         "105000496",
         "0.0",
         null,
         null,
         "0.0",
         null,
         null,
         null,
         "0"
        ],
        [
         "530",
         "2024-08-26 00:00:00",
         "110590030",
         "0.0",
         null,
         null,
         "0.0",
         null,
         null,
         null,
         "0"
        ],
        [
         "531",
         "2024-08-27 00:00:00",
         "110590030",
         "0.0",
         null,
         null,
         "0.0",
         null,
         null,
         null,
         "0"
        ],
        [
         "546",
         "2024-08-26 00:00:00",
         "110590643",
         "0.0",
         "11059.0",
         "643.0",
         "0.0",
         "2024.0",
         "8.0",
         "26.0",
         "1"
        ],
        [
         "547",
         "2024-08-27 00:00:00",
         "110590643",
         "0.0",
         null,
         null,
         "0.0",
         null,
         null,
         null,
         "0"
        ],
        [
         "563",
         "2024-08-26 00:00:00",
         "110590761",
         "0.0",
         "11059.0",
         "761.0",
         "0.0",
         "2024.0",
         "8.0",
         "26.0",
         "1"
        ],
        [
         "564",
         "2024-08-27 00:00:00",
         "110590761",
         "0.0",
         "11059.0",
         "761.0",
         "0.0",
         "2024.0",
         "8.0",
         "27.0",
         "1"
        ],
        [
         "579",
         "2024-08-26 00:00:00",
         "110590766",
         "0.0",
         "11059.0",
         "766.0",
         "0.0",
         "2024.0",
         "8.0",
         "26.0",
         "1"
        ],
        [
         "580",
         "2024-08-27 00:00:00",
         "110590766",
         "0.0",
         "11059.0",
         "766.0",
         "0.0",
         "2024.0",
         "8.0",
         "27.0",
         "1"
        ]
       ],
       "shape": {
        "columns": 10,
        "rows": 1995
       }
      },
      "text/html": [
       "<div>\n",
       "<style scoped>\n",
       "    .dataframe tbody tr th:only-of-type {\n",
       "        vertical-align: middle;\n",
       "    }\n",
       "\n",
       "    .dataframe tbody tr th {\n",
       "        vertical-align: top;\n",
       "    }\n",
       "\n",
       "    .dataframe thead th {\n",
       "        text-align: right;\n",
       "    }\n",
       "</style>\n",
       "<table border=\"1\" class=\"dataframe\">\n",
       "  <thead>\n",
       "    <tr style=\"text-align: right;\">\n",
       "      <th></th>\n",
       "      <th>rpt_time_date</th>\n",
       "      <th>unique_id</th>\n",
       "      <th>turn_sum</th>\n",
       "      <th>ads_idx</th>\n",
       "      <th>mda_idx</th>\n",
       "      <th>turn_sum_log</th>\n",
       "      <th>year</th>\n",
       "      <th>month</th>\n",
       "      <th>day</th>\n",
       "      <th>flag</th>\n",
       "    </tr>\n",
       "  </thead>\n",
       "  <tbody>\n",
       "    <tr>\n",
       "      <th>13</th>\n",
       "      <td>2024-08-26</td>\n",
       "      <td>66670054</td>\n",
       "      <td>7.0</td>\n",
       "      <td>6667.0</td>\n",
       "      <td>54.0</td>\n",
       "      <td>2.079442</td>\n",
       "      <td>2024.0</td>\n",
       "      <td>8.0</td>\n",
       "      <td>26.0</td>\n",
       "      <td>1</td>\n",
       "    </tr>\n",
       "    <tr>\n",
       "      <th>14</th>\n",
       "      <td>2024-08-27</td>\n",
       "      <td>66670054</td>\n",
       "      <td>7.0</td>\n",
       "      <td>6667.0</td>\n",
       "      <td>54.0</td>\n",
       "      <td>2.079442</td>\n",
       "      <td>2024.0</td>\n",
       "      <td>8.0</td>\n",
       "      <td>27.0</td>\n",
       "      <td>1</td>\n",
       "    </tr>\n",
       "    <tr>\n",
       "      <th>30</th>\n",
       "      <td>2024-08-26</td>\n",
       "      <td>66670213</td>\n",
       "      <td>97.0</td>\n",
       "      <td>6667.0</td>\n",
       "      <td>213.0</td>\n",
       "      <td>4.584967</td>\n",
       "      <td>2024.0</td>\n",
       "      <td>8.0</td>\n",
       "      <td>26.0</td>\n",
       "      <td>1</td>\n",
       "    </tr>\n",
       "    <tr>\n",
       "      <th>31</th>\n",
       "      <td>2024-08-27</td>\n",
       "      <td>66670213</td>\n",
       "      <td>169.0</td>\n",
       "      <td>6667.0</td>\n",
       "      <td>213.0</td>\n",
       "      <td>5.135798</td>\n",
       "      <td>2024.0</td>\n",
       "      <td>8.0</td>\n",
       "      <td>27.0</td>\n",
       "      <td>1</td>\n",
       "    </tr>\n",
       "    <tr>\n",
       "      <th>47</th>\n",
       "      <td>2024-08-26</td>\n",
       "      <td>66670270</td>\n",
       "      <td>0.0</td>\n",
       "      <td>6667.0</td>\n",
       "      <td>270.0</td>\n",
       "      <td>0.000000</td>\n",
       "      <td>2024.0</td>\n",
       "      <td>8.0</td>\n",
       "      <td>26.0</td>\n",
       "      <td>1</td>\n",
       "    </tr>\n",
       "    <tr>\n",
       "      <th>...</th>\n",
       "      <td>...</td>\n",
       "      <td>...</td>\n",
       "      <td>...</td>\n",
       "      <td>...</td>\n",
       "      <td>...</td>\n",
       "      <td>...</td>\n",
       "      <td>...</td>\n",
       "      <td>...</td>\n",
       "      <td>...</td>\n",
       "      <td>...</td>\n",
       "    </tr>\n",
       "    <tr>\n",
       "      <th>28262</th>\n",
       "      <td>2024-08-27</td>\n",
       "      <td>924760653</td>\n",
       "      <td>0.0</td>\n",
       "      <td>92476.0</td>\n",
       "      <td>653.0</td>\n",
       "      <td>0.000000</td>\n",
       "      <td>2024.0</td>\n",
       "      <td>8.0</td>\n",
       "      <td>27.0</td>\n",
       "      <td>1</td>\n",
       "    </tr>\n",
       "    <tr>\n",
       "      <th>28265</th>\n",
       "      <td>2024-08-26</td>\n",
       "      <td>924760761</td>\n",
       "      <td>6.0</td>\n",
       "      <td>92476.0</td>\n",
       "      <td>761.0</td>\n",
       "      <td>1.945910</td>\n",
       "      <td>2024.0</td>\n",
       "      <td>8.0</td>\n",
       "      <td>26.0</td>\n",
       "      <td>1</td>\n",
       "    </tr>\n",
       "    <tr>\n",
       "      <th>28266</th>\n",
       "      <td>2024-08-27</td>\n",
       "      <td>924760761</td>\n",
       "      <td>6.0</td>\n",
       "      <td>92476.0</td>\n",
       "      <td>761.0</td>\n",
       "      <td>1.945910</td>\n",
       "      <td>2024.0</td>\n",
       "      <td>8.0</td>\n",
       "      <td>27.0</td>\n",
       "      <td>1</td>\n",
       "    </tr>\n",
       "    <tr>\n",
       "      <th>28269</th>\n",
       "      <td>2024-08-26</td>\n",
       "      <td>924770761</td>\n",
       "      <td>1.0</td>\n",
       "      <td>92477.0</td>\n",
       "      <td>761.0</td>\n",
       "      <td>0.693147</td>\n",
       "      <td>2024.0</td>\n",
       "      <td>8.0</td>\n",
       "      <td>26.0</td>\n",
       "      <td>1</td>\n",
       "    </tr>\n",
       "    <tr>\n",
       "      <th>28270</th>\n",
       "      <td>2024-08-27</td>\n",
       "      <td>924770761</td>\n",
       "      <td>3.0</td>\n",
       "      <td>92477.0</td>\n",
       "      <td>761.0</td>\n",
       "      <td>1.386294</td>\n",
       "      <td>2024.0</td>\n",
       "      <td>8.0</td>\n",
       "      <td>27.0</td>\n",
       "      <td>1</td>\n",
       "    </tr>\n",
       "  </tbody>\n",
       "</table>\n",
       "<p>1995 rows × 10 columns</p>\n",
       "</div>"
      ],
      "text/plain": [
       "      rpt_time_date  unique_id  turn_sum  ads_idx  mda_idx  turn_sum_log  \\\n",
       "13       2024-08-26   66670054       7.0   6667.0     54.0      2.079442   \n",
       "14       2024-08-27   66670054       7.0   6667.0     54.0      2.079442   \n",
       "30       2024-08-26   66670213      97.0   6667.0    213.0      4.584967   \n",
       "31       2024-08-27   66670213     169.0   6667.0    213.0      5.135798   \n",
       "47       2024-08-26   66670270       0.0   6667.0    270.0      0.000000   \n",
       "...             ...        ...       ...      ...      ...           ...   \n",
       "28262    2024-08-27  924760653       0.0  92476.0    653.0      0.000000   \n",
       "28265    2024-08-26  924760761       6.0  92476.0    761.0      1.945910   \n",
       "28266    2024-08-27  924760761       6.0  92476.0    761.0      1.945910   \n",
       "28269    2024-08-26  924770761       1.0  92477.0    761.0      0.693147   \n",
       "28270    2024-08-27  924770761       3.0  92477.0    761.0      1.386294   \n",
       "\n",
       "         year  month   day  flag  \n",
       "13     2024.0    8.0  26.0     1  \n",
       "14     2024.0    8.0  27.0     1  \n",
       "30     2024.0    8.0  26.0     1  \n",
       "31     2024.0    8.0  27.0     1  \n",
       "47     2024.0    8.0  26.0     1  \n",
       "...       ...    ...   ...   ...  \n",
       "28262  2024.0    8.0  27.0     1  \n",
       "28265  2024.0    8.0  26.0     1  \n",
       "28266  2024.0    8.0  27.0     1  \n",
       "28269  2024.0    8.0  26.0     1  \n",
       "28270  2024.0    8.0  27.0     1  \n",
       "\n",
       "[1995 rows x 10 columns]"
      ]
     },
     "execution_count": 100,
     "metadata": {},
     "output_type": "execute_result"
    }
   ],
   "source": [
    "valid_df"
   ]
  },
  {
   "cell_type": "code",
   "execution_count": null,
   "id": "aec04854",
   "metadata": {},
   "outputs": [],
   "source": [
    "# df_model = df_day[['year','month','day','unique_id','turn_sum_log']]"
   ]
  },
  {
   "cell_type": "code",
   "execution_count": 95,
   "id": "d48a9328",
   "metadata": {},
   "outputs": [],
   "source": [
    "features = ['year','month','day','unique_id','flag']  # 필요하면 요일/월 등 추가 가능\n",
    "target = \"turn_sum_log\""
   ]
  },
  {
   "cell_type": "code",
   "execution_count": 91,
   "id": "7e2a31eb",
   "metadata": {},
   "outputs": [],
   "source": [
    "# 로그변환된 target을 지수변환하기 위한 함수\n",
    "def exp_transform(y):\n",
    "    return np.expm1(y)  # log1p -> expm1, 0 값도 안전하게 처리\n",
    "\n",
    "# MAPE 계산 함수\n",
    "def mean_absolute_percentage_error(y_true, y_pred):\n",
    "    y_true, y_pred = np.array(y_true), np.array(y_pred)\n",
    "    return np.mean(np.abs((y_true - y_pred) / np.clip(y_true, 1e-8, None))) * 100"
   ]
  },
  {
   "cell_type": "markdown",
   "id": "4a4c88a1",
   "metadata": {},
   "source": [
    "#### RandomForestRegressor"
   ]
  },
  {
   "cell_type": "code",
   "execution_count": 103,
   "id": "d27262e6",
   "metadata": {},
   "outputs": [
    {
     "name": "stdout",
     "output_type": "stream",
     "text": [
      "valid 성능:\n",
      "R2: 0.8276, MAE: 0.89, MSE: 25.03, RMSE: 5.00, MAPE: 259105996.36%\n"
     ]
    }
   ],
   "source": [
    "from sklearn.ensemble import RandomForestRegressor\n",
    "from sklearn.metrics import mean_squared_error, mean_absolute_error, r2_score\n",
    "import numpy as np\n",
    "\n",
    "\n",
    "# 모델 초기화\n",
    "rf = RandomForestRegressor()\n",
    "\n",
    "# 1️⃣ Train 데이터 학습\n",
    "rf.fit(train_df[features], train_df[target])\n",
    "\n",
    "# 2️⃣ Train 데이터 예측\n",
    "pred_val = rf.predict(valid_df[features])\n",
    "\n",
    "pred_val_exp = exp_transform(pred_val)\n",
    "y_train_exp = exp_transform(valid_df[target])\n",
    "\n",
    "# 3️⃣ Train 성능 평가\n",
    "mse_train = mean_squared_error(y_train_exp, pred_val_exp)\n",
    "rmse_train = np.sqrt(mse_train)\n",
    "mae_train = mean_absolute_error(y_train_exp, pred_val_exp)\n",
    "r2_train = r2_score(y_train_exp, pred_val_exp)\n",
    "mape_train = mean_absolute_percentage_error(y_train_exp, pred_val_exp)\n",
    "\n",
    "print(\"valid 성능:\")\n",
    "print(f\"R2: {r2_train:.4f}, MAE: {mae_train:.2f}, MSE: {mse_train:.2f}, RMSE: {rmse_train:.2f}, MAPE: {mape_train:.2f}%\")\n",
    "\n"
   ]
  },
  {
   "cell_type": "code",
   "execution_count": 104,
   "id": "390b32c5",
   "metadata": {},
   "outputs": [
    {
     "name": "stdout",
     "output_type": "stream",
     "text": [
      "Test 성능:\n",
      "R2: 0.5410, MAE: 2.00, MSE: 91.66, RMSE: 9.57, MAPE: 1715956864.09%\n"
     ]
    }
   ],
   "source": [
    "# 4️⃣ Test 데이터 예측\n",
    "pred_test = rf.predict(test_df[features])\n",
    "\n",
    "pred_test_exp = exp_transform(pred_test)\n",
    "y_test_exp = exp_transform(test_df[target])\n",
    "\n",
    "# 5️⃣ Test 성능 평가\n",
    "mse_test = mean_squared_error(y_test_exp, pred_test_exp)\n",
    "rmse_test = np.sqrt(mse_test)\n",
    "mae_test = mean_absolute_error(y_test_exp, pred_test_exp)\n",
    "r2_test = r2_score(y_test_exp, pred_test_exp)\n",
    "mape_test = mean_absolute_percentage_error(y_test_exp, pred_test_exp)\n",
    "\n",
    "print(\"Test 성능:\")\n",
    "print(f\"R2: {r2_test:.4f}, MAE: {mae_test:.2f}, MSE: {mse_test:.2f}, RMSE: {rmse_test:.2f}, MAPE: {mape_test:.2f}%\")"
   ]
  },
  {
   "cell_type": "markdown",
   "id": "59178a4e",
   "metadata": {},
   "source": [
    "#### XGBoost"
   ]
  },
  {
   "cell_type": "code",
   "execution_count": 89,
   "id": "b71c5773",
   "metadata": {},
   "outputs": [
    {
     "name": "stdout",
     "output_type": "stream",
     "text": [
      "2.1.1\n"
     ]
    }
   ],
   "source": [
    "import xgboost\n",
    "print(xgboost.__version__)"
   ]
  },
  {
   "cell_type": "code",
   "execution_count": 107,
   "id": "cc0da6f8",
   "metadata": {},
   "outputs": [
    {
     "name": "stdout",
     "output_type": "stream",
     "text": [
      "valid 성능:\n",
      "R2: 0.2658, MAE: 2.17, MSE: 106.61, RMSE: 10.33, MAPE: 1917552240.31%\n"
     ]
    }
   ],
   "source": [
    "import xgboost as xgb\n",
    "\n",
    "# 모델 초기화\n",
    "xgb_model = xgb.XGBRegressor(enable_categorical=True)\n",
    "\n",
    "# 1️⃣ Train 데이터 학습\n",
    "xgb_model.fit(train_df[features], train_df[target])\n",
    "\n",
    "# 2️⃣ Train 데이터 예측\n",
    "pred_val = xgb_model.predict(valid_df[features])\n",
    "\n",
    "pred_val_exp = exp_transform(pred_val)\n",
    "y_train_exp = exp_transform(valid_df[target])\n",
    "\n",
    "# 3️⃣ Train 성능 평가\n",
    "mse_train = mean_squared_error(y_train_exp, pred_val_exp)\n",
    "rmse_train = np.sqrt(mse_train)\n",
    "mae_train = mean_absolute_error(y_train_exp, pred_val_exp)\n",
    "r2_train = r2_score(y_train_exp, pred_val_exp)\n",
    "mape_train = mean_absolute_percentage_error(y_train_exp, pred_val_exp)\n",
    "\n",
    "print(\"valid 성능:\")\n",
    "print(f\"R2: {r2_train:.4f}, MAE: {mae_train:.2f}, MSE: {mse_train:.2f}, RMSE: {rmse_train:.2f}, MAPE: {mape_train:.2f}%\")\n",
    "\n"
   ]
  },
  {
   "cell_type": "code",
   "execution_count": 108,
   "id": "58372494",
   "metadata": {},
   "outputs": [
    {
     "name": "stdout",
     "output_type": "stream",
     "text": [
      "Test 성능:\n",
      "R2: 0.2054, MAE: 2.89, MSE: 158.69, RMSE: 12.60, MAPE: 4258121525.07%\n"
     ]
    }
   ],
   "source": [
    "# 4️⃣ Test 데이터 예측\n",
    "pred_test = xgb_model.predict(test_df[features])\n",
    "\n",
    "pred_test_exp = exp_transform(pred_test)\n",
    "y_test_exp = exp_transform(test_df[target])\n",
    "\n",
    "# 5️⃣ Test 성능 평가\n",
    "mse_test = mean_squared_error(y_test_exp, pred_test_exp)\n",
    "rmse_test = np.sqrt(mse_test)\n",
    "mae_test = mean_absolute_error(y_test_exp, pred_test_exp)\n",
    "r2_test = r2_score(y_test_exp, pred_test_exp)\n",
    "mape_test = mean_absolute_percentage_error(y_test_exp, pred_test_exp)\n",
    "\n",
    "print(\"Test 성능:\")\n",
    "print(f\"R2: {r2_test:.4f}, MAE: {mae_test:.2f}, MSE: {mse_test:.2f}, RMSE: {rmse_test:.2f}, MAPE: {mape_test:.2f}%\")"
   ]
  },
  {
   "cell_type": "markdown",
   "id": "505bd952",
   "metadata": {},
   "source": [
    "#### LGBM"
   ]
  },
  {
   "cell_type": "code",
   "execution_count": 109,
   "id": "d27fed87",
   "metadata": {},
   "outputs": [
    {
     "name": "stdout",
     "output_type": "stream",
     "text": [
      "[LightGBM] [Info] Auto-choosing row-wise multi-threading, the overhead of testing was 0.001015 seconds.\n",
      "You can set `force_row_wise=true` to remove the overhead.\n",
      "And if memory is not enough, you can set `force_col_wise=true`.\n",
      "[LightGBM] [Info] Total Bins 292\n",
      "[LightGBM] [Info] Number of data points in the train set: 26236, number of used features: 4\n",
      "[LightGBM] [Info] Start training from score 0.324727\n",
      "valid 성능:\n",
      "R2: 0.2253, MAE: 2.20, MSE: 112.49, RMSE: 10.61, MAPE: 1849816450.26%\n"
     ]
    }
   ],
   "source": [
    "import lightgbm as lgb\n",
    "\n",
    "lgb_model = lgb.LGBMRegressor()\n",
    "\n",
    "\n",
    "# 1️⃣ Train 데이터 학습\n",
    "lgb_model.fit(train_df[features], train_df[target])\n",
    "\n",
    "# 2️⃣ Train 데이터 예측\n",
    "pred_val = lgb_model.predict(valid_df[features])\n",
    "\n",
    "pred_val_exp = exp_transform(pred_val)\n",
    "y_train_exp = exp_transform(valid_df[target])\n",
    "\n",
    "# 3️⃣ Train 성능 평가\n",
    "mse_train = mean_squared_error(y_train_exp, pred_val_exp)\n",
    "rmse_train = np.sqrt(mse_train)\n",
    "mae_train = mean_absolute_error(y_train_exp, pred_val_exp)\n",
    "r2_train = r2_score(y_train_exp, pred_val_exp)\n",
    "mape_train = mean_absolute_percentage_error(y_train_exp, pred_val_exp)\n",
    "\n",
    "print(\"valid 성능:\")\n",
    "print(f\"R2: {r2_train:.4f}, MAE: {mae_train:.2f}, MSE: {mse_train:.2f}, RMSE: {rmse_train:.2f}, MAPE: {mape_train:.2f}%\")\n",
    "\n"
   ]
  },
  {
   "cell_type": "code",
   "execution_count": 110,
   "id": "f7b4ad50",
   "metadata": {},
   "outputs": [
    {
     "name": "stdout",
     "output_type": "stream",
     "text": [
      "Test 성능:\n",
      "R2: 0.1899, MAE: 2.79, MSE: 161.78, RMSE: 12.72, MAPE: 2900452557.87%\n"
     ]
    }
   ],
   "source": [
    "# 4️⃣ Test 데이터 예측\n",
    "pred_test = lgb_model.predict(test_df[features])\n",
    "\n",
    "pred_test_exp = exp_transform(pred_test)\n",
    "y_test_exp = exp_transform(test_df[target])\n",
    "\n",
    "# 5️⃣ Test 성능 평가\n",
    "mse_test = mean_squared_error(y_test_exp, pred_test_exp)\n",
    "rmse_test = np.sqrt(mse_test)\n",
    "mae_test = mean_absolute_error(y_test_exp, pred_test_exp)\n",
    "r2_test = r2_score(y_test_exp, pred_test_exp)\n",
    "mape_test = mean_absolute_percentage_error(y_test_exp, pred_test_exp)\n",
    "\n",
    "print(\"Test 성능:\")\n",
    "print(f\"R2: {r2_test:.4f}, MAE: {mae_test:.2f}, MSE: {mse_test:.2f}, RMSE: {rmse_test:.2f}, MAPE: {mape_test:.2f}%\")"
   ]
  },
  {
   "cell_type": "code",
   "execution_count": null,
   "id": "b327332d",
   "metadata": {},
   "outputs": [],
   "source": []
  },
  {
   "cell_type": "markdown",
   "id": "afad7c7d",
   "metadata": {},
   "source": []
  }
 ],
 "metadata": {
  "kernelspec": {
   "display_name": "py38",
   "language": "python",
   "name": "python3"
  },
  "language_info": {
   "codemirror_mode": {
    "name": "ipython",
    "version": 3
   },
   "file_extension": ".py",
   "mimetype": "text/x-python",
   "name": "python",
   "nbconvert_exporter": "python",
   "pygments_lexer": "ipython3",
   "version": "3.8.20"
  }
 },
 "nbformat": 4,
 "nbformat_minor": 5
}
