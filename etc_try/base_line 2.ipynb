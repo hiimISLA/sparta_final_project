{
 "cells": [
  {
   "cell_type": "markdown",
   "id": "11e347cc",
   "metadata": {},
   "source": [
    "- 데이터 보간 후 사용한 결과임\n",
    "- ads_id, mda_id 추가\n",
    "- 시차피처 추가"
   ]
  },
  {
   "cell_type": "code",
   "execution_count": 45,
   "id": "54b00fe0",
   "metadata": {},
   "outputs": [],
   "source": [
    "import pandas as pd\n",
    "import numpy as np\n",
    "import os\n",
    "import pandas as pd\n",
    "import matplotlib.pyplot as plt"
   ]
  },
  {
   "cell_type": "code",
   "execution_count": 46,
   "id": "1f11f39b",
   "metadata": {},
   "outputs": [
    {
     "name": "stderr",
     "output_type": "stream",
     "text": [
      "/var/folders/hl/90p2p86n5cs6t3p_1xwxdx2r0000gn/T/ipykernel_85676/1970805062.py:2: DtypeWarning: Columns (12,13,19) have mixed types. Specify dtype option on import or set low_memory=False.\n",
      "  ads_list = pd.read_csv(\"df_list.csv\")\n"
     ]
    }
   ],
   "source": [
    "ads_year = pd.read_csv(\"아이브1년치_참여데이터.csv\")\n",
    "ads_list = pd.read_csv(\"df_list.csv\")\n"
   ]
  },
  {
   "cell_type": "code",
   "execution_count": 47,
   "id": "ab8bb325",
   "metadata": {},
   "outputs": [
    {
     "name": "stdout",
     "output_type": "stream",
     "text": [
      "<class 'pandas.core.frame.DataFrame'>\n",
      "RangeIndex: 6953146 entries, 0 to 6953145\n",
      "Data columns (total 11 columns):\n",
      " #   Column          Dtype \n",
      "---  ------          ----- \n",
      " 0   Unnamed: 0      int64 \n",
      " 1   rpt_time_date   object\n",
      " 2   rpt_time_time   int64 \n",
      " 3   ads_idx         int64 \n",
      " 4   mda_idx         int64 \n",
      " 5   rpt_time_clk    int64 \n",
      " 6   rpt_time_turn   int64 \n",
      " 7   rpt_time_scost  int64 \n",
      " 8   rpt_time_acost  int64 \n",
      " 9   rpt_time_cost   int64 \n",
      " 10  rpt_time_earn   int64 \n",
      "dtypes: int64(10), object(1)\n",
      "memory usage: 583.5+ MB\n"
     ]
    }
   ],
   "source": [
    "ads_year.info()"
   ]
  },
  {
   "cell_type": "code",
   "execution_count": 48,
   "id": "8aee9209",
   "metadata": {},
   "outputs": [
    {
     "name": "stderr",
     "output_type": "stream",
     "text": [
      "/var/folders/hl/90p2p86n5cs6t3p_1xwxdx2r0000gn/T/ipykernel_85676/556888358.py:5: UserWarning: Could not infer format, so each element will be parsed individually, falling back to `dateutil`. To ensure parsing is consistent and as-expected, please specify a format.\n",
      "  ads_list['ads_edate'] = pd.to_datetime(ads_list['ads_edate'], errors='coerce')\n"
     ]
    }
   ],
   "source": [
    "# 광고목록에서 현재 진행중인 광고 찾기\n",
    "\n",
    "import datetime\n",
    "\n",
    "ads_list['ads_edate'] = pd.to_datetime(ads_list['ads_edate'], errors='coerce')\n",
    "\n",
    "# 2025. 8. 29 전 날짜 삭제\n",
    "compare_date = datetime.date(2025, 8, 29)\n",
    "condition1 = ads_list['ads_edate'].dt.date >= compare_date\n",
    "ads_list_filtered = ads_list[condition1]\n",
    "\n",
    "# delyn이 N인 행만 남기기\n",
    "ads_list_filtered = ads_list_filtered[ads_list_filtered['delyn'] == 'N']\n",
    "\n",
    "\n",
    "ads_list_c = ads_list_filtered[['ads_idx', 'ads_sdate','ads_edate']]\n",
    "\n",
    "# ads_list_c에 있는 ads_idx만 필터링\n",
    "df = ads_year[ads_year['ads_idx'].isin(ads_list_c['ads_idx'])]\n",
    "\n",
    "# 두 데이터 합치기 (ads_idx 기준)\n",
    "# merged_df = pd.merge(df_filtered, ads_list_c, on='ads_idx', how='inner')"
   ]
  },
  {
   "cell_type": "code",
   "execution_count": 49,
   "id": "53bd3a0f",
   "metadata": {},
   "outputs": [
    {
     "name": "stdout",
     "output_type": "stream",
     "text": [
      "클릭수보다 전환수가 큰 행 수 (조정 후): 0\n"
     ]
    }
   ],
   "source": [
    "# 클릭수보다 전환수가 큰 경우 전환수를 클릭수로 맞춤\n",
    "df.loc[\n",
    "    df['rpt_time_turn'] > df['rpt_time_clk'], \n",
    "    'rpt_time_turn'\n",
    "] = df['rpt_time_clk']\n",
    "\n",
    "# 확인\n",
    "over_conversion_after = df[df['rpt_time_turn'] > df['rpt_time_clk']]\n",
    "print(\"클릭수보다 전환수가 큰 행 수 (조정 후):\", len(over_conversion_after))\n"
   ]
  },
  {
   "cell_type": "code",
   "execution_count": 50,
   "id": "aca58645",
   "metadata": {},
   "outputs": [
    {
     "name": "stderr",
     "output_type": "stream",
     "text": [
      "/var/folders/hl/90p2p86n5cs6t3p_1xwxdx2r0000gn/T/ipykernel_85676/3277818209.py:2: SettingWithCopyWarning: \n",
      "A value is trying to be set on a copy of a slice from a DataFrame.\n",
      "Try using .loc[row_indexer,col_indexer] = value instead\n",
      "\n",
      "See the caveats in the documentation: https://pandas.pydata.org/pandas-docs/stable/user_guide/indexing.html#returning-a-view-versus-a-copy\n",
      "  df[\"unique_id\"] = (\n",
      "/var/folders/hl/90p2p86n5cs6t3p_1xwxdx2r0000gn/T/ipykernel_85676/3277818209.py:8: SettingWithCopyWarning: \n",
      "A value is trying to be set on a copy of a slice from a DataFrame.\n",
      "Try using .loc[row_indexer,col_indexer] = value instead\n",
      "\n",
      "See the caveats in the documentation: https://pandas.pydata.org/pandas-docs/stable/user_guide/indexing.html#returning-a-view-versus-a-copy\n",
      "  df[\"unique_id\"] = df[\"unique_id\"].astype(int)\n"
     ]
    }
   ],
   "source": [
    "# 고유 ID 생성: ads_idx와 mda_idx를 결합\n",
    "df[\"unique_id\"] = (\n",
    "    df[\"ads_idx\"].astype(str).str.zfill(6) +   # ads_idx는 항상 6자리\n",
    "    df[\"mda_idx\"].astype(str).str.zfill(4)     # mda_idx는 항상 4자리\n",
    ")\n",
    "\n",
    "# 필요하다면 숫자로 변환\n",
    "df[\"unique_id\"] = df[\"unique_id\"].astype(int)"
   ]
  },
  {
   "cell_type": "code",
   "execution_count": 51,
   "id": "c9790232",
   "metadata": {},
   "outputs": [
    {
     "name": "stderr",
     "output_type": "stream",
     "text": [
      "/var/folders/hl/90p2p86n5cs6t3p_1xwxdx2r0000gn/T/ipykernel_85676/32143721.py:2: SettingWithCopyWarning: \n",
      "A value is trying to be set on a copy of a slice from a DataFrame.\n",
      "Try using .loc[row_indexer,col_indexer] = value instead\n",
      "\n",
      "See the caveats in the documentation: https://pandas.pydata.org/pandas-docs/stable/user_guide/indexing.html#returning-a-view-versus-a-copy\n",
      "  df[\"rpt_time_date\"] = pd.to_datetime(df[\"rpt_time_date\"])\n"
     ]
    }
   ],
   "source": [
    "# rpt_time_date를 datetime으로 변환\n",
    "df[\"rpt_time_date\"] = pd.to_datetime(df[\"rpt_time_date\"])\n",
    "\n",
    "# 그룹화하면서 ads_idx, mda_idx도 첫 번째 값으로 가져오기\n",
    "df_day = (\n",
    "    df.groupby([\"unique_id\", \"rpt_time_date\"], as_index=False)\n",
    "    .agg({\n",
    "        \"rpt_time_turn\": \"sum\",\n",
    "        \"ads_idx\": \"first\",\n",
    "        \"mda_idx\": \"first\"\n",
    "    })\n",
    "    .rename(columns={\"rpt_time_turn\": \"turn_sum\"})\n",
    ")\n"
   ]
  },
  {
   "cell_type": "code",
   "execution_count": 52,
   "id": "014f72de",
   "metadata": {},
   "outputs": [
    {
     "name": "stdout",
     "output_type": "stream",
     "text": [
      "8/27, 8/28, 8/29 중 하나라도 데이터가 있는 광고 수: 1281\n",
      "      unique_id rpt_time_date  turn_sum  ads_idx  mda_idx\n",
      "9113   99820824    2024-08-25         0     9982      824\n",
      "9114   99820824    2024-08-28        10     9982      824\n",
      "9115   99820824    2024-08-29        62     9982      824\n",
      "9116   99820824    2024-08-30        87     9982      824\n",
      "9117   99820824    2024-08-31        85     9982      824\n"
     ]
    }
   ],
   "source": [
    "import pandas as pd\n",
    "\n",
    "# 8/27, 8/28, 8/29 날짜 지정\n",
    "target_dates = pd.to_datetime(['2025-08-27','2025-08-28','2025-08-29'])\n",
    "\n",
    "# 해당 날짜 중 하나라도 있는 광고 ID\n",
    "ads_with_recent = df_day[df_day['rpt_time_date'].isin(target_dates)]['unique_id'].unique()\n",
    "\n",
    "# 해당 광고만 남기기\n",
    "df_day = df_day[df_day['unique_id'].isin(ads_with_recent)]\n",
    "\n",
    "print(\"8/27, 8/28, 8/29 중 하나라도 데이터가 있는 광고 수:\", df_day['unique_id'].nunique())\n",
    "print(df_day.head())\n"
   ]
  },
  {
   "cell_type": "code",
   "execution_count": 53,
   "id": "85aba21a",
   "metadata": {},
   "outputs": [
    {
     "name": "stdout",
     "output_type": "stream",
     "text": [
      "count    1281.000000\n",
      "mean       98.362217\n",
      "std       110.650922\n",
      "min         1.000000\n",
      "25%        18.000000\n",
      "50%        49.000000\n",
      "75%       140.000000\n",
      "max       399.000000\n",
      "Name: rpt_time_date, dtype: float64\n"
     ]
    }
   ],
   "source": [
    "# 광고별 데이터 날짜 길이\n",
    "ad_days = df_day.groupby('unique_id')['rpt_time_date'].nunique()\n",
    "\n",
    "# 통계량 확인\n",
    "stats = ad_days.describe()  # count, mean, std, min, 25%, 50%, 75%, max 포함\n",
    "print(stats)"
   ]
  },
  {
   "cell_type": "code",
   "execution_count": 54,
   "id": "b7a0a10c",
   "metadata": {},
   "outputs": [],
   "source": [
    "# 날짜가 30일 이상인 것만 가져가기 정규분포에 의해서\n",
    "date_counts = df_day.groupby(\"unique_id\")[\"rpt_time_date\"].nunique()\n",
    "valid_ids = date_counts[date_counts >= 30].index\n",
    "df_day = df_day[df_day[\"unique_id\"].isin(valid_ids)]"
   ]
  },
  {
   "cell_type": "code",
   "execution_count": 55,
   "id": "e723e896",
   "metadata": {},
   "outputs": [
    {
     "name": "stdout",
     "output_type": "stream",
     "text": [
      "   unique_id start_date  observed_days  total_days  missing_days\n",
      "0   99820824 2024-08-25            195         370           175\n",
      "1   99820845 2024-09-01            139         363           224\n",
      "2   99820850 2025-03-18             89         165            76\n",
      "3   99820851 2025-03-18             88         165            77\n",
      "4   99820990 2025-03-04             52         179           127\n"
     ]
    }
   ],
   "source": [
    "#### 확인용임!!!!!\n",
    "# 기준 날짜\n",
    "end_date = pd.to_datetime(\"2025-08-29\")\n",
    "\n",
    "# id별 빈 날짜 개수 계산\n",
    "missing_days = (\n",
    "    df_day.groupby(\"unique_id\")\n",
    "    .agg(\n",
    "        start_date=(\"rpt_time_date\", \"min\"),\n",
    "        observed_days=(\"rpt_time_date\", \"nunique\")\n",
    "    )\n",
    "    .reset_index()\n",
    ")\n",
    "\n",
    "# 전체 구간 길이 = (마지막날짜 - 시작날짜 + 1일)\n",
    "missing_days[\"total_days\"] = (end_date - missing_days[\"start_date\"]).dt.days + 1\n",
    "\n",
    "# 빈 날짜 개수\n",
    "missing_days[\"missing_days\"] = missing_days[\"total_days\"] - missing_days[\"observed_days\"]\n",
    "\n",
    "print(missing_days.head())\n"
   ]
  },
  {
   "cell_type": "code",
   "execution_count": 56,
   "id": "108de673",
   "metadata": {},
   "outputs": [
    {
     "name": "stdout",
     "output_type": "stream",
     "text": [
      "   rpt_time_date  unique_id  turn_sum  ads_idx  mda_idx  flag\n",
      "0     2024-08-25   99820824       0.0   9982.0    824.0     1\n",
      "1     2024-08-26   99820824       0.0      NaN      NaN     0\n",
      "2     2024-08-27   99820824       0.0      NaN      NaN     0\n",
      "3     2024-08-28   99820824      10.0   9982.0    824.0     1\n",
      "4     2024-08-29   99820824      62.0   9982.0    824.0     1\n",
      "5     2024-08-30   99820824      87.0   9982.0    824.0     1\n",
      "6     2024-08-31   99820824      85.0   9982.0    824.0     1\n",
      "7     2024-09-01   99820824      43.0   9982.0    824.0     1\n",
      "8     2024-09-02   99820824      42.0   9982.0    824.0     1\n",
      "9     2024-09-03   99820824      36.0   9982.0    824.0     1\n",
      "10    2024-09-04   99820824      61.0   9982.0    824.0     1\n",
      "11    2024-09-05   99820824      32.0   9982.0    824.0     1\n",
      "12    2024-09-06   99820824      44.0   9982.0    824.0     1\n",
      "13    2024-09-07   99820824      35.0   9982.0    824.0     1\n",
      "14    2024-09-08   99820824      70.0   9982.0    824.0     1\n"
     ]
    }
   ],
   "source": [
    "# 데이터 보간 작업 시작.\n",
    "# 오늘 날짜\n",
    "end_date = pd.to_datetime(\"2025-08-29\")\n",
    "\n",
    "filled_list = []\n",
    "\n",
    "for uid, group in df_day.groupby(\"unique_id\"):\n",
    "    # 아이디별 시작 날짜 ~ 8/29까지 생성\n",
    "    start_date = group['rpt_time_date'].min()\n",
    "    all_dates = pd.date_range(start=start_date, end=end_date, freq=\"D\")\n",
    "\n",
    "    # 날짜 기준으로 reindex\n",
    "    g = group.set_index(\"rpt_time_date\").reindex(all_dates)\n",
    "\n",
    "    # flag: 기존 데이터 있으면 1, 없으면 0\n",
    "    g[\"flag\"] = g[\"turn_sum\"].notna().astype(int)\n",
    "\n",
    "    # 원래 값 없던 날은 turn_sum = 0\n",
    "    g[\"turn_sum\"] = g[\"turn_sum\"].fillna(0)\n",
    "\n",
    "    # ID 다시 넣기\n",
    "    g[\"unique_id\"] = uid\n",
    "    g = g.reset_index().rename(columns={\"index\": \"rpt_time_date\"})\n",
    "\n",
    "    filled_list.append(g)\n",
    "\n",
    "df_fill = pd.concat(filled_list, ignore_index=True)\n",
    "\n",
    "print(df_fill.head(15))\n"
   ]
  },
  {
   "cell_type": "code",
   "execution_count": 57,
   "id": "94564e0a",
   "metadata": {},
   "outputs": [
    {
     "name": "stdout",
     "output_type": "stream",
     "text": [
      "<class 'pandas.core.frame.DataFrame'>\n",
      "RangeIndex: 187687 entries, 0 to 187686\n",
      "Data columns (total 6 columns):\n",
      " #   Column         Non-Null Count   Dtype         \n",
      "---  ------         --------------   -----         \n",
      " 0   rpt_time_date  187687 non-null  datetime64[ns]\n",
      " 1   unique_id      187687 non-null  int64         \n",
      " 2   turn_sum       187687 non-null  float64       \n",
      " 3   ads_idx        119111 non-null  float64       \n",
      " 4   mda_idx        119111 non-null  float64       \n",
      " 5   flag           187687 non-null  int64         \n",
      "dtypes: datetime64[ns](1), float64(3), int64(2)\n",
      "memory usage: 8.6 MB\n"
     ]
    }
   ],
   "source": [
    "df_fill.info()"
   ]
  },
  {
   "cell_type": "code",
   "execution_count": 58,
   "id": "31097d57",
   "metadata": {},
   "outputs": [],
   "source": [
    "# unique_id 문자열 변환\n",
    "df_fill[\"unique_id\"] = df_fill[\"unique_id\"].astype(str)\n",
    "\n",
    "# ads_idx가 NaN인 경우에만 채우기\n",
    "df_fill.loc[df_fill[\"ads_idx\"].isna(), \"ads_idx\"] = (\n",
    "    df_fill.loc[df_fill[\"ads_idx\"].isna(), \"unique_id\"].str[:-4].astype(float)\n",
    ")\n",
    "\n",
    "# mda_idx가 NaN인 경우에만 채우기\n",
    "df_fill.loc[df_fill[\"mda_idx\"].isna(), \"mda_idx\"] = (\n",
    "    df_fill.loc[df_fill[\"mda_idx\"].isna(), \"unique_id\"].str[-4:].astype(float)\n",
    ")\n"
   ]
  },
  {
   "cell_type": "code",
   "execution_count": 59,
   "id": "9810349c",
   "metadata": {},
   "outputs": [
    {
     "name": "stdout",
     "output_type": "stream",
     "text": [
      "<class 'pandas.core.frame.DataFrame'>\n",
      "RangeIndex: 187687 entries, 0 to 187686\n",
      "Data columns (total 6 columns):\n",
      " #   Column         Non-Null Count   Dtype         \n",
      "---  ------         --------------   -----         \n",
      " 0   rpt_time_date  187687 non-null  datetime64[ns]\n",
      " 1   unique_id      187687 non-null  object        \n",
      " 2   turn_sum       187687 non-null  float64       \n",
      " 3   ads_idx        187687 non-null  float64       \n",
      " 4   mda_idx        187687 non-null  float64       \n",
      " 5   flag           187687 non-null  int64         \n",
      "dtypes: datetime64[ns](1), float64(3), int64(1), object(1)\n",
      "memory usage: 8.6+ MB\n"
     ]
    }
   ],
   "source": [
    "df_fill.info()"
   ]
  },
  {
   "cell_type": "code",
   "execution_count": 60,
   "id": "6b955073",
   "metadata": {},
   "outputs": [],
   "source": [
    "df_fill['year'] = df_fill['rpt_time_date'].dt.year\n",
    "df_fill['month'] = df_fill['rpt_time_date'].dt.month\n",
    "df_fill['day'] = df_fill['rpt_time_date'].dt.day\n",
    "df_fill[\"unique_id\"] = df_fill[\"unique_id\"].astype(int)"
   ]
  },
  {
   "cell_type": "code",
   "execution_count": 61,
   "id": "7cb2ff11",
   "metadata": {},
   "outputs": [],
   "source": [
    "df_fill[\"turn_sum_log\"] = np.log1p(df_fill[\"turn_sum\"])"
   ]
  },
  {
   "cell_type": "code",
   "execution_count": 62,
   "id": "ad7cdc8b",
   "metadata": {},
   "outputs": [],
   "source": [
    "# category 타입으로 변환\n",
    "df_fill[\"unique_id\"] = df_fill[\"unique_id\"].astype(\"category\")\n",
    "df_fill[\"ads_idx\"] = df_fill[\"ads_idx\"].astype(\"category\")\n",
    "df_fill[\"mda_idx\"] = df_fill[\"mda_idx\"].astype(\"category\")"
   ]
  },
  {
   "cell_type": "code",
   "execution_count": 63,
   "id": "1061fc0e",
   "metadata": {},
   "outputs": [],
   "source": [
    "# 시차피처 하나 생성 ver.\n",
    "# 그룹별 lag feature 생성 (예: 1일, 2일 전 값)\n",
    "df_fill[\"lag1\"] = df_fill.groupby(\"unique_id\")[\"turn_sum_log\"].shift(1)\n",
    "df_fill[\"lag2\"] = df_fill.groupby(\"unique_id\")[\"turn_sum_log\"].shift(2)\n",
    "df_fill[\"lag3\"] = df_fill.groupby(\"unique_id\")[\"turn_sum_log\"].shift(3)"
   ]
  },
  {
   "cell_type": "code",
   "execution_count": 64,
   "id": "10dcb5ed",
   "metadata": {},
   "outputs": [
    {
     "data": {
      "application/vnd.microsoft.datawrangler.viewer.v0+json": {
       "columns": [
        {
         "name": "index",
         "rawType": "int64",
         "type": "integer"
        },
        {
         "name": "rpt_time_date",
         "rawType": "datetime64[ns]",
         "type": "datetime"
        },
        {
         "name": "unique_id",
         "rawType": "category",
         "type": "unknown"
        },
        {
         "name": "turn_sum",
         "rawType": "float64",
         "type": "float"
        },
        {
         "name": "ads_idx",
         "rawType": "category",
         "type": "unknown"
        },
        {
         "name": "mda_idx",
         "rawType": "category",
         "type": "unknown"
        },
        {
         "name": "flag",
         "rawType": "int64",
         "type": "integer"
        },
        {
         "name": "year",
         "rawType": "int32",
         "type": "integer"
        },
        {
         "name": "month",
         "rawType": "int32",
         "type": "integer"
        },
        {
         "name": "day",
         "rawType": "int32",
         "type": "integer"
        },
        {
         "name": "turn_sum_log",
         "rawType": "float64",
         "type": "float"
        },
        {
         "name": "lag1",
         "rawType": "float64",
         "type": "float"
        },
        {
         "name": "lag2",
         "rawType": "float64",
         "type": "float"
        },
        {
         "name": "lag3",
         "rawType": "float64",
         "type": "float"
        }
       ],
       "ref": "50e9ef6d-584e-48a1-afba-fbcff089fd68",
       "rows": [
        [
         "0",
         "2024-08-25 00:00:00",
         "99820824",
         "0.0",
         "9982.0",
         "824.0",
         "1",
         "2024",
         "8",
         "25",
         "0.0",
         null,
         null,
         null
        ],
        [
         "1",
         "2024-08-26 00:00:00",
         "99820824",
         "0.0",
         "9982.0",
         "824.0",
         "0",
         "2024",
         "8",
         "26",
         "0.0",
         "0.0",
         null,
         null
        ],
        [
         "2",
         "2024-08-27 00:00:00",
         "99820824",
         "0.0",
         "9982.0",
         "824.0",
         "0",
         "2024",
         "8",
         "27",
         "0.0",
         "0.0",
         "0.0",
         null
        ],
        [
         "3",
         "2024-08-28 00:00:00",
         "99820824",
         "10.0",
         "9982.0",
         "824.0",
         "1",
         "2024",
         "8",
         "28",
         "2.3978952727983707",
         "0.0",
         "0.0",
         "0.0"
        ],
        [
         "4",
         "2024-08-29 00:00:00",
         "99820824",
         "62.0",
         "9982.0",
         "824.0",
         "1",
         "2024",
         "8",
         "29",
         "4.143134726391533",
         "2.3978952727983707",
         "0.0",
         "0.0"
        ]
       ],
       "shape": {
        "columns": 13,
        "rows": 5
       }
      },
      "text/html": [
       "<div>\n",
       "<style scoped>\n",
       "    .dataframe tbody tr th:only-of-type {\n",
       "        vertical-align: middle;\n",
       "    }\n",
       "\n",
       "    .dataframe tbody tr th {\n",
       "        vertical-align: top;\n",
       "    }\n",
       "\n",
       "    .dataframe thead th {\n",
       "        text-align: right;\n",
       "    }\n",
       "</style>\n",
       "<table border=\"1\" class=\"dataframe\">\n",
       "  <thead>\n",
       "    <tr style=\"text-align: right;\">\n",
       "      <th></th>\n",
       "      <th>rpt_time_date</th>\n",
       "      <th>unique_id</th>\n",
       "      <th>turn_sum</th>\n",
       "      <th>ads_idx</th>\n",
       "      <th>mda_idx</th>\n",
       "      <th>flag</th>\n",
       "      <th>year</th>\n",
       "      <th>month</th>\n",
       "      <th>day</th>\n",
       "      <th>turn_sum_log</th>\n",
       "      <th>lag1</th>\n",
       "      <th>lag2</th>\n",
       "      <th>lag3</th>\n",
       "    </tr>\n",
       "  </thead>\n",
       "  <tbody>\n",
       "    <tr>\n",
       "      <th>0</th>\n",
       "      <td>2024-08-25</td>\n",
       "      <td>99820824</td>\n",
       "      <td>0.0</td>\n",
       "      <td>9982.0</td>\n",
       "      <td>824.0</td>\n",
       "      <td>1</td>\n",
       "      <td>2024</td>\n",
       "      <td>8</td>\n",
       "      <td>25</td>\n",
       "      <td>0.000000</td>\n",
       "      <td>NaN</td>\n",
       "      <td>NaN</td>\n",
       "      <td>NaN</td>\n",
       "    </tr>\n",
       "    <tr>\n",
       "      <th>1</th>\n",
       "      <td>2024-08-26</td>\n",
       "      <td>99820824</td>\n",
       "      <td>0.0</td>\n",
       "      <td>9982.0</td>\n",
       "      <td>824.0</td>\n",
       "      <td>0</td>\n",
       "      <td>2024</td>\n",
       "      <td>8</td>\n",
       "      <td>26</td>\n",
       "      <td>0.000000</td>\n",
       "      <td>0.000000</td>\n",
       "      <td>NaN</td>\n",
       "      <td>NaN</td>\n",
       "    </tr>\n",
       "    <tr>\n",
       "      <th>2</th>\n",
       "      <td>2024-08-27</td>\n",
       "      <td>99820824</td>\n",
       "      <td>0.0</td>\n",
       "      <td>9982.0</td>\n",
       "      <td>824.0</td>\n",
       "      <td>0</td>\n",
       "      <td>2024</td>\n",
       "      <td>8</td>\n",
       "      <td>27</td>\n",
       "      <td>0.000000</td>\n",
       "      <td>0.000000</td>\n",
       "      <td>0.0</td>\n",
       "      <td>NaN</td>\n",
       "    </tr>\n",
       "    <tr>\n",
       "      <th>3</th>\n",
       "      <td>2024-08-28</td>\n",
       "      <td>99820824</td>\n",
       "      <td>10.0</td>\n",
       "      <td>9982.0</td>\n",
       "      <td>824.0</td>\n",
       "      <td>1</td>\n",
       "      <td>2024</td>\n",
       "      <td>8</td>\n",
       "      <td>28</td>\n",
       "      <td>2.397895</td>\n",
       "      <td>0.000000</td>\n",
       "      <td>0.0</td>\n",
       "      <td>0.0</td>\n",
       "    </tr>\n",
       "    <tr>\n",
       "      <th>4</th>\n",
       "      <td>2024-08-29</td>\n",
       "      <td>99820824</td>\n",
       "      <td>62.0</td>\n",
       "      <td>9982.0</td>\n",
       "      <td>824.0</td>\n",
       "      <td>1</td>\n",
       "      <td>2024</td>\n",
       "      <td>8</td>\n",
       "      <td>29</td>\n",
       "      <td>4.143135</td>\n",
       "      <td>2.397895</td>\n",
       "      <td>0.0</td>\n",
       "      <td>0.0</td>\n",
       "    </tr>\n",
       "  </tbody>\n",
       "</table>\n",
       "</div>"
      ],
      "text/plain": [
       "  rpt_time_date unique_id  turn_sum ads_idx mda_idx  flag  year  month  day  \\\n",
       "0    2024-08-25  99820824       0.0  9982.0   824.0     1  2024      8   25   \n",
       "1    2024-08-26  99820824       0.0  9982.0   824.0     0  2024      8   26   \n",
       "2    2024-08-27  99820824       0.0  9982.0   824.0     0  2024      8   27   \n",
       "3    2024-08-28  99820824      10.0  9982.0   824.0     1  2024      8   28   \n",
       "4    2024-08-29  99820824      62.0  9982.0   824.0     1  2024      8   29   \n",
       "\n",
       "   turn_sum_log      lag1  lag2  lag3  \n",
       "0      0.000000       NaN   NaN   NaN  \n",
       "1      0.000000  0.000000   NaN   NaN  \n",
       "2      0.000000  0.000000   0.0   NaN  \n",
       "3      2.397895  0.000000   0.0   0.0  \n",
       "4      4.143135  2.397895   0.0   0.0  "
      ]
     },
     "execution_count": 64,
     "metadata": {},
     "output_type": "execute_result"
    }
   ],
   "source": [
    "df_fill.head()"
   ]
  },
  {
   "cell_type": "code",
   "execution_count": 65,
   "id": "bb2cd362",
   "metadata": {},
   "outputs": [],
   "source": [
    "df_fill = df_fill.dropna()"
   ]
  },
  {
   "cell_type": "code",
   "execution_count": 66,
   "id": "d61dd58c",
   "metadata": {},
   "outputs": [
    {
     "name": "stdout",
     "output_type": "stream",
     "text": [
      "<class 'pandas.core.frame.DataFrame'>\n",
      "Index: 185347 entries, 3 to 187686\n",
      "Data columns (total 13 columns):\n",
      " #   Column         Non-Null Count   Dtype         \n",
      "---  ------         --------------   -----         \n",
      " 0   rpt_time_date  185347 non-null  datetime64[ns]\n",
      " 1   unique_id      185347 non-null  category      \n",
      " 2   turn_sum       185347 non-null  float64       \n",
      " 3   ads_idx        185347 non-null  category      \n",
      " 4   mda_idx        185347 non-null  category      \n",
      " 5   flag           185347 non-null  int64         \n",
      " 6   year           185347 non-null  int32         \n",
      " 7   month          185347 non-null  int32         \n",
      " 8   day            185347 non-null  int32         \n",
      " 9   turn_sum_log   185347 non-null  float64       \n",
      " 10  lag1           185347 non-null  float64       \n",
      " 11  lag2           185347 non-null  float64       \n",
      " 12  lag3           185347 non-null  float64       \n",
      "dtypes: category(3), datetime64[ns](1), float64(5), int32(3), int64(1)\n",
      "memory usage: 14.4 MB\n"
     ]
    }
   ],
   "source": [
    "df_fill.info()"
   ]
  },
  {
   "cell_type": "code",
   "execution_count": null,
   "id": "522630cb",
   "metadata": {},
   "outputs": [],
   "source": []
  },
  {
   "cell_type": "markdown",
   "id": "53b0bd30",
   "metadata": {},
   "source": [
    "## 데이터 분리"
   ]
  },
  {
   "cell_type": "code",
   "execution_count": 67,
   "id": "0851bdd8",
   "metadata": {},
   "outputs": [
    {
     "name": "stdout",
     "output_type": "stream",
     "text": [
      "Train shape: (184567, 13)\n",
      "Valid shape: (780, 13)\n",
      "Test shape: (780, 13)\n"
     ]
    }
   ],
   "source": [
    "train_list = []\n",
    "valid_list = []\n",
    "test_list = []\n",
    "\n",
    "for ad_id, group in df_fill.groupby(\"unique_id\"):\n",
    "    group = group.sort_values(\"rpt_time_date\")\n",
    "    \n",
    "    # 마지막 1일 예측 → test, 그 전날 1일 → valid, 나머지 → train\n",
    "    test = group.tail(1)\n",
    "    valid = group.iloc[-2:-1]\n",
    "    train = group.iloc[:-1]\n",
    "    \n",
    "    train_list.append(train)\n",
    "    valid_list.append(valid)\n",
    "    test_list.append(test)\n",
    "\n",
    "train_df = pd.concat(train_list)\n",
    "valid_df = pd.concat(valid_list)\n",
    "test_df = pd.concat(test_list)\n",
    "\n",
    "print(\"Train shape:\", train_df.shape)\n",
    "print(\"Valid shape:\", valid_df.shape)\n",
    "print(\"Test shape:\", test_df.shape)\n"
   ]
  },
  {
   "cell_type": "code",
   "execution_count": 68,
   "id": "0222dac1",
   "metadata": {},
   "outputs": [],
   "source": [
    "features = ['year','month','day','unique_id','ads_idx','mda_idx','flag','lag1', 'lag2', 'lag3']  # 필요하면 요일/월 등 추가 가능\n",
    "target = \"turn_sum_log\""
   ]
  },
  {
   "cell_type": "code",
   "execution_count": null,
   "id": "2c444239",
   "metadata": {},
   "outputs": [],
   "source": []
  },
  {
   "cell_type": "markdown",
   "id": "dbc5fc04",
   "metadata": {},
   "source": [
    "## 평가함수"
   ]
  },
  {
   "cell_type": "code",
   "execution_count": 69,
   "id": "30c18b23",
   "metadata": {},
   "outputs": [],
   "source": [
    "# 로그변환된 target을 지수변환하기 위한 함수\n",
    "def exp_transform(y):\n",
    "    return np.expm1(y)  # log1p -> expm1, 0 값도 안전하게 처리\n",
    "\n",
    "# MAPE 계산 함수\n",
    "def mean_absolute_percentage_error(y_true, y_pred):\n",
    "    y_true, y_pred = np.array(y_true), np.array(y_pred)\n",
    "    return np.mean(np.abs((y_true - y_pred) / np.clip(y_true, 1e-8, None))) * 100"
   ]
  },
  {
   "cell_type": "markdown",
   "id": "5bd17eec",
   "metadata": {},
   "source": [
    "## 모델"
   ]
  },
  {
   "cell_type": "markdown",
   "id": "a15a55c4",
   "metadata": {},
   "source": [
    "### 랜덤포레스트"
   ]
  },
  {
   "cell_type": "code",
   "execution_count": 70,
   "id": "954edcb0",
   "metadata": {},
   "outputs": [
    {
     "name": "stdout",
     "output_type": "stream",
     "text": [
      "valid 성능:\n",
      "R2: 0.7984, MAE: 1.22, MSE: 37.47, RMSE: 6.12, MAPE: 245300940.58%\n"
     ]
    }
   ],
   "source": [
    "from sklearn.ensemble import RandomForestRegressor\n",
    "from sklearn.metrics import mean_squared_error, mean_absolute_error, r2_score\n",
    "import numpy as np\n",
    "\n",
    "\n",
    "# 모델 초기화\n",
    "rf = RandomForestRegressor(random_state=42)\n",
    "\n",
    "# 1️⃣ Train 데이터 학습\n",
    "rf.fit(train_df[features], train_df[target])\n",
    "\n",
    "# 2️⃣ Train 데이터 예측\n",
    "pred_val = rf.predict(valid_df[features])\n",
    "\n",
    "pred_val_exp = exp_transform(pred_val)\n",
    "y_train_exp = exp_transform(valid_df[target])\n",
    "\n",
    "# 3️⃣ Train 성능 평가\n",
    "mse_train = mean_squared_error(y_train_exp, pred_val_exp)\n",
    "rmse_train = np.sqrt(mse_train)\n",
    "mae_train = mean_absolute_error(y_train_exp, pred_val_exp)\n",
    "r2_train = r2_score(y_train_exp, pred_val_exp)\n",
    "mape_train = mean_absolute_percentage_error(y_train_exp, pred_val_exp)\n",
    "\n",
    "print(\"valid 성능:\")\n",
    "print(f\"R2: {r2_train:.4f}, MAE: {mae_train:.2f}, MSE: {mse_train:.2f}, RMSE: {rmse_train:.2f}, MAPE: {mape_train:.2f}%\")\n",
    "\n"
   ]
  },
  {
   "cell_type": "code",
   "execution_count": 71,
   "id": "a8f65672",
   "metadata": {},
   "outputs": [
    {
     "name": "stdout",
     "output_type": "stream",
     "text": [
      "Test 성능:\n",
      "R2: 0.7327, MAE: 2.38, MSE: 73.80, RMSE: 8.59, MAPE: 1193139863.07%\n"
     ]
    }
   ],
   "source": [
    "# 4️⃣ Test 데이터 예측\n",
    "pred_test = rf.predict(test_df[features])\n",
    "\n",
    "pred_test_exp = exp_transform(pred_test)\n",
    "y_test_exp = exp_transform(test_df[target])\n",
    "\n",
    "# 5️⃣ Test 성능 평가\n",
    "mse_test = mean_squared_error(y_test_exp, pred_test_exp)\n",
    "rmse_test = np.sqrt(mse_test)\n",
    "mae_test = mean_absolute_error(y_test_exp, pred_test_exp)\n",
    "r2_test = r2_score(y_test_exp, pred_test_exp)\n",
    "mape_test = mean_absolute_percentage_error(y_test_exp, pred_test_exp)\n",
    "\n",
    "print(\"Test 성능:\")\n",
    "print(f\"R2: {r2_test:.4f}, MAE: {mae_test:.2f}, MSE: {mse_test:.2f}, RMSE: {rmse_test:.2f}, MAPE: {mape_test:.2f}%\")"
   ]
  },
  {
   "cell_type": "markdown",
   "id": "51463a23",
   "metadata": {},
   "source": [
    "### XGBoost"
   ]
  },
  {
   "cell_type": "code",
   "execution_count": 72,
   "id": "c672207a",
   "metadata": {},
   "outputs": [
    {
     "name": "stdout",
     "output_type": "stream",
     "text": [
      "valid 성능:\n",
      "R2: 0.7739, MAE: 1.86, MSE: 42.02, RMSE: 6.48, MAPE: 693778241.77%\n"
     ]
    }
   ],
   "source": [
    "import xgboost as xgb\n",
    "\n",
    "# 모델 초기화\n",
    "xgb_model = xgb.XGBRegressor(enable_categorical=True, random_state=42)\n",
    "\n",
    "# 1️⃣ Train 데이터 학습\n",
    "xgb_model.fit(train_df[features], train_df[target])\n",
    "\n",
    "# 2️⃣ Train 데이터 예측\n",
    "pred_val = xgb_model.predict(valid_df[features])\n",
    "\n",
    "pred_val_exp = exp_transform(pred_val)\n",
    "y_train_exp = exp_transform(valid_df[target])\n",
    "\n",
    "# 3️⃣ Train 성능 평가\n",
    "mse_train = mean_squared_error(y_train_exp, pred_val_exp)\n",
    "rmse_train = np.sqrt(mse_train)\n",
    "mae_train = mean_absolute_error(y_train_exp, pred_val_exp)\n",
    "r2_train = r2_score(y_train_exp, pred_val_exp)\n",
    "mape_train = mean_absolute_percentage_error(y_train_exp, pred_val_exp)\n",
    "\n",
    "print(\"valid 성능:\")\n",
    "print(f\"R2: {r2_train:.4f}, MAE: {mae_train:.2f}, MSE: {mse_train:.2f}, RMSE: {rmse_train:.2f}, MAPE: {mape_train:.2f}%\")\n",
    "\n"
   ]
  },
  {
   "cell_type": "code",
   "execution_count": 73,
   "id": "9f1c4f16",
   "metadata": {},
   "outputs": [
    {
     "name": "stdout",
     "output_type": "stream",
     "text": [
      "Test 성능:\n",
      "R2: 0.6557, MAE: 2.65, MSE: 95.07, RMSE: 9.75, MAPE: 1207169964.32%\n"
     ]
    }
   ],
   "source": [
    "# 4️⃣ Test 데이터 예측\n",
    "pred_test = xgb_model.predict(test_df[features])\n",
    "\n",
    "pred_test_exp = exp_transform(pred_test)\n",
    "y_test_exp = exp_transform(test_df[target])\n",
    "\n",
    "# 5️⃣ Test 성능 평가\n",
    "mse_test = mean_squared_error(y_test_exp, pred_test_exp)\n",
    "rmse_test = np.sqrt(mse_test)\n",
    "mae_test = mean_absolute_error(y_test_exp, pred_test_exp)\n",
    "r2_test = r2_score(y_test_exp, pred_test_exp)\n",
    "mape_test = mean_absolute_percentage_error(y_test_exp, pred_test_exp)\n",
    "\n",
    "print(\"Test 성능:\")\n",
    "print(f\"R2: {r2_test:.4f}, MAE: {mae_test:.2f}, MSE: {mse_test:.2f}, RMSE: {rmse_test:.2f}, MAPE: {mape_test:.2f}%\")"
   ]
  },
  {
   "cell_type": "markdown",
   "id": "611a4fa7",
   "metadata": {},
   "source": [
    "### lgbm"
   ]
  },
  {
   "cell_type": "code",
   "execution_count": 74,
   "id": "3fcb0724",
   "metadata": {},
   "outputs": [
    {
     "name": "stdout",
     "output_type": "stream",
     "text": [
      "[LightGBM] [Warning] Categorical features with more bins than the configured maximum bin number found.\n",
      "[LightGBM] [Warning] For categorical features, max_bin and max_bin_by_feature may be ignored with a large number of categories.\n",
      "[LightGBM] [Info] Auto-choosing row-wise multi-threading, the overhead of testing was 0.006302 seconds.\n",
      "You can set `force_row_wise=true` to remove the overhead.\n",
      "And if memory is not enough, you can set `force_col_wise=true`.\n",
      "[LightGBM] [Info] Total Bins 1944\n",
      "[LightGBM] [Info] Number of data points in the train set: 184567, number of used features: 10\n",
      "[LightGBM] [Info] Start training from score 0.469184\n",
      "valid 성능:\n",
      "R2: 0.3735, MAE: 2.52, MSE: 116.43, RMSE: 10.79, MAPE: 893584847.07%\n"
     ]
    }
   ],
   "source": [
    "import lightgbm as lgb\n",
    "\n",
    "lgb_model = lgb.LGBMRegressor(random_state=42)\n",
    "\n",
    "\n",
    "# 1️⃣ Train 데이터 학습\n",
    "lgb_model.fit(train_df[features], train_df[target])\n",
    "\n",
    "# 2️⃣ Train 데이터 예측\n",
    "pred_val = lgb_model.predict(valid_df[features])\n",
    "\n",
    "pred_val_exp = exp_transform(pred_val)\n",
    "y_train_exp = exp_transform(valid_df[target])\n",
    "\n",
    "# 3️⃣ Train 성능 평가\n",
    "mse_train = mean_squared_error(y_train_exp, pred_val_exp)\n",
    "rmse_train = np.sqrt(mse_train)\n",
    "mae_train = mean_absolute_error(y_train_exp, pred_val_exp)\n",
    "r2_train = r2_score(y_train_exp, pred_val_exp)\n",
    "mape_train = mean_absolute_percentage_error(y_train_exp, pred_val_exp)\n",
    "\n",
    "print(\"valid 성능:\")\n",
    "print(f\"R2: {r2_train:.4f}, MAE: {mae_train:.2f}, MSE: {mse_train:.2f}, RMSE: {rmse_train:.2f}, MAPE: {mape_train:.2f}%\")\n",
    "\n"
   ]
  },
  {
   "cell_type": "code",
   "execution_count": 75,
   "id": "0b1dd168",
   "metadata": {},
   "outputs": [
    {
     "name": "stdout",
     "output_type": "stream",
     "text": [
      "Test 성능:\n",
      "R2: 0.6927, MAE: 2.52, MSE: 84.86, RMSE: 9.21, MAPE: 1096300020.31%\n"
     ]
    }
   ],
   "source": [
    "# 4️⃣ Test 데이터 예측\n",
    "pred_test = lgb_model.predict(test_df[features])\n",
    "\n",
    "pred_test_exp = exp_transform(pred_test)\n",
    "y_test_exp = exp_transform(test_df[target])\n",
    "\n",
    "# 5️⃣ Test 성능 평가\n",
    "mse_test = mean_squared_error(y_test_exp, pred_test_exp)\n",
    "rmse_test = np.sqrt(mse_test)\n",
    "mae_test = mean_absolute_error(y_test_exp, pred_test_exp)\n",
    "r2_test = r2_score(y_test_exp, pred_test_exp)\n",
    "mape_test = mean_absolute_percentage_error(y_test_exp, pred_test_exp)\n",
    "\n",
    "print(\"Test 성능:\")\n",
    "print(f\"R2: {r2_test:.4f}, MAE: {mae_test:.2f}, MSE: {mse_test:.2f}, RMSE: {rmse_test:.2f}, MAPE: {mape_test:.2f}%\")"
   ]
  },
  {
   "cell_type": "code",
   "execution_count": null,
   "id": "d443395c",
   "metadata": {},
   "outputs": [],
   "source": []
  }
 ],
 "metadata": {
  "kernelspec": {
   "display_name": "py38",
   "language": "python",
   "name": "python3"
  },
  "language_info": {
   "codemirror_mode": {
    "name": "ipython",
    "version": 3
   },
   "file_extension": ".py",
   "mimetype": "text/x-python",
   "name": "python",
   "nbconvert_exporter": "python",
   "pygments_lexer": "ipython3",
   "version": "3.8.20"
  }
 },
 "nbformat": 4,
 "nbformat_minor": 5
}
