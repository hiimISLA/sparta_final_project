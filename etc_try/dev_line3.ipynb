{
 "cells": [
  {
   "cell_type": "markdown",
   "id": "11e347cc",
   "metadata": {},
   "source": [
    "- 원본임.\n",
    "- 보간 이후 30일 정제"
   ]
  },
  {
   "cell_type": "code",
   "execution_count": 1,
   "id": "54b00fe0",
   "metadata": {},
   "outputs": [],
   "source": [
    "import pandas as pd\n",
    "import numpy as np\n",
    "import os\n",
    "import pandas as pd\n",
    "import matplotlib.pyplot as plt"
   ]
  },
  {
   "cell_type": "code",
   "execution_count": 2,
   "id": "1f11f39b",
   "metadata": {},
   "outputs": [
    {
     "name": "stderr",
     "output_type": "stream",
     "text": [
      "/var/folders/hl/90p2p86n5cs6t3p_1xwxdx2r0000gn/T/ipykernel_64417/3084689073.py:2: DtypeWarning: Columns (12,13,18,19) have mixed types. Specify dtype option on import or set low_memory=False.\n",
      "  ads_list = pd.read_csv(\"df_list_v1.csv\")\n"
     ]
    }
   ],
   "source": [
    "ads_year = pd.read_csv(\"df_rpt_clean.csv\")\n",
    "ads_list = pd.read_csv(\"df_list_v1.csv\")\n"
   ]
  },
  {
   "cell_type": "code",
   "execution_count": 3,
   "id": "5127098f",
   "metadata": {},
   "outputs": [],
   "source": [
    "is_test_ad = ads_list[\"ads_name\"].str.contains(\"테스트|서비스종료|삭제\", na=False, case=False)\n",
    "is_valid_test_ad = ads_list[\"ads_name\"].str.contains(\"브레인 테스트|게임테스트\", na=False, case=False)\n",
    "condition_to_delete = is_test_ad & ~is_valid_test_ad\n",
    "ads_list = ads_list[~condition_to_delete].copy()"
   ]
  },
  {
   "cell_type": "code",
   "execution_count": 4,
   "id": "390ca8ca",
   "metadata": {},
   "outputs": [
    {
     "name": "stdout",
     "output_type": "stream",
     "text": [
      "✅ '금융/보험' 카테고리 분류 완료! (1976개 적용, 제외 키워드: ['고양이', '차차차', '중고차', 'Idle'])\n",
      "✅ '게임' 카테고리 분류 완료! (5325개 적용, 제외 키워드: ['프리다이빙'])\n",
      "✅ '상품소비' 카테고리 분류 완료! (68743개 적용, 제외 키워드: ['연남동 스튜디오'])\n"
     ]
    },
    {
     "name": "stderr",
     "output_type": "stream",
     "text": [
      "/var/folders/hl/90p2p86n5cs6t3p_1xwxdx2r0000gn/T/ipykernel_64417/539223651.py:23: UserWarning: This pattern is interpreted as a regular expression, and has match groups. To actually get the groups, use str.extract.\n",
      "  lambda col: col.str.contains(keyword_pattern, na=False)\n"
     ]
    },
    {
     "name": "stdout",
     "output_type": "stream",
     "text": [
      "✅ '생활서비스' 카테고리 분류 완료! (63232개 적용, 제외 키워드: [])\n",
      "✅ '플랫폼' 카테고리 분류 완료! (1017개 적용, 제외 키워드: [])\n",
      "✅ 'SNS/커뮤니케이션' 카테고리 분류 완료! (3774개 적용, 제외 키워드: [])\n",
      "✅ '콘텐츠' 카테고리 분류 완료! (382개 적용, 제외 키워드: [])\n",
      "✅ '앱테크/리워드' 카테고리 분류 완료! (297개 적용, 제외 키워드: [])\n",
      "✅ '유틸리티/툴' 카테고리 분류 완료! (637개 적용, 제외 키워드: [])\n",
      "✅ '지역/상점' 카테고리 분류 완료! (82483개 적용, 제외 키워드: [])\n",
      "✅ '기타' 카테고리 분류 완료! (4491개 적용, 제외 키워드: [])\n",
      "\n",
      "--- 분류되지 않은 데이터 개수 ---\n",
      "미분류 데이터: 0개\n",
      "\n",
      "--- 전체 도메인 분류 현황 ---\n",
      "domain\n",
      "기타            217206\n",
      "지역/상점          82483\n",
      "상품소비           68743\n",
      "생활서비스          63232\n",
      "게임              5325\n",
      "SNS/커뮤니케이션      3774\n",
      "금융/보험           1976\n",
      "플랫폼             1017\n",
      "유틸리티/툴           637\n",
      "콘텐츠              382\n",
      "앱테크/리워드          297\n",
      "Name: count, dtype: int64\n",
      "\n",
      "--- 각 도메인별 샘플 데이터 ---\n",
      "\n",
      "✅ '기타'으로 분류된 데이터:\n",
      "               ads_name domain\n",
      "0              리니지레드나이츠     기타\n",
      "1  강철의함대:Ocean Overlord     기타\n",
      "2              스노우 SNOW     기타\n",
      "4                  하이마트     기타\n",
      "6                오늘도 환생     기타\n",
      "\n",
      "✅ '생활서비스'으로 분류된 데이터:\n",
      "           ads_name domain\n",
      "3   서머너즈 워: 천공의 아레나  생활서비스\n",
      "5                다음  생활서비스\n",
      "34               쿠차  생활서비스\n",
      "44        뷰티세이 회원가입  생활서비스\n",
      "51       오브라이트_회원가입  생활서비스\n",
      "\n",
      "✅ '게임'으로 분류된 데이터:\n",
      "                        ads_name domain\n",
      "7   데저트스톰_사전예약(desert_storm_cpa)     게임\n",
      "18      비밀의탑: 500층의 비밀 (방치형 RPG)     게임\n",
      "19         게임폴더 - 플레이만 해도 돈이 쌓인다     게임\n",
      "27                   메탈크래쉬[원스토어]     게임\n",
      "57            파라몬 : 몬스터 클래시_원스토어     게임\n",
      "\n",
      "✅ '금융/보험'으로 분류된 데이터:\n",
      "                       ads_name domain\n",
      "29   비트코인 NO.1 거래소 빗썸(가입형) _aos  금융/보험\n",
      "31   비트코인 NO.1 거래소 빗썸(가입형) _ios  금융/보험\n",
      "101     크루즈피싱(Cruise Fishing)AR  금융/보험\n",
      "131            동부화재 다이렉트 자동차보험   금융/보험\n",
      "203                  삼성화재실비보험_1  금융/보험\n",
      "\n",
      "✅ '콘텐츠'으로 분류된 데이터:\n",
      "                     ads_name domain\n",
      "33       투믹스 - 웹툰 (무료웹툰/인기만화)    콘텐츠\n",
      "35   투믹스 - 웹툰 (무료웹툰/인기만화)_IOS    콘텐츠\n",
      "423        프리미엄 웹툰 포인트 교환 이벤트    콘텐츠\n",
      "776            프리미엄 웹툰 포인트 교환    콘텐츠\n",
      "927                  TikTok틱톡    콘텐츠\n",
      "\n",
      "✅ '상품소비'으로 분류된 데이터:\n",
      "                       ads_name domain\n",
      "48   Hidden Money By My Husband   상품소비\n",
      "219           영화예매권 OK캐쉬백 포인트교환   상품소비\n",
      "242               LG전자 : 멤버십 가입   상품소비\n",
      "318                  풀케어 (회원가입)   상품소비\n",
      "347                         G마켓   상품소비\n",
      "\n",
      "✅ '지역/상점'으로 분류된 데이터:\n",
      "             ads_name domain\n",
      "49         이지체크 핫플레이스  지역/상점\n",
      "182        서정한의원_NCPI  지역/상점\n",
      "296           서정한의원_2  지역/상점\n",
      "564  3D지도 아틀란 : 네비게이션  지역/상점\n",
      "932         착한의사(병원용)  지역/상점\n",
      "\n",
      "✅ 'SNS/커뮤니케이션'으로 분류된 데이터:\n",
      "                       ads_name      domain\n",
      "74                          온동네  SNS/커뮤니케이션\n",
      "97   당연시 - 당신도 연애를 시작할때, 미팅/소개팅  SNS/커뮤니케이션\n",
      "192               하이마트 페이스북 좋아요  SNS/커뮤니케이션\n",
      "240                SK장기렌터카 상담신청  SNS/커뮤니케이션\n",
      "265              하이마트 인스타그램 팔로우  SNS/커뮤니케이션\n",
      "\n",
      "✅ '앱테크/리워드'으로 분류된 데이터:\n",
      "                           ads_name   domain\n",
      "271         러브콜캐시 - 돈버는커플전화,데이트비용극복  앱테크/리워드\n",
      "554               짤(ZZAL)-포인트가 현금이다  앱테크/리워드\n",
      "774         짤(ZZAL)-문상이 내거 되는 시간 1분  앱테크/리워드\n",
      "832  짤(ZZAL)–문상이 내거 되는 시간 1분-카카오페이지  앱테크/리워드\n",
      "964                       돈버는어플 캐시백  앱테크/리워드\n",
      "\n",
      "✅ '유틸리티/툴'으로 분류된 데이터:\n",
      "                ads_name  domain\n",
      "969                 현대카드  유틸리티/툴\n",
      "1151            젠틀가이젠틀가이  유틸리티/툴\n",
      "1165            고양어린이박물관  유틸리티/툴\n",
      "1188  이정환 원장의 자가면역 TALK   유틸리티/툴\n",
      "1189   이정환 원장의 자가면역 TALK  유틸리티/툴\n",
      "\n",
      "✅ '플랫폼'으로 분류된 데이터:\n",
      "                          ads_name domain\n",
      "970                    현대백화점 더현대닷컴    플랫폼\n",
      "989                        아이템매니아     플랫폼\n",
      "1127                         롯데백화점    플랫폼\n",
      "1540  SSG.COM - 백화점에서 이마트까지 쓱- 한번에    플랫폼\n",
      "1566                   현대백화점 더현대닷컴    플랫폼\n"
     ]
    }
   ],
   "source": [
    "# --- 분류 함수 (제외 키워드 적용) ---\n",
    "\n",
    "def categorize_domain(df, domain_name, keywords, search_cols, exclude_keywords=None):\n",
    "    \"\"\"\n",
    "    DataFrame의 지정된 열(search_cols)에서 키워드를 찾아 \n",
    "    새로운 도메인을 부여하는 함수입니다. (제외 키워드 적용)\n",
    "    \n",
    "    Args:\n",
    "        df (pd.DataFrame): 작업할 데이터프레임\n",
    "        domain_name (str): 새로 부여할 도메인 이름 (예: '금융/보험')\n",
    "        keywords (list): 찾을 키워드 리스트 (예: ['피싱', '보험'])\n",
    "        search_cols (list): 키워드를 검색할 열 이름 리스트 (예: ['ads_name', 'ads_summary'])\n",
    "        exclude_keywords (list, optional): 제외할 키워드 리스트 (예: ['고양이'])\n",
    "        \n",
    "    Returns:\n",
    "        pd.DataFrame: 도메인이 추가된 데이터프레임\n",
    "    \"\"\"\n",
    "    # 1. 키워드 리스트를 OR(|) 조건으로 묶어 하나의 검색 패턴으로 만듭니다.\n",
    "    keyword_pattern = '|'.join(keywords)\n",
    "    \n",
    "    # 2. 검색할 모든 열을 대상으로 키워드가 포함되었는지 확인하는 전체 조건을 만듭니다.\n",
    "    contains_keyword = df[search_cols].apply(\n",
    "        lambda col: col.str.contains(keyword_pattern, na=False)\n",
    "    ).any(axis=1)\n",
    "    \n",
    "    # 3. 제외 키워드가 있을 경우, 제외 키워드가 포함된 행을 False로 처리\n",
    "    if exclude_keywords is not None and len(exclude_keywords) > 0:\n",
    "        exclude_pattern = '|'.join(exclude_keywords)\n",
    "        contains_exclude = df[search_cols].apply(\n",
    "            lambda col: col.str.contains(exclude_pattern, na=False)\n",
    "        ).any(axis=1)\n",
    "    else:\n",
    "        contains_exclude = pd.Series([False]*len(df), index=df.index)\n",
    "    \n",
    "    # 4. 'domain' 열이 비어있는(NaN) 행 중에서, 키워드가 포함되고, 제외 키워드는 포함되지 않은 행만 선택\n",
    "    condition = (df['domain'].isna()) & (contains_keyword) & (~contains_exclude)\n",
    "    \n",
    "    # 5. 해당 행의 'domain' 열에 새로운 도메인 이름을 채워 넣습니다.\n",
    "    df = df.copy()  # 원본 데이터 보호\n",
    "    df.loc[condition, 'domain'] = domain_name\n",
    "    \n",
    "    print(f\"✅ '{domain_name}' 카테고리 분류 완료! ({condition.sum()}개 적용, 제외 키워드: {exclude_keywords})\")\n",
    "    return df\n",
    "\n",
    "# --- 함수 사용 예시 ---\n",
    "\n",
    "# 0. 먼저 'domain' 열을 생성하고 NaN으로 초기화합니다.\n",
    "ads_list['domain'] = np.nan\n",
    "\n",
    "# 1. '금융/보험' 도메인 분류 실행 (제외 키워드: '고양이')\n",
    "keywords_finance = ['금융','피싱', '보험', '주식', '펀드', '스탁', '신한', '머니트리카드', '공모주', 'KB', '업비트', '거래소', '환급금', '상조','더핀','증권','뱅크','보험료']\n",
    "exclude_keywords_finance = ['고양이','차차차','중고차','Idle']\n",
    "search_columns = ['ads_name', 'ads_save_way']\n",
    "ads_list = categorize_domain(ads_list, '금융/보험', keywords_finance, search_columns, exclude_keywords=exclude_keywords_finance)\n",
    "\n",
    "\n",
    "# 2. '게임' 도메인 분류 실행\n",
    "keywords_game = [\n",
    "    '게임', '스코어', '캐릭터', '서브퀘스트', '포커', '퍼즐', '라스트워', '피자 레디', \n",
    "    '복권', 'RAID', '머지아일랜더스', '키우기', 'Merge', 'Puzzle', '아케론', '다크엔젤',\n",
    "    '악마단', 'RPG', '서바이벌', '라바', '모바일', '사전예약', '타이니팜', '이계밥', '타이쿤',\n",
    "    '강쥐','2X','골목주방', '올바른고','철물파크','레벨','도달','달성','00점','원스토어','Idle','Lv.',\n",
    "    '초이스 맞추기','클리어','에리어','빗썸','Complete','Tycoon','다이노 투 레이스','획득',\n",
    "    '구역 해제','모으기','소울 로그','잠금 해제','외계 시대','좀비','붉은 도시', '코인피클', '디펜스', '디바인엣지','영웅줍줍','K데몬헌터스','조조의 꿈','편의점 정리왕 3D'\n",
    "]\n",
    "# 제외할 키워드 리스트를 정의합니다.\n",
    "exclude_keywords_game = ['프리다이빙']\n",
    "\n",
    "# 함수를 호출할 때 exclude_keywords 인자를 정확히 전달합니다.\n",
    "ads_list = categorize_domain(\n",
    "    ads_list, \n",
    "    '게임', \n",
    "    keywords_game, \n",
    "    search_columns, \n",
    "    exclude_keywords=exclude_keywords_game\n",
    ")\n",
    "\n",
    "\n",
    "# 3-1. '생활/쇼핑/이커머스_상품소비' 도메인 분류 실행\n",
    "keywords_goods_consumption = [\n",
    "    # 기존 키워드 유지 (삭제/수정 금지)\n",
    "    # 식품/건강\n",
    "    '로얄캐닌', '콜라겐', '흑염소', '콘드로이친', '비타민', '간식', '베지밀', '식품', '블랙마카', '절임배추', '뉴트리하루', '영양제', '천심련 아나파랙틴', '고려은단', '오쏘몰', '간장게장', '왕뚜껑 킹스브레이브', '헬스케어', '케어', '홈헬스',\n",
    "    '바지락', '닭가슴살', '식단', '단백질', '제주농장', '진공포장', 'MSM', '글루타치온', '완도', '김',\n",
    "    # 패션/뷰티\n",
    "    '향수', '여신티켓', '화장품', '스나이델뷰티', '바바더닷컴', '팬츠',\n",
    "    '목걸이', '가방', '슬링백', '반팔티', '보정속옷', '캔버스', '카프스킨', '립앤칙스', '멀티밤', '톤업크림', '크림샌드',\n",
    "    # 리빙/인테리어\n",
    "    '핸드타올', '방석', '오늘의집', '한샘몰', '바자르', '방향제', '네온라이트',\n",
    "    '싱크대배수구', '배수통', '배수관', '방충망', '모기장', '하수구트랩', '도어스토퍼', '선반', '매트',\n",
    "    # 디지털/가전\n",
    "    'LG전자', '삼성닷컴', '몬스타기어', '몬스타pc스토어',' 전자',\n",
    "    '공기청정기', '필터', '랜턴', '마사지기', '모기채', '카드단말기', '키오스크', '포스기', '터미널', '커피메이커', '드립포트', '전기그릴',\n",
    "    # 반려동물\n",
    "    '강아지', '애견', '고양이', '덴탈껌', '치약껌', '이동가방', '리터네코',\n",
    "    # 기타 상품소비\n",
    "    '연장체인', '대나무체인', '퍼퓸', '오드퍼퓸', '세트', '골프 퍼팩트맨', '부스터 마사지건', '알로에겔', '알로에', '폼클렌징', '영화할인권', '영화예매권', '보일러',\n",
    "    # 신규 추가: 상품소비(구매) 관련 키워드\n",
    "    '토스터기', '안마기', '티포트', '크림', '토너', '경주빵', '이어폰', '충전케이블', '베개', '카사바칩', '샘물', '에그트레이', '귀이개', '마사지건', '실내사이클', '분리수거함', '보조배터리', '밀대', '코인타올', '목난로',\n",
    "    # 신규 추가: 샘플 데이터에서 추출된 상품소비(구매) 관련 키워드\n",
    "    '토마스 풀 패밀리', '멀티 와이드 그릴', '뉴네이처 알티지오메가3파워', '황후지화', '다이어트커피', '체지방감소', '레오폴디 로봇청소기', '스텐밀폐용기', '그린바나나 정', '깐알밤', '아쿠아 부스트 옴므 올인원', '체중계', '빨래바구니', '쎈쏘팔메토', '순녹용 골드', '진공청소기', '다이렉트 다이어트N유산균', '발효흑삼고', '레몬밤 다이어트', '샤인 미스트', '요거트메이커', '피부관리기', '올포유', '캐리어', '에어 프라이어', '후라이팬', '오로라플러스플라즈마', '피톤치드 탈취제', '카무트 효소', '모로실', '쿨토시', '헤어 에센스', '와인잔', '접이식 카트', '홍삼정', '리챔', '돼지양념구이', '믹스웰 블랜더', '차전자피식이섬유분말스틱', '브랜드밀효소', '연어코프로테오글리칸프리미엄', '비타 이뮨 플래티넘 골드', '타우린L-아르기닌', '냄비', '셀 이펙터 세럼', '오트밀', '관절보단', '기억력개선', '스트롱 업 차전자피', '호박 진액', '발효홍삼 산삼배양근 활력진골드 앰플', '핸디스팀다리미', '코헴무선스팀다리미', '코힐밤', '마호가니 원형도마', '마호가니 사각도마', '에디번 전기 그릴', '멀티믹서기', '철갑상어 건강즙', '홍삼로얄젤리스틱', '6년근홍삼정에브리원', '로댕 쏘 화이트업 마스크팩', '이데베논 페롤릭 부스터 앰플', '발효구기자 차', '모로오렌지 C3G 프리미엄', '목동알탕', '목동 곤이알찜', '올플레임 IH 세라믹 후라이팬', '올플레임 IH 세라믹 궁중팬', '캐리어 기내용', '레디백', '헤어클리닉', '쎈류신에너지파워', '에브리원 헤어드라이어', '아쿠아 무드등가습기', '마뜨앙 여행용 기내형캐리어', '찹살떡', '설기', '퍼펙트 커버 쿠션''온열', '카트', '투표권', '가르시니아', '브로멜', '파인애플효소', '하루힘차', '여주해죽순돼지감자차', '당당컷', '라끄시안', '굿매너', '화장지', '뷰티앤소프트', '더화이트', '키친타올', '물티슈', '나틴다', '클렌징', '립스틱', '로션', '자연에서 온 녹차', '블랙앵거스', 'LA갈비', '소불고기', '돼지불고기', '라에스테', '퍼펙트 듀오', '샴푸', '트리트먼트', '드라이기', '인덕션', '에어프라이어', '세정티슈', '벌꿀', '헤어팩', '양말', '더플백', '진공 쌀통', '찜질박사', '주방세제', '세탁세제', '섬유유연제', '톱날과도', '기황단', '레몬즙', '오메가3', '락토페린', '브레인1088', '루테인', '허니로얄제리', '참진한 흑마늘', '칫솔', '이불', '패드', '바싹불고기', '냉감 패드', '냉감 바디필로우', '에어매쉬토퍼', '레몬자몽즙', '레자몽', '레티놀C', '짜장', '해물짬뽕', '홍삼진', '홍삼액진', '흑삼진액', '스팀 헤어팩', '헤어로스 세럼', '헤리티지', '셀 부스팅 니들', '카무트효소', '리놀렌산', '장어활력', '녹용', '아르기닌', '마카', '샬롱', '이지쿡', '글라스뷰', '스위스밀리터리', '이엔비', '인사덴탑', 'NMN', 'Tubble', '메디트리', '네이처프리', '코오롱제약', '보령파워', '코스모팜', '신꼬', '칸투칸', '독일 코겔', '햄토피아', '동의삼', '순수달', '밸런스어게인', '퍼니트', '맛다움', 'G마켓',\n",
    "    # 신규 추가: 샘플 데이터 기반 추가 키워드 (기존 키워드와 중복 제외)\n",
    "    '케라틴 키퍼', '액상 마그네슘', '콤부차', '복합유산균', '골드 앰플', '워터 글라이드', '프로바이오틱스', '유기농애사비스틱', '유기농레몬생강즙', '오트오브맘', '프로틴메이트', '아르간 에센스', '스트레이트 펌', '헤어앰플', '스프레이', '염모제', '귀리 오트오브맘', '쿠폰팩', '마늘후랑크', '동치미 물냉면', '곡물발효효소', '함흥냉면', '신라면', '치즈카츠', '천연펄프', '팔토시', '닭한마리 볶음탕', '캡슐세제', '팔목형', '손목형', '보양 추어탕', '귀리쌀죽', '선 스크린', '바른어묵', '우거지 뼈해장국', '소내장탕', '카무트 누룽지', '보풀제거기', '골드 등급 패키지', '실버 등급 패키지', '블랙 등급 패키지', '팥찜질팩', '규조토페인트','스탠드다리미',\n",
    "    '가정용천국의계단','침구청소기','프랭클린 이염방지시트','젖병소독기','자차청정기','유럽미장',\n",
    "    '규조토페인트','커리쉴', '루트 레미디', '스칼프 토닉', '프레시포레스트향', '소프트켄넬', '얼음조끼', 'homegrow', '창문열차단', '암막시트지', '발 받침대', '반팔 와이셔츠', '인감도장', '럭스엑스팟', '용가리', '목문용방문손잡이', '플로우아쿠아슈즈', '골프모자', '보스턴백', '건전지', '트램폴린', '남자셔츠', '쿠션커버', '오리젠사료오리지날', '골프피규어', '수면조끼', '베이포레소맥스', '쿠션', '볼마커', '라셀르간냉식', 'Modern High', '팜아크', '아크용접기', '바를 수딩 쿨링젤', '지아자연애장판', '유막제거제', '진정 앰플', '퍼팩트컴', '각인반지', '니트릴장갑', '부산국밥', '팰리세이드호환튜닝용품', '드리미 음식물처리기', '43인치스탠바이미', '휴나인 매스틱 검', '팰리세이드튜닝', '팰리세이드튜닝 c필러수납', '팰리세이드튜닝142', '팰리세이드 사이드스텝', '팰리세이드 쓰레기통 튜닝', '코인비엠에스', '갤럭시북K71AR', 'NT950XFT-A51A', '하주씨앤씨', '긱베이프 레전드3','루이보스티', '양배추즙', '토마토즙', '대추즙', '헛개진액', '수제청', '포스파티딜세린', '올리브오일', '미백마스크팩', '진정마스크팩', '유산균', '등산화깔창', '게이밍 컴퓨터의자', '디퓨저', '골프패치', '남자링거티', '기능성반팔 쿨 카라티', '즐거운가구 렌지대', 'NUTRALIFE 카테킨', '비엔엠코리아', '미마유모차', '에피소X', '블로커콤비블라인드', '엘리카', '벨벳', '엘라카테슬라', '테슬라', '오란다', '오토바이 자석 거치대', '바벨런스', '쿠션커버', '쿠션', '수면조끼', '팥찜질팩', '방수앞치마', '명함제작', '스티커제작', '드레이프블라우스', '꼬막', '방수앞치마', '유리문 도어락', '무타공 도어락', '모기퇴치기', '해충 퇴치기', 'Onliv', '잔더','롯데마트 제타', '락앤락', '동국제약', '닥터로니', '휴리엔', '백년약방', '네일로그', '안락의자', '리빙박스', '아이언커버', '와이셔츠', '블라우스', '한우사골곰탕', '곶감', 'usb', '청국장', '베누스타 청소기', '컴퓨터의자', '인테리어의자', '그로밋 키링', '해장국', '딸기칩', '개완', '티머그', '차총', '보이차', '구찌뽕 추출물', '백향과', '황토볼', '차열페인트', '곰팡이방지페인트', '결로방지페인트', '벽지페인트', '가정용미니에어건', '네오프렌구명조끼', '휴나인 애사비','삼성 G100','삼성 H170D','삼성 F100D','키친플래그','제주탄산수',\n",
    "    # 신규 추가: 분석된 상품소비 키워드\n",
    "    '밴디 양방향 미끄럼방지 실내 욕실화', '삼성제약 내간에밀크씨슬실리마린', 'US 스킨아우라히알루론비타', 'US 프로바이오포스콜리500', '부사 사과', '스테비아 방울토마토', '천도복숭아', '하우스 감귤', '청사과', '프리미엄 파로', '백골뱅이', '대추 방울토마토', 'vintage', '체리 운드', '밤꿀', '네오디움 자석', '쉬폰커튼', '암막커튼', '코드스트랩', '스와들', '셀프페인트', '젯소', '페인트', '친환경페인트', '마이크로시멘트', '휘게로 페인트', '베스트에어컨 투인원', '여성 여름 셔츠', '치약', '피톤치드', '나노건', '피톤치드연무기', 'LCN마이코셉트', '업젤', '닭갈비', '오리주물럭', '프로파일','전자담배','논가스용접기',\n",
    "    # 신규 추가: 분석된 데이터에서 상품소비로 분류할 키워드\n",
    "    '볶은아몬드', '무선 쿨링 고데기', '골프트로피', '스탠맨해머전동드릴', '블루키워드', '리브라 에보', '유산지어', '지오 24MR400W 지오비전', '개밥청춘 위픽 에어드', '테이블야자', '떡볶이택배', '구운계란', '엘카라 프로폴리스', '크리스탈 감사패', '커피원두', '인섹트도그', '미마 모카색상 절충형유모차', '여행용 프리볼트 고데기', '수술복', '갤럭시S25케이스', '꼬리곰탕', '아론샵 홀드맥스 헤어젤', '루피는 참치마요', '야채참치', '밀크팡 산양유프로틴', '대추차', '27US550', '윈도우11', '닥터스초이스 콘드', '자전거라이트어', '자바라의자', '스탠드스팀다리미', '스팀다리미', '구강세정기', '제본', '산삼', '식물등', '테라리움', '책상 스탠드', '슬릿분', '백일상대여', '출차주의등', '수모', '도라지청', '환갑현수막', '칠순현수막', '관리기', '결명자차', '구기자차', '보리차 원액',\n",
    "    # 신규 추가: 100행 데이터에서 확실한 상품소비 키워드\n",
    "    '구운아몬드', '캐슈넛', '임산부효소', '업소용청소기', '아기잠옷', '아기파자마', 'PPF 왁스', '실내수영복', '용융소금', '스캇나인 아구아헤', '스타리온 대형 45박스 올냉장 냉장고', '전자저울', '멜라토닌', '감사패', '장수돌침대', '골프마스크팩', '교구장', '체리', '코튼 폴로 반팔니트', '코튼 반팔 폴로 여름니트', '차거름망', '곰탕육수', '씽크어스 하트', '차판', '자숙문어', '메리네 라비앙독', '여성 반팔 셔츠', '샤인머스켓', '오토바이리스', '양갈비', '까렌다쉬샤프', '잔디깎기', '하수구 뚫는 기계', '메탈지그', '청양고추', '예초기', '배달오토바이리스', '오리젠사료', '시트지제작', '우정링', '커플팔찌', '홍삼음료', '클립온 선글라스', '노시부석션팁', '닥터커피', '아몬드', '안전벨트', '건강하삼', '햄스터 케이지', 'ab슬라이드', '숙취해소제', '삼성ssd', '석재볼라드', '마사지젤', '가죽스티커', '콘체 블렌더',\n",
    "    # 신규 추가: 83행 데이터에서 확실한 상품소비 키워드\n",
    "    '메이튼 맥세이프자동차거치대', '베베끌레르 퍼펙트제로', '리플렛', '어닝', '방수액', '스트레치필름', '오토바이자석거치대', '핸드워시 답례품', '가죽트레이', '아만', '휴대폰 맥세이프 마그네틱 투명케이스', '어그 밴딩 슬리퍼', '손톱강화제', '까렌다쉬 샤프', '메탈파일', '원두커피', '인형뽑기기계', '일본지게차', '피오렌자또', '씨메커피머신', '토삭스', '파고라', '패션뷰티몰', '세레스쥬얼리',\n",
    "    '최대 77% 할인. 럭키세븐 특가','29cm', '상품찜','JONS 신규 가입 혜택','참소라', '글루어트', '새미쥬얼리', '조개구이', '초코파이','나물짤순이'\n",
    "]\n",
    "exclude_keywords_goods_consumption = ['연남동 스튜디오']\n",
    "ads_list = categorize_domain(\n",
    "    ads_list,\n",
    "    '상품소비',\n",
    "    keywords_goods_consumption,\n",
    "    search_columns,\n",
    "    exclude_keywords=exclude_keywords_goods_consumption\n",
    ")\n",
    "\n",
    "# 3-2. '생활/쇼핑/이커머스_생활서비스' 도메인 분류 실행\n",
    "keywords_life_service = [\n",
    "    # 기존 키워드 유지 (삭제/수정 금지)\n",
    "    # 교육/부동산\n",
    "    '교육', '학습', '영어', '보카', '홈런', '온리원', '부동산', '경매', '기출문제', '학원',\n",
    "    # 여행/문화\n",
    "    '호텔', '하나투어', '골프네임택', '스마트캐디', '프리다이빙',\n",
    "    # 생활서비스\n",
    "    '운동', '휘트니스', '테라피', '캠핑', '물구나무', '운동기구', '참여신청', '달다방',\n",
    "    # 신규 추가: 회원가입(서비스) 관련 키워드\n",
    "    '회원가입', '서비스 가입', '라이프플러스', '트라이브', 'H.Point 회원 가입하기',\n",
    "    # 샘플 데이터에서 추출된 생활서비스 관련 키워드\n",
    "    '공용 화장실 해제','이혼전문변호사',\n",
    "    # 신규 추가: 샘플 데이터 기반 추가 키워드 (기존 키워드와 중복 제외)\n",
    "    '최초 오픈', '기부완료', '쿠폰팩 가입', '인터넷신규가입','Shipping','패러글라이딩', '일상비일상의틈', 'NOL', 'NOL (신규회원 국내숙소 특별할인)', '최초 오픈', '정답입력',\n",
    "    # 추가: 리뷰 전체보기 클릭 후 URL 제출, 스토어 알림받기, 명소찾기\n",
    "    '리뷰 전체보기 클릭 후 URL 제출', '스토어 알림받기', '명소찾기',\n",
    "    # 신규 추가: 분석된 생활서비스 키워드\n",
    "    '상세페이지제작', '비상주사무실',  'V컬러링 이용권',\n",
    "    # 신규 추가: 100행 데이터에서 확실한 생활서비스 키워드\n",
    "    '로고제작',\n",
    "    # 신규 추가: 83행 데이터에서 확실한 생활서비스 키워드\n",
    "    '특수청소', '전단지배포및제작','바카르','젤톡스','SK브로드밴드'\n",
    "]\n",
    "exclude_keywords_life_service = []\n",
    "ads_list = categorize_domain(\n",
    "    ads_list,\n",
    "    '생활서비스',\n",
    "    keywords_life_service,\n",
    "    search_columns,\n",
    "    exclude_keywords=exclude_keywords_life_service\n",
    ")\n",
    "\n",
    "# 3-3. '생활/쇼핑/이커머스_플랫폼' 도메인 분류 실행\n",
    "keywords_platform = [\n",
    "    # 기존 키워드 유지 (삭제/수정 금지)\n",
    "    '쿠팡', '아이템매니아', '중고거래', '백화점', '당근마켓', '동네GS', 'GS25', '배달의민족',\n",
    "    # '네이버스마트스토어',\n",
    "    # 샘플 데이터에서 추출된 플랫폼 관련 키워드\n",
    "    'G마켓',\n",
    "    # 신규 추가: 샘플 데이터 기반 추가 키워드 (기존 키워드와 중복 제외)\n",
    "    '에누리 가격비교', '네이버 쇼핑', '네이버 상품 해시태그', '상품 태그 맞추기',\n",
    "    # # 신규 추가: 분석된 플랫폼 키워드\n",
    "    # '최대 77% 할인. 럭키세븐 특가',\n",
    "    # # 신규 추가: 100행 데이터에서 확실한 플랫폼 키워드\n",
    "    # '29cm', '상품찜',\n",
    "    # # 신규 추가: 83행 데이터에서 확실한 플랫폼 키워드\n",
    "    # 'JONS 신규 가입 혜택', '바카르'\n",
    "]\n",
    "exclude_keywords_platform = []\n",
    "ads_list = categorize_domain(\n",
    "    ads_list,\n",
    "    '플랫폼',\n",
    "    keywords_platform,\n",
    "    search_columns,\n",
    "    exclude_keywords=exclude_keywords_platform\n",
    ")\n",
    "\n",
    "# 아래는 분류가 애매하거나 추가 검토가 필요한 항목 리스트입니다.\n",
    "# 분류가 애매한 항목 (키워드로 분류가 어려운 경우)\n",
    "# - 퀴즈 맞추기, 퀴즈 정답 맞추기, [퀴즈] ~, ~맞추기, [정답] ~, 클릭, 받기, 상세페이지제작, 대전 비상주사무실, [간편참여] 특가요정, 강재인 (저장 후 주차장 URL), 다이아XXXX (저장 후 주차장 URL), 푸슈 (저장 후 주차장 URL), 일산보청기 (저장 후 주차장 URL), 미사 피부과 병원 미엘 (저장 후 주차장 URL), 수원중고차 (저장 후 주차장 URL), 인천제일바다낚시 (저장 후 주차장 URL), 라플로르드무아 (저장 후 주차장 URL), 창원세무사 조영빈 사무소 (저장 후 주차장 URL), 대전유리창청소 (저장 후 주차장 URL), 부천한방병원 차오름 (명소찾기), 강남수입차정비 내화모터스 (명소찾기), 이리와코리아 10개옵션 맞추기, 피지컬방이헬스 맞추기, 논가스용접기 200프로 맞추기, 유산지어 맞추기, 테이블야자 맞추기, 떡볶이택배 맞추기, 구운계란 인생 맞추기, 개밥청춘 위픽 에어드 맞추기, 우주인전자담배 맞추기, 지오 24MR400W 지오비전 맞추기, 엘카라 프로폴리스 맞추기, 크리스탈 감사패 맞추기, 인섹트도그7.5kg 맞추기, 잘봄XXX (저장 후 주차장 URL), [퀴즈] 강남 하수구뚫음, 삼성 F100D, 닥터초이스맞추기, 볶은아몬드, [퀴즈] 금천구 하수구막힘, 습자지 맞추기, [퀴즈] 무선 쿨링 고데기, 좋은상패26 닷컴 골프트로피 맞추기, 스탠맨해머전동드릴 맞추기, 블루키워드 맞추기, 동동마켓 리브라 에보 맞추기, 전자담배 액상(미성년자불가미션), 커피원두 맞추기, 상세페이지제작, 대전 비상주사무실, [정답] 치약(네이버 상품 상세내용) 등은 명확한 카테고리 분류가 어려워 추가 검토 필요\n",
    "# - 닥터초이스맞추기, 삼성 F100D, 볶은아몬드, [퀴즈] 금천구 하수구막힘, 습자지 맞추기, [퀴즈] 무선 쿨링 고데기, 좋은상패26 닷컴 골프트로피 맞추기, 스탠맨해머전동드릴 맞추기, 블루키워드 맞추기, 동동마켓의 엘리카 핏 83 맞추기, 동동마켓의 엘리카 핏 60 맞추기, 동동마켓 리브라 에보 맞추기, 동동마켓 엘리카 니콜라테슬라 벨벳83 맞추기, 동동마켓의 벨벳60 맞추기, 동동마켓 엘라카테슬라 맞추기, 동동마켓 4구엘리카 테슬라 맞추기, 피지컬방이헬스 맞추기, 이리와코리아 10개옵션 맞추기, 미마유모차 절충형유모차 맞추기, 논가스용접기 200프로 맞추기, 유산지어 맞추기, 테이블야자 맞추기, 떡볶이택배 맞추기, 구운계란 인생 맞추기, 기능성반팔 쿨 카라티 무지 맞추기, 즐거운가구 렌지대1800 맞추기, NUTRALIFE 카테킨 맞추기, 비엔엠코리아 10개옵션 맞추기, 오란다, 바벨런스, 골프패치, 남자링거티, 지오 24MR400W 지오비전 맞추기, 우주인전자담배 맞추기, 등산화깔창, 진정마스크팩, 미백마스크팩, 유산균, 디퓨저, 양배추즙, 토마토즙, 대추즙, 헛개진액, 수제청, 포스파티딜세린, 올리브오일, 게이밍 컴퓨터의자, 꼬막, 방수앞치마, 유리문 도어락, 무타공 도어락, 모기퇴치기, 해충 퇴치기, 드레이프블라우스, 명함제작, 스티커제작, 잔더, Onliv, 스토어 알림받기, 아이티시스템 (저장 후 주차장 URL), 강재인 (저장 후 주차장 URL), 인천이혼전문변호사 (저장 후 주차장 URL), 다이아XXXX (저장 후 주차장 URL), 푸슈 (저장 후 주차장 URL), 일산보청기 (저장 후 주차장 URL), 미사 피부과 병원 미엘 (저장 후 주차장 URL), 수원중고차 (저장 후 주차장 URL), 인천제일바다낚시 (저장 후 주차장 URL), 라플로르드무아 (저장 후 주차장 URL), 창원세무사 조영빈 사무소 (저장 후 주차장 URL), 대전유리창청소 (저장 후 주차장 URL), 부천한방병원 차오름 (명소찾기), 강남수입차정비 내화모터스 (명소찾기), 에피소X XX출 (저장 후 주차장 URL), [간편참여] 특가요정, 락앤락 첫구매 이벤트, 상세페이지제작, 대전 비상주사무실\n",
    "# Mr.Shipping (ads_name: Mr.Shipping, ads_save_way: 참여) : 어떤 카테고리인지 불분명, 추가 검토 필요\n",
    "# Travel 포캐스트, 헬씨 포캐스트 (ads_save_way: 결제 및 콘텐츠 이용) : 콘텐츠/여행/서비스 등 복합적, 추가 검토 필요\n",
    "# 사주링 맞추기, 닥터초이스맞추기, 스탠드다리미, 가정용천국의계단, 침구청소기, 패러글라이딩, 습자지 맞추기, 프랭클린 이염방지시트 맞추기, 해님 젖병소독기 맞추기, 해님UVLED젖병소독기4세대 맞추기, 에어힐러자차청정기 맞추기, 유럽미장, 유럽미장셀프, 규조토페인트, 등 \"퀴즈 맞추기\"류 : 콘텐츠/앱테크/기타 등 분류 애매, 추가 검토 필요\n",
    "# 강재인, 인천이혼전문변호사, 다이아XXXX, 푸슈, 에피소X 등 (ads_save_way: 퀴즈 정답 맞추기, ads_name에 (저장 후 주차장 URL) 포함) : 분류 불명확, 추가 검토 필요\n",
    "# - Mr.Shipping (참여, ads_name: Mr.Shipping) : 어떤 카테고리인지 불분명, 추가 검토 필요\n",
    "\n",
    "\n",
    "# 5.'SNS/커뮤니케이션' 도메인 분류 실행\n",
    "keywords_sns = ['페이스북', '인스타', '채팅', '친구', '동네', '소개팅', '데이팅', '골드스푼', '여보야', '팬더티비', '상담', '라임', '카페', '카카오톡', '후엠아이','여보랑','비긴즈','커넥트 CONNECT']\n",
    "exclude_keywords_sns = []\n",
    "ads_list = categorize_domain(ads_list, 'SNS/커뮤니케이션', keywords_sns, search_columns, exclude_keywords=exclude_keywords_sns)\n",
    "\n",
    "\n",
    "# 7.'콘텐츠' 도메인 분류 실행\n",
    "keywords_content = ['탑툰', '웹툰', '미툰', '미노벨', '운세', '워치페이스', '파일썬', '웹하드', '애니툰', '포춘텔러','꿀밤티비', '꿀물티비', '핑크티비','토정비결','굿툰','TikTok','나의 커리어 DNA','천신','성향매핑', '커플케미', '영화리뷰','멜론팔로우', '궁합', '포춘쿠키','홀스브릿지','영화 보스','회원가입 후 결제','KWDA','투표권 +','포캐스트','사주']\n",
    "exclude_keywords_content = []\n",
    "ads_list = categorize_domain(ads_list, '콘텐츠', keywords_content, search_columns, exclude_keywords=exclude_keywords_content)\n",
    "\n",
    "# 8. '앱테크/리워드' 도메인 분류 실행\n",
    "keywords_apptech = ['앱테크', '돈버는', '리워드어플', '오토링', '짤', '아이부자', 'Cash Giraffe', 'Cash Cow', '파블로', '서베이','MyB','돈 버는 미션','판도라박스', '도형그리기', '박스찾기', '시간잡기','서베이']\n",
    "exclude_keywords_apptech = []\n",
    "ads_list = categorize_domain(ads_list, '앱테크/리워드', keywords_apptech, search_columns, exclude_keywords=exclude_keywords_apptech)\n",
    "\n",
    "\n",
    "# 10. '유틸리티/툴' 도메인 분류 실행\n",
    "keywords_util = ['통화녹음', '익시오', 'AI', '뤼튼', '구독', '체크플러스']\n",
    "exclude_keywords_util = []\n",
    "ads_list = categorize_domain(ads_list, '유틸리티/툴', keywords_util, search_columns, exclude_keywords=exclude_keywords_util)\n",
    "\n",
    "# 11. '지역/상점' 도메인 분류 실행\n",
    "keywords_local = ['맛집', '식당', '점', '시장', '휘트니스', '쭈앤쭈', '족발선생',\n",
    "'소곱판','박가네 빈대떡','풍년옥','철판집','청류','지도','플레이스','연남동',\n",
    "'방이별관','카카오맵','공항', '클럽', '스튜디오','잠실','그래한의원','신의주찹쌀순대','라 스위스 서촌',\n",
    "'의원','PT 청라','숙성회','서촌', '한의원', '순대', '쭈꾸미', '막국수','포항', '계곡', '테라피','캄왁싱','이지은웨딩','제주 이모카세',\n",
    "'수성구 치과', '강남 하수구뚫음', '두정역 메이크업 속눈썹', '불당동 윤곽관리', '봉선동돼지갈비','제주 장어정식', '광주 첨단 갈매기살', '제주 외도동 물회', '외도동 횟집' ,'대전유리창청소', '한남동 인터내셔널 필라테스' , '수원중고차',\n",
    "# 신규 추가: 미분류 데이터에서 추출된 지역/상점 키워드\n",
    "'치과', '고깃집', '술집', '이자카야', '헬스장', '케이크', '가족사진', '맞춤정장', '요트투어', '보청기', '피부과', '병원', '미엘', '바다낚시', '세무사', '사무소', '유리창청소', '한방병원', '수입차정비', '모터스', '냉면', '숙성명작', '평양냉면', '여수', '구미', '충주', '용산', '광안리', '진주', '가좌', '칠암동', '진해', '초천동', '진주혁신도시', '굴포천역', '수원역', '강서', '가정동', '일산', '인천', '달항아리', '청라', '부산', '동래역', '랍스타', '고양시', '중앙로', '노량진고시원', '안양 정형외과', '대구 정형외과', '경산시 중산동', '연남 초야', '구리 비뇨기과', '피지컬방이헬스', '경남 아파트']\n",
    "exclude_keywords_local = []\n",
    "ads_list = categorize_domain(\n",
    "    ads_list, \n",
    "    '지역/상점', \n",
    "    keywords_local, \n",
    "    search_columns, \n",
    "    exclude_keywords=exclude_keywords_local\n",
    ")\n",
    "\n",
    "# 12. '기타' 도메인 분류 실행\n",
    "# 기타 내부에 속하는 도메인 -> 보안, 뉴스\n",
    "keywords_etc = ['뉴스','충청남도','다함께차차차','피싱', 'OTP', '안심', '스마트사인', '인증', '범죄알리미', '약속번호','원키퍼','렌트카',\n",
    "'로그인보호서비스','차차차','보호','사람인','리본카','보안플러스','건강지키미','종합광고대행사','캐디톡','인크루트','네이버맵','정답 미션','붙임머리', '치료', '블로그', '마케팅','제로네이트','법무사','알바천국', '알바몬', '인터넷가입', '누수', '국무조정실','국가', '붙임머리', '치료', '블로그', '마케팅', '입주청소']\n",
    "exclude_keywords_etc = []\n",
    "ads_list = categorize_domain(\n",
    "    ads_list,\n",
    "    '기타',\n",
    "    keywords_etc,\n",
    "    search_columns,\n",
    "    exclude_keywords=exclude_keywords_etc\n",
    ")\n",
    "\n",
    "# 이제까지 분류되지 않은(nan) 모든 행을 '기타'로 할당합니다.\n",
    "ads_list.loc[ads_list['domain'].isna(), 'domain'] = '기타'\n",
    "\n",
    "\n",
    "# --- 최종 결과 확인 ---\n",
    "print(\"\\n--- 분류되지 않은 데이터 개수 ---\")\n",
    "print(f\"미분류 데이터: {ads_list['domain'].isna().sum()}개\")\n",
    "\n",
    "print(\"\\n--- 전체 도메인 분류 현황 ---\")\n",
    "print(ads_list['domain'].value_counts())\n",
    "\n",
    "\n",
    "\n",
    "print(\"\\n--- 각 도메인별 샘플 데이터 ---\")\n",
    "for domain in ads_list['domain'].dropna().unique():\n",
    "    print(f\"\\n✅ '{domain}'으로 분류된 데이터:\")\n",
    "    sample_data = ads_list[ads_list['domain'] == domain][['ads_name', 'domain']].head()\n",
    "    print(sample_data)"
   ]
  },
  {
   "cell_type": "code",
   "execution_count": 5,
   "id": "68e9a182",
   "metadata": {},
   "outputs": [],
   "source": [
    "conditions = [\n",
    "    # 3단계: 최종 수익 창출 (구매, 게임(특정퀘스트))\n",
    "    (ads_list['ads_type'].isin([9, 12])) | (ads_list['ads_category'].isin([5, 6, 10, 11])),\n",
    "    # 2단계: 행동 유도 (설치, 실행, 참여, 퀴즈, 구독 등)\n",
    "    (ads_list['ads_type'].isin([1, 2, 3, 7, 11])) | (ads_list['ads_category'].isin([1, 2, 3, 4, 7, 8])),\n",
    "    # 1단계: 단순 노출 및 클릭\n",
    "    (ads_list['ads_type'].isin([4, 5, 6, 8, 10]))\n",
    "]\n",
    "values = [3, 2, 1]\n",
    "# 3. numpy.select를 사용하여 새로운 컬럼 생성\n",
    "ads_list['ads_category_id'] = np.select(conditions, values, default=0)"
   ]
  },
  {
   "cell_type": "code",
   "execution_count": 6,
   "id": "ab8bb325",
   "metadata": {},
   "outputs": [
    {
     "name": "stdout",
     "output_type": "stream",
     "text": [
      "<class 'pandas.core.frame.DataFrame'>\n",
      "RangeIndex: 6946652 entries, 0 to 6946651\n",
      "Data columns (total 13 columns):\n",
      " #   Column          Dtype \n",
      "---  ------          ----- \n",
      " 0   rpt_time_date   object\n",
      " 1   rpt_time_time   int64 \n",
      " 2   ads_idx         int64 \n",
      " 3   mda_idx         int64 \n",
      " 4   rpt_time_clk    int64 \n",
      " 5   rpt_time_turn   int64 \n",
      " 6   rpt_time_scost  int64 \n",
      " 7   rpt_time_acost  int64 \n",
      " 8   rpt_time_cost   int64 \n",
      " 9   rpt_time_earn   int64 \n",
      " 10  abuse_3         int64 \n",
      " 11  abuse_4         int64 \n",
      " 12  abuse_7         int64 \n",
      "dtypes: int64(12), object(1)\n",
      "memory usage: 689.0+ MB\n"
     ]
    }
   ],
   "source": [
    "ads_year.info()"
   ]
  },
  {
   "cell_type": "markdown",
   "id": "e5b12d0b",
   "metadata": {},
   "source": [
    "## 데이터 합치기 + 개별 데이터 피처 엔지니어링"
   ]
  },
  {
   "cell_type": "code",
   "execution_count": 7,
   "id": "8aee9209",
   "metadata": {},
   "outputs": [
    {
     "name": "stderr",
     "output_type": "stream",
     "text": [
      "/var/folders/hl/90p2p86n5cs6t3p_1xwxdx2r0000gn/T/ipykernel_64417/3924043791.py:5: UserWarning: Could not infer format, so each element will be parsed individually, falling back to `dateutil`. To ensure parsing is consistent and as-expected, please specify a format.\n",
      "  ads_list['ads_edate'] = pd.to_datetime(ads_list['ads_edate'], errors='coerce')\n"
     ]
    }
   ],
   "source": [
    "import datetime\n",
    "import pandas as pd\n",
    "\n",
    "# 광고 종료일 변환\n",
    "ads_list['ads_edate'] = pd.to_datetime(ads_list['ads_edate'], errors='coerce')\n",
    "\n",
    "# 2025-08-29 이후 종료되는 광고만\n",
    "compare_date = datetime.date(2025, 8, 29)\n",
    "ads_list_filtered = ads_list[\n",
    "    (ads_list['ads_edate'].dt.date >= compare_date) &\n",
    "    (ads_list['delyn'] == 'N')\n",
    "]\n",
    "\n",
    "# 필요한 컬럼만 추출\n",
    "ads_list_c = ads_list_filtered[['ads_idx','ads_category_id', 'ads_sdate','ads_edate','domain']]\n",
    "\n",
    "# ads_year 불필요 컬럼 제거\n",
    "ads_year.drop(columns=['Unnamed: 0'], inplace=True, errors='ignore')\n",
    "\n",
    "# 두 데이터 합치기 (ads_idx 기준)\n",
    "df = pd.merge(ads_year, ads_list_c, on='ads_idx', how='inner')\n"
   ]
  },
  {
   "cell_type": "code",
   "execution_count": 8,
   "id": "03a9147a",
   "metadata": {},
   "outputs": [
    {
     "name": "stdout",
     "output_type": "stream",
     "text": [
      "<class 'pandas.core.frame.DataFrame'>\n",
      "RangeIndex: 2432352 entries, 0 to 2432351\n",
      "Data columns (total 17 columns):\n",
      " #   Column           Dtype         \n",
      "---  ------           -----         \n",
      " 0   rpt_time_date    object        \n",
      " 1   rpt_time_time    int64         \n",
      " 2   ads_idx          int64         \n",
      " 3   mda_idx          int64         \n",
      " 4   rpt_time_clk     int64         \n",
      " 5   rpt_time_turn    int64         \n",
      " 6   rpt_time_scost   int64         \n",
      " 7   rpt_time_acost   int64         \n",
      " 8   rpt_time_cost    int64         \n",
      " 9   rpt_time_earn    int64         \n",
      " 10  abuse_3          int64         \n",
      " 11  abuse_4          int64         \n",
      " 12  abuse_7          int64         \n",
      " 13  ads_category_id  int64         \n",
      " 14  ads_sdate        object        \n",
      " 15  ads_edate        datetime64[ns]\n",
      " 16  domain           object        \n",
      "dtypes: datetime64[ns](1), int64(13), object(3)\n",
      "memory usage: 315.5+ MB\n"
     ]
    }
   ],
   "source": [
    "df.info()"
   ]
  },
  {
   "cell_type": "code",
   "execution_count": 9,
   "id": "2c65eae6",
   "metadata": {},
   "outputs": [
    {
     "name": "stdout",
     "output_type": "stream",
     "text": [
      "53.7% 압축됨\n"
     ]
    }
   ],
   "source": [
    "def downcast(df, verbose=True):\n",
    "    start_mem = df.memory_usage().sum() / 1024**2\n",
    "\n",
    "    for col in df.columns:\n",
    "        dtype_name = df[col].dtype.name\n",
    "\n",
    "        # object, datetime은 건너뛰기\n",
    "        if dtype_name == 'object' or 'datetime' in dtype_name:\n",
    "            continue\n",
    "        elif dtype_name == 'bool':\n",
    "            df[col] = df[col].astype('int8')\n",
    "        elif dtype_name.startswith('int'):\n",
    "            df[col] = pd.to_numeric(df[col], downcast='integer')\n",
    "        elif dtype_name.startswith('float'):\n",
    "            df[col] = pd.to_numeric(df[col], downcast='float')\n",
    "\n",
    "    end_mem = df.memory_usage().sum() / 1024**2\n",
    "    if verbose:\n",
    "        print('{:.1f}% 압축됨'.format(100 * (start_mem - end_mem) / start_mem))\n",
    "    \n",
    "    return df\n",
    "\n",
    "\n",
    "df = downcast(df)\n"
   ]
  },
  {
   "cell_type": "code",
   "execution_count": 10,
   "id": "53bd3a0f",
   "metadata": {},
   "outputs": [
    {
     "name": "stdout",
     "output_type": "stream",
     "text": [
      "클릭수보다 전환수가 큰 행 수 (조정 후): 0\n"
     ]
    }
   ],
   "source": [
    "# 클릭수보다 전환수가 큰 경우 전환수를 클릭수로 맞춤\n",
    "df.loc[\n",
    "    df['rpt_time_turn'] > df['rpt_time_clk'], \n",
    "    'rpt_time_turn'\n",
    "] = df['rpt_time_clk']\n",
    "\n",
    "# 확인\n",
    "over_conversion_after = df[df['rpt_time_turn'] > df['rpt_time_clk']]\n",
    "print(\"클릭수보다 전환수가 큰 행 수 (조정 후):\", len(over_conversion_after))\n"
   ]
  },
  {
   "cell_type": "code",
   "execution_count": 11,
   "id": "aca58645",
   "metadata": {},
   "outputs": [],
   "source": [
    "# 고유 ID 생성: ads_idx와 mda_idx를 결합\n",
    "df[\"unique_id\"] = (\n",
    "    df[\"ads_idx\"].astype(str).str.zfill(6) +   # ads_idx는 항상 6자리\n",
    "    df[\"mda_idx\"].astype(str).str.zfill(4)     # mda_idx는 항상 4자리\n",
    ")\n",
    "\n",
    "# 필요하다면 숫자로 변환\n",
    "df[\"unique_id\"] = df[\"unique_id\"].astype(int)"
   ]
  },
  {
   "cell_type": "code",
   "execution_count": 12,
   "id": "df0a74d5",
   "metadata": {},
   "outputs": [],
   "source": [
    "# 일별로 데이터 정리!!!!\n",
    "\n",
    "# rpt_time_date를 datetime으로 변환\n",
    "df[\"rpt_time_date\"] = pd.to_datetime(df[\"rpt_time_date\"])\n",
    "\n",
    "# 그룹화하면서 ads_idx, mda_idx도 첫 번째 값으로 가져오기\n",
    "df_day = (\n",
    "    df.groupby([\"unique_id\", \"rpt_time_date\"], as_index=False)\n",
    "    .agg({\n",
    "        \"rpt_time_turn\": \"sum\",\n",
    "        \"ads_idx\": \"first\",\n",
    "        \"mda_idx\": \"first\",\n",
    "        \"ads_category_id\": \"first\",\n",
    "        \"domain\": \"first\"\n",
    "\n",
    "    })\n",
    "    .rename(columns={\"rpt_time_turn\": \"turn_sum\"})\n",
    ")\n",
    "\n"
   ]
  },
  {
   "cell_type": "code",
   "execution_count": 13,
   "id": "2d57ae9a",
   "metadata": {},
   "outputs": [
    {
     "data": {
      "text/plain": [
       "325"
      ]
     },
     "execution_count": 13,
     "metadata": {},
     "output_type": "execute_result"
    }
   ],
   "source": [
    "df_day['mda_idx'].nunique()"
   ]
  },
  {
   "cell_type": "code",
   "execution_count": 14,
   "id": "caaf002b",
   "metadata": {},
   "outputs": [
    {
     "name": "stdout",
     "output_type": "stream",
     "text": [
      "<class 'pandas.core.frame.DataFrame'>\n",
      "RangeIndex: 458835 entries, 0 to 458834\n",
      "Data columns (total 7 columns):\n",
      " #   Column           Non-Null Count   Dtype         \n",
      "---  ------           --------------   -----         \n",
      " 0   unique_id        458835 non-null  int64         \n",
      " 1   rpt_time_date    458835 non-null  datetime64[ns]\n",
      " 2   turn_sum         458835 non-null  int16         \n",
      " 3   ads_idx          458835 non-null  int32         \n",
      " 4   mda_idx          458835 non-null  int16         \n",
      " 5   ads_category_id  458835 non-null  int8          \n",
      " 6   domain           458835 non-null  object        \n",
      "dtypes: datetime64[ns](1), int16(2), int32(1), int64(1), int8(1), object(1)\n",
      "memory usage: 14.4+ MB\n"
     ]
    }
   ],
   "source": [
    "df_day.info()"
   ]
  },
  {
   "cell_type": "code",
   "execution_count": 23,
   "id": "ca807194",
   "metadata": {},
   "outputs": [
    {
     "name": "stdout",
     "output_type": "stream",
     "text": [
      "   year_month  광고_개수\n",
      "0     2024-07    338\n",
      "1     2024-08    466\n",
      "2     2024-09    461\n",
      "3     2024-10    476\n",
      "4     2024-11    509\n",
      "5     2024-12    629\n",
      "6     2025-01    547\n",
      "7     2025-02    620\n",
      "8     2025-03    556\n",
      "9     2025-04    549\n",
      "10    2025-05    570\n",
      "11    2025-06    571\n",
      "12    2025-07    592\n",
      "13    2025-08    584\n"
     ]
    }
   ],
   "source": [
    "# 그냥 확인용 나중에 지우셈!!\n",
    "import pandas as pd\n",
    "\n",
    "# rpt_time_date가 날짜라고 가정\n",
    "df_day[\"rpt_time_date\"] = pd.to_datetime(df_day[\"rpt_time_date\"], errors=\"coerce\")\n",
    "\n",
    "# 1. 월 단위 컬럼 만들기 (YYYY-MM)\n",
    "df_day[\"year_month\"] = df_day[\"rpt_time_date\"].dt.to_period(\"M\")\n",
    "\n",
    "# 2. 광고별로 월별 데이터가 있는지 체크 (중복 제거)\n",
    "ads_month = df_day.groupby([\"year_month\", \"ads_idx\"]).size().reset_index(name=\"count\")\n",
    "\n",
    "# 3. 월별 고유 광고 수 세기\n",
    "result = ads_month.groupby(\"year_month\")[\"ads_idx\"].nunique().reset_index(name=\"광고_개수\")\n",
    "\n",
    "print(result)"
   ]
  },
  {
   "cell_type": "code",
   "execution_count": 20,
   "id": "4a81feae",
   "metadata": {},
   "outputs": [
    {
     "name": "stdout",
     "output_type": "stream",
     "text": [
      "최근 6개월 기록 없는 광고 개수: 722\n",
      "최근 3개월 기록 없는 광고 개수: 956\n",
      "최근 2개월 기록 없는 광고 개수: 1037\n",
      "최근 1개월 기록 없는 광고 개수: 1130\n"
     ]
    }
   ],
   "source": [
    "import pandas as pd\n",
    "\n",
    "# 날짜 컬럼 datetime 변환\n",
    "df_day[\"rpt_time_date\"] = pd.to_datetime(df_day[\"rpt_time_date\"], errors=\"coerce\")\n",
    "\n",
    "# 데이터 마지막 날짜\n",
    "last_date = df_day[\"rpt_time_date\"].max()\n",
    "\n",
    "# 전체 광고\n",
    "ads_all = set(df_day[\"ads_idx\"].unique())\n",
    "\n",
    "# 함수: 기간별 기록 없는 광고 개수\n",
    "def count_no_records(months):\n",
    "    cutoff = last_date - pd.DateOffset(months=months)\n",
    "    ads_recent = set(df_day.loc[df_day[\"rpt_time_date\"] >= cutoff, \"ads_idx\"].unique())\n",
    "    ads_no_recent = ads_all - ads_recent\n",
    "    return len(ads_no_recent)\n",
    "\n",
    "# 결과 계산\n",
    "no_6m = count_no_records(6)\n",
    "no_3m = count_no_records(3)\n",
    "no_2m = count_no_records(2)\n",
    "no_1m = count_no_records(1)\n",
    "\n",
    "print(\"최근 6개월 기록 없는 광고 개수:\", no_6m)\n",
    "print(\"최근 3개월 기록 없는 광고 개수:\", no_3m)\n",
    "print(\"최근 2개월 기록 없는 광고 개수:\", no_2m)\n",
    "print(\"최근 1개월 기록 없는 광고 개수:\", no_1m)\n"
   ]
  },
  {
   "cell_type": "code",
   "execution_count": 21,
   "id": "7584129d",
   "metadata": {},
   "outputs": [
    {
     "data": {
      "application/vnd.microsoft.datawrangler.viewer.v0+json": {
       "columns": [
        {
         "name": "index",
         "rawType": "object",
         "type": "string"
        },
        {
         "name": "turn_sum",
         "rawType": "float64",
         "type": "float"
        }
       ],
       "ref": "eb8f4fd2-b8b5-4985-948a-16c1f6b62923",
       "rows": [
        [
         "count",
         "458835.0"
        ],
        [
         "mean",
         "5.795198709775845"
        ],
        [
         "std",
         "45.49868193193248"
        ],
        [
         "min",
         "0.0"
        ],
        [
         "25%",
         "0.0"
        ],
        [
         "50%",
         "0.0"
        ],
        [
         "75%",
         "1.0"
        ],
        [
         "max",
         "8482.0"
        ]
       ],
       "shape": {
        "columns": 1,
        "rows": 8
       }
      },
      "text/plain": [
       "count    458835.000000\n",
       "mean          5.795199\n",
       "std          45.498682\n",
       "min           0.000000\n",
       "25%           0.000000\n",
       "50%           0.000000\n",
       "75%           1.000000\n",
       "max        8482.000000\n",
       "Name: turn_sum, dtype: float64"
      ]
     },
     "execution_count": 21,
     "metadata": {},
     "output_type": "execute_result"
    }
   ],
   "source": [
    "df_day['turn_sum'].describe()"
   ]
  },
  {
   "cell_type": "code",
   "execution_count": 17,
   "id": "de41fdcb",
   "metadata": {},
   "outputs": [
    {
     "data": {
      "text/plain": [
       "1733"
      ]
     },
     "execution_count": 17,
     "metadata": {},
     "output_type": "execute_result"
    }
   ],
   "source": [
    "df_day['ads_idx'].nunique()"
   ]
  },
  {
   "cell_type": "code",
   "execution_count": 1112,
   "id": "00fd3e49",
   "metadata": {},
   "outputs": [],
   "source": [
    "df_day.to_csv(\"df_day.csv\", index=False)"
   ]
  },
  {
   "cell_type": "code",
   "execution_count": 1050,
   "id": "014f72de",
   "metadata": {},
   "outputs": [],
   "source": [
    "# 30일 모두 기록이 있는 광고만 필터링\n",
    "\n",
    "# # 날짜 변환\n",
    "# df_day[\"rpt_time_date\"] = pd.to_datetime(df_day[\"rpt_time_date\"])\n",
    "\n",
    "# # 기준일과 최근 30일 구간\n",
    "# max_date = df_day[\"rpt_time_date\"].max()\n",
    "# cutoff_date = max_date - pd.Timedelta(days=29)   # 30일 포함 위해 -29\n",
    "\n",
    "# # 최근 30일 날짜 리스트\n",
    "# recent_days = pd.date_range(start=cutoff_date, end=max_date, freq=\"D\")\n",
    "\n",
    "# # unique_id별 날짜 수 세기\n",
    "# id_date_counts = (\n",
    "#     df_day[df_day[\"rpt_time_date\"].between(cutoff_date, max_date)]\n",
    "#     .groupby(\"unique_id\")[\"rpt_time_date\"]\n",
    "#     .nunique()\n",
    "# )\n",
    "\n",
    "# # 30일 모두 있는 unique_id만 추출\n",
    "# valid_ids = id_date_counts[id_date_counts == len(recent_days)].index\n",
    "\n",
    "# # 최종 필터링\n",
    "# df_day = df_day[df_day[\"unique_id\"].isin(valid_ids)].copy()\n"
   ]
  },
  {
   "cell_type": "markdown",
   "id": "f3bff320",
   "metadata": {},
   "source": [
    "## 최근 30일 필터링"
   ]
  },
  {
   "cell_type": "code",
   "execution_count": 1051,
   "id": "b9a56b29",
   "metadata": {},
   "outputs": [],
   "source": [
    "# import pandas as pd\n",
    "# # 최근 30일 중 20일 이상 기록된 광고만 필터링\n",
    "\n",
    "# # 날짜 변환\n",
    "# df_day[\"rpt_time_date\"] = pd.to_datetime(df_day[\"rpt_time_date\"])\n",
    "\n",
    "# # 기준일 (데이터셋에서 가장 최근 날짜)\n",
    "# max_date = df_day[\"rpt_time_date\"].max()\n",
    "# cutoff_date = max_date - pd.Timedelta(days=29)   # 30일 포함하려면 -29\n",
    "\n",
    "# # 최근 30일 구간만 추출\n",
    "# df_recent_window = df_day[df_day[\"rpt_time_date\"].between(cutoff_date, max_date)]\n",
    "\n",
    "# # unique_id별 기록된 날짜 수 세기\n",
    "# id_date_counts = df_recent_window.groupby(\"unique_id\")[\"rpt_time_date\"].nunique()\n",
    "\n",
    "# # 20일 이상 기록된 unique_id만 선택\n",
    "# valid_ids = id_date_counts[id_date_counts >= 30].index\n",
    "\n",
    "# # 최종 필터링 (해당 unique_id 전체 기록 유지)\n",
    "# df_day = df_day[df_day[\"unique_id\"].isin(valid_ids)].copy()"
   ]
  },
  {
   "cell_type": "code",
   "execution_count": 1052,
   "id": "217e10cd",
   "metadata": {},
   "outputs": [
    {
     "name": "stdout",
     "output_type": "stream",
     "text": [
      "26357\n",
      "1733\n",
      "325\n"
     ]
    }
   ],
   "source": [
    "print(df_day['unique_id'].nunique())\n",
    "print(df_day['ads_idx'].nunique())\n",
    "print(df_day['mda_idx'].nunique())\n"
   ]
  },
  {
   "cell_type": "code",
   "execution_count": 1053,
   "id": "b7a0a10c",
   "metadata": {},
   "outputs": [],
   "source": [
    "# # 날짜가 30일 이상인 것만 가져가기 정규분포에 의해서\n",
    "# date_counts = df_day.groupby(\"unique_id\")[\"rpt_time_date\"].nunique()\n",
    "# valid_ids = date_counts[date_counts >= 30].index\n",
    "# df_day = df_day[df_day[\"unique_id\"].isin(valid_ids)]"
   ]
  },
  {
   "cell_type": "code",
   "execution_count": 1054,
   "id": "613446ce",
   "metadata": {},
   "outputs": [
    {
     "name": "stdout",
     "output_type": "stream",
     "text": [
      "26357\n",
      "1733\n",
      "325\n"
     ]
    }
   ],
   "source": [
    "print(df_day['unique_id'].nunique())\n",
    "print(df_day['ads_idx'].nunique())\n",
    "print(df_day['mda_idx'].nunique())\n"
   ]
  },
  {
   "cell_type": "code",
   "execution_count": 1055,
   "id": "d147fd98",
   "metadata": {},
   "outputs": [
    {
     "name": "stdout",
     "output_type": "stream",
     "text": [
      "<class 'pandas.core.frame.DataFrame'>\n",
      "RangeIndex: 458835 entries, 0 to 458834\n",
      "Data columns (total 7 columns):\n",
      " #   Column           Non-Null Count   Dtype         \n",
      "---  ------           --------------   -----         \n",
      " 0   unique_id        458835 non-null  int64         \n",
      " 1   rpt_time_date    458835 non-null  datetime64[ns]\n",
      " 2   turn_sum         458835 non-null  int16         \n",
      " 3   ads_idx          458835 non-null  int32         \n",
      " 4   mda_idx          458835 non-null  int16         \n",
      " 5   ads_category_id  458835 non-null  int8          \n",
      " 6   domain           458835 non-null  object        \n",
      "dtypes: datetime64[ns](1), int16(2), int32(1), int64(1), int8(1), object(1)\n",
      "memory usage: 14.4+ MB\n"
     ]
    }
   ],
   "source": [
    "df_day.info()"
   ]
  },
  {
   "cell_type": "code",
   "execution_count": 1056,
   "id": "0bfef371",
   "metadata": {},
   "outputs": [
    {
     "name": "stdout",
     "output_type": "stream",
     "text": [
      "   rpt_time_date  unique_id  turn_sum  ads_idx  mda_idx  ads_category_id  \\\n",
      "0     2025-03-22   25950054      11.0   2595.0     54.0              2.0   \n",
      "1     2025-03-23   25950054       4.0   2595.0     54.0              2.0   \n",
      "2     2025-03-24   25950054       5.0   2595.0     54.0              2.0   \n",
      "3     2025-03-25   25950054       0.0   2595.0     54.0              2.0   \n",
      "4     2025-03-26   25950054       1.0   2595.0     54.0              2.0   \n",
      "5     2025-03-27   25950054       3.0   2595.0     54.0              2.0   \n",
      "6     2025-03-28   25950054       2.0   2595.0     54.0              2.0   \n",
      "7     2025-03-29   25950054       1.0   2595.0     54.0              2.0   \n",
      "8     2025-03-30   25950054       2.0   2595.0     54.0              2.0   \n",
      "9     2025-03-31   25950054       0.0   2595.0     54.0              2.0   \n",
      "10    2025-04-01   25950054       1.0   2595.0     54.0              2.0   \n",
      "11    2025-04-02   25950054       2.0   2595.0     54.0              2.0   \n",
      "12    2025-04-03   25950054       0.0   2595.0     54.0              2.0   \n",
      "13    2025-04-04   25950054       1.0   2595.0     54.0              2.0   \n",
      "14    2025-04-05   25950054       NaN      NaN      NaN              NaN   \n",
      "\n",
      "   domain  flag  \n",
      "0   생활서비스     1  \n",
      "1   생활서비스     1  \n",
      "2   생활서비스     1  \n",
      "3   생활서비스     1  \n",
      "4   생활서비스     1  \n",
      "5   생활서비스     1  \n",
      "6   생활서비스     1  \n",
      "7   생활서비스     1  \n",
      "8   생활서비스     1  \n",
      "9   생활서비스     1  \n",
      "10  생활서비스     1  \n",
      "11  생활서비스     1  \n",
      "12  생활서비스     1  \n",
      "13  생활서비스     1  \n",
      "14    NaN     0  \n"
     ]
    }
   ],
   "source": [
    "# 데이터 보간 작업 시작.\n",
    "# 오늘 날짜\n",
    "end_date = pd.to_datetime(\"2025-08-29\")\n",
    "\n",
    "filled_list = []\n",
    "\n",
    "for uid, group in df_day.groupby(\"unique_id\"):\n",
    "    # 아이디별 시작 날짜 ~ 8/29까지 생성\n",
    "    start_date = group['rpt_time_date'].min()\n",
    "    all_dates = pd.date_range(start=start_date, end=end_date, freq=\"D\")\n",
    "\n",
    "    # 날짜 기준으로 reindex\n",
    "    g = group.set_index(\"rpt_time_date\").reindex(all_dates)\n",
    "\n",
    "    # flag: 기존 데이터 있으면 1, 없으면 0\n",
    "    g[\"flag\"] = g[\"turn_sum\"].notna().astype(int)\n",
    "\n",
    "    # ID 다시 넣기\n",
    "    g[\"unique_id\"] = uid\n",
    "    g = g.reset_index().rename(columns={\"index\": \"rpt_time_date\"})\n",
    "\n",
    "    filled_list.append(g)\n",
    "\n",
    "df_filled = pd.concat(filled_list, ignore_index=True)\n",
    "\n",
    "print(df_filled.head(15))"
   ]
  },
  {
   "cell_type": "code",
   "execution_count": 1057,
   "id": "33abe4a7",
   "metadata": {},
   "outputs": [
    {
     "data": {
      "application/vnd.microsoft.datawrangler.viewer.v0+json": {
       "columns": [
        {
         "name": "index",
         "rawType": "object",
         "type": "string"
        },
        {
         "name": "0",
         "rawType": "int64",
         "type": "integer"
        }
       ],
       "ref": "5b2e454c-0f08-42af-8a3e-34ea961ce752",
       "rows": [
        [
         "rpt_time_date",
         "0"
        ],
        [
         "unique_id",
         "0"
        ],
        [
         "turn_sum",
         "6002237"
        ],
        [
         "ads_idx",
         "6002237"
        ],
        [
         "mda_idx",
         "6002237"
        ],
        [
         "ads_category_id",
         "6002237"
        ],
        [
         "domain",
         "6002237"
        ],
        [
         "flag",
         "0"
        ]
       ],
       "shape": {
        "columns": 1,
        "rows": 8
       }
      },
      "text/plain": [
       "rpt_time_date            0\n",
       "unique_id                0\n",
       "turn_sum           6002237\n",
       "ads_idx            6002237\n",
       "mda_idx            6002237\n",
       "ads_category_id    6002237\n",
       "domain             6002237\n",
       "flag                     0\n",
       "dtype: int64"
      ]
     },
     "execution_count": 1057,
     "metadata": {},
     "output_type": "execute_result"
    }
   ],
   "source": [
    "df_filled.isna().sum()"
   ]
  },
  {
   "cell_type": "code",
   "execution_count": 1058,
   "id": "2760679a",
   "metadata": {},
   "outputs": [],
   "source": [
    "# 고정값 채우기 (광고별/매체별 단위)\n",
    "df_filled[['ads_idx','mda_idx','ads_category_id','domain']] = (\n",
    "    df_filled.groupby('unique_id')[['ads_idx','mda_idx','ads_category_id','domain']].ffill().bfill()\n",
    ")\n",
    "\n",
    "# 수치형 지표는 0으로\n",
    "cols_num = ['turn_sum']\n",
    "df_filled[cols_num] = df_filled[cols_num].fillna(0)\n",
    "\n",
    "# # unique_id별 중앙값 구하기\n",
    "# medians = df_filled.groupby(\"unique_id\")[cols_num].transform(\"median\")\n",
    "# # NA → 해당 id의 중앙값으로 대체\n",
    "# df_filled[cols_num] = df_filled[cols_num].fillna(medians)\n"
   ]
  },
  {
   "cell_type": "code",
   "execution_count": 1059,
   "id": "6027fed3",
   "metadata": {},
   "outputs": [
    {
     "data": {
      "application/vnd.microsoft.datawrangler.viewer.v0+json": {
       "columns": [
        {
         "name": "index",
         "rawType": "object",
         "type": "string"
        },
        {
         "name": "0",
         "rawType": "int64",
         "type": "integer"
        }
       ],
       "ref": "5fb2abe6-3539-4b17-93fc-b8e06ee14dc4",
       "rows": [
        [
         "rpt_time_date",
         "0"
        ],
        [
         "unique_id",
         "0"
        ],
        [
         "turn_sum",
         "0"
        ],
        [
         "ads_idx",
         "0"
        ],
        [
         "mda_idx",
         "0"
        ],
        [
         "ads_category_id",
         "0"
        ],
        [
         "domain",
         "0"
        ],
        [
         "flag",
         "0"
        ]
       ],
       "shape": {
        "columns": 1,
        "rows": 8
       }
      },
      "text/plain": [
       "rpt_time_date      0\n",
       "unique_id          0\n",
       "turn_sum           0\n",
       "ads_idx            0\n",
       "mda_idx            0\n",
       "ads_category_id    0\n",
       "domain             0\n",
       "flag               0\n",
       "dtype: int64"
      ]
     },
     "execution_count": 1059,
     "metadata": {},
     "output_type": "execute_result"
    }
   ],
   "source": [
    "df_filled.isna().sum()"
   ]
  },
  {
   "cell_type": "markdown",
   "id": "a5341c7d",
   "metadata": {},
   "source": [
    "## 보간 이후 날짜 길이 정제"
   ]
  },
  {
   "cell_type": "code",
   "execution_count": 1060,
   "id": "232d7e75",
   "metadata": {},
   "outputs": [],
   "source": [
    "# # 날짜가 30일 이상인 것만 가져가기 정규분포에 의해서\n",
    "# date_counts = df_filled.groupby(\"unique_id\")[\"rpt_time_date\"].nunique()\n",
    "# valid_ids = date_counts[date_counts >= 30].index\n",
    "# df_filled = df_filled[df_filled[\"unique_id\"].isin(valid_ids)]"
   ]
  },
  {
   "cell_type": "code",
   "execution_count": 1061,
   "id": "5c6ba84d",
   "metadata": {},
   "outputs": [
    {
     "name": "stdout",
     "output_type": "stream",
     "text": [
      "26357\n",
      "1733\n",
      "325\n"
     ]
    }
   ],
   "source": [
    "print(df_filled['unique_id'].nunique())\n",
    "print(df_filled['ads_idx'].nunique())\n",
    "print(df_filled['mda_idx'].nunique())"
   ]
  },
  {
   "cell_type": "markdown",
   "id": "228a1214",
   "metadata": {},
   "source": [
    "## 파생피처 추가"
   ]
  },
  {
   "cell_type": "markdown",
   "id": "89509378",
   "metadata": {},
   "source": [
    "### 일별 광고별 매체별"
   ]
  },
  {
   "cell_type": "code",
   "execution_count": 1130,
   "id": "016cd9e2",
   "metadata": {},
   "outputs": [],
   "source": [
    "#ads_idx + mda_idx 기준으로 \"전환이 발생한 날짜 수\n",
    "group = (\n",
    "    df_filled.groupby([\"ads_idx\", \"mda_idx\"])\n",
    "    .agg(turn_day_count=('turn_sum', lambda x: (x > 0).sum()))\n",
    "    .reset_index()\n",
    ")\n",
    "group = group.rename(columns={'turn_sum': 'turn_day_count'})\n",
    "\n",
    "df_feat = df_filled.merge(group, on=[\"ads_idx\", \"mda_idx\"], how=\"left\")\n"
   ]
  },
  {
   "cell_type": "code",
   "execution_count": 1063,
   "id": "46132066",
   "metadata": {},
   "outputs": [
    {
     "data": {
      "application/vnd.microsoft.datawrangler.viewer.v0+json": {
       "columns": [
        {
         "name": "index",
         "rawType": "int64",
         "type": "integer"
        },
        {
         "name": "rpt_time_date",
         "rawType": "datetime64[ns]",
         "type": "datetime"
        },
        {
         "name": "unique_id",
         "rawType": "int64",
         "type": "integer"
        },
        {
         "name": "turn_sum",
         "rawType": "float64",
         "type": "float"
        },
        {
         "name": "ads_idx",
         "rawType": "float64",
         "type": "float"
        },
        {
         "name": "mda_idx",
         "rawType": "float64",
         "type": "float"
        },
        {
         "name": "ads_category_id",
         "rawType": "float64",
         "type": "float"
        },
        {
         "name": "domain",
         "rawType": "object",
         "type": "string"
        },
        {
         "name": "flag",
         "rawType": "int64",
         "type": "integer"
        },
        {
         "name": "turn_day_count",
         "rawType": "int64",
         "type": "integer"
        }
       ],
       "ref": "4fec10f3-dff9-49ad-a439-042ec249066b",
       "rows": [
        [
         "0",
         "2025-03-22 00:00:00",
         "25950054",
         "11.0",
         "2595.0",
         "54.0",
         "2.0",
         "생활서비스",
         "1",
         "11"
        ],
        [
         "1",
         "2025-03-23 00:00:00",
         "25950054",
         "4.0",
         "2595.0",
         "54.0",
         "2.0",
         "생활서비스",
         "1",
         "11"
        ],
        [
         "2",
         "2025-03-24 00:00:00",
         "25950054",
         "5.0",
         "2595.0",
         "54.0",
         "2.0",
         "생활서비스",
         "1",
         "11"
        ],
        [
         "3",
         "2025-03-25 00:00:00",
         "25950054",
         "0.0",
         "2595.0",
         "54.0",
         "2.0",
         "생활서비스",
         "1",
         "11"
        ],
        [
         "4",
         "2025-03-26 00:00:00",
         "25950054",
         "1.0",
         "2595.0",
         "54.0",
         "2.0",
         "생활서비스",
         "1",
         "11"
        ],
        [
         "5",
         "2025-03-27 00:00:00",
         "25950054",
         "3.0",
         "2595.0",
         "54.0",
         "2.0",
         "생활서비스",
         "1",
         "11"
        ],
        [
         "6",
         "2025-03-28 00:00:00",
         "25950054",
         "2.0",
         "2595.0",
         "54.0",
         "2.0",
         "생활서비스",
         "1",
         "11"
        ],
        [
         "7",
         "2025-03-29 00:00:00",
         "25950054",
         "1.0",
         "2595.0",
         "54.0",
         "2.0",
         "생활서비스",
         "1",
         "11"
        ],
        [
         "8",
         "2025-03-30 00:00:00",
         "25950054",
         "2.0",
         "2595.0",
         "54.0",
         "2.0",
         "생활서비스",
         "1",
         "11"
        ],
        [
         "9",
         "2025-03-31 00:00:00",
         "25950054",
         "0.0",
         "2595.0",
         "54.0",
         "2.0",
         "생활서비스",
         "1",
         "11"
        ],
        [
         "10",
         "2025-04-01 00:00:00",
         "25950054",
         "1.0",
         "2595.0",
         "54.0",
         "2.0",
         "생활서비스",
         "1",
         "11"
        ],
        [
         "11",
         "2025-04-02 00:00:00",
         "25950054",
         "2.0",
         "2595.0",
         "54.0",
         "2.0",
         "생활서비스",
         "1",
         "11"
        ],
        [
         "12",
         "2025-04-03 00:00:00",
         "25950054",
         "0.0",
         "2595.0",
         "54.0",
         "2.0",
         "생활서비스",
         "1",
         "11"
        ],
        [
         "13",
         "2025-04-04 00:00:00",
         "25950054",
         "1.0",
         "2595.0",
         "54.0",
         "2.0",
         "생활서비스",
         "1",
         "11"
        ],
        [
         "14",
         "2025-04-05 00:00:00",
         "25950054",
         "0.0",
         "2595.0",
         "54.0",
         "2.0",
         "생활서비스",
         "0",
         "11"
        ],
        [
         "15",
         "2025-04-06 00:00:00",
         "25950054",
         "0.0",
         "2595.0",
         "54.0",
         "2.0",
         "생활서비스",
         "0",
         "11"
        ],
        [
         "16",
         "2025-04-07 00:00:00",
         "25950054",
         "0.0",
         "2595.0",
         "54.0",
         "2.0",
         "생활서비스",
         "0",
         "11"
        ],
        [
         "17",
         "2025-04-08 00:00:00",
         "25950054",
         "0.0",
         "2595.0",
         "54.0",
         "2.0",
         "생활서비스",
         "0",
         "11"
        ],
        [
         "18",
         "2025-04-09 00:00:00",
         "25950054",
         "0.0",
         "2595.0",
         "54.0",
         "2.0",
         "생활서비스",
         "0",
         "11"
        ],
        [
         "19",
         "2025-04-10 00:00:00",
         "25950054",
         "0.0",
         "2595.0",
         "54.0",
         "2.0",
         "생활서비스",
         "0",
         "11"
        ],
        [
         "20",
         "2025-04-11 00:00:00",
         "25950054",
         "0.0",
         "2595.0",
         "54.0",
         "2.0",
         "생활서비스",
         "0",
         "11"
        ],
        [
         "21",
         "2025-04-12 00:00:00",
         "25950054",
         "0.0",
         "2595.0",
         "54.0",
         "2.0",
         "생활서비스",
         "0",
         "11"
        ],
        [
         "22",
         "2025-04-13 00:00:00",
         "25950054",
         "0.0",
         "2595.0",
         "54.0",
         "2.0",
         "생활서비스",
         "0",
         "11"
        ],
        [
         "23",
         "2025-04-14 00:00:00",
         "25950054",
         "0.0",
         "2595.0",
         "54.0",
         "2.0",
         "생활서비스",
         "0",
         "11"
        ],
        [
         "24",
         "2025-04-15 00:00:00",
         "25950054",
         "0.0",
         "2595.0",
         "54.0",
         "2.0",
         "생활서비스",
         "0",
         "11"
        ],
        [
         "25",
         "2025-04-16 00:00:00",
         "25950054",
         "0.0",
         "2595.0",
         "54.0",
         "2.0",
         "생활서비스",
         "0",
         "11"
        ],
        [
         "26",
         "2025-04-17 00:00:00",
         "25950054",
         "0.0",
         "2595.0",
         "54.0",
         "2.0",
         "생활서비스",
         "0",
         "11"
        ],
        [
         "27",
         "2025-04-18 00:00:00",
         "25950054",
         "0.0",
         "2595.0",
         "54.0",
         "2.0",
         "생활서비스",
         "0",
         "11"
        ],
        [
         "28",
         "2025-04-19 00:00:00",
         "25950054",
         "0.0",
         "2595.0",
         "54.0",
         "2.0",
         "생활서비스",
         "0",
         "11"
        ],
        [
         "29",
         "2025-04-20 00:00:00",
         "25950054",
         "0.0",
         "2595.0",
         "54.0",
         "2.0",
         "생활서비스",
         "0",
         "11"
        ],
        [
         "30",
         "2025-04-21 00:00:00",
         "25950054",
         "0.0",
         "2595.0",
         "54.0",
         "2.0",
         "생활서비스",
         "0",
         "11"
        ],
        [
         "31",
         "2025-04-22 00:00:00",
         "25950054",
         "0.0",
         "2595.0",
         "54.0",
         "2.0",
         "생활서비스",
         "0",
         "11"
        ],
        [
         "32",
         "2025-04-23 00:00:00",
         "25950054",
         "0.0",
         "2595.0",
         "54.0",
         "2.0",
         "생활서비스",
         "0",
         "11"
        ],
        [
         "33",
         "2025-04-24 00:00:00",
         "25950054",
         "0.0",
         "2595.0",
         "54.0",
         "2.0",
         "생활서비스",
         "0",
         "11"
        ],
        [
         "34",
         "2025-04-25 00:00:00",
         "25950054",
         "0.0",
         "2595.0",
         "54.0",
         "2.0",
         "생활서비스",
         "0",
         "11"
        ],
        [
         "35",
         "2025-04-26 00:00:00",
         "25950054",
         "0.0",
         "2595.0",
         "54.0",
         "2.0",
         "생활서비스",
         "0",
         "11"
        ],
        [
         "36",
         "2025-04-27 00:00:00",
         "25950054",
         "0.0",
         "2595.0",
         "54.0",
         "2.0",
         "생활서비스",
         "0",
         "11"
        ],
        [
         "37",
         "2025-04-28 00:00:00",
         "25950054",
         "0.0",
         "2595.0",
         "54.0",
         "2.0",
         "생활서비스",
         "0",
         "11"
        ],
        [
         "38",
         "2025-04-29 00:00:00",
         "25950054",
         "0.0",
         "2595.0",
         "54.0",
         "2.0",
         "생활서비스",
         "0",
         "11"
        ],
        [
         "39",
         "2025-04-30 00:00:00",
         "25950054",
         "0.0",
         "2595.0",
         "54.0",
         "2.0",
         "생활서비스",
         "0",
         "11"
        ],
        [
         "40",
         "2025-05-01 00:00:00",
         "25950054",
         "0.0",
         "2595.0",
         "54.0",
         "2.0",
         "생활서비스",
         "0",
         "11"
        ],
        [
         "41",
         "2025-05-02 00:00:00",
         "25950054",
         "0.0",
         "2595.0",
         "54.0",
         "2.0",
         "생활서비스",
         "0",
         "11"
        ],
        [
         "42",
         "2025-05-03 00:00:00",
         "25950054",
         "0.0",
         "2595.0",
         "54.0",
         "2.0",
         "생활서비스",
         "0",
         "11"
        ],
        [
         "43",
         "2025-05-04 00:00:00",
         "25950054",
         "0.0",
         "2595.0",
         "54.0",
         "2.0",
         "생활서비스",
         "0",
         "11"
        ],
        [
         "44",
         "2025-05-05 00:00:00",
         "25950054",
         "0.0",
         "2595.0",
         "54.0",
         "2.0",
         "생활서비스",
         "0",
         "11"
        ],
        [
         "45",
         "2025-05-06 00:00:00",
         "25950054",
         "0.0",
         "2595.0",
         "54.0",
         "2.0",
         "생활서비스",
         "0",
         "11"
        ],
        [
         "46",
         "2025-05-07 00:00:00",
         "25950054",
         "0.0",
         "2595.0",
         "54.0",
         "2.0",
         "생활서비스",
         "0",
         "11"
        ],
        [
         "47",
         "2025-05-08 00:00:00",
         "25950054",
         "0.0",
         "2595.0",
         "54.0",
         "2.0",
         "생활서비스",
         "0",
         "11"
        ],
        [
         "48",
         "2025-05-09 00:00:00",
         "25950054",
         "0.0",
         "2595.0",
         "54.0",
         "2.0",
         "생활서비스",
         "0",
         "11"
        ],
        [
         "49",
         "2025-05-10 00:00:00",
         "25950054",
         "0.0",
         "2595.0",
         "54.0",
         "2.0",
         "생활서비스",
         "0",
         "11"
        ]
       ],
       "shape": {
        "columns": 9,
        "rows": 6461072
       }
      },
      "text/html": [
       "<div>\n",
       "<style scoped>\n",
       "    .dataframe tbody tr th:only-of-type {\n",
       "        vertical-align: middle;\n",
       "    }\n",
       "\n",
       "    .dataframe tbody tr th {\n",
       "        vertical-align: top;\n",
       "    }\n",
       "\n",
       "    .dataframe thead th {\n",
       "        text-align: right;\n",
       "    }\n",
       "</style>\n",
       "<table border=\"1\" class=\"dataframe\">\n",
       "  <thead>\n",
       "    <tr style=\"text-align: right;\">\n",
       "      <th></th>\n",
       "      <th>rpt_time_date</th>\n",
       "      <th>unique_id</th>\n",
       "      <th>turn_sum</th>\n",
       "      <th>ads_idx</th>\n",
       "      <th>mda_idx</th>\n",
       "      <th>ads_category_id</th>\n",
       "      <th>domain</th>\n",
       "      <th>flag</th>\n",
       "      <th>turn_day_count</th>\n",
       "    </tr>\n",
       "  </thead>\n",
       "  <tbody>\n",
       "    <tr>\n",
       "      <th>0</th>\n",
       "      <td>2025-03-22</td>\n",
       "      <td>25950054</td>\n",
       "      <td>11.0</td>\n",
       "      <td>2595.0</td>\n",
       "      <td>54.0</td>\n",
       "      <td>2.0</td>\n",
       "      <td>생활서비스</td>\n",
       "      <td>1</td>\n",
       "      <td>11</td>\n",
       "    </tr>\n",
       "    <tr>\n",
       "      <th>1</th>\n",
       "      <td>2025-03-23</td>\n",
       "      <td>25950054</td>\n",
       "      <td>4.0</td>\n",
       "      <td>2595.0</td>\n",
       "      <td>54.0</td>\n",
       "      <td>2.0</td>\n",
       "      <td>생활서비스</td>\n",
       "      <td>1</td>\n",
       "      <td>11</td>\n",
       "    </tr>\n",
       "    <tr>\n",
       "      <th>2</th>\n",
       "      <td>2025-03-24</td>\n",
       "      <td>25950054</td>\n",
       "      <td>5.0</td>\n",
       "      <td>2595.0</td>\n",
       "      <td>54.0</td>\n",
       "      <td>2.0</td>\n",
       "      <td>생활서비스</td>\n",
       "      <td>1</td>\n",
       "      <td>11</td>\n",
       "    </tr>\n",
       "    <tr>\n",
       "      <th>3</th>\n",
       "      <td>2025-03-25</td>\n",
       "      <td>25950054</td>\n",
       "      <td>0.0</td>\n",
       "      <td>2595.0</td>\n",
       "      <td>54.0</td>\n",
       "      <td>2.0</td>\n",
       "      <td>생활서비스</td>\n",
       "      <td>1</td>\n",
       "      <td>11</td>\n",
       "    </tr>\n",
       "    <tr>\n",
       "      <th>4</th>\n",
       "      <td>2025-03-26</td>\n",
       "      <td>25950054</td>\n",
       "      <td>1.0</td>\n",
       "      <td>2595.0</td>\n",
       "      <td>54.0</td>\n",
       "      <td>2.0</td>\n",
       "      <td>생활서비스</td>\n",
       "      <td>1</td>\n",
       "      <td>11</td>\n",
       "    </tr>\n",
       "    <tr>\n",
       "      <th>...</th>\n",
       "      <td>...</td>\n",
       "      <td>...</td>\n",
       "      <td>...</td>\n",
       "      <td>...</td>\n",
       "      <td>...</td>\n",
       "      <td>...</td>\n",
       "      <td>...</td>\n",
       "      <td>...</td>\n",
       "      <td>...</td>\n",
       "    </tr>\n",
       "    <tr>\n",
       "      <th>6461067</th>\n",
       "      <td>2025-08-25</td>\n",
       "      <td>4469180790</td>\n",
       "      <td>0.0</td>\n",
       "      <td>446918.0</td>\n",
       "      <td>790.0</td>\n",
       "      <td>2.0</td>\n",
       "      <td>기타</td>\n",
       "      <td>1</td>\n",
       "      <td>0</td>\n",
       "    </tr>\n",
       "    <tr>\n",
       "      <th>6461068</th>\n",
       "      <td>2025-08-26</td>\n",
       "      <td>4469180790</td>\n",
       "      <td>0.0</td>\n",
       "      <td>446918.0</td>\n",
       "      <td>790.0</td>\n",
       "      <td>2.0</td>\n",
       "      <td>기타</td>\n",
       "      <td>1</td>\n",
       "      <td>0</td>\n",
       "    </tr>\n",
       "    <tr>\n",
       "      <th>6461069</th>\n",
       "      <td>2025-08-27</td>\n",
       "      <td>4469180790</td>\n",
       "      <td>0.0</td>\n",
       "      <td>446918.0</td>\n",
       "      <td>790.0</td>\n",
       "      <td>2.0</td>\n",
       "      <td>기타</td>\n",
       "      <td>1</td>\n",
       "      <td>0</td>\n",
       "    </tr>\n",
       "    <tr>\n",
       "      <th>6461070</th>\n",
       "      <td>2025-08-28</td>\n",
       "      <td>4469180790</td>\n",
       "      <td>0.0</td>\n",
       "      <td>446918.0</td>\n",
       "      <td>790.0</td>\n",
       "      <td>2.0</td>\n",
       "      <td>기타</td>\n",
       "      <td>0</td>\n",
       "      <td>0</td>\n",
       "    </tr>\n",
       "    <tr>\n",
       "      <th>6461071</th>\n",
       "      <td>2025-08-29</td>\n",
       "      <td>4469180790</td>\n",
       "      <td>0.0</td>\n",
       "      <td>446918.0</td>\n",
       "      <td>790.0</td>\n",
       "      <td>2.0</td>\n",
       "      <td>기타</td>\n",
       "      <td>0</td>\n",
       "      <td>0</td>\n",
       "    </tr>\n",
       "  </tbody>\n",
       "</table>\n",
       "<p>6461072 rows × 9 columns</p>\n",
       "</div>"
      ],
      "text/plain": [
       "        rpt_time_date   unique_id  turn_sum   ads_idx  mda_idx  \\\n",
       "0          2025-03-22    25950054      11.0    2595.0     54.0   \n",
       "1          2025-03-23    25950054       4.0    2595.0     54.0   \n",
       "2          2025-03-24    25950054       5.0    2595.0     54.0   \n",
       "3          2025-03-25    25950054       0.0    2595.0     54.0   \n",
       "4          2025-03-26    25950054       1.0    2595.0     54.0   \n",
       "...               ...         ...       ...       ...      ...   \n",
       "6461067    2025-08-25  4469180790       0.0  446918.0    790.0   \n",
       "6461068    2025-08-26  4469180790       0.0  446918.0    790.0   \n",
       "6461069    2025-08-27  4469180790       0.0  446918.0    790.0   \n",
       "6461070    2025-08-28  4469180790       0.0  446918.0    790.0   \n",
       "6461071    2025-08-29  4469180790       0.0  446918.0    790.0   \n",
       "\n",
       "         ads_category_id domain  flag  turn_day_count  \n",
       "0                    2.0  생활서비스     1              11  \n",
       "1                    2.0  생활서비스     1              11  \n",
       "2                    2.0  생활서비스     1              11  \n",
       "3                    2.0  생활서비스     1              11  \n",
       "4                    2.0  생활서비스     1              11  \n",
       "...                  ...    ...   ...             ...  \n",
       "6461067              2.0     기타     1               0  \n",
       "6461068              2.0     기타     1               0  \n",
       "6461069              2.0     기타     1               0  \n",
       "6461070              2.0     기타     0               0  \n",
       "6461071              2.0     기타     0               0  \n",
       "\n",
       "[6461072 rows x 9 columns]"
      ]
     },
     "execution_count": 1063,
     "metadata": {},
     "output_type": "execute_result"
    }
   ],
   "source": [
    "df_feat"
   ]
  },
  {
   "cell_type": "code",
   "execution_count": null,
   "id": "c0eccd12",
   "metadata": {},
   "outputs": [],
   "source": []
  },
  {
   "cell_type": "markdown",
   "id": "1bd1a592",
   "metadata": {},
   "source": [
    "### 평균 관련 피처들"
   ]
  },
  {
   "cell_type": "code",
   "execution_count": 1131,
   "id": "cc53f6db",
   "metadata": {},
   "outputs": [],
   "source": [
    "import gc\n",
    "\n",
    "def add_mean_features(df, mean_features, idx_features):\n",
    "    # 기준 피처 확인 \n",
    "    assert (idx_features[0] == 'rpt_time_date') and \\\n",
    "           len(idx_features) in [2, 3]\n",
    "    \n",
    "    # 파생 피처명 설정 \n",
    "    if len(idx_features) == 2:\n",
    "        feature_name = idx_features[1] + '_mean_turn'\n",
    "    else:\n",
    "        feature_name = idx_features[1] + '/' + idx_features[2] + '_mean_turn'\n",
    "    \n",
    "    # 기준 피처를 토대로 그룹화해 월간 평균 판매량 구하기 \n",
    "    group = df.groupby(idx_features).agg({'turn_sum': 'mean'})\n",
    "    group = group.reset_index()\n",
    "    group = group.rename(columns={'turn_sum': feature_name})\n",
    "    \n",
    "    # df와 group 병합 \n",
    "    df = df.merge(group, on=idx_features, how='left')\n",
    "    # 데이터 다운캐스팅 \n",
    "    df = downcast(df, verbose=False)\n",
    "    # 새로 만든 feature_name 피처명을 mean_features 리스트에 추가 \n",
    "    mean_features.append(feature_name)\n",
    "    \n",
    "    # 가비지 컬렉션\n",
    "    del group\n",
    "    gc.collect()\n",
    "    \n",
    "    return df, mean_features"
   ]
  },
  {
   "cell_type": "code",
   "execution_count": 1132,
   "id": "e8fff2a2",
   "metadata": {},
   "outputs": [],
   "source": [
    "# 그룹화 기준 피처 중 'ads_idx'가 포함된 파생 피처명을 담을 리스트\n",
    "ads_mean_features = []\n",
    "\n",
    "# ['rpt_time_date', 'ads_idx']로 그룹화한 월간 평균 판매량 파생 피처 생성\n",
    "df_feat, ads_mean_features = add_mean_features(df=df_feat,\n",
    "                                                 mean_features=ads_mean_features,\n",
    "                                                 idx_features=['rpt_time_date', 'ads_idx'])\n",
    "\n",
    "# ['rpt_time_date', 'ads_idx', 'ads_category_id']로 그룹화한 월간 평균 판매량 파생 피처 생성\n",
    "df_feat, ads_mean_features = add_mean_features(df=df_feat,\n",
    "                                                 mean_features=ads_mean_features,\n",
    "                                                 idx_features=['rpt_time_date', 'ads_idx', 'ads_category_id'])\n"
   ]
  },
  {
   "cell_type": "code",
   "execution_count": 1133,
   "id": "66c2432a",
   "metadata": {},
   "outputs": [],
   "source": [
    "mda_mean_features = []\n",
    "\n",
    "# ['rpt_time_date', 'mda_idx']로 그룹화한 월간 평균 판매량 파생 피처 생성\n",
    "df_feat, mda_mean_features = add_mean_features(df=df_feat,\n",
    "                                                 mean_features=mda_mean_features,\n",
    "                                                 idx_features=['rpt_time_date', 'mda_idx'])\n",
    "\n",
    "# ['rpt_time_date', 'mda_idx', 'ads_category_id']로 그룹화한 월간 평균 판매량 파생 피처 생성\n",
    "df_feat, mda_mean_features = add_mean_features(df=df_feat,\n",
    "                                                 mean_features=mda_mean_features,\n",
    "                                                 idx_features=['rpt_time_date', 'mda_idx', 'ads_category_id'])"
   ]
  },
  {
   "cell_type": "markdown",
   "id": "7e03f77f",
   "metadata": {},
   "source": [
    "## 시차피처화"
   ]
  },
  {
   "cell_type": "code",
   "execution_count": 1134,
   "id": "ede2a153",
   "metadata": {},
   "outputs": [],
   "source": [
    "def add_lag_features(df, lag_features_to_clip, idx_features, \n",
    "                     lag_feature, nlags=3, clip=False):\n",
    "    # 정렬 필수\n",
    "    df = df.sort_values(idx_features + ['rpt_time_date']).copy()\n",
    "\n",
    "    for i in range(1, nlags+1):\n",
    "        lag_feature_name = f\"{lag_feature}_lag{i}\"\n",
    "\n",
    "        # 그룹별 shift + NA를 0으로 처리\n",
    "        df[lag_feature_name] = (\n",
    "            df.groupby(idx_features)[lag_feature]\n",
    "              .shift(i)\n",
    "              .fillna(0)\n",
    "        )\n",
    "\n",
    "        if clip:\n",
    "            lag_features_to_clip.append(lag_feature_name)\n",
    "\n",
    "    return df, lag_features_to_clip\n"
   ]
  },
  {
   "cell_type": "code",
   "execution_count": 1135,
   "id": "1fc6017b",
   "metadata": {},
   "outputs": [],
   "source": [
    "# turn_sum의 시차 피처\n",
    "lag_features = [] # 시차 피처명을 담을 리스트\n",
    "idx_features = [\"ads_idx\", \"mda_idx\"] # 기준 피처\n",
    "\n",
    "# idx_features를 기준으로 월간 판매량의 세 달치 시차 피처 생성\n",
    "df_feat, lag_features = add_lag_features(df=df_feat, \n",
    "                                                  lag_features_to_clip=lag_features,\n",
    "                                                  idx_features=idx_features,\n",
    "                                                  lag_feature='turn_sum', \n",
    "                                                  nlags=3,\n",
    "                                                  clip=False) "
   ]
  },
  {
   "cell_type": "code",
   "execution_count": 1136,
   "id": "6d296f6c",
   "metadata": {},
   "outputs": [],
   "source": [
    "# turn_day_count의 시차 피처\n",
    "lag_features = [] # 시차 피처명을 담을 리스트\n",
    "idx_features = [\"ads_idx\", \"mda_idx\"] # 기준 피처\n",
    "\n",
    "# idx_features를 기준으로 월간 판매량의 세 달치 시차 피처 생성\n",
    "df_feat, lag_features = add_lag_features(df=df_feat, \n",
    "                                                  lag_features_to_clip=lag_features,\n",
    "                                                  idx_features=idx_features,\n",
    "                                                  lag_feature='turn_day_count', \n",
    "                                                  nlags=3,\n",
    "                                                  clip=False) "
   ]
  },
  {
   "cell_type": "code",
   "execution_count": 1137,
   "id": "a1cc837c",
   "metadata": {},
   "outputs": [],
   "source": [
    "df_feat = downcast(df_feat, verbose=False)\n"
   ]
  },
  {
   "cell_type": "code",
   "execution_count": 1138,
   "id": "f510af51",
   "metadata": {},
   "outputs": [
    {
     "name": "stdout",
     "output_type": "stream",
     "text": [
      "<class 'pandas.core.frame.DataFrame'>\n",
      "RangeIndex: 6461072 entries, 0 to 6461071\n",
      "Data columns (total 19 columns):\n",
      " #   Column                             Dtype         \n",
      "---  ------                             -----         \n",
      " 0   rpt_time_date                      datetime64[ns]\n",
      " 1   unique_id                          int64         \n",
      " 2   turn_sum                           float32       \n",
      " 3   ads_idx                            float32       \n",
      " 4   mda_idx                            float32       \n",
      " 5   ads_category_id                    float32       \n",
      " 6   domain                             object        \n",
      " 7   flag                               int8          \n",
      " 8   turn_day_count                     int16         \n",
      " 9   ads_idx_mean_turn                  float32       \n",
      " 10  ads_idx/ads_category_id_mean_turn  float32       \n",
      " 11  mda_idx_mean_turn                  float32       \n",
      " 12  mda_idx/ads_category_id_mean_turn  float32       \n",
      " 13  turn_sum_lag1                      float32       \n",
      " 14  turn_sum_lag2                      float32       \n",
      " 15  turn_sum_lag3                      float32       \n",
      " 16  turn_day_count_lag1                float32       \n",
      " 17  turn_day_count_lag2                float32       \n",
      " 18  turn_day_count_lag3                float32       \n",
      "dtypes: datetime64[ns](1), float32(14), int16(1), int64(1), int8(1), object(1)\n",
      "memory usage: 511.4+ MB\n"
     ]
    }
   ],
   "source": [
    "df_feat.info()"
   ]
  },
  {
   "cell_type": "code",
   "execution_count": 1139,
   "id": "63738841",
   "metadata": {},
   "outputs": [],
   "source": [
    "# idx_features를 기준으로 월간 판매량의 세 달치 시차 피처 생성\n",
    "df_feat, lag_features = add_lag_features(df=df_feat, \n",
    "                                                  lag_features_to_clip=lag_features,\n",
    "                                                  idx_features=['mda_idx'],\n",
    "                                                  lag_feature='ads_idx_mean_turn', \n",
    "                                                  nlags=3,\n",
    "                                                  clip=False)\n",
    "\n",
    "# idx_features를 기준으로 월간 판매량의 세 달치 시차 피처 생성\n",
    "df_feat, lag_features = add_lag_features(df=df_feat, \n",
    "                                                  lag_features_to_clip=lag_features,\n",
    "                                                  idx_features=['mda_idx', 'ads_category_id'],\n",
    "                                                  lag_feature='ads_idx/ads_category_id_mean_turn', \n",
    "                                                  nlags=3,\n",
    "                                                  clip=False)\n",
    "# df_feat = df_feat.drop(ads_mean_features, axis=1)"
   ]
  },
  {
   "cell_type": "code",
   "execution_count": 1140,
   "id": "5a9cd2c4",
   "metadata": {},
   "outputs": [],
   "source": [
    "# idx_features를 기준으로 월간 판매량의 세 달치 시차 피처 생성\n",
    "df_feat, lag_features = add_lag_features(df=df_feat, \n",
    "                                                  lag_features_to_clip=lag_features,\n",
    "                                                  idx_features=['mda_idx'],\n",
    "                                                  lag_feature='mda_idx_mean_turn', \n",
    "                                                  nlags=3,\n",
    "                                                  clip=False)\n",
    "# idx_features를 기준으로 월간 판매량의 세 달치 시차 피처 생성\n",
    "df_feat, lag_features = add_lag_features(df=df_feat, \n",
    "                                                  lag_features_to_clip=lag_features,\n",
    "                                                  idx_features=['mda_idx', 'ads_category_id'],\n",
    "                                                  lag_feature='mda_idx/ads_category_id_mean_turn', \n",
    "                                                  nlags=3,\n",
    "                                                  clip=False)\n",
    "# df_feat = df_feat.drop(mda_mean_features, axis=1)"
   ]
  },
  {
   "cell_type": "code",
   "execution_count": 1141,
   "id": "ad54f5a2",
   "metadata": {},
   "outputs": [],
   "source": [
    "df_feat['turn_sum_lag_mean'] = df_feat[['turn_sum_lag1',\n",
    "                                          'turn_sum_lag2', \n",
    "                                          'turn_sum_lag3']].mean(axis=1)"
   ]
  },
  {
   "cell_type": "code",
   "execution_count": 1142,
   "id": "4c9393b7",
   "metadata": {},
   "outputs": [],
   "source": [
    "df_feat['lag_amount1'] = df_feat['turn_sum_lag1']/df_feat['turn_sum_lag2']\n",
    "df_feat['lag_amount1'] = df_feat['lag_amount1'].replace([np.inf, -np.inf], \n",
    "                                                        np.nan).fillna(0)\n",
    "\n",
    "df_feat['lag_amount2'] = df_feat['turn_sum_lag2']/df_feat['turn_sum_lag3']\n",
    "df_feat['lag_amount2'] = df_feat['lag_amount2'].replace([np.inf, -np.inf], \n",
    "                                                        np.nan).fillna(0)"
   ]
  },
  {
   "cell_type": "code",
   "execution_count": 1076,
   "id": "8c5e1a09",
   "metadata": {},
   "outputs": [
    {
     "name": "stdout",
     "output_type": "stream",
     "text": [
      "<class 'pandas.core.frame.DataFrame'>\n",
      "Index: 6461072 entries, 613923 to 6425054\n",
      "Data columns (total 30 columns):\n",
      " #   Column                                  Dtype         \n",
      "---  ------                                  -----         \n",
      " 0   rpt_time_date                           datetime64[ns]\n",
      " 1   unique_id                               int64         \n",
      " 2   turn_sum                                float32       \n",
      " 3   ads_idx                                 float32       \n",
      " 4   mda_idx                                 float32       \n",
      " 5   ads_category_id                         float32       \n",
      " 6   domain                                  object        \n",
      " 7   flag                                    int8          \n",
      " 8   turn_day_count                          int16         \n",
      " 9   turn_sum_lag1                           float32       \n",
      " 10  turn_sum_lag2                           float32       \n",
      " 11  turn_sum_lag3                           float32       \n",
      " 12  turn_day_count_lag1                     float32       \n",
      " 13  turn_day_count_lag2                     float32       \n",
      " 14  turn_day_count_lag3                     float32       \n",
      " 15  ads_idx_mean_turn_lag1                  float32       \n",
      " 16  ads_idx_mean_turn_lag2                  float32       \n",
      " 17  ads_idx_mean_turn_lag3                  float32       \n",
      " 18  ads_idx/ads_category_id_mean_turn_lag1  float32       \n",
      " 19  ads_idx/ads_category_id_mean_turn_lag2  float32       \n",
      " 20  ads_idx/ads_category_id_mean_turn_lag3  float32       \n",
      " 21  mda_idx_mean_turn_lag1                  float32       \n",
      " 22  mda_idx_mean_turn_lag2                  float32       \n",
      " 23  mda_idx_mean_turn_lag3                  float32       \n",
      " 24  mda_idx/ads_category_id_mean_turn_lag1  float32       \n",
      " 25  mda_idx/ads_category_id_mean_turn_lag2  float32       \n",
      " 26  mda_idx/ads_category_id_mean_turn_lag3  float32       \n",
      " 27  turn_sum_lag_mean                       float32       \n",
      " 28  lag_amount1                             float32       \n",
      " 29  lag_amount2                             float32       \n",
      "dtypes: datetime64[ns](1), float32(25), int16(1), int64(1), int8(1), object(1)\n",
      "memory usage: 831.8+ MB\n"
     ]
    }
   ],
   "source": [
    "df_feat.info()"
   ]
  },
  {
   "cell_type": "code",
   "execution_count": 1077,
   "id": "4fa85a0d",
   "metadata": {},
   "outputs": [
    {
     "data": {
      "application/vnd.microsoft.datawrangler.viewer.v0+json": {
       "columns": [
        {
         "name": "index",
         "rawType": "int64",
         "type": "integer"
        },
        {
         "name": "rpt_time_date",
         "rawType": "datetime64[ns]",
         "type": "datetime"
        },
        {
         "name": "unique_id",
         "rawType": "int64",
         "type": "integer"
        },
        {
         "name": "turn_sum",
         "rawType": "float32",
         "type": "float"
        },
        {
         "name": "ads_idx",
         "rawType": "float32",
         "type": "float"
        },
        {
         "name": "mda_idx",
         "rawType": "float32",
         "type": "float"
        },
        {
         "name": "ads_category_id",
         "rawType": "float32",
         "type": "float"
        },
        {
         "name": "domain",
         "rawType": "object",
         "type": "string"
        },
        {
         "name": "flag",
         "rawType": "int8",
         "type": "integer"
        },
        {
         "name": "turn_day_count",
         "rawType": "int16",
         "type": "integer"
        },
        {
         "name": "turn_sum_lag1",
         "rawType": "float32",
         "type": "float"
        },
        {
         "name": "turn_sum_lag2",
         "rawType": "float32",
         "type": "float"
        },
        {
         "name": "turn_sum_lag3",
         "rawType": "float32",
         "type": "float"
        },
        {
         "name": "turn_day_count_lag1",
         "rawType": "float32",
         "type": "float"
        },
        {
         "name": "turn_day_count_lag2",
         "rawType": "float32",
         "type": "float"
        },
        {
         "name": "turn_day_count_lag3",
         "rawType": "float32",
         "type": "float"
        },
        {
         "name": "ads_idx_mean_turn_lag1",
         "rawType": "float32",
         "type": "float"
        },
        {
         "name": "ads_idx_mean_turn_lag2",
         "rawType": "float32",
         "type": "float"
        },
        {
         "name": "ads_idx_mean_turn_lag3",
         "rawType": "float32",
         "type": "float"
        },
        {
         "name": "ads_idx/ads_category_id_mean_turn_lag1",
         "rawType": "float32",
         "type": "float"
        },
        {
         "name": "ads_idx/ads_category_id_mean_turn_lag2",
         "rawType": "float32",
         "type": "float"
        },
        {
         "name": "ads_idx/ads_category_id_mean_turn_lag3",
         "rawType": "float32",
         "type": "float"
        },
        {
         "name": "mda_idx_mean_turn_lag1",
         "rawType": "float32",
         "type": "float"
        },
        {
         "name": "mda_idx_mean_turn_lag2",
         "rawType": "float32",
         "type": "float"
        },
        {
         "name": "mda_idx_mean_turn_lag3",
         "rawType": "float32",
         "type": "float"
        },
        {
         "name": "mda_idx/ads_category_id_mean_turn_lag1",
         "rawType": "float32",
         "type": "float"
        },
        {
         "name": "mda_idx/ads_category_id_mean_turn_lag2",
         "rawType": "float32",
         "type": "float"
        },
        {
         "name": "mda_idx/ads_category_id_mean_turn_lag3",
         "rawType": "float32",
         "type": "float"
        },
        {
         "name": "turn_sum_lag_mean",
         "rawType": "float32",
         "type": "float"
        },
        {
         "name": "lag_amount1",
         "rawType": "float32",
         "type": "float"
        },
        {
         "name": "lag_amount2",
         "rawType": "float32",
         "type": "float"
        }
       ],
       "ref": "a4c3985a-098c-4702-9a20-59c3615d330c",
       "rows": [
        [
         "613923",
         "2024-07-27 00:00:00",
         "210370012",
         "0.0",
         "21037.0",
         "12.0",
         "2.0",
         "상품소비",
         "1",
         "149",
         "0.0",
         "0.0",
         "0.0",
         "0.0",
         "0.0",
         "0.0",
         "0.0",
         "0.0",
         "0.0",
         "0.0",
         "0.0",
         "0.0",
         "0.0",
         "0.0",
         "0.0",
         "0.0",
         "0.0",
         "0.0",
         "0.0",
         "0.0",
         "0.0"
        ],
        [
         "613924",
         "2024-07-28 00:00:00",
         "210370012",
         "2.0",
         "21037.0",
         "12.0",
         "2.0",
         "상품소비",
         "1",
         "149",
         "0.0",
         "0.0",
         "0.0",
         "149.0",
         "0.0",
         "0.0",
         "0.0",
         "2.75",
         "0.0",
         "2.75",
         "0.0",
         "0.0",
         "0.0",
         "0.0",
         "0.0",
         "0.0",
         "0.0",
         "0.0",
         "0.0",
         "0.0",
         "0.0"
        ],
        [
         "613925",
         "2024-07-29 00:00:00",
         "210370012",
         "1.0",
         "21037.0",
         "12.0",
         "2.0",
         "상품소비",
         "1",
         "149",
         "2.0",
         "0.0",
         "0.0",
         "149.0",
         "149.0",
         "0.0",
         "0.060606062",
         "3.1764705",
         "0.0",
         "3.1764705",
         "2.75",
         "0.0",
         "1.0",
         "1.0",
         "0.0",
         "2.0",
         "0.0",
         "0.0",
         "0.6666667",
         "0.0",
         "0.0"
        ],
        [
         "613926",
         "2024-07-30 00:00:00",
         "210370012",
         "0.0",
         "21037.0",
         "12.0",
         "2.0",
         "상품소비",
         "1",
         "149",
         "1.0",
         "2.0",
         "0.0",
         "149.0",
         "149.0",
         "149.0",
         "0.0",
         "3.1764705",
         "0.060606062",
         "3.1764705",
         "3.1764705",
         "2.75",
         "0.5",
         "0.5",
         "1.0",
         "1.0",
         "2.0",
         "0.0",
         "1.0",
         "0.5",
         "0.0"
        ],
        [
         "613927",
         "2024-07-31 00:00:00",
         "210370012",
         "2.0",
         "21037.0",
         "12.0",
         "2.0",
         "상품소비",
         "1",
         "149",
         "0.0",
         "1.0",
         "2.0",
         "149.0",
         "149.0",
         "149.0",
         "0.0",
         "2.7222223",
         "0.0",
         "2.7222223",
         "3.1764705",
         "3.1764705",
         "0.0",
         "0.0",
         "0.5",
         "0.0",
         "1.0",
         "2.0",
         "1.0",
         "0.0",
         "0.5"
        ]
       ],
       "shape": {
        "columns": 30,
        "rows": 5
       }
      },
      "text/html": [
       "<div>\n",
       "<style scoped>\n",
       "    .dataframe tbody tr th:only-of-type {\n",
       "        vertical-align: middle;\n",
       "    }\n",
       "\n",
       "    .dataframe tbody tr th {\n",
       "        vertical-align: top;\n",
       "    }\n",
       "\n",
       "    .dataframe thead th {\n",
       "        text-align: right;\n",
       "    }\n",
       "</style>\n",
       "<table border=\"1\" class=\"dataframe\">\n",
       "  <thead>\n",
       "    <tr style=\"text-align: right;\">\n",
       "      <th></th>\n",
       "      <th>rpt_time_date</th>\n",
       "      <th>unique_id</th>\n",
       "      <th>turn_sum</th>\n",
       "      <th>ads_idx</th>\n",
       "      <th>mda_idx</th>\n",
       "      <th>ads_category_id</th>\n",
       "      <th>domain</th>\n",
       "      <th>flag</th>\n",
       "      <th>turn_day_count</th>\n",
       "      <th>turn_sum_lag1</th>\n",
       "      <th>...</th>\n",
       "      <th>ads_idx/ads_category_id_mean_turn_lag3</th>\n",
       "      <th>mda_idx_mean_turn_lag1</th>\n",
       "      <th>mda_idx_mean_turn_lag2</th>\n",
       "      <th>mda_idx_mean_turn_lag3</th>\n",
       "      <th>mda_idx/ads_category_id_mean_turn_lag1</th>\n",
       "      <th>mda_idx/ads_category_id_mean_turn_lag2</th>\n",
       "      <th>mda_idx/ads_category_id_mean_turn_lag3</th>\n",
       "      <th>turn_sum_lag_mean</th>\n",
       "      <th>lag_amount1</th>\n",
       "      <th>lag_amount2</th>\n",
       "    </tr>\n",
       "  </thead>\n",
       "  <tbody>\n",
       "    <tr>\n",
       "      <th>613923</th>\n",
       "      <td>2024-07-27</td>\n",
       "      <td>210370012</td>\n",
       "      <td>0.0</td>\n",
       "      <td>21037.0</td>\n",
       "      <td>12.0</td>\n",
       "      <td>2.0</td>\n",
       "      <td>상품소비</td>\n",
       "      <td>1</td>\n",
       "      <td>149</td>\n",
       "      <td>0.0</td>\n",
       "      <td>...</td>\n",
       "      <td>0.000000</td>\n",
       "      <td>0.0</td>\n",
       "      <td>0.0</td>\n",
       "      <td>0.0</td>\n",
       "      <td>0.0</td>\n",
       "      <td>0.0</td>\n",
       "      <td>0.0</td>\n",
       "      <td>0.000000</td>\n",
       "      <td>0.0</td>\n",
       "      <td>0.0</td>\n",
       "    </tr>\n",
       "    <tr>\n",
       "      <th>613924</th>\n",
       "      <td>2024-07-28</td>\n",
       "      <td>210370012</td>\n",
       "      <td>2.0</td>\n",
       "      <td>21037.0</td>\n",
       "      <td>12.0</td>\n",
       "      <td>2.0</td>\n",
       "      <td>상품소비</td>\n",
       "      <td>1</td>\n",
       "      <td>149</td>\n",
       "      <td>0.0</td>\n",
       "      <td>...</td>\n",
       "      <td>0.000000</td>\n",
       "      <td>0.0</td>\n",
       "      <td>0.0</td>\n",
       "      <td>0.0</td>\n",
       "      <td>0.0</td>\n",
       "      <td>0.0</td>\n",
       "      <td>0.0</td>\n",
       "      <td>0.000000</td>\n",
       "      <td>0.0</td>\n",
       "      <td>0.0</td>\n",
       "    </tr>\n",
       "    <tr>\n",
       "      <th>613925</th>\n",
       "      <td>2024-07-29</td>\n",
       "      <td>210370012</td>\n",
       "      <td>1.0</td>\n",
       "      <td>21037.0</td>\n",
       "      <td>12.0</td>\n",
       "      <td>2.0</td>\n",
       "      <td>상품소비</td>\n",
       "      <td>1</td>\n",
       "      <td>149</td>\n",
       "      <td>2.0</td>\n",
       "      <td>...</td>\n",
       "      <td>0.000000</td>\n",
       "      <td>1.0</td>\n",
       "      <td>1.0</td>\n",
       "      <td>0.0</td>\n",
       "      <td>2.0</td>\n",
       "      <td>0.0</td>\n",
       "      <td>0.0</td>\n",
       "      <td>0.666667</td>\n",
       "      <td>0.0</td>\n",
       "      <td>0.0</td>\n",
       "    </tr>\n",
       "    <tr>\n",
       "      <th>613926</th>\n",
       "      <td>2024-07-30</td>\n",
       "      <td>210370012</td>\n",
       "      <td>0.0</td>\n",
       "      <td>21037.0</td>\n",
       "      <td>12.0</td>\n",
       "      <td>2.0</td>\n",
       "      <td>상품소비</td>\n",
       "      <td>1</td>\n",
       "      <td>149</td>\n",
       "      <td>1.0</td>\n",
       "      <td>...</td>\n",
       "      <td>2.750000</td>\n",
       "      <td>0.5</td>\n",
       "      <td>0.5</td>\n",
       "      <td>1.0</td>\n",
       "      <td>1.0</td>\n",
       "      <td>2.0</td>\n",
       "      <td>0.0</td>\n",
       "      <td>1.000000</td>\n",
       "      <td>0.5</td>\n",
       "      <td>0.0</td>\n",
       "    </tr>\n",
       "    <tr>\n",
       "      <th>613927</th>\n",
       "      <td>2024-07-31</td>\n",
       "      <td>210370012</td>\n",
       "      <td>2.0</td>\n",
       "      <td>21037.0</td>\n",
       "      <td>12.0</td>\n",
       "      <td>2.0</td>\n",
       "      <td>상품소비</td>\n",
       "      <td>1</td>\n",
       "      <td>149</td>\n",
       "      <td>0.0</td>\n",
       "      <td>...</td>\n",
       "      <td>3.176471</td>\n",
       "      <td>0.0</td>\n",
       "      <td>0.0</td>\n",
       "      <td>0.5</td>\n",
       "      <td>0.0</td>\n",
       "      <td>1.0</td>\n",
       "      <td>2.0</td>\n",
       "      <td>1.000000</td>\n",
       "      <td>0.0</td>\n",
       "      <td>0.5</td>\n",
       "    </tr>\n",
       "  </tbody>\n",
       "</table>\n",
       "<p>5 rows × 30 columns</p>\n",
       "</div>"
      ],
      "text/plain": [
       "       rpt_time_date  unique_id  turn_sum  ads_idx  mda_idx  ads_category_id  \\\n",
       "613923    2024-07-27  210370012       0.0  21037.0     12.0              2.0   \n",
       "613924    2024-07-28  210370012       2.0  21037.0     12.0              2.0   \n",
       "613925    2024-07-29  210370012       1.0  21037.0     12.0              2.0   \n",
       "613926    2024-07-30  210370012       0.0  21037.0     12.0              2.0   \n",
       "613927    2024-07-31  210370012       2.0  21037.0     12.0              2.0   \n",
       "\n",
       "       domain  flag  turn_day_count  turn_sum_lag1  ...  \\\n",
       "613923   상품소비     1             149            0.0  ...   \n",
       "613924   상품소비     1             149            0.0  ...   \n",
       "613925   상품소비     1             149            2.0  ...   \n",
       "613926   상품소비     1             149            1.0  ...   \n",
       "613927   상품소비     1             149            0.0  ...   \n",
       "\n",
       "        ads_idx/ads_category_id_mean_turn_lag3  mda_idx_mean_turn_lag1  \\\n",
       "613923                                0.000000                     0.0   \n",
       "613924                                0.000000                     0.0   \n",
       "613925                                0.000000                     1.0   \n",
       "613926                                2.750000                     0.5   \n",
       "613927                                3.176471                     0.0   \n",
       "\n",
       "        mda_idx_mean_turn_lag2  mda_idx_mean_turn_lag3  \\\n",
       "613923                     0.0                     0.0   \n",
       "613924                     0.0                     0.0   \n",
       "613925                     1.0                     0.0   \n",
       "613926                     0.5                     1.0   \n",
       "613927                     0.0                     0.5   \n",
       "\n",
       "        mda_idx/ads_category_id_mean_turn_lag1  \\\n",
       "613923                                     0.0   \n",
       "613924                                     0.0   \n",
       "613925                                     2.0   \n",
       "613926                                     1.0   \n",
       "613927                                     0.0   \n",
       "\n",
       "        mda_idx/ads_category_id_mean_turn_lag2  \\\n",
       "613923                                     0.0   \n",
       "613924                                     0.0   \n",
       "613925                                     0.0   \n",
       "613926                                     2.0   \n",
       "613927                                     1.0   \n",
       "\n",
       "        mda_idx/ads_category_id_mean_turn_lag3  turn_sum_lag_mean  \\\n",
       "613923                                     0.0           0.000000   \n",
       "613924                                     0.0           0.000000   \n",
       "613925                                     0.0           0.666667   \n",
       "613926                                     0.0           1.000000   \n",
       "613927                                     2.0           1.000000   \n",
       "\n",
       "        lag_amount1  lag_amount2  \n",
       "613923          0.0          0.0  \n",
       "613924          0.0          0.0  \n",
       "613925          0.0          0.0  \n",
       "613926          0.5          0.0  \n",
       "613927          0.0          0.5  \n",
       "\n",
       "[5 rows x 30 columns]"
      ]
     },
     "execution_count": 1077,
     "metadata": {},
     "output_type": "execute_result"
    }
   ],
   "source": [
    "df_feat.head()"
   ]
  },
  {
   "cell_type": "code",
   "execution_count": 1143,
   "id": "07e66ef0",
   "metadata": {},
   "outputs": [],
   "source": [
    "# 광고 기간\n",
    "# 기준 날짜를 datetime으로 변환\n",
    "base_date = pd.to_datetime(\"2025-08-29\")\n",
    "\n",
    "# 각 행의 rpt_time_date와 차이 계산\n",
    "df_feat['due_day'] = (base_date - pd.to_datetime(df_feat['rpt_time_date'])).dt.days"
   ]
  },
  {
   "cell_type": "code",
   "execution_count": 1144,
   "id": "8e659db3",
   "metadata": {},
   "outputs": [],
   "source": [
    "domain_mapping = {'금융/보험':0, '게임':1, '상품소비':2, '생활서비스':3, '플랫폼':4, 'SNS/커뮤니케이션':5,\n",
    "           '콘텐츠':6, '앱테크/리워드':7, '유틸리티/툴':8, '지역/상점':9, '기타':10}\n",
    "df_feat['domain'] = df_feat['domain'].map(domain_mapping)\n",
    "df_feat['domain'] = df_feat['domain'].astype('category')"
   ]
  },
  {
   "cell_type": "code",
   "execution_count": 1145,
   "id": "f47624c3",
   "metadata": {},
   "outputs": [
    {
     "name": "stdout",
     "output_type": "stream",
     "text": [
      "<class 'pandas.core.frame.DataFrame'>\n",
      "Index: 6461072 entries, 613923 to 6425054\n",
      "Data columns (total 35 columns):\n",
      " #   Column                                  Dtype         \n",
      "---  ------                                  -----         \n",
      " 0   rpt_time_date                           datetime64[ns]\n",
      " 1   unique_id                               int64         \n",
      " 2   turn_sum                                float32       \n",
      " 3   ads_idx                                 float32       \n",
      " 4   mda_idx                                 float32       \n",
      " 5   ads_category_id                         float32       \n",
      " 6   domain                                  category      \n",
      " 7   flag                                    int8          \n",
      " 8   turn_day_count                          int16         \n",
      " 9   ads_idx_mean_turn                       float32       \n",
      " 10  ads_idx/ads_category_id_mean_turn       float32       \n",
      " 11  mda_idx_mean_turn                       float32       \n",
      " 12  mda_idx/ads_category_id_mean_turn       float32       \n",
      " 13  turn_sum_lag1                           float32       \n",
      " 14  turn_sum_lag2                           float32       \n",
      " 15  turn_sum_lag3                           float32       \n",
      " 16  turn_day_count_lag1                     float32       \n",
      " 17  turn_day_count_lag2                     float32       \n",
      " 18  turn_day_count_lag3                     float32       \n",
      " 19  ads_idx_mean_turn_lag1                  float32       \n",
      " 20  ads_idx_mean_turn_lag2                  float32       \n",
      " 21  ads_idx_mean_turn_lag3                  float32       \n",
      " 22  ads_idx/ads_category_id_mean_turn_lag1  float32       \n",
      " 23  ads_idx/ads_category_id_mean_turn_lag2  float32       \n",
      " 24  ads_idx/ads_category_id_mean_turn_lag3  float32       \n",
      " 25  mda_idx_mean_turn_lag1                  float32       \n",
      " 26  mda_idx_mean_turn_lag2                  float32       \n",
      " 27  mda_idx_mean_turn_lag3                  float32       \n",
      " 28  mda_idx/ads_category_id_mean_turn_lag1  float32       \n",
      " 29  mda_idx/ads_category_id_mean_turn_lag2  float32       \n",
      " 30  mda_idx/ads_category_id_mean_turn_lag3  float32       \n",
      " 31  turn_sum_lag_mean                       float32       \n",
      " 32  lag_amount1                             float32       \n",
      " 33  lag_amount2                             float32       \n",
      " 34  due_day                                 int64         \n",
      "dtypes: category(1), datetime64[ns](1), float32(29), int16(1), int64(2), int8(1)\n",
      "memory usage: 936.6 MB\n"
     ]
    }
   ],
   "source": [
    "df_feat.info()"
   ]
  },
  {
   "cell_type": "markdown",
   "id": "a54454fb",
   "metadata": {},
   "source": [
    "### 모델 구현 데이터로 형태 변경"
   ]
  },
  {
   "cell_type": "code",
   "execution_count": 1148,
   "id": "6b955073",
   "metadata": {},
   "outputs": [],
   "source": [
    "df_feat['year'] = df_feat['rpt_time_date'].dt.year\n",
    "df_feat['month'] = df_feat['rpt_time_date'].dt.month\n",
    "df_feat['day'] = df_feat['rpt_time_date'].dt.day\n",
    "df_feat[\"unique_id\"] = df_feat[\"unique_id\"].astype(int)"
   ]
  },
  {
   "cell_type": "code",
   "execution_count": 1149,
   "id": "522630cb",
   "metadata": {},
   "outputs": [
    {
     "name": "stdout",
     "output_type": "stream",
     "text": [
      "<class 'pandas.core.frame.DataFrame'>\n",
      "Index: 6461072 entries, 613923 to 6425054\n",
      "Data columns (total 38 columns):\n",
      " #   Column                                  Dtype         \n",
      "---  ------                                  -----         \n",
      " 0   rpt_time_date                           datetime64[ns]\n",
      " 1   unique_id                               int64         \n",
      " 2   turn_sum                                float32       \n",
      " 3   ads_idx                                 float32       \n",
      " 4   mda_idx                                 float32       \n",
      " 5   ads_category_id                         float32       \n",
      " 6   domain                                  category      \n",
      " 7   flag                                    int8          \n",
      " 8   turn_day_count                          int16         \n",
      " 9   ads_idx_mean_turn                       float32       \n",
      " 10  ads_idx/ads_category_id_mean_turn       float32       \n",
      " 11  mda_idx_mean_turn                       float32       \n",
      " 12  mda_idx/ads_category_id_mean_turn       float32       \n",
      " 13  turn_sum_lag1                           float32       \n",
      " 14  turn_sum_lag2                           float32       \n",
      " 15  turn_sum_lag3                           float32       \n",
      " 16  turn_day_count_lag1                     float32       \n",
      " 17  turn_day_count_lag2                     float32       \n",
      " 18  turn_day_count_lag3                     float32       \n",
      " 19  ads_idx_mean_turn_lag1                  float32       \n",
      " 20  ads_idx_mean_turn_lag2                  float32       \n",
      " 21  ads_idx_mean_turn_lag3                  float32       \n",
      " 22  ads_idx/ads_category_id_mean_turn_lag1  float32       \n",
      " 23  ads_idx/ads_category_id_mean_turn_lag2  float32       \n",
      " 24  ads_idx/ads_category_id_mean_turn_lag3  float32       \n",
      " 25  mda_idx_mean_turn_lag1                  float32       \n",
      " 26  mda_idx_mean_turn_lag2                  float32       \n",
      " 27  mda_idx_mean_turn_lag3                  float32       \n",
      " 28  mda_idx/ads_category_id_mean_turn_lag1  float32       \n",
      " 29  mda_idx/ads_category_id_mean_turn_lag2  float32       \n",
      " 30  mda_idx/ads_category_id_mean_turn_lag3  float32       \n",
      " 31  turn_sum_lag_mean                       float32       \n",
      " 32  lag_amount1                             float32       \n",
      " 33  lag_amount2                             float32       \n",
      " 34  due_day                                 int64         \n",
      " 35  year                                    int32         \n",
      " 36  month                                   int32         \n",
      " 37  day                                     int32         \n",
      "dtypes: category(1), datetime64[ns](1), float32(29), int16(1), int32(3), int64(2), int8(1)\n",
      "memory usage: 1010.5 MB\n"
     ]
    }
   ],
   "source": [
    "df_feat.info()"
   ]
  },
  {
   "cell_type": "code",
   "execution_count": 1146,
   "id": "82fb9c9e",
   "metadata": {},
   "outputs": [
    {
     "data": {
      "application/vnd.microsoft.datawrangler.viewer.v0+json": {
       "columns": [
        {
         "name": "index",
         "rawType": "object",
         "type": "string"
        },
        {
         "name": "turn_sum",
         "rawType": "float64",
         "type": "float"
        }
       ],
       "ref": "1c51f0bc-241e-4121-a6c3-b0efbd7a0a5e",
       "rows": [
        [
         "count",
         "6461072.0"
        ],
        [
         "mean",
         "0.41154780983924866"
        ],
        [
         "std",
         "12.2158203125"
        ],
        [
         "min",
         "0.0"
        ],
        [
         "25%",
         "0.0"
        ],
        [
         "50%",
         "0.0"
        ],
        [
         "75%",
         "0.0"
        ],
        [
         "max",
         "8482.0"
        ]
       ],
       "shape": {
        "columns": 1,
        "rows": 8
       }
      },
      "text/plain": [
       "count    6.461072e+06\n",
       "mean     4.115478e-01\n",
       "std      1.221582e+01\n",
       "min      0.000000e+00\n",
       "25%      0.000000e+00\n",
       "50%      0.000000e+00\n",
       "75%      0.000000e+00\n",
       "max      8.482000e+03\n",
       "Name: turn_sum, dtype: float64"
      ]
     },
     "execution_count": 1146,
     "metadata": {},
     "output_type": "execute_result"
    }
   ],
   "source": [
    "df_feat['turn_sum'].describe()"
   ]
  },
  {
   "cell_type": "code",
   "execution_count": 1084,
   "id": "b94ccb08",
   "metadata": {},
   "outputs": [],
   "source": [
    "# df_feat.to_csv(\"df_feat.csv\", index=False)"
   ]
  },
  {
   "cell_type": "code",
   "execution_count": 1085,
   "id": "cd665d2e",
   "metadata": {},
   "outputs": [
    {
     "data": {
      "application/vnd.microsoft.datawrangler.viewer.v0+json": {
       "columns": [
        {
         "name": "index",
         "rawType": "int64",
         "type": "integer"
        },
        {
         "name": "rpt_time_date",
         "rawType": "datetime64[ns]",
         "type": "datetime"
        },
        {
         "name": "unique_id",
         "rawType": "int64",
         "type": "integer"
        },
        {
         "name": "turn_sum",
         "rawType": "float32",
         "type": "float"
        },
        {
         "name": "ads_idx",
         "rawType": "float32",
         "type": "float"
        },
        {
         "name": "mda_idx",
         "rawType": "float32",
         "type": "float"
        },
        {
         "name": "ads_category_id",
         "rawType": "float32",
         "type": "float"
        },
        {
         "name": "domain",
         "rawType": "category",
         "type": "unknown"
        },
        {
         "name": "flag",
         "rawType": "int8",
         "type": "integer"
        },
        {
         "name": "turn_day_count",
         "rawType": "int16",
         "type": "integer"
        },
        {
         "name": "turn_sum_lag1",
         "rawType": "float32",
         "type": "float"
        },
        {
         "name": "turn_sum_lag2",
         "rawType": "float32",
         "type": "float"
        },
        {
         "name": "turn_sum_lag3",
         "rawType": "float32",
         "type": "float"
        },
        {
         "name": "turn_day_count_lag1",
         "rawType": "float32",
         "type": "float"
        },
        {
         "name": "turn_day_count_lag2",
         "rawType": "float32",
         "type": "float"
        },
        {
         "name": "turn_day_count_lag3",
         "rawType": "float32",
         "type": "float"
        },
        {
         "name": "ads_idx_mean_turn_lag1",
         "rawType": "float32",
         "type": "float"
        },
        {
         "name": "ads_idx_mean_turn_lag2",
         "rawType": "float32",
         "type": "float"
        },
        {
         "name": "ads_idx_mean_turn_lag3",
         "rawType": "float32",
         "type": "float"
        },
        {
         "name": "ads_idx/ads_category_id_mean_turn_lag1",
         "rawType": "float32",
         "type": "float"
        },
        {
         "name": "ads_idx/ads_category_id_mean_turn_lag2",
         "rawType": "float32",
         "type": "float"
        },
        {
         "name": "ads_idx/ads_category_id_mean_turn_lag3",
         "rawType": "float32",
         "type": "float"
        },
        {
         "name": "mda_idx_mean_turn_lag1",
         "rawType": "float32",
         "type": "float"
        },
        {
         "name": "mda_idx_mean_turn_lag2",
         "rawType": "float32",
         "type": "float"
        },
        {
         "name": "mda_idx_mean_turn_lag3",
         "rawType": "float32",
         "type": "float"
        },
        {
         "name": "mda_idx/ads_category_id_mean_turn_lag1",
         "rawType": "float32",
         "type": "float"
        },
        {
         "name": "mda_idx/ads_category_id_mean_turn_lag2",
         "rawType": "float32",
         "type": "float"
        },
        {
         "name": "mda_idx/ads_category_id_mean_turn_lag3",
         "rawType": "float32",
         "type": "float"
        },
        {
         "name": "turn_sum_lag_mean",
         "rawType": "float32",
         "type": "float"
        },
        {
         "name": "lag_amount1",
         "rawType": "float32",
         "type": "float"
        },
        {
         "name": "lag_amount2",
         "rawType": "float32",
         "type": "float"
        },
        {
         "name": "due_day",
         "rawType": "int64",
         "type": "integer"
        },
        {
         "name": "year",
         "rawType": "int32",
         "type": "integer"
        },
        {
         "name": "month",
         "rawType": "int32",
         "type": "integer"
        },
        {
         "name": "day",
         "rawType": "int32",
         "type": "integer"
        }
       ],
       "ref": "533def6c-bc51-4cfa-bfb0-20bb1bce873e",
       "rows": [
        [
         "613923",
         "2024-07-27 00:00:00",
         "210370012",
         "0.0",
         "21037.0",
         "12.0",
         "2.0",
         "2",
         "1",
         "149",
         "0.0",
         "0.0",
         "0.0",
         "0.0",
         "0.0",
         "0.0",
         "0.0",
         "0.0",
         "0.0",
         "0.0",
         "0.0",
         "0.0",
         "0.0",
         "0.0",
         "0.0",
         "0.0",
         "0.0",
         "0.0",
         "0.0",
         "0.0",
         "0.0",
         "398",
         "2024",
         "7",
         "27"
        ],
        [
         "613924",
         "2024-07-28 00:00:00",
         "210370012",
         "2.0",
         "21037.0",
         "12.0",
         "2.0",
         "2",
         "1",
         "149",
         "0.0",
         "0.0",
         "0.0",
         "149.0",
         "0.0",
         "0.0",
         "0.0",
         "2.75",
         "0.0",
         "2.75",
         "0.0",
         "0.0",
         "0.0",
         "0.0",
         "0.0",
         "0.0",
         "0.0",
         "0.0",
         "0.0",
         "0.0",
         "0.0",
         "397",
         "2024",
         "7",
         "28"
        ],
        [
         "613925",
         "2024-07-29 00:00:00",
         "210370012",
         "1.0",
         "21037.0",
         "12.0",
         "2.0",
         "2",
         "1",
         "149",
         "2.0",
         "0.0",
         "0.0",
         "149.0",
         "149.0",
         "0.0",
         "0.060606062",
         "3.1764705",
         "0.0",
         "3.1764705",
         "2.75",
         "0.0",
         "1.0",
         "1.0",
         "0.0",
         "2.0",
         "0.0",
         "0.0",
         "0.6666667",
         "0.0",
         "0.0",
         "396",
         "2024",
         "7",
         "29"
        ],
        [
         "613926",
         "2024-07-30 00:00:00",
         "210370012",
         "0.0",
         "21037.0",
         "12.0",
         "2.0",
         "2",
         "1",
         "149",
         "1.0",
         "2.0",
         "0.0",
         "149.0",
         "149.0",
         "149.0",
         "0.0",
         "3.1764705",
         "0.060606062",
         "3.1764705",
         "3.1764705",
         "2.75",
         "0.5",
         "0.5",
         "1.0",
         "1.0",
         "2.0",
         "0.0",
         "1.0",
         "0.5",
         "0.0",
         "395",
         "2024",
         "7",
         "30"
        ],
        [
         "613927",
         "2024-07-31 00:00:00",
         "210370012",
         "2.0",
         "21037.0",
         "12.0",
         "2.0",
         "2",
         "1",
         "149",
         "0.0",
         "1.0",
         "2.0",
         "149.0",
         "149.0",
         "149.0",
         "0.0",
         "2.7222223",
         "0.0",
         "2.7222223",
         "3.1764705",
         "3.1764705",
         "0.0",
         "0.0",
         "0.5",
         "0.0",
         "1.0",
         "2.0",
         "1.0",
         "0.0",
         "0.5",
         "394",
         "2024",
         "7",
         "31"
        ]
       ],
       "shape": {
        "columns": 34,
        "rows": 5
       }
      },
      "text/html": [
       "<div>\n",
       "<style scoped>\n",
       "    .dataframe tbody tr th:only-of-type {\n",
       "        vertical-align: middle;\n",
       "    }\n",
       "\n",
       "    .dataframe tbody tr th {\n",
       "        vertical-align: top;\n",
       "    }\n",
       "\n",
       "    .dataframe thead th {\n",
       "        text-align: right;\n",
       "    }\n",
       "</style>\n",
       "<table border=\"1\" class=\"dataframe\">\n",
       "  <thead>\n",
       "    <tr style=\"text-align: right;\">\n",
       "      <th></th>\n",
       "      <th>rpt_time_date</th>\n",
       "      <th>unique_id</th>\n",
       "      <th>turn_sum</th>\n",
       "      <th>ads_idx</th>\n",
       "      <th>mda_idx</th>\n",
       "      <th>ads_category_id</th>\n",
       "      <th>domain</th>\n",
       "      <th>flag</th>\n",
       "      <th>turn_day_count</th>\n",
       "      <th>turn_sum_lag1</th>\n",
       "      <th>...</th>\n",
       "      <th>mda_idx/ads_category_id_mean_turn_lag1</th>\n",
       "      <th>mda_idx/ads_category_id_mean_turn_lag2</th>\n",
       "      <th>mda_idx/ads_category_id_mean_turn_lag3</th>\n",
       "      <th>turn_sum_lag_mean</th>\n",
       "      <th>lag_amount1</th>\n",
       "      <th>lag_amount2</th>\n",
       "      <th>due_day</th>\n",
       "      <th>year</th>\n",
       "      <th>month</th>\n",
       "      <th>day</th>\n",
       "    </tr>\n",
       "  </thead>\n",
       "  <tbody>\n",
       "    <tr>\n",
       "      <th>613923</th>\n",
       "      <td>2024-07-27</td>\n",
       "      <td>210370012</td>\n",
       "      <td>0.0</td>\n",
       "      <td>21037.0</td>\n",
       "      <td>12.0</td>\n",
       "      <td>2.0</td>\n",
       "      <td>2</td>\n",
       "      <td>1</td>\n",
       "      <td>149</td>\n",
       "      <td>0.0</td>\n",
       "      <td>...</td>\n",
       "      <td>0.0</td>\n",
       "      <td>0.0</td>\n",
       "      <td>0.0</td>\n",
       "      <td>0.000000</td>\n",
       "      <td>0.0</td>\n",
       "      <td>0.0</td>\n",
       "      <td>398</td>\n",
       "      <td>2024</td>\n",
       "      <td>7</td>\n",
       "      <td>27</td>\n",
       "    </tr>\n",
       "    <tr>\n",
       "      <th>613924</th>\n",
       "      <td>2024-07-28</td>\n",
       "      <td>210370012</td>\n",
       "      <td>2.0</td>\n",
       "      <td>21037.0</td>\n",
       "      <td>12.0</td>\n",
       "      <td>2.0</td>\n",
       "      <td>2</td>\n",
       "      <td>1</td>\n",
       "      <td>149</td>\n",
       "      <td>0.0</td>\n",
       "      <td>...</td>\n",
       "      <td>0.0</td>\n",
       "      <td>0.0</td>\n",
       "      <td>0.0</td>\n",
       "      <td>0.000000</td>\n",
       "      <td>0.0</td>\n",
       "      <td>0.0</td>\n",
       "      <td>397</td>\n",
       "      <td>2024</td>\n",
       "      <td>7</td>\n",
       "      <td>28</td>\n",
       "    </tr>\n",
       "    <tr>\n",
       "      <th>613925</th>\n",
       "      <td>2024-07-29</td>\n",
       "      <td>210370012</td>\n",
       "      <td>1.0</td>\n",
       "      <td>21037.0</td>\n",
       "      <td>12.0</td>\n",
       "      <td>2.0</td>\n",
       "      <td>2</td>\n",
       "      <td>1</td>\n",
       "      <td>149</td>\n",
       "      <td>2.0</td>\n",
       "      <td>...</td>\n",
       "      <td>2.0</td>\n",
       "      <td>0.0</td>\n",
       "      <td>0.0</td>\n",
       "      <td>0.666667</td>\n",
       "      <td>0.0</td>\n",
       "      <td>0.0</td>\n",
       "      <td>396</td>\n",
       "      <td>2024</td>\n",
       "      <td>7</td>\n",
       "      <td>29</td>\n",
       "    </tr>\n",
       "    <tr>\n",
       "      <th>613926</th>\n",
       "      <td>2024-07-30</td>\n",
       "      <td>210370012</td>\n",
       "      <td>0.0</td>\n",
       "      <td>21037.0</td>\n",
       "      <td>12.0</td>\n",
       "      <td>2.0</td>\n",
       "      <td>2</td>\n",
       "      <td>1</td>\n",
       "      <td>149</td>\n",
       "      <td>1.0</td>\n",
       "      <td>...</td>\n",
       "      <td>1.0</td>\n",
       "      <td>2.0</td>\n",
       "      <td>0.0</td>\n",
       "      <td>1.000000</td>\n",
       "      <td>0.5</td>\n",
       "      <td>0.0</td>\n",
       "      <td>395</td>\n",
       "      <td>2024</td>\n",
       "      <td>7</td>\n",
       "      <td>30</td>\n",
       "    </tr>\n",
       "    <tr>\n",
       "      <th>613927</th>\n",
       "      <td>2024-07-31</td>\n",
       "      <td>210370012</td>\n",
       "      <td>2.0</td>\n",
       "      <td>21037.0</td>\n",
       "      <td>12.0</td>\n",
       "      <td>2.0</td>\n",
       "      <td>2</td>\n",
       "      <td>1</td>\n",
       "      <td>149</td>\n",
       "      <td>0.0</td>\n",
       "      <td>...</td>\n",
       "      <td>0.0</td>\n",
       "      <td>1.0</td>\n",
       "      <td>2.0</td>\n",
       "      <td>1.000000</td>\n",
       "      <td>0.0</td>\n",
       "      <td>0.5</td>\n",
       "      <td>394</td>\n",
       "      <td>2024</td>\n",
       "      <td>7</td>\n",
       "      <td>31</td>\n",
       "    </tr>\n",
       "  </tbody>\n",
       "</table>\n",
       "<p>5 rows × 34 columns</p>\n",
       "</div>"
      ],
      "text/plain": [
       "       rpt_time_date  unique_id  turn_sum  ads_idx  mda_idx  ads_category_id  \\\n",
       "613923    2024-07-27  210370012       0.0  21037.0     12.0              2.0   \n",
       "613924    2024-07-28  210370012       2.0  21037.0     12.0              2.0   \n",
       "613925    2024-07-29  210370012       1.0  21037.0     12.0              2.0   \n",
       "613926    2024-07-30  210370012       0.0  21037.0     12.0              2.0   \n",
       "613927    2024-07-31  210370012       2.0  21037.0     12.0              2.0   \n",
       "\n",
       "       domain  flag  turn_day_count  turn_sum_lag1  ...  \\\n",
       "613923      2     1             149            0.0  ...   \n",
       "613924      2     1             149            0.0  ...   \n",
       "613925      2     1             149            2.0  ...   \n",
       "613926      2     1             149            1.0  ...   \n",
       "613927      2     1             149            0.0  ...   \n",
       "\n",
       "        mda_idx/ads_category_id_mean_turn_lag1  \\\n",
       "613923                                     0.0   \n",
       "613924                                     0.0   \n",
       "613925                                     2.0   \n",
       "613926                                     1.0   \n",
       "613927                                     0.0   \n",
       "\n",
       "        mda_idx/ads_category_id_mean_turn_lag2  \\\n",
       "613923                                     0.0   \n",
       "613924                                     0.0   \n",
       "613925                                     0.0   \n",
       "613926                                     2.0   \n",
       "613927                                     1.0   \n",
       "\n",
       "        mda_idx/ads_category_id_mean_turn_lag3  turn_sum_lag_mean  \\\n",
       "613923                                     0.0           0.000000   \n",
       "613924                                     0.0           0.000000   \n",
       "613925                                     0.0           0.666667   \n",
       "613926                                     0.0           1.000000   \n",
       "613927                                     2.0           1.000000   \n",
       "\n",
       "        lag_amount1  lag_amount2  due_day  year  month  day  \n",
       "613923          0.0          0.0      398  2024      7   27  \n",
       "613924          0.0          0.0      397  2024      7   28  \n",
       "613925          0.0          0.0      396  2024      7   29  \n",
       "613926          0.5          0.0      395  2024      7   30  \n",
       "613927          0.0          0.5      394  2024      7   31  \n",
       "\n",
       "[5 rows x 34 columns]"
      ]
     },
     "execution_count": 1085,
     "metadata": {},
     "output_type": "execute_result"
    }
   ],
   "source": [
    "df_feat.head()"
   ]
  },
  {
   "cell_type": "code",
   "execution_count": 1086,
   "id": "eddecc93",
   "metadata": {},
   "outputs": [
    {
     "name": "stdout",
     "output_type": "stream",
     "text": [
      "26357\n",
      "1733\n",
      "325\n"
     ]
    }
   ],
   "source": [
    "print(df_day['unique_id'].nunique())\n",
    "print(df_day['ads_idx'].nunique())\n",
    "print(df_day['mda_idx'].nunique())"
   ]
  },
  {
   "cell_type": "code",
   "execution_count": 1150,
   "id": "e30ef524",
   "metadata": {},
   "outputs": [
    {
     "data": {
      "text/plain": [
       "Index(['rpt_time_date', 'unique_id', 'turn_sum', 'ads_idx', 'mda_idx',\n",
       "       'ads_category_id', 'domain', 'flag', 'turn_day_count',\n",
       "       'ads_idx_mean_turn', 'ads_idx/ads_category_id_mean_turn',\n",
       "       'mda_idx_mean_turn', 'mda_idx/ads_category_id_mean_turn',\n",
       "       'turn_sum_lag1', 'turn_sum_lag2', 'turn_sum_lag3',\n",
       "       'turn_day_count_lag1', 'turn_day_count_lag2', 'turn_day_count_lag3',\n",
       "       'ads_idx_mean_turn_lag1', 'ads_idx_mean_turn_lag2',\n",
       "       'ads_idx_mean_turn_lag3', 'ads_idx/ads_category_id_mean_turn_lag1',\n",
       "       'ads_idx/ads_category_id_mean_turn_lag2',\n",
       "       'ads_idx/ads_category_id_mean_turn_lag3', 'mda_idx_mean_turn_lag1',\n",
       "       'mda_idx_mean_turn_lag2', 'mda_idx_mean_turn_lag3',\n",
       "       'mda_idx/ads_category_id_mean_turn_lag1',\n",
       "       'mda_idx/ads_category_id_mean_turn_lag2',\n",
       "       'mda_idx/ads_category_id_mean_turn_lag3', 'turn_sum_lag_mean',\n",
       "       'lag_amount1', 'lag_amount2', 'due_day', 'year', 'month', 'day'],\n",
       "      dtype='object')"
      ]
     },
     "execution_count": 1150,
     "metadata": {},
     "output_type": "execute_result"
    }
   ],
   "source": [
    "df_feat.columns"
   ]
  },
  {
   "cell_type": "markdown",
   "id": "2d0089b4",
   "metadata": {},
   "source": [
    "## 새로운 테스트 미래 데이터"
   ]
  },
  {
   "cell_type": "code",
   "execution_count": null,
   "id": "efcc21ee",
   "metadata": {},
   "outputs": [],
   "source": [
    "def make_future_testset(model, df, start_date=\"2025-08-30\", days=7):\n",
    "    results = []\n",
    "\n",
    "    feature_cols = [\n",
    "        'unique_id','ads_idx','mda_idx','ads_category_id','domain','flag','turn_day_count',\n",
    "        'turn_sum_lag1','turn_sum_lag2','turn_sum_lag3',\n",
    "        'turn_day_count_lag1','turn_day_count_lag2','turn_day_count_lag3',\n",
    "        'ads_idx_mean_turn_lag1','ads_idx_mean_turn_lag2','ads_idx_mean_turn_lag3',\n",
    "        'ads_idx/ads_category_id_mean_turn_lag1','ads_idx/ads_category_id_mean_turn_lag2','ads_idx/ads_category_id_mean_turn_lag3',\n",
    "        'mda_idx_mean_turn_lag1','mda_idx_mean_turn_lag2','mda_idx_mean_turn_lag3',\n",
    "        'mda_idx/ads_category_id_mean_turn_lag1','mda_idx/ads_category_id_mean_turn_lag2','mda_idx/ads_category_id_mean_turn_lag3',\n",
    "        'turn_sum_lag_mean','lag_amount1','lag_amount2','due_day','year','month','day'\n",
    "    ]\n",
    "\n",
    "    base_cols = [\n",
    "        \"turn_sum\", \"turn_day_count\",\n",
    "        \"ads_idx_mean_turn\", \"ads_idx/ads_category_id_mean_turn\",\n",
    "        \"mda_idx_mean_turn\", \"mda_idx/ads_category_id_mean_turn\"\n",
    "    ]\n",
    "\n",
    "    for uid, group in df.groupby(\"unique_id\"):\n",
    "        group = group.sort_values(\"rpt_time_date\")\n",
    "        last3 = group.tail(3)\n",
    "\n",
    "        if last3.empty:\n",
    "            continue\n",
    "\n",
    "        # base_cols별로 최근 3일 값 확보 (부족하면 0으로 채움)\n",
    "        lag_dict = {}\n",
    "        for col in base_cols:\n",
    "            vals = list(last3[col].values) if col in last3 else [0]\n",
    "            while len(vals) < 3:\n",
    "                vals.insert(0, 0)\n",
    "            lag_dict[col] = vals  # [day-2, day-1, day0]\n",
    "\n",
    "        template = last3.iloc[-1].copy()\n",
    "        future_dates = pd.date_range(start=start_date, periods=days)\n",
    "\n",
    "        for date in future_dates:\n",
    "            new_row = template.copy()\n",
    "            new_row[\"rpt_time_date\"] = date\n",
    "            new_row[\"year\"], new_row[\"month\"], new_row[\"day\"] = date.year, date.month, date.day\n",
    "\n",
    "            # lag 매핑\n",
    "            for col in base_cols:\n",
    "                vals = lag_dict[col]\n",
    "                new_row[f\"{col}_lag1\"] = vals[-1]\n",
    "                new_row[f\"{col}_lag2\"] = vals[-2]\n",
    "                new_row[f\"{col}_lag3\"] = vals[-3]\n",
    "\n",
    "            # turn_sum 기반 추가 파생\n",
    "            ts1, ts2, ts3 = lag_dict[\"turn_sum\"][-1], lag_dict[\"turn_sum\"][-2], lag_dict[\"turn_sum\"][-3]\n",
    "            new_row[\"turn_sum_lag_mean\"] = np.mean([ts1, ts2, ts3])\n",
    "            new_row[\"lag_amount1\"] = ts1 / ts2 if ts2 != 0 else 0\n",
    "            new_row[\"lag_amount2\"] = ts2 / ts3 if ts3 != 0 else 0\n",
    "\n",
    "            # 예측\n",
    "            X_test = new_row[feature_cols]\n",
    "            y_pred = model.predict(pd.DataFrame([X_test]))[0]\n",
    "            y_pred = np.maximum(y_pred, 0)\n",
    "            y_pred = np.expm1(y_pred)\n",
    "            \n",
    "            # 결과 저장\n",
    "            new_row[\"turn_sum\"] = y_pred\n",
    "            # new_row[\"prediction\"] = y_pred\n",
    "            results.append(new_row)\n",
    "\n",
    "            # lag_dict 업데이트 (예측값을 turn_sum에 반영)\n",
    "            lag_dict[\"turn_sum\"] = [lag_dict[\"turn_sum\"][-2], lag_dict[\"turn_sum\"][-1], y_pred]\n",
    "            for col in base_cols:\n",
    "                if col != \"turn_sum\":  # 다른 base 컬럼들은 그대로 유지 (고정)\n",
    "                    pass\n",
    "\n",
    "    return pd.DataFrame(results)\n"
   ]
  },
  {
   "cell_type": "code",
   "execution_count": 1163,
   "id": "639f9a5c",
   "metadata": {},
   "outputs": [
    {
     "name": "stdout",
     "output_type": "stream",
     "text": [
      "     unique_id rpt_time_date  turn_sum_lag1  turn_sum_lag2  turn_sum_lag3  \\\n",
      "160   25950054    2025-08-30            0.0            0.0            0.0   \n",
      "160   25950054    2025-08-31            0.0            0.0            0.0   \n",
      "160   25950054    2025-09-01            0.0            0.0            0.0   \n",
      "160   25950054    2025-09-02            0.0            0.0            0.0   \n",
      "160   25950054    2025-09-03            0.0            0.0            0.0   \n",
      "160   25950054    2025-09-04            0.0            0.0            0.0   \n",
      "160   25950054    2025-09-05            0.0            0.0            0.0   \n",
      "435   25950246    2025-08-30            0.0            0.0            0.0   \n",
      "435   25950246    2025-08-31            0.0            0.0            0.0   \n",
      "435   25950246    2025-09-01            0.0            0.0            0.0   \n",
      "435   25950246    2025-09-02            0.0            0.0            0.0   \n",
      "435   25950246    2025-09-03            0.0            0.0            0.0   \n",
      "435   25950246    2025-09-04            0.0            0.0            0.0   \n",
      "435   25950246    2025-09-05            0.0            0.0            0.0   \n",
      "812   25950270    2025-08-30            0.0            0.0            0.0   \n",
      "\n",
      "     prediction  \n",
      "160         0.0  \n",
      "160         0.0  \n",
      "160         0.0  \n",
      "160         0.0  \n",
      "160         0.0  \n",
      "160         0.0  \n",
      "160         0.0  \n",
      "435         0.0  \n",
      "435         0.0  \n",
      "435         0.0  \n",
      "435         0.0  \n",
      "435         0.0  \n",
      "435         0.0  \n",
      "435         0.0  \n",
      "812         0.0  \n"
     ]
    }
   ],
   "source": [
    "future_df = make_future_testset(xgb_model, df_feat, start_date=\"2025-08-30\", days=7)\n",
    "\n",
    "print(future_df[[\"unique_id\",\"rpt_time_date\",\"turn_sum_lag1\",\"turn_sum_lag2\",\"turn_sum_lag3\",\"prediction\"]].head(15))\n"
   ]
  },
  {
   "cell_type": "code",
   "execution_count": 1165,
   "id": "e786e78a",
   "metadata": {},
   "outputs": [
    {
     "name": "stdout",
     "output_type": "stream",
     "text": [
      "26357\n",
      "1733\n",
      "325\n"
     ]
    }
   ],
   "source": [
    "print(df_day['unique_id'].nunique())\n",
    "print(df_day['ads_idx'].nunique())\n",
    "print(df_day['mda_idx'].nunique())"
   ]
  },
  {
   "cell_type": "code",
   "execution_count": 1166,
   "id": "f588f44b",
   "metadata": {},
   "outputs": [
    {
     "name": "stdout",
     "output_type": "stream",
     "text": [
      "26357\n",
      "1733\n",
      "325\n"
     ]
    }
   ],
   "source": [
    "print(future_df['unique_id'].nunique())\n",
    "print(future_df['ads_idx'].nunique())\n",
    "print(future_df['mda_idx'].nunique())"
   ]
  },
  {
   "cell_type": "code",
   "execution_count": 1169,
   "id": "b599aa7f",
   "metadata": {},
   "outputs": [],
   "source": [
    "future_df.drop(columns=['prediction'], inplace=True, errors='ignore')"
   ]
  },
  {
   "cell_type": "code",
   "execution_count": 1175,
   "id": "ad63164d",
   "metadata": {},
   "outputs": [
    {
     "data": {
      "application/vnd.microsoft.datawrangler.viewer.v0+json": {
       "columns": [
        {
         "name": "index",
         "rawType": "int64",
         "type": "integer"
        },
        {
         "name": "rpt_time_date",
         "rawType": "datetime64[ns]",
         "type": "datetime"
        },
        {
         "name": "unique_id",
         "rawType": "int64",
         "type": "integer"
        },
        {
         "name": "turn_sum",
         "rawType": "float64",
         "type": "float"
        },
        {
         "name": "ads_idx",
         "rawType": "float32",
         "type": "float"
        },
        {
         "name": "mda_idx",
         "rawType": "float32",
         "type": "float"
        },
        {
         "name": "ads_category_id",
         "rawType": "float32",
         "type": "float"
        },
        {
         "name": "domain",
         "rawType": "int64",
         "type": "integer"
        },
        {
         "name": "flag",
         "rawType": "int8",
         "type": "integer"
        },
        {
         "name": "turn_day_count",
         "rawType": "int16",
         "type": "integer"
        },
        {
         "name": "ads_idx_mean_turn",
         "rawType": "float32",
         "type": "float"
        },
        {
         "name": "ads_idx/ads_category_id_mean_turn",
         "rawType": "float32",
         "type": "float"
        },
        {
         "name": "mda_idx_mean_turn",
         "rawType": "float32",
         "type": "float"
        },
        {
         "name": "mda_idx/ads_category_id_mean_turn",
         "rawType": "float32",
         "type": "float"
        },
        {
         "name": "turn_sum_lag1",
         "rawType": "float64",
         "type": "float"
        },
        {
         "name": "turn_sum_lag2",
         "rawType": "float64",
         "type": "float"
        },
        {
         "name": "turn_sum_lag3",
         "rawType": "float64",
         "type": "float"
        },
        {
         "name": "turn_day_count_lag1",
         "rawType": "int16",
         "type": "integer"
        },
        {
         "name": "turn_day_count_lag2",
         "rawType": "int64",
         "type": "integer"
        },
        {
         "name": "turn_day_count_lag3",
         "rawType": "int64",
         "type": "integer"
        },
        {
         "name": "ads_idx_mean_turn_lag1",
         "rawType": "float32",
         "type": "float"
        },
        {
         "name": "ads_idx_mean_turn_lag2",
         "rawType": "float64",
         "type": "float"
        },
        {
         "name": "ads_idx_mean_turn_lag3",
         "rawType": "float64",
         "type": "float"
        },
        {
         "name": "ads_idx/ads_category_id_mean_turn_lag1",
         "rawType": "float32",
         "type": "float"
        },
        {
         "name": "ads_idx/ads_category_id_mean_turn_lag2",
         "rawType": "float64",
         "type": "float"
        },
        {
         "name": "ads_idx/ads_category_id_mean_turn_lag3",
         "rawType": "float64",
         "type": "float"
        },
        {
         "name": "mda_idx_mean_turn_lag1",
         "rawType": "float32",
         "type": "float"
        },
        {
         "name": "mda_idx_mean_turn_lag2",
         "rawType": "float64",
         "type": "float"
        },
        {
         "name": "mda_idx_mean_turn_lag3",
         "rawType": "float64",
         "type": "float"
        },
        {
         "name": "mda_idx/ads_category_id_mean_turn_lag1",
         "rawType": "float32",
         "type": "float"
        },
        {
         "name": "mda_idx/ads_category_id_mean_turn_lag2",
         "rawType": "float64",
         "type": "float"
        },
        {
         "name": "mda_idx/ads_category_id_mean_turn_lag3",
         "rawType": "float64",
         "type": "float"
        },
        {
         "name": "turn_sum_lag_mean",
         "rawType": "float64",
         "type": "float"
        },
        {
         "name": "lag_amount1",
         "rawType": "float64",
         "type": "float"
        },
        {
         "name": "lag_amount2",
         "rawType": "float64",
         "type": "float"
        },
        {
         "name": "due_day",
         "rawType": "int64",
         "type": "integer"
        },
        {
         "name": "year",
         "rawType": "int64",
         "type": "integer"
        },
        {
         "name": "month",
         "rawType": "int64",
         "type": "integer"
        },
        {
         "name": "day",
         "rawType": "int64",
         "type": "integer"
        }
       ],
       "ref": "1ecada80-c444-42f4-931d-80a63da0a964",
       "rows": [
        [
         "160",
         "2025-08-30 00:00:00",
         "25950054",
         "0.0",
         "2595.0",
         "54.0",
         "2.0",
         "3",
         "0",
         "11",
         "0.0",
         "0.0",
         "0.023703704",
         "0.04597701",
         "0.0",
         "0.0",
         "0.0",
         "11",
         "11",
         "11",
         "0.0",
         "0.0",
         "0.0",
         "0.0",
         "0.0",
         "0.0",
         "0.023703704",
         "0.1111111119389534",
         "0.09777777642011642",
         "0.04597701",
         "0.2097701132297516",
         "0.18390804529190063",
         "0.0",
         "0.0",
         "0.0",
         "0",
         "2025",
         "8",
         "30"
        ],
        [
         "160",
         "2025-08-31 00:00:00",
         "25950054",
         "0.0",
         "2595.0",
         "54.0",
         "2.0",
         "3",
         "0",
         "11",
         "0.0",
         "0.0",
         "0.023703704",
         "0.04597701",
         "0.0",
         "0.0",
         "0.0",
         "11",
         "11",
         "11",
         "0.0",
         "0.0",
         "0.0",
         "0.0",
         "0.0",
         "0.0",
         "0.023703704",
         "0.1111111119389534",
         "0.09777777642011642",
         "0.04597701",
         "0.2097701132297516",
         "0.18390804529190063",
         "0.0",
         "0.0",
         "0.0",
         "0",
         "2025",
         "8",
         "31"
        ],
        [
         "160",
         "2025-09-01 00:00:00",
         "25950054",
         "0.0",
         "2595.0",
         "54.0",
         "2.0",
         "3",
         "0",
         "11",
         "0.0",
         "0.0",
         "0.023703704",
         "0.04597701",
         "0.0",
         "0.0",
         "0.0",
         "11",
         "11",
         "11",
         "0.0",
         "0.0",
         "0.0",
         "0.0",
         "0.0",
         "0.0",
         "0.023703704",
         "0.1111111119389534",
         "0.09777777642011642",
         "0.04597701",
         "0.2097701132297516",
         "0.18390804529190063",
         "0.0",
         "0.0",
         "0.0",
         "0",
         "2025",
         "9",
         "1"
        ],
        [
         "160",
         "2025-09-02 00:00:00",
         "25950054",
         "0.0",
         "2595.0",
         "54.0",
         "2.0",
         "3",
         "0",
         "11",
         "0.0",
         "0.0",
         "0.023703704",
         "0.04597701",
         "0.0",
         "0.0",
         "0.0",
         "11",
         "11",
         "11",
         "0.0",
         "0.0",
         "0.0",
         "0.0",
         "0.0",
         "0.0",
         "0.023703704",
         "0.1111111119389534",
         "0.09777777642011642",
         "0.04597701",
         "0.2097701132297516",
         "0.18390804529190063",
         "0.0",
         "0.0",
         "0.0",
         "0",
         "2025",
         "9",
         "2"
        ],
        [
         "160",
         "2025-09-03 00:00:00",
         "25950054",
         "0.0",
         "2595.0",
         "54.0",
         "2.0",
         "3",
         "0",
         "11",
         "0.0",
         "0.0",
         "0.023703704",
         "0.04597701",
         "0.0",
         "0.0",
         "0.0",
         "11",
         "11",
         "11",
         "0.0",
         "0.0",
         "0.0",
         "0.0",
         "0.0",
         "0.0",
         "0.023703704",
         "0.1111111119389534",
         "0.09777777642011642",
         "0.04597701",
         "0.2097701132297516",
         "0.18390804529190063",
         "0.0",
         "0.0",
         "0.0",
         "0",
         "2025",
         "9",
         "3"
        ]
       ],
       "shape": {
        "columns": 38,
        "rows": 5
       }
      },
      "text/html": [
       "<div>\n",
       "<style scoped>\n",
       "    .dataframe tbody tr th:only-of-type {\n",
       "        vertical-align: middle;\n",
       "    }\n",
       "\n",
       "    .dataframe tbody tr th {\n",
       "        vertical-align: top;\n",
       "    }\n",
       "\n",
       "    .dataframe thead th {\n",
       "        text-align: right;\n",
       "    }\n",
       "</style>\n",
       "<table border=\"1\" class=\"dataframe\">\n",
       "  <thead>\n",
       "    <tr style=\"text-align: right;\">\n",
       "      <th></th>\n",
       "      <th>rpt_time_date</th>\n",
       "      <th>unique_id</th>\n",
       "      <th>turn_sum</th>\n",
       "      <th>ads_idx</th>\n",
       "      <th>mda_idx</th>\n",
       "      <th>ads_category_id</th>\n",
       "      <th>domain</th>\n",
       "      <th>flag</th>\n",
       "      <th>turn_day_count</th>\n",
       "      <th>ads_idx_mean_turn</th>\n",
       "      <th>...</th>\n",
       "      <th>mda_idx/ads_category_id_mean_turn_lag1</th>\n",
       "      <th>mda_idx/ads_category_id_mean_turn_lag2</th>\n",
       "      <th>mda_idx/ads_category_id_mean_turn_lag3</th>\n",
       "      <th>turn_sum_lag_mean</th>\n",
       "      <th>lag_amount1</th>\n",
       "      <th>lag_amount2</th>\n",
       "      <th>due_day</th>\n",
       "      <th>year</th>\n",
       "      <th>month</th>\n",
       "      <th>day</th>\n",
       "    </tr>\n",
       "  </thead>\n",
       "  <tbody>\n",
       "    <tr>\n",
       "      <th>160</th>\n",
       "      <td>2025-08-30</td>\n",
       "      <td>25950054</td>\n",
       "      <td>0.0</td>\n",
       "      <td>2595.0</td>\n",
       "      <td>54.0</td>\n",
       "      <td>2.0</td>\n",
       "      <td>3</td>\n",
       "      <td>0</td>\n",
       "      <td>11</td>\n",
       "      <td>0.0</td>\n",
       "      <td>...</td>\n",
       "      <td>0.045977</td>\n",
       "      <td>0.20977</td>\n",
       "      <td>0.183908</td>\n",
       "      <td>0.0</td>\n",
       "      <td>0.0</td>\n",
       "      <td>0.0</td>\n",
       "      <td>0</td>\n",
       "      <td>2025</td>\n",
       "      <td>8</td>\n",
       "      <td>30</td>\n",
       "    </tr>\n",
       "    <tr>\n",
       "      <th>160</th>\n",
       "      <td>2025-08-31</td>\n",
       "      <td>25950054</td>\n",
       "      <td>0.0</td>\n",
       "      <td>2595.0</td>\n",
       "      <td>54.0</td>\n",
       "      <td>2.0</td>\n",
       "      <td>3</td>\n",
       "      <td>0</td>\n",
       "      <td>11</td>\n",
       "      <td>0.0</td>\n",
       "      <td>...</td>\n",
       "      <td>0.045977</td>\n",
       "      <td>0.20977</td>\n",
       "      <td>0.183908</td>\n",
       "      <td>0.0</td>\n",
       "      <td>0.0</td>\n",
       "      <td>0.0</td>\n",
       "      <td>0</td>\n",
       "      <td>2025</td>\n",
       "      <td>8</td>\n",
       "      <td>31</td>\n",
       "    </tr>\n",
       "    <tr>\n",
       "      <th>160</th>\n",
       "      <td>2025-09-01</td>\n",
       "      <td>25950054</td>\n",
       "      <td>0.0</td>\n",
       "      <td>2595.0</td>\n",
       "      <td>54.0</td>\n",
       "      <td>2.0</td>\n",
       "      <td>3</td>\n",
       "      <td>0</td>\n",
       "      <td>11</td>\n",
       "      <td>0.0</td>\n",
       "      <td>...</td>\n",
       "      <td>0.045977</td>\n",
       "      <td>0.20977</td>\n",
       "      <td>0.183908</td>\n",
       "      <td>0.0</td>\n",
       "      <td>0.0</td>\n",
       "      <td>0.0</td>\n",
       "      <td>0</td>\n",
       "      <td>2025</td>\n",
       "      <td>9</td>\n",
       "      <td>1</td>\n",
       "    </tr>\n",
       "    <tr>\n",
       "      <th>160</th>\n",
       "      <td>2025-09-02</td>\n",
       "      <td>25950054</td>\n",
       "      <td>0.0</td>\n",
       "      <td>2595.0</td>\n",
       "      <td>54.0</td>\n",
       "      <td>2.0</td>\n",
       "      <td>3</td>\n",
       "      <td>0</td>\n",
       "      <td>11</td>\n",
       "      <td>0.0</td>\n",
       "      <td>...</td>\n",
       "      <td>0.045977</td>\n",
       "      <td>0.20977</td>\n",
       "      <td>0.183908</td>\n",
       "      <td>0.0</td>\n",
       "      <td>0.0</td>\n",
       "      <td>0.0</td>\n",
       "      <td>0</td>\n",
       "      <td>2025</td>\n",
       "      <td>9</td>\n",
       "      <td>2</td>\n",
       "    </tr>\n",
       "    <tr>\n",
       "      <th>160</th>\n",
       "      <td>2025-09-03</td>\n",
       "      <td>25950054</td>\n",
       "      <td>0.0</td>\n",
       "      <td>2595.0</td>\n",
       "      <td>54.0</td>\n",
       "      <td>2.0</td>\n",
       "      <td>3</td>\n",
       "      <td>0</td>\n",
       "      <td>11</td>\n",
       "      <td>0.0</td>\n",
       "      <td>...</td>\n",
       "      <td>0.045977</td>\n",
       "      <td>0.20977</td>\n",
       "      <td>0.183908</td>\n",
       "      <td>0.0</td>\n",
       "      <td>0.0</td>\n",
       "      <td>0.0</td>\n",
       "      <td>0</td>\n",
       "      <td>2025</td>\n",
       "      <td>9</td>\n",
       "      <td>3</td>\n",
       "    </tr>\n",
       "  </tbody>\n",
       "</table>\n",
       "<p>5 rows × 38 columns</p>\n",
       "</div>"
      ],
      "text/plain": [
       "    rpt_time_date  unique_id  turn_sum  ads_idx  mda_idx  ads_category_id  \\\n",
       "160    2025-08-30   25950054       0.0   2595.0     54.0              2.0   \n",
       "160    2025-08-31   25950054       0.0   2595.0     54.0              2.0   \n",
       "160    2025-09-01   25950054       0.0   2595.0     54.0              2.0   \n",
       "160    2025-09-02   25950054       0.0   2595.0     54.0              2.0   \n",
       "160    2025-09-03   25950054       0.0   2595.0     54.0              2.0   \n",
       "\n",
       "     domain  flag  turn_day_count  ads_idx_mean_turn  ...  \\\n",
       "160       3     0              11                0.0  ...   \n",
       "160       3     0              11                0.0  ...   \n",
       "160       3     0              11                0.0  ...   \n",
       "160       3     0              11                0.0  ...   \n",
       "160       3     0              11                0.0  ...   \n",
       "\n",
       "     mda_idx/ads_category_id_mean_turn_lag1  \\\n",
       "160                                0.045977   \n",
       "160                                0.045977   \n",
       "160                                0.045977   \n",
       "160                                0.045977   \n",
       "160                                0.045977   \n",
       "\n",
       "     mda_idx/ads_category_id_mean_turn_lag2  \\\n",
       "160                                 0.20977   \n",
       "160                                 0.20977   \n",
       "160                                 0.20977   \n",
       "160                                 0.20977   \n",
       "160                                 0.20977   \n",
       "\n",
       "     mda_idx/ads_category_id_mean_turn_lag3  turn_sum_lag_mean  lag_amount1  \\\n",
       "160                                0.183908                0.0          0.0   \n",
       "160                                0.183908                0.0          0.0   \n",
       "160                                0.183908                0.0          0.0   \n",
       "160                                0.183908                0.0          0.0   \n",
       "160                                0.183908                0.0          0.0   \n",
       "\n",
       "     lag_amount2  due_day  year  month  day  \n",
       "160          0.0        0  2025      8   30  \n",
       "160          0.0        0  2025      8   31  \n",
       "160          0.0        0  2025      9    1  \n",
       "160          0.0        0  2025      9    2  \n",
       "160          0.0        0  2025      9    3  \n",
       "\n",
       "[5 rows x 38 columns]"
      ]
     },
     "execution_count": 1175,
     "metadata": {},
     "output_type": "execute_result"
    }
   ],
   "source": [
    "future_df.head()"
   ]
  },
  {
   "cell_type": "code",
   "execution_count": 1174,
   "id": "605d7877",
   "metadata": {},
   "outputs": [
    {
     "data": {
      "application/vnd.microsoft.datawrangler.viewer.v0+json": {
       "columns": [
        {
         "name": "index",
         "rawType": "int64",
         "type": "integer"
        },
        {
         "name": "rpt_time_date",
         "rawType": "datetime64[ns]",
         "type": "datetime"
        },
        {
         "name": "unique_id",
         "rawType": "int64",
         "type": "integer"
        },
        {
         "name": "turn_sum",
         "rawType": "float32",
         "type": "float"
        },
        {
         "name": "ads_idx",
         "rawType": "float32",
         "type": "float"
        },
        {
         "name": "mda_idx",
         "rawType": "float32",
         "type": "float"
        },
        {
         "name": "ads_category_id",
         "rawType": "float32",
         "type": "float"
        },
        {
         "name": "domain",
         "rawType": "category",
         "type": "unknown"
        },
        {
         "name": "flag",
         "rawType": "int8",
         "type": "integer"
        },
        {
         "name": "turn_day_count",
         "rawType": "int16",
         "type": "integer"
        },
        {
         "name": "ads_idx_mean_turn",
         "rawType": "float32",
         "type": "float"
        },
        {
         "name": "ads_idx/ads_category_id_mean_turn",
         "rawType": "float32",
         "type": "float"
        },
        {
         "name": "mda_idx_mean_turn",
         "rawType": "float32",
         "type": "float"
        },
        {
         "name": "mda_idx/ads_category_id_mean_turn",
         "rawType": "float32",
         "type": "float"
        },
        {
         "name": "turn_sum_lag1",
         "rawType": "float32",
         "type": "float"
        },
        {
         "name": "turn_sum_lag2",
         "rawType": "float32",
         "type": "float"
        },
        {
         "name": "turn_sum_lag3",
         "rawType": "float32",
         "type": "float"
        },
        {
         "name": "turn_day_count_lag1",
         "rawType": "float32",
         "type": "float"
        },
        {
         "name": "turn_day_count_lag2",
         "rawType": "float32",
         "type": "float"
        },
        {
         "name": "turn_day_count_lag3",
         "rawType": "float32",
         "type": "float"
        },
        {
         "name": "ads_idx_mean_turn_lag1",
         "rawType": "float32",
         "type": "float"
        },
        {
         "name": "ads_idx_mean_turn_lag2",
         "rawType": "float32",
         "type": "float"
        },
        {
         "name": "ads_idx_mean_turn_lag3",
         "rawType": "float32",
         "type": "float"
        },
        {
         "name": "ads_idx/ads_category_id_mean_turn_lag1",
         "rawType": "float32",
         "type": "float"
        },
        {
         "name": "ads_idx/ads_category_id_mean_turn_lag2",
         "rawType": "float32",
         "type": "float"
        },
        {
         "name": "ads_idx/ads_category_id_mean_turn_lag3",
         "rawType": "float32",
         "type": "float"
        },
        {
         "name": "mda_idx_mean_turn_lag1",
         "rawType": "float32",
         "type": "float"
        },
        {
         "name": "mda_idx_mean_turn_lag2",
         "rawType": "float32",
         "type": "float"
        },
        {
         "name": "mda_idx_mean_turn_lag3",
         "rawType": "float32",
         "type": "float"
        },
        {
         "name": "mda_idx/ads_category_id_mean_turn_lag1",
         "rawType": "float32",
         "type": "float"
        },
        {
         "name": "mda_idx/ads_category_id_mean_turn_lag2",
         "rawType": "float32",
         "type": "float"
        },
        {
         "name": "mda_idx/ads_category_id_mean_turn_lag3",
         "rawType": "float32",
         "type": "float"
        },
        {
         "name": "turn_sum_lag_mean",
         "rawType": "float32",
         "type": "float"
        },
        {
         "name": "lag_amount1",
         "rawType": "float32",
         "type": "float"
        },
        {
         "name": "lag_amount2",
         "rawType": "float32",
         "type": "float"
        },
        {
         "name": "due_day",
         "rawType": "int64",
         "type": "integer"
        },
        {
         "name": "year",
         "rawType": "int32",
         "type": "integer"
        },
        {
         "name": "month",
         "rawType": "int32",
         "type": "integer"
        },
        {
         "name": "day",
         "rawType": "int32",
         "type": "integer"
        }
       ],
       "ref": "bad5707b-8f7c-4fd5-a7e1-54fa439c0f62",
       "rows": [
        [
         "613923",
         "2024-07-27 00:00:00",
         "210370012",
         "0.0",
         "21037.0",
         "12.0",
         "2.0",
         "2",
         "1",
         "149",
         "2.75",
         "2.75",
         "0.0",
         "0.0",
         "0.0",
         "0.0",
         "0.0",
         "0.0",
         "0.0",
         "0.0",
         "0.0",
         "0.0",
         "0.0",
         "0.0",
         "0.0",
         "0.0",
         "0.0",
         "0.0",
         "0.0",
         "0.0",
         "0.0",
         "0.0",
         "0.0",
         "0.0",
         "0.0",
         "398",
         "2024",
         "7",
         "27"
        ],
        [
         "613924",
         "2024-07-28 00:00:00",
         "210370012",
         "2.0",
         "21037.0",
         "12.0",
         "2.0",
         "2",
         "1",
         "149",
         "3.1764705",
         "3.1764705",
         "1.0",
         "2.0",
         "0.0",
         "0.0",
         "0.0",
         "149.0",
         "0.0",
         "0.0",
         "0.0",
         "2.75",
         "0.0",
         "2.75",
         "0.0",
         "0.0",
         "0.0",
         "0.0",
         "0.0",
         "0.0",
         "0.0",
         "0.0",
         "0.0",
         "0.0",
         "0.0",
         "397",
         "2024",
         "7",
         "28"
        ],
        [
         "613925",
         "2024-07-29 00:00:00",
         "210370012",
         "1.0",
         "21037.0",
         "12.0",
         "2.0",
         "2",
         "1",
         "149",
         "3.1764705",
         "3.1764705",
         "0.5",
         "1.0",
         "2.0",
         "0.0",
         "0.0",
         "149.0",
         "149.0",
         "0.0",
         "0.060606062",
         "3.1764705",
         "0.0",
         "3.1764705",
         "2.75",
         "0.0",
         "1.0",
         "1.0",
         "0.0",
         "2.0",
         "0.0",
         "0.0",
         "0.6666667",
         "0.0",
         "0.0",
         "396",
         "2024",
         "7",
         "29"
        ],
        [
         "613926",
         "2024-07-30 00:00:00",
         "210370012",
         "0.0",
         "21037.0",
         "12.0",
         "2.0",
         "2",
         "1",
         "149",
         "2.7222223",
         "2.7222223",
         "0.0",
         "0.0",
         "1.0",
         "2.0",
         "0.0",
         "149.0",
         "149.0",
         "149.0",
         "0.0",
         "3.1764705",
         "0.060606062",
         "3.1764705",
         "3.1764705",
         "2.75",
         "0.5",
         "0.5",
         "1.0",
         "1.0",
         "2.0",
         "0.0",
         "1.0",
         "0.5",
         "0.0",
         "395",
         "2024",
         "7",
         "30"
        ],
        [
         "613927",
         "2024-07-31 00:00:00",
         "210370012",
         "2.0",
         "21037.0",
         "12.0",
         "2.0",
         "2",
         "1",
         "149",
         "2.8421052",
         "2.8421052",
         "1.0",
         "2.0",
         "0.0",
         "1.0",
         "2.0",
         "149.0",
         "149.0",
         "149.0",
         "0.0",
         "2.7222223",
         "0.0",
         "2.7222223",
         "3.1764705",
         "3.1764705",
         "0.0",
         "0.0",
         "0.5",
         "0.0",
         "1.0",
         "2.0",
         "1.0",
         "0.0",
         "0.5",
         "394",
         "2024",
         "7",
         "31"
        ]
       ],
       "shape": {
        "columns": 38,
        "rows": 5
       }
      },
      "text/html": [
       "<div>\n",
       "<style scoped>\n",
       "    .dataframe tbody tr th:only-of-type {\n",
       "        vertical-align: middle;\n",
       "    }\n",
       "\n",
       "    .dataframe tbody tr th {\n",
       "        vertical-align: top;\n",
       "    }\n",
       "\n",
       "    .dataframe thead th {\n",
       "        text-align: right;\n",
       "    }\n",
       "</style>\n",
       "<table border=\"1\" class=\"dataframe\">\n",
       "  <thead>\n",
       "    <tr style=\"text-align: right;\">\n",
       "      <th></th>\n",
       "      <th>rpt_time_date</th>\n",
       "      <th>unique_id</th>\n",
       "      <th>turn_sum</th>\n",
       "      <th>ads_idx</th>\n",
       "      <th>mda_idx</th>\n",
       "      <th>ads_category_id</th>\n",
       "      <th>domain</th>\n",
       "      <th>flag</th>\n",
       "      <th>turn_day_count</th>\n",
       "      <th>ads_idx_mean_turn</th>\n",
       "      <th>...</th>\n",
       "      <th>mda_idx/ads_category_id_mean_turn_lag1</th>\n",
       "      <th>mda_idx/ads_category_id_mean_turn_lag2</th>\n",
       "      <th>mda_idx/ads_category_id_mean_turn_lag3</th>\n",
       "      <th>turn_sum_lag_mean</th>\n",
       "      <th>lag_amount1</th>\n",
       "      <th>lag_amount2</th>\n",
       "      <th>due_day</th>\n",
       "      <th>year</th>\n",
       "      <th>month</th>\n",
       "      <th>day</th>\n",
       "    </tr>\n",
       "  </thead>\n",
       "  <tbody>\n",
       "    <tr>\n",
       "      <th>613923</th>\n",
       "      <td>2024-07-27</td>\n",
       "      <td>210370012</td>\n",
       "      <td>0.0</td>\n",
       "      <td>21037.0</td>\n",
       "      <td>12.0</td>\n",
       "      <td>2.0</td>\n",
       "      <td>2</td>\n",
       "      <td>1</td>\n",
       "      <td>149</td>\n",
       "      <td>2.750000</td>\n",
       "      <td>...</td>\n",
       "      <td>0.0</td>\n",
       "      <td>0.0</td>\n",
       "      <td>0.0</td>\n",
       "      <td>0.000000</td>\n",
       "      <td>0.0</td>\n",
       "      <td>0.0</td>\n",
       "      <td>398</td>\n",
       "      <td>2024</td>\n",
       "      <td>7</td>\n",
       "      <td>27</td>\n",
       "    </tr>\n",
       "    <tr>\n",
       "      <th>613924</th>\n",
       "      <td>2024-07-28</td>\n",
       "      <td>210370012</td>\n",
       "      <td>2.0</td>\n",
       "      <td>21037.0</td>\n",
       "      <td>12.0</td>\n",
       "      <td>2.0</td>\n",
       "      <td>2</td>\n",
       "      <td>1</td>\n",
       "      <td>149</td>\n",
       "      <td>3.176471</td>\n",
       "      <td>...</td>\n",
       "      <td>0.0</td>\n",
       "      <td>0.0</td>\n",
       "      <td>0.0</td>\n",
       "      <td>0.000000</td>\n",
       "      <td>0.0</td>\n",
       "      <td>0.0</td>\n",
       "      <td>397</td>\n",
       "      <td>2024</td>\n",
       "      <td>7</td>\n",
       "      <td>28</td>\n",
       "    </tr>\n",
       "    <tr>\n",
       "      <th>613925</th>\n",
       "      <td>2024-07-29</td>\n",
       "      <td>210370012</td>\n",
       "      <td>1.0</td>\n",
       "      <td>21037.0</td>\n",
       "      <td>12.0</td>\n",
       "      <td>2.0</td>\n",
       "      <td>2</td>\n",
       "      <td>1</td>\n",
       "      <td>149</td>\n",
       "      <td>3.176471</td>\n",
       "      <td>...</td>\n",
       "      <td>2.0</td>\n",
       "      <td>0.0</td>\n",
       "      <td>0.0</td>\n",
       "      <td>0.666667</td>\n",
       "      <td>0.0</td>\n",
       "      <td>0.0</td>\n",
       "      <td>396</td>\n",
       "      <td>2024</td>\n",
       "      <td>7</td>\n",
       "      <td>29</td>\n",
       "    </tr>\n",
       "    <tr>\n",
       "      <th>613926</th>\n",
       "      <td>2024-07-30</td>\n",
       "      <td>210370012</td>\n",
       "      <td>0.0</td>\n",
       "      <td>21037.0</td>\n",
       "      <td>12.0</td>\n",
       "      <td>2.0</td>\n",
       "      <td>2</td>\n",
       "      <td>1</td>\n",
       "      <td>149</td>\n",
       "      <td>2.722222</td>\n",
       "      <td>...</td>\n",
       "      <td>1.0</td>\n",
       "      <td>2.0</td>\n",
       "      <td>0.0</td>\n",
       "      <td>1.000000</td>\n",
       "      <td>0.5</td>\n",
       "      <td>0.0</td>\n",
       "      <td>395</td>\n",
       "      <td>2024</td>\n",
       "      <td>7</td>\n",
       "      <td>30</td>\n",
       "    </tr>\n",
       "    <tr>\n",
       "      <th>613927</th>\n",
       "      <td>2024-07-31</td>\n",
       "      <td>210370012</td>\n",
       "      <td>2.0</td>\n",
       "      <td>21037.0</td>\n",
       "      <td>12.0</td>\n",
       "      <td>2.0</td>\n",
       "      <td>2</td>\n",
       "      <td>1</td>\n",
       "      <td>149</td>\n",
       "      <td>2.842105</td>\n",
       "      <td>...</td>\n",
       "      <td>0.0</td>\n",
       "      <td>1.0</td>\n",
       "      <td>2.0</td>\n",
       "      <td>1.000000</td>\n",
       "      <td>0.0</td>\n",
       "      <td>0.5</td>\n",
       "      <td>394</td>\n",
       "      <td>2024</td>\n",
       "      <td>7</td>\n",
       "      <td>31</td>\n",
       "    </tr>\n",
       "  </tbody>\n",
       "</table>\n",
       "<p>5 rows × 38 columns</p>\n",
       "</div>"
      ],
      "text/plain": [
       "       rpt_time_date  unique_id  turn_sum  ads_idx  mda_idx  ads_category_id  \\\n",
       "613923    2024-07-27  210370012       0.0  21037.0     12.0              2.0   \n",
       "613924    2024-07-28  210370012       2.0  21037.0     12.0              2.0   \n",
       "613925    2024-07-29  210370012       1.0  21037.0     12.0              2.0   \n",
       "613926    2024-07-30  210370012       0.0  21037.0     12.0              2.0   \n",
       "613927    2024-07-31  210370012       2.0  21037.0     12.0              2.0   \n",
       "\n",
       "       domain  flag  turn_day_count  ads_idx_mean_turn  ...  \\\n",
       "613923      2     1             149           2.750000  ...   \n",
       "613924      2     1             149           3.176471  ...   \n",
       "613925      2     1             149           3.176471  ...   \n",
       "613926      2     1             149           2.722222  ...   \n",
       "613927      2     1             149           2.842105  ...   \n",
       "\n",
       "        mda_idx/ads_category_id_mean_turn_lag1  \\\n",
       "613923                                     0.0   \n",
       "613924                                     0.0   \n",
       "613925                                     2.0   \n",
       "613926                                     1.0   \n",
       "613927                                     0.0   \n",
       "\n",
       "        mda_idx/ads_category_id_mean_turn_lag2  \\\n",
       "613923                                     0.0   \n",
       "613924                                     0.0   \n",
       "613925                                     0.0   \n",
       "613926                                     2.0   \n",
       "613927                                     1.0   \n",
       "\n",
       "        mda_idx/ads_category_id_mean_turn_lag3  turn_sum_lag_mean  \\\n",
       "613923                                     0.0           0.000000   \n",
       "613924                                     0.0           0.000000   \n",
       "613925                                     0.0           0.666667   \n",
       "613926                                     0.0           1.000000   \n",
       "613927                                     2.0           1.000000   \n",
       "\n",
       "        lag_amount1  lag_amount2  due_day  year  month  day  \n",
       "613923          0.0          0.0      398  2024      7   27  \n",
       "613924          0.0          0.0      397  2024      7   28  \n",
       "613925          0.0          0.0      396  2024      7   29  \n",
       "613926          0.5          0.0      395  2024      7   30  \n",
       "613927          0.0          0.5      394  2024      7   31  \n",
       "\n",
       "[5 rows x 38 columns]"
      ]
     },
     "execution_count": 1174,
     "metadata": {},
     "output_type": "execute_result"
    }
   ],
   "source": [
    "df_feat.head()"
   ]
  },
  {
   "cell_type": "code",
   "execution_count": 1168,
   "id": "7d1b64bf",
   "metadata": {},
   "outputs": [
    {
     "data": {
      "application/vnd.microsoft.datawrangler.viewer.v0+json": {
       "columns": [
        {
         "name": "index",
         "rawType": "object",
         "type": "string"
        },
        {
         "name": "turn_sum",
         "rawType": "float64",
         "type": "float"
        }
       ],
       "ref": "5fba3655-f982-43cc-bd84-da00e4ff25c8",
       "rows": [
        [
         "count",
         "184499.0"
        ],
        [
         "mean",
         "0.10304178634328111"
        ],
        [
         "std",
         "1.9963706872022016"
        ],
        [
         "min",
         "0.0"
        ],
        [
         "25%",
         "0.0"
        ],
        [
         "50%",
         "0.0"
        ],
        [
         "75%",
         "6.01108280165894e-05"
        ],
        [
         "max",
         "412.0614151105343"
        ]
       ],
       "shape": {
        "columns": 1,
        "rows": 8
       }
      },
      "text/plain": [
       "count    184499.000000\n",
       "mean          0.103042\n",
       "std           1.996371\n",
       "min           0.000000\n",
       "25%           0.000000\n",
       "50%           0.000000\n",
       "75%           0.000060\n",
       "max         412.061415\n",
       "Name: turn_sum, dtype: float64"
      ]
     },
     "execution_count": 1168,
     "metadata": {},
     "output_type": "execute_result"
    }
   ],
   "source": [
    "future_df['turn_sum'].describe()"
   ]
  },
  {
   "cell_type": "code",
   "execution_count": 1172,
   "id": "cfe047c4",
   "metadata": {},
   "outputs": [],
   "source": [
    "\n",
    "# 원본 + 미래 예측 합치기\n",
    "combined_df = pd.concat([df_feat, future_df], ignore_index=True)\n",
    "\n",
    "# 날짜순으로 정렬 (선택)\n",
    "combined_df = combined_df.sort_values([\"unique_id\", \"rpt_time_date\"]).reset_index(drop=True)\n"
   ]
  },
  {
   "cell_type": "code",
   "execution_count": 1177,
   "id": "7a0d3535",
   "metadata": {},
   "outputs": [],
   "source": [
    "# 매핑 딕셔너리 뒤집기 (숫자 → 문자열)\n",
    "reverse_mapping = {v: k for k, v in domain_mapping.items()}\n",
    "\n",
    "# 숫자값을 다시 원래 문자열로 변환\n",
    "combined_df['domain'] = combined_df['domain'].map(reverse_mapping)"
   ]
  },
  {
   "cell_type": "code",
   "execution_count": 1173,
   "id": "f7bfd1f4",
   "metadata": {},
   "outputs": [],
   "source": [
    "combined_df.to_csv(\"df_tableau.csv\", index=False)"
   ]
  },
  {
   "cell_type": "markdown",
   "id": "9ec146dd",
   "metadata": {},
   "source": [
    "## 여기서부터!! 멘탈"
   ]
  },
  {
   "cell_type": "code",
   "execution_count": 1,
   "id": "7ccef5d9",
   "metadata": {},
   "outputs": [],
   "source": [
    "import pandas as pd\n",
    "import numpy as np  "
   ]
  },
  {
   "cell_type": "code",
   "execution_count": 2,
   "id": "e5f0a79c",
   "metadata": {},
   "outputs": [],
   "source": [
    "combined_df = pd.read_csv(\"df_tableau.csv\")"
   ]
  },
  {
   "cell_type": "code",
   "execution_count": 3,
   "id": "6ea6791b",
   "metadata": {},
   "outputs": [
    {
     "data": {
      "text/plain": [
       "Index(['rpt_time_date', 'unique_id', 'turn_sum', 'ads_idx', 'mda_idx',\n",
       "       'ads_category_id', 'domain', 'flag', 'turn_day_count',\n",
       "       'ads_idx_mean_turn', 'ads_idx/ads_category_id_mean_turn',\n",
       "       'mda_idx_mean_turn', 'mda_idx/ads_category_id_mean_turn',\n",
       "       'turn_sum_lag1', 'turn_sum_lag2', 'turn_sum_lag3',\n",
       "       'turn_day_count_lag1', 'turn_day_count_lag2', 'turn_day_count_lag3',\n",
       "       'ads_idx_mean_turn_lag1', 'ads_idx_mean_turn_lag2',\n",
       "       'ads_idx_mean_turn_lag3', 'ads_idx/ads_category_id_mean_turn_lag1',\n",
       "       'ads_idx/ads_category_id_mean_turn_lag2',\n",
       "       'ads_idx/ads_category_id_mean_turn_lag3', 'mda_idx_mean_turn_lag1',\n",
       "       'mda_idx_mean_turn_lag2', 'mda_idx_mean_turn_lag3',\n",
       "       'mda_idx/ads_category_id_mean_turn_lag1',\n",
       "       'mda_idx/ads_category_id_mean_turn_lag2',\n",
       "       'mda_idx/ads_category_id_mean_turn_lag3', 'turn_sum_lag_mean',\n",
       "       'lag_amount1', 'lag_amount2', 'due_day', 'year', 'month', 'day'],\n",
       "      dtype='object')"
      ]
     },
     "execution_count": 3,
     "metadata": {},
     "output_type": "execute_result"
    }
   ],
   "source": [
    "combined_df.columns\n"
   ]
  },
  {
   "cell_type": "code",
   "execution_count": 4,
   "id": "be19aa58",
   "metadata": {},
   "outputs": [],
   "source": [
    "combined_df=combined_df[['rpt_time_date', 'unique_id', 'turn_sum', 'ads_idx', 'mda_idx',\n",
    "       'ads_category_id', 'domain', 'flag', 'turn_day_count', 'due_day', 'year', 'month', 'day']]"
   ]
  },
  {
   "cell_type": "code",
   "execution_count": 10,
   "id": "c37e6589",
   "metadata": {},
   "outputs": [
    {
     "name": "stdout",
     "output_type": "stream",
     "text": [
      "26357\n",
      "1733\n",
      "325\n"
     ]
    }
   ],
   "source": [
    "print(combined_df['unique_id'].nunique())\n",
    "print(combined_df['ads_idx'].nunique())\n",
    "print(combined_df['mda_idx'].nunique())"
   ]
  },
  {
   "cell_type": "markdown",
   "id": "9442a0a9",
   "metadata": {},
   "source": [
    "## 스케줄 데이터 "
   ]
  },
  {
   "cell_type": "code",
   "execution_count": 5,
   "id": "64c540e9",
   "metadata": {},
   "outputs": [],
   "source": [
    "df_scedule = pd.read_csv(\"스케줄데이터.csv\")"
   ]
  },
  {
   "cell_type": "code",
   "execution_count": 6,
   "id": "cb3e5c08",
   "metadata": {},
   "outputs": [],
   "source": [
    "# 1. 쉼표 기준으로 split → 리스트 만들기\n",
    "df_scedule['mda_idx_arr'] = df_scedule['mda_idx_arr'].astype(str).str.split(',')\n",
    "\n",
    "# 2. 리스트를 행으로 분리\n",
    "df_scedule = df_scedule.explode('mda_idx_arr')\n",
    "\n",
    "# 3. 공백 제거 + 숫자로 변환 (원하면)\n",
    "df_scedule['mda_idx_arr'] = df_scedule['mda_idx_arr'].str.strip()\n",
    "df_scedule['mda_idx_arr'] = pd.to_numeric(df_scedule['mda_idx_arr'], errors='coerce')\n"
   ]
  },
  {
   "cell_type": "code",
   "execution_count": 7,
   "id": "42274b08",
   "metadata": {},
   "outputs": [],
   "source": [
    "df_scedule=df_scedule[['ads_idx','mda_idx_arr','sch_type','sch_clk_num','sch_sdatetime','sch_edatetime','sch_adv_pay','sch_ads_pay','sch_mda_pay']]"
   ]
  },
  {
   "cell_type": "code",
   "execution_count": 8,
   "id": "a2be09cc",
   "metadata": {},
   "outputs": [
    {
     "data": {
      "application/vnd.microsoft.datawrangler.viewer.v0+json": {
       "columns": [
        {
         "name": "index",
         "rawType": "int64",
         "type": "integer"
        },
        {
         "name": "ads_idx",
         "rawType": "int64",
         "type": "integer"
        },
        {
         "name": "mda_idx_arr",
         "rawType": "float64",
         "type": "float"
        },
        {
         "name": "sch_type",
         "rawType": "object",
         "type": "string"
        },
        {
         "name": "sch_clk_num",
         "rawType": "int64",
         "type": "integer"
        },
        {
         "name": "sch_sdatetime",
         "rawType": "object",
         "type": "string"
        },
        {
         "name": "sch_edatetime",
         "rawType": "object",
         "type": "string"
        },
        {
         "name": "sch_adv_pay",
         "rawType": "int64",
         "type": "integer"
        },
        {
         "name": "sch_ads_pay",
         "rawType": "int64",
         "type": "integer"
        },
        {
         "name": "sch_mda_pay",
         "rawType": "int64",
         "type": "integer"
        }
       ],
       "ref": "8a040b7b-38a7-4d55-9319-9e8119aac63e",
       "rows": [
        [
         "0",
         "463989",
         "562.0",
         "M",
         "99999999",
         "2025-09-11 09:42:03",
         "9999-12-31 23:59:59",
         "18",
         "18",
         "14"
        ],
        [
         "0",
         "463989",
         "563.0",
         "M",
         "99999999",
         "2025-09-11 09:42:03",
         "9999-12-31 23:59:59",
         "18",
         "18",
         "14"
        ],
        [
         "1",
         "463989",
         null,
         "A",
         "99999999",
         "2025-09-11 09:42:03",
         "9999-12-31 23:59:59",
         "18",
         "18",
         "12"
        ],
        [
         "2",
         "463988",
         "562.0",
         "M",
         "99999999",
         "2025-09-11 09:42:02",
         "9999-12-31 23:59:59",
         "18",
         "18",
         "14"
        ],
        [
         "2",
         "463988",
         "563.0",
         "M",
         "99999999",
         "2025-09-11 09:42:02",
         "9999-12-31 23:59:59",
         "18",
         "18",
         "14"
        ],
        [
         "3",
         "463988",
         null,
         "A",
         "99999999",
         "2025-09-11 09:42:02",
         "9999-12-31 23:59:59",
         "18",
         "18",
         "12"
        ],
        [
         "4",
         "463987",
         "562.0",
         "M",
         "99999999",
         "2025-09-11 09:41:55",
         "9999-12-31 23:59:59",
         "18",
         "18",
         "14"
        ],
        [
         "4",
         "463987",
         "563.0",
         "M",
         "99999999",
         "2025-09-11 09:41:55",
         "9999-12-31 23:59:59",
         "18",
         "18",
         "14"
        ],
        [
         "5",
         "463987",
         null,
         "A",
         "99999999",
         "2025-09-11 09:41:55",
         "9999-12-31 23:59:59",
         "18",
         "18",
         "12"
        ],
        [
         "6",
         "463986",
         "562.0",
         "M",
         "99999999",
         "2025-09-11 09:33:00",
         "9999-12-31 23:59:59",
         "18",
         "18",
         "14"
        ],
        [
         "6",
         "463986",
         "563.0",
         "M",
         "99999999",
         "2025-09-11 09:33:00",
         "9999-12-31 23:59:59",
         "18",
         "18",
         "14"
        ],
        [
         "7",
         "463986",
         null,
         "A",
         "99999999",
         "2025-09-11 09:33:00",
         "9999-12-31 23:59:59",
         "18",
         "18",
         "12"
        ],
        [
         "8",
         "463984",
         "562.0",
         "M",
         "99999999",
         "2025-09-11 09:22:47",
         "9999-12-31 23:59:59",
         "18",
         "18",
         "14"
        ],
        [
         "8",
         "463984",
         "563.0",
         "M",
         "99999999",
         "2025-09-11 09:22:47",
         "9999-12-31 23:59:59",
         "18",
         "18",
         "14"
        ],
        [
         "9",
         "463984",
         null,
         "A",
         "99999999",
         "2025-09-11 09:22:46",
         "9999-12-31 23:59:59",
         "18",
         "18",
         "12"
        ],
        [
         "10",
         "463982",
         "562.0",
         "M",
         "99999999",
         "2025-09-11 08:57:40",
         "9999-12-31 23:59:59",
         "18",
         "18",
         "14"
        ],
        [
         "10",
         "463982",
         "563.0",
         "M",
         "99999999",
         "2025-09-11 08:57:40",
         "9999-12-31 23:59:59",
         "18",
         "18",
         "14"
        ],
        [
         "11",
         "463982",
         null,
         "A",
         "99999999",
         "2025-09-11 08:57:40",
         "9999-12-31 23:59:59",
         "18",
         "18",
         "12"
        ],
        [
         "12",
         "463977",
         "562.0",
         "M",
         "99999999",
         "2025-09-11 08:33:13",
         "9999-12-31 23:59:59",
         "18",
         "18",
         "14"
        ],
        [
         "12",
         "463977",
         "563.0",
         "M",
         "99999999",
         "2025-09-11 08:33:13",
         "9999-12-31 23:59:59",
         "18",
         "18",
         "14"
        ],
        [
         "13",
         "463977",
         null,
         "A",
         "99999999",
         "2025-09-11 08:33:13",
         "9999-12-31 23:59:59",
         "18",
         "18",
         "12"
        ],
        [
         "14",
         "463974",
         "562.0",
         "M",
         "99999999",
         "2025-09-11 08:09:13",
         "9999-12-31 23:59:59",
         "18",
         "18",
         "14"
        ],
        [
         "14",
         "463974",
         "563.0",
         "M",
         "99999999",
         "2025-09-11 08:09:13",
         "9999-12-31 23:59:59",
         "18",
         "18",
         "14"
        ],
        [
         "15",
         "463974",
         null,
         "A",
         "99999999",
         "2025-09-11 08:09:13",
         "9999-12-31 23:59:59",
         "18",
         "18",
         "12"
        ],
        [
         "16",
         "463973",
         "562.0",
         "M",
         "99999999",
         "2025-09-11 07:57:44",
         "9999-12-31 23:59:59",
         "18",
         "18",
         "14"
        ],
        [
         "16",
         "463973",
         "563.0",
         "M",
         "99999999",
         "2025-09-11 07:57:44",
         "9999-12-31 23:59:59",
         "18",
         "18",
         "14"
        ],
        [
         "17",
         "463973",
         null,
         "A",
         "99999999",
         "2025-09-11 07:57:44",
         "9999-12-31 23:59:59",
         "18",
         "18",
         "12"
        ],
        [
         "18",
         "463972",
         "562.0",
         "M",
         "99999999",
         "2025-09-11 07:52:52",
         "9999-12-31 23:59:59",
         "18",
         "18",
         "14"
        ],
        [
         "18",
         "463972",
         "563.0",
         "M",
         "99999999",
         "2025-09-11 07:52:52",
         "9999-12-31 23:59:59",
         "18",
         "18",
         "14"
        ],
        [
         "19",
         "463972",
         null,
         "A",
         "99999999",
         "2025-09-11 07:52:52",
         "9999-12-31 23:59:59",
         "18",
         "18",
         "12"
        ],
        [
         "20",
         "463969",
         "562.0",
         "M",
         "99999999",
         "2025-09-11 05:47:39",
         "9999-12-31 23:59:59",
         "18",
         "18",
         "14"
        ],
        [
         "20",
         "463969",
         "563.0",
         "M",
         "99999999",
         "2025-09-11 05:47:39",
         "9999-12-31 23:59:59",
         "18",
         "18",
         "14"
        ],
        [
         "21",
         "463969",
         null,
         "A",
         "99999999",
         "2025-09-11 05:47:39",
         "9999-12-31 23:59:59",
         "18",
         "18",
         "12"
        ],
        [
         "22",
         "463968",
         "562.0",
         "M",
         "99999999",
         "2025-09-11 05:47:38",
         "9999-12-31 23:59:59",
         "18",
         "18",
         "14"
        ],
        [
         "22",
         "463968",
         "563.0",
         "M",
         "99999999",
         "2025-09-11 05:47:38",
         "9999-12-31 23:59:59",
         "18",
         "18",
         "14"
        ],
        [
         "23",
         "463968",
         null,
         "A",
         "99999999",
         "2025-09-11 05:47:38",
         "9999-12-31 23:59:59",
         "18",
         "18",
         "12"
        ],
        [
         "24",
         "463966",
         "562.0",
         "M",
         "99999999",
         "2025-09-11 05:27:55",
         "9999-12-31 23:59:59",
         "18",
         "18",
         "14"
        ],
        [
         "24",
         "463966",
         "563.0",
         "M",
         "99999999",
         "2025-09-11 05:27:55",
         "9999-12-31 23:59:59",
         "18",
         "18",
         "14"
        ],
        [
         "25",
         "463966",
         null,
         "A",
         "99999999",
         "2025-09-11 05:27:55",
         "9999-12-31 23:59:59",
         "18",
         "18",
         "12"
        ],
        [
         "26",
         "463964",
         "562.0",
         "M",
         "99999999",
         "2025-09-11 05:27:54",
         "9999-12-31 23:59:59",
         "18",
         "18",
         "14"
        ],
        [
         "26",
         "463964",
         "563.0",
         "M",
         "99999999",
         "2025-09-11 05:27:54",
         "9999-12-31 23:59:59",
         "18",
         "18",
         "14"
        ],
        [
         "27",
         "463964",
         null,
         "A",
         "99999999",
         "2025-09-11 05:27:54",
         "9999-12-31 23:59:59",
         "18",
         "18",
         "12"
        ],
        [
         "28",
         "463963",
         "562.0",
         "M",
         "99999999",
         "2025-09-11 05:27:53",
         "9999-12-31 23:59:59",
         "18",
         "18",
         "14"
        ],
        [
         "28",
         "463963",
         "563.0",
         "M",
         "99999999",
         "2025-09-11 05:27:53",
         "9999-12-31 23:59:59",
         "18",
         "18",
         "14"
        ],
        [
         "29",
         "463963",
         null,
         "A",
         "99999999",
         "2025-09-11 05:27:53",
         "9999-12-31 23:59:59",
         "18",
         "18",
         "12"
        ],
        [
         "30",
         "463962",
         "562.0",
         "M",
         "99999999",
         "2025-09-11 05:27:53",
         "9999-12-31 23:59:59",
         "18",
         "18",
         "14"
        ],
        [
         "30",
         "463962",
         "563.0",
         "M",
         "99999999",
         "2025-09-11 05:27:53",
         "9999-12-31 23:59:59",
         "18",
         "18",
         "14"
        ],
        [
         "31",
         "463962",
         null,
         "A",
         "99999999",
         "2025-09-11 05:27:53",
         "9999-12-31 23:59:59",
         "18",
         "18",
         "12"
        ],
        [
         "32",
         "463961",
         "562.0",
         "M",
         "99999999",
         "2025-09-11 05:03:00",
         "9999-12-31 23:59:59",
         "18",
         "18",
         "14"
        ],
        [
         "32",
         "463961",
         "563.0",
         "M",
         "99999999",
         "2025-09-11 05:03:00",
         "9999-12-31 23:59:59",
         "18",
         "18",
         "14"
        ]
       ],
       "shape": {
        "columns": 9,
        "rows": 835301
       }
      },
      "text/html": [
       "<div>\n",
       "<style scoped>\n",
       "    .dataframe tbody tr th:only-of-type {\n",
       "        vertical-align: middle;\n",
       "    }\n",
       "\n",
       "    .dataframe tbody tr th {\n",
       "        vertical-align: top;\n",
       "    }\n",
       "\n",
       "    .dataframe thead th {\n",
       "        text-align: right;\n",
       "    }\n",
       "</style>\n",
       "<table border=\"1\" class=\"dataframe\">\n",
       "  <thead>\n",
       "    <tr style=\"text-align: right;\">\n",
       "      <th></th>\n",
       "      <th>ads_idx</th>\n",
       "      <th>mda_idx_arr</th>\n",
       "      <th>sch_type</th>\n",
       "      <th>sch_clk_num</th>\n",
       "      <th>sch_sdatetime</th>\n",
       "      <th>sch_edatetime</th>\n",
       "      <th>sch_adv_pay</th>\n",
       "      <th>sch_ads_pay</th>\n",
       "      <th>sch_mda_pay</th>\n",
       "    </tr>\n",
       "  </thead>\n",
       "  <tbody>\n",
       "    <tr>\n",
       "      <th>0</th>\n",
       "      <td>463989</td>\n",
       "      <td>562.0</td>\n",
       "      <td>M</td>\n",
       "      <td>99999999</td>\n",
       "      <td>2025-09-11 09:42:03</td>\n",
       "      <td>9999-12-31 23:59:59</td>\n",
       "      <td>18</td>\n",
       "      <td>18</td>\n",
       "      <td>14</td>\n",
       "    </tr>\n",
       "    <tr>\n",
       "      <th>0</th>\n",
       "      <td>463989</td>\n",
       "      <td>563.0</td>\n",
       "      <td>M</td>\n",
       "      <td>99999999</td>\n",
       "      <td>2025-09-11 09:42:03</td>\n",
       "      <td>9999-12-31 23:59:59</td>\n",
       "      <td>18</td>\n",
       "      <td>18</td>\n",
       "      <td>14</td>\n",
       "    </tr>\n",
       "    <tr>\n",
       "      <th>1</th>\n",
       "      <td>463989</td>\n",
       "      <td>NaN</td>\n",
       "      <td>A</td>\n",
       "      <td>99999999</td>\n",
       "      <td>2025-09-11 09:42:03</td>\n",
       "      <td>9999-12-31 23:59:59</td>\n",
       "      <td>18</td>\n",
       "      <td>18</td>\n",
       "      <td>12</td>\n",
       "    </tr>\n",
       "    <tr>\n",
       "      <th>2</th>\n",
       "      <td>463988</td>\n",
       "      <td>562.0</td>\n",
       "      <td>M</td>\n",
       "      <td>99999999</td>\n",
       "      <td>2025-09-11 09:42:02</td>\n",
       "      <td>9999-12-31 23:59:59</td>\n",
       "      <td>18</td>\n",
       "      <td>18</td>\n",
       "      <td>14</td>\n",
       "    </tr>\n",
       "    <tr>\n",
       "      <th>2</th>\n",
       "      <td>463988</td>\n",
       "      <td>563.0</td>\n",
       "      <td>M</td>\n",
       "      <td>99999999</td>\n",
       "      <td>2025-09-11 09:42:02</td>\n",
       "      <td>9999-12-31 23:59:59</td>\n",
       "      <td>18</td>\n",
       "      <td>18</td>\n",
       "      <td>14</td>\n",
       "    </tr>\n",
       "    <tr>\n",
       "      <th>...</th>\n",
       "      <td>...</td>\n",
       "      <td>...</td>\n",
       "      <td>...</td>\n",
       "      <td>...</td>\n",
       "      <td>...</td>\n",
       "      <td>...</td>\n",
       "      <td>...</td>\n",
       "      <td>...</td>\n",
       "      <td>...</td>\n",
       "    </tr>\n",
       "    <tr>\n",
       "      <th>527691</th>\n",
       "      <td>2595</td>\n",
       "      <td>NaN</td>\n",
       "      <td>A</td>\n",
       "      <td>9998847</td>\n",
       "      <td>2020-04-14 15:51:00</td>\n",
       "      <td>2020-04-14 16:30:59</td>\n",
       "      <td>130</td>\n",
       "      <td>130</td>\n",
       "      <td>120</td>\n",
       "    </tr>\n",
       "    <tr>\n",
       "      <th>527692</th>\n",
       "      <td>4418</td>\n",
       "      <td>NaN</td>\n",
       "      <td>A</td>\n",
       "      <td>9999992</td>\n",
       "      <td>2020-04-14 15:51:00</td>\n",
       "      <td>2020-04-14 16:10:59</td>\n",
       "      <td>130</td>\n",
       "      <td>130</td>\n",
       "      <td>120</td>\n",
       "    </tr>\n",
       "    <tr>\n",
       "      <th>527693</th>\n",
       "      <td>4418</td>\n",
       "      <td>NaN</td>\n",
       "      <td>A</td>\n",
       "      <td>9999999</td>\n",
       "      <td>2019-07-08 15:00:00</td>\n",
       "      <td>2020-04-14 15:50:59</td>\n",
       "      <td>19000</td>\n",
       "      <td>19000</td>\n",
       "      <td>12000</td>\n",
       "    </tr>\n",
       "    <tr>\n",
       "      <th>527694</th>\n",
       "      <td>3191</td>\n",
       "      <td>NaN</td>\n",
       "      <td>A</td>\n",
       "      <td>9999999</td>\n",
       "      <td>2019-01-09 16:00:00</td>\n",
       "      <td>2020-04-14 15:50:59</td>\n",
       "      <td>1200</td>\n",
       "      <td>1200</td>\n",
       "      <td>1000</td>\n",
       "    </tr>\n",
       "    <tr>\n",
       "      <th>527695</th>\n",
       "      <td>2595</td>\n",
       "      <td>NaN</td>\n",
       "      <td>A</td>\n",
       "      <td>9999999</td>\n",
       "      <td>2018-09-14 12:00:00</td>\n",
       "      <td>2020-04-14 15:50:59</td>\n",
       "      <td>500</td>\n",
       "      <td>500</td>\n",
       "      <td>400</td>\n",
       "    </tr>\n",
       "  </tbody>\n",
       "</table>\n",
       "<p>835301 rows × 9 columns</p>\n",
       "</div>"
      ],
      "text/plain": [
       "        ads_idx  mda_idx_arr sch_type  sch_clk_num        sch_sdatetime  \\\n",
       "0        463989        562.0        M     99999999  2025-09-11 09:42:03   \n",
       "0        463989        563.0        M     99999999  2025-09-11 09:42:03   \n",
       "1        463989          NaN        A     99999999  2025-09-11 09:42:03   \n",
       "2        463988        562.0        M     99999999  2025-09-11 09:42:02   \n",
       "2        463988        563.0        M     99999999  2025-09-11 09:42:02   \n",
       "...         ...          ...      ...          ...                  ...   \n",
       "527691     2595          NaN        A      9998847  2020-04-14 15:51:00   \n",
       "527692     4418          NaN        A      9999992  2020-04-14 15:51:00   \n",
       "527693     4418          NaN        A      9999999  2019-07-08 15:00:00   \n",
       "527694     3191          NaN        A      9999999  2019-01-09 16:00:00   \n",
       "527695     2595          NaN        A      9999999  2018-09-14 12:00:00   \n",
       "\n",
       "              sch_edatetime  sch_adv_pay  sch_ads_pay  sch_mda_pay  \n",
       "0       9999-12-31 23:59:59           18           18           14  \n",
       "0       9999-12-31 23:59:59           18           18           14  \n",
       "1       9999-12-31 23:59:59           18           18           12  \n",
       "2       9999-12-31 23:59:59           18           18           14  \n",
       "2       9999-12-31 23:59:59           18           18           14  \n",
       "...                     ...          ...          ...          ...  \n",
       "527691  2020-04-14 16:30:59          130          130          120  \n",
       "527692  2020-04-14 16:10:59          130          130          120  \n",
       "527693  2020-04-14 15:50:59        19000        19000        12000  \n",
       "527694  2020-04-14 15:50:59         1200         1200         1000  \n",
       "527695  2020-04-14 15:50:59          500          500          400  \n",
       "\n",
       "[835301 rows x 9 columns]"
      ]
     },
     "execution_count": 8,
     "metadata": {},
     "output_type": "execute_result"
    }
   ],
   "source": [
    "df_scedule"
   ]
  },
  {
   "cell_type": "code",
   "execution_count": 14,
   "id": "19e15fb0",
   "metadata": {},
   "outputs": [],
   "source": [
    "# 1. A타입 값 ads별 baseline으로 생성\n",
    "df_A = df_scedule[df_scedule['sch_type'] == 'A'][['ads_idx', 'sch_clk_num','sch_type','sch_sdatetime','sch_edatetime','sch_adv_pay','sch_ads_pay','sch_mda_pay']]\n",
    "df_A = df_A.rename(columns={'sch_clk_num':'clk_num_A'})\n",
    "\n",
    "# 2. explode된 df에 baseline join\n",
    "df_result = combined_df.merge(df_A, on='ads_idx', how='left')\n",
    "df_result['sch_clk_num_final'] = df_result['clk_num_A']  # 기본값\n",
    "\n",
    "# 3. M타입 값 가져오기\n",
    "df_M = df_scedule[df_scedule['sch_type'] == 'M'][['ads_idx','mda_idx_arr','sch_clk_num','sch_type','sch_sdatetime','sch_edatetime','sch_adv_pay','sch_ads_pay','sch_mda_pay']]\n",
    "df_M = df_M.rename(columns={'sch_clk_num':'clk_num_M'})\n",
    "df_M = df_M.rename(columns={'mda_idx_arr':'mda_idx'})\n",
    "\n",
    "\n",
    "# 4. ads+mda 기준으로 M타입 값 join\n",
    "df_result = df_result.merge(df_M, on=['ads_idx','mda_idx'], how='left')\n",
    "\n",
    "# 5. M타입 있으면 override\n",
    "df_result['sch_clk_num_final'] = df_result['clk_num_M'].combine_first(df_result['sch_clk_num_final'])\n",
    "\n",
    "# 6. 필요없는 컬럼 정리\n",
    "df_result = df_result.drop(columns=['clk_num_A','clk_num_M'])\n"
   ]
  },
  {
   "cell_type": "code",
   "execution_count": 19,
   "id": "3747eb60",
   "metadata": {},
   "outputs": [],
   "source": [
    "df_result = df_result.drop(columns=[col for col in df_result.columns if col.endswith('_y')])\n",
    "df_result = df_result.rename(columns=lambda x: x.replace('_x', '') if x.endswith('_x') else x)\n"
   ]
  },
  {
   "cell_type": "code",
   "execution_count": 15,
   "id": "3b6239b7",
   "metadata": {},
   "outputs": [
    {
     "name": "stdout",
     "output_type": "stream",
     "text": [
      "26357\n",
      "1733\n",
      "325\n"
     ]
    }
   ],
   "source": [
    "print(df_result['unique_id'].nunique())\n",
    "print(df_result['ads_idx'].nunique())\n",
    "print(df_result['mda_idx'].nunique())"
   ]
  },
  {
   "cell_type": "code",
   "execution_count": 21,
   "id": "14cc28af",
   "metadata": {},
   "outputs": [
    {
     "name": "stdout",
     "output_type": "stream",
     "text": [
      "0.0% 압축됨\n"
     ]
    }
   ],
   "source": [
    "def downcast(df, verbose=True):\n",
    "    start_mem = df.memory_usage().sum() / 1024**2\n",
    "\n",
    "    for col in df.columns:\n",
    "        dtype_name = df[col].dtype.name\n",
    "\n",
    "        # object, datetime은 건너뛰기\n",
    "        if dtype_name == 'object' or 'datetime' in dtype_name:\n",
    "            continue\n",
    "        elif dtype_name == 'bool':\n",
    "            df[col] = df[col].astype('int8')\n",
    "        elif dtype_name.startswith('int'):\n",
    "            df[col] = pd.to_numeric(df[col], downcast='integer')\n",
    "        elif dtype_name.startswith('float'):\n",
    "            df[col] = pd.to_numeric(df[col], downcast='float')\n",
    "\n",
    "    end_mem = df.memory_usage().sum() / 1024**2\n",
    "    if verbose:\n",
    "        print('{:.1f}% 압축됨'.format(100 * (start_mem - end_mem) / start_mem))\n",
    "    \n",
    "    return df\n",
    "\n",
    "\n",
    "df_result = downcast(df_result)"
   ]
  },
  {
   "cell_type": "code",
   "execution_count": 22,
   "id": "f5b24b68",
   "metadata": {},
   "outputs": [],
   "source": [
    "df_result.to_csv(\"real_tableau.csv\", index=False)"
   ]
  },
  {
   "cell_type": "code",
   "execution_count": 23,
   "id": "9d072269",
   "metadata": {},
   "outputs": [
    {
     "name": "stdout",
     "output_type": "stream",
     "text": [
      "<class 'pandas.core.frame.DataFrame'>\n",
      "RangeIndex: 58589687 entries, 0 to 58589686\n",
      "Data columns (total 20 columns):\n",
      " #   Column             Dtype  \n",
      "---  ------             -----  \n",
      " 0   rpt_time_date      object \n",
      " 1   unique_id          int64  \n",
      " 2   turn_sum           float32\n",
      " 3   ads_idx            float32\n",
      " 4   mda_idx            float32\n",
      " 5   ads_category_id    float32\n",
      " 6   domain             int8   \n",
      " 7   flag               int8   \n",
      " 8   turn_day_count     int16  \n",
      " 9   due_day            int16  \n",
      " 10  year               int16  \n",
      " 11  month              int8   \n",
      " 12  day                int8   \n",
      " 13  sch_type           object \n",
      " 14  sch_sdatetime      object \n",
      " 15  sch_edatetime      object \n",
      " 16  sch_adv_pay        float32\n",
      " 17  sch_ads_pay        float32\n",
      " 18  sch_mda_pay        float32\n",
      " 19  sch_clk_num_final  float64\n",
      "dtypes: float32(7), float64(1), int16(3), int64(1), int8(4), object(4)\n",
      "memory usage: 4.7+ GB\n"
     ]
    }
   ],
   "source": [
    "df_result.info()"
   ]
  },
  {
   "cell_type": "markdown",
   "id": "53b0bd30",
   "metadata": {},
   "source": [
    "## 데이터 분리"
   ]
  },
  {
   "cell_type": "code",
   "execution_count": 1126,
   "id": "0851bdd8",
   "metadata": {},
   "outputs": [
    {
     "name": "stdout",
     "output_type": "stream",
     "text": [
      "Train shape: (6276883, 34)\n",
      "Valid shape: (181950, 34)\n",
      "Test shape: (184189, 34)\n"
     ]
    }
   ],
   "source": [
    "train_list = []\n",
    "valid_list = []\n",
    "test_list = []\n",
    "\n",
    "for ad_id, group in df_feat.groupby(\"unique_id\"):\n",
    "    group = group.sort_values(\"rpt_time_date\")\n",
    "    \n",
    "    # 마지막 3일 예측 → test, 그 전날 3일 → valid, 나머지 → train\n",
    "    test = group.tail(7)\n",
    "    valid = group.iloc[-14:-7]\n",
    "    train = group.iloc[:-7]\n",
    "    \n",
    "    train_list.append(train)\n",
    "    valid_list.append(valid)\n",
    "    test_list.append(test)\n",
    "\n",
    "train_df = pd.concat(train_list)\n",
    "valid_df = pd.concat(valid_list)\n",
    "test_df = pd.concat(test_list)\n",
    "\n",
    "print(\"Train shape:\", train_df.shape)\n",
    "print(\"Valid shape:\", valid_df.shape)\n",
    "print(\"Test shape:\", test_df.shape)\n"
   ]
  },
  {
   "cell_type": "code",
   "execution_count": 1088,
   "id": "3ee5f011",
   "metadata": {},
   "outputs": [
    {
     "data": {
      "text/plain": [
       "325"
      ]
     },
     "execution_count": 1088,
     "metadata": {},
     "output_type": "execute_result"
    }
   ],
   "source": [
    "df_feat['mda_idx'].nunique()"
   ]
  },
  {
   "cell_type": "code",
   "execution_count": 1089,
   "id": "978adc5e",
   "metadata": {},
   "outputs": [
    {
     "data": {
      "text/plain": [
       "Index(['rpt_time_date', 'unique_id', 'turn_sum', 'ads_idx', 'mda_idx',\n",
       "       'ads_category_id', 'domain', 'flag', 'turn_day_count', 'turn_sum_lag1',\n",
       "       'turn_sum_lag2', 'turn_sum_lag3', 'turn_day_count_lag1',\n",
       "       'turn_day_count_lag2', 'turn_day_count_lag3', 'ads_idx_mean_turn_lag1',\n",
       "       'ads_idx_mean_turn_lag2', 'ads_idx_mean_turn_lag3',\n",
       "       'ads_idx/ads_category_id_mean_turn_lag1',\n",
       "       'ads_idx/ads_category_id_mean_turn_lag2',\n",
       "       'ads_idx/ads_category_id_mean_turn_lag3', 'mda_idx_mean_turn_lag1',\n",
       "       'mda_idx_mean_turn_lag2', 'mda_idx_mean_turn_lag3',\n",
       "       'mda_idx/ads_category_id_mean_turn_lag1',\n",
       "       'mda_idx/ads_category_id_mean_turn_lag2',\n",
       "       'mda_idx/ads_category_id_mean_turn_lag3', 'turn_sum_lag_mean',\n",
       "       'lag_amount1', 'lag_amount2', 'due_day', 'year', 'month', 'day'],\n",
       "      dtype='object')"
      ]
     },
     "execution_count": 1089,
     "metadata": {},
     "output_type": "execute_result"
    }
   ],
   "source": [
    "df_feat.columns"
   ]
  },
  {
   "cell_type": "code",
   "execution_count": 1090,
   "id": "992e7cab",
   "metadata": {},
   "outputs": [],
   "source": [
    "features = ['ads_idx', 'mda_idx',\n",
    "       'ads_category_id', 'domain', \n",
    "       'flag', 'turn_day_count', \n",
    "       'turn_sum_lag1', 'turn_sum_lag2', 'turn_sum_lag3', \n",
    "       'turn_day_count_lag1', 'turn_day_count_lag2', 'turn_day_count_lag3', \n",
    "       'ads_idx_mean_turn_lag1', 'ads_idx_mean_turn_lag2', 'ads_idx_mean_turn_lag3',\n",
    "       'ads_idx/ads_category_id_mean_turn_lag1', 'ads_idx/ads_category_id_mean_turn_lag2', 'ads_idx/ads_category_id_mean_turn_lag3', \n",
    "       'mda_idx_mean_turn_lag1', 'mda_idx_mean_turn_lag2', 'mda_idx_mean_turn_lag3',\n",
    "       'mda_idx/ads_category_id_mean_turn_lag1', 'mda_idx/ads_category_id_mean_turn_lag2', 'mda_idx/ads_category_id_mean_turn_lag3', \n",
    "       'turn_sum_lag_mean', 'lag_amount1', 'lag_amount2', 'due_day', 'year', 'month', 'day']"
   ]
  },
  {
   "cell_type": "code",
   "execution_count": 1151,
   "id": "6d4b5078",
   "metadata": {},
   "outputs": [],
   "source": [
    "# 훈련 데이터 (피처)\n",
    "X_train = train_df.drop(['turn_sum','rpt_time_date'], axis=1)\n",
    "# 검증 데이터 (피처)\n",
    "X_valid = valid_df.drop(['turn_sum','rpt_time_date'], axis=1)\n",
    "# 테스트 데이터 (피처)\n",
    "X_test = test_df.drop(['turn_sum','rpt_time_date'], axis=1)\n",
    "\n",
    "# 훈련 데이터 (타깃값)\n",
    "y_train = np.log1p(train_df[\"turn_sum\"])\n",
    "# 검증 데이터 (타깃값)\n",
    "y_valid = np.log1p(valid_df[\"turn_sum\"])\n",
    "# 테스트 데이터(타깃값)\n",
    "y_test = np.log1p(test_df[\"turn_sum\"])"
   ]
  },
  {
   "cell_type": "markdown",
   "id": "dbc5fc04",
   "metadata": {},
   "source": [
    "## 평가함수"
   ]
  },
  {
   "cell_type": "code",
   "execution_count": 1092,
   "id": "30c18b23",
   "metadata": {},
   "outputs": [],
   "source": [
    "# 로그변환된 target을 지수변환하기 위한 함수\n",
    "def exp_transform(y):\n",
    "    return np.expm1(y)  # log1p -> expm1, 0 값도 안전하게 처리\n",
    "\n",
    "# MAPE 계산 함수\n",
    "def mean_absolute_percentage_error(y_true, y_pred):\n",
    "    y_true, y_pred = np.array(y_true), np.array(y_pred)\n",
    "    return np.mean(np.abs((y_true - y_pred) / np.clip(y_true, 1e-8, None))) * 100"
   ]
  },
  {
   "cell_type": "markdown",
   "id": "5bd17eec",
   "metadata": {},
   "source": [
    "## 모델"
   ]
  },
  {
   "cell_type": "markdown",
   "id": "a15a55c4",
   "metadata": {},
   "source": [
    "### 랜덤포레스트"
   ]
  },
  {
   "cell_type": "code",
   "execution_count": 1093,
   "id": "954edcb0",
   "metadata": {},
   "outputs": [],
   "source": [
    "# from sklearn.ensemble import RandomForestRegressor\n",
    "# from sklearn.metrics import mean_squared_error, mean_absolute_error, r2_score\n",
    "# import numpy as np\n",
    "\n",
    "\n",
    "# # 모델 초기화\n",
    "# rf = RandomForestRegressor(random_state=42)\n",
    "\n",
    "# # 1️⃣ Train 데이터 학습\n",
    "# rf.fit(X_train, y_train)\n",
    "\n",
    "# # 2️⃣ Train 데이터 예측\n",
    "# pred_val = rf.predict(X_valid)\n",
    "# pred_val = np.maximum(pred_val, 0)\n",
    "\n",
    "# pred_val_exp = exp_transform(pred_val)\n",
    "# y_train_exp = valid_df[\"turn_sum\"]\n",
    "\n",
    "# # 3️⃣ Train 성능 평가\n",
    "# mse_train = mean_squared_error(y_train_exp, pred_val_exp)\n",
    "# rmse_train = np.sqrt(mse_train)\n",
    "# mae_train = mean_absolute_error(y_train_exp, pred_val_exp)\n",
    "# r2_train = r2_score(y_train_exp, pred_val_exp)\n",
    "# mape_train = mean_absolute_percentage_error(y_train_exp, pred_val_exp)\n",
    "\n",
    "# print(\"valid 성능:\")\n",
    "# print(f\"R2: {r2_train:.4f}, MAE: {mae_train:.2f}, MSE: {mse_train:.2f}, RMSE: {rmse_train:.2f}, MAPE: {mape_train:.2f}%\")\n",
    "\n"
   ]
  },
  {
   "cell_type": "code",
   "execution_count": 1094,
   "id": "a8f65672",
   "metadata": {},
   "outputs": [],
   "source": [
    "# # 4️⃣ Test 데이터 예측\n",
    "# pred_test = rf.predict(X_test)\n",
    "# pred_test = np.maximum(pred_test, 0)\n",
    "\n",
    "# pred_test_exp = exp_transform(pred_test)\n",
    "# y_test_exp = test_df[\"turn_sum\"]\n",
    "\n",
    "# # 5️⃣ Test 성능 평가\n",
    "# mse_test = mean_squared_error(y_test_exp, pred_test_exp)\n",
    "# rmse_test = np.sqrt(mse_test)\n",
    "# mae_test = mean_absolute_error(y_test_exp, pred_test_exp)\n",
    "# r2_test = r2_score(y_test_exp, pred_test_exp)\n",
    "# mape_test = mean_absolute_percentage_error(y_test_exp, pred_test_exp)\n",
    "\n",
    "# print(\"Test 성능:\")\n",
    "# print(f\"R2: {r2_test:.4f}, MAE: {mae_test:.2f}, MSE: {mse_test:.2f}, RMSE: {rmse_test:.2f}, MAPE: {mape_test:.2f}%\")"
   ]
  },
  {
   "cell_type": "markdown",
   "id": "51463a23",
   "metadata": {},
   "source": [
    "### XGBoost"
   ]
  },
  {
   "cell_type": "markdown",
   "id": "f291cbec",
   "metadata": {},
   "source": [
    "#### 옵튜나"
   ]
  },
  {
   "cell_type": "code",
   "execution_count": null,
   "id": "85f344f5",
   "metadata": {},
   "outputs": [],
   "source": [
    "import optuna\n",
    "import numpy as np\n",
    "import xgboost as xgb\n",
    "from sklearn.metrics import mean_squared_error, mean_absolute_error, r2_score, mean_absolute_percentage_error\n",
    "\n",
    "# --------------------------\n",
    "# 1️⃣ 평가 함수\n",
    "# --------------------------\n",
    "def evaluate(y_true, y_pred):\n",
    "    mse = mean_squared_error(y_true, y_pred)\n",
    "    rmse = np.sqrt(mse)\n",
    "    mae = mean_absolute_error(y_true, y_pred)\n",
    "    r2 = r2_score(y_true, y_pred)\n",
    "    mape = mean_absolute_percentage_error(y_true, y_pred)\n",
    "    return mse, rmse, mae, r2, mape\n",
    "\n",
    "# --------------------------\n",
    "# 2️⃣ Optuna 목적 함수\n",
    "# --------------------------\n",
    "def objective(trial):\n",
    "    params = {\n",
    "        \"n_estimators\": trial.suggest_int(\"n_estimators\", 200, 2000),\n",
    "        \"max_depth\": trial.suggest_int(\"max_depth\", 3, 12),\n",
    "        \"learning_rate\": trial.suggest_float(\"learning_rate\", 1e-4, 0.3, log=True),\n",
    "        \"subsample\": trial.suggest_float(\"subsample\", 0.5, 1.0),\n",
    "        \"colsample_bytree\": trial.suggest_float(\"colsample_bytree\", 0.5, 1.0),\n",
    "        \"reg_alpha\": trial.suggest_float(\"reg_alpha\", 1e-8, 100.0, log=True),\n",
    "        \"reg_lambda\": trial.suggest_float(\"reg_lambda\", 1e-8, 100.0, log=True),\n",
    "        \"min_child_weight\": trial.suggest_int(\"min_child_weight\", 1, 20),\n",
    "        \"gamma\": trial.suggest_float(\"gamma\", 0, 10.0),\n",
    "        \"random_state\": 42,\n",
    "        \"enable_categorical\": True,\n",
    "        \"tree_method\": \"hist\",  # CPU에서 빠른 학습\n",
    "    }\n",
    "\n",
    "    model = xgb.XGBRegressor(**params)\n",
    "    model.fit(X_train, y_train)\n",
    "\n",
    "    pred_val = model.predict(X_valid)\n",
    "    pred_val = np.maximum(pred_val, 0)\n",
    "\n",
    "    pred_val_exp = exp_transform(pred_val)\n",
    "    y_val_exp = valid_df[\"turn_sum\"].values\n",
    "\n",
    "    rmse = np.sqrt(mean_squared_error(y_val_exp, pred_val_exp))\n",
    "    return rmse\n",
    "\n",
    "# --------------------------\n",
    "# 3️⃣ Optuna 실행\n",
    "# --------------------------\n",
    "study = optuna.create_study(direction=\"minimize\")\n",
    "study.optimize(objective, n_trials=100)\n",
    "\n",
    "print(\"Best params:\", study.best_params)\n",
    "print(\"Best RMSE:\", study.best_value)\n",
    "\n",
    "# --------------------------\n",
    "# 4️⃣ 최적 파라미터로 최종 모델 학습\n",
    "# --------------------------\n",
    "best_params = study.best_params\n",
    "best_params.update({\"random_state\": 42, \"enable_categorical\": True, \"tree_method\": \"hist\"})\n",
    "\n",
    "final_model = xgb.XGBRegressor(**best_params)\n",
    "final_model.fit(X_train, y_train)"
   ]
  },
  {
   "cell_type": "code",
   "execution_count": 1096,
   "id": "2d17153a",
   "metadata": {},
   "outputs": [],
   "source": [
    "# # --------------------------\n",
    "# # 5️⃣ valid 데이터 평가\n",
    "# # --------------------------\n",
    "# pred_test = final_model.predict(X_valid)\n",
    "# pred_test = np.maximum(pred_test, 0)\n",
    "\n",
    "# pred_test_exp = exp_transform(pred_test)\n",
    "# y_test_exp = valid_df[\"turn_sum\"].values\n",
    "\n",
    "# mse_test, rmse_test, mae_test, r2_test, mape_test = evaluate(y_test_exp, pred_test_exp)\n",
    "\n",
    "# print(\"\\n📊 valid 성능 (최적 파라미터 적용)\")\n",
    "# print(f\"R²   : {r2_test:.4f}\")\n",
    "# print(f\"MAE  : {mae_test:.2f}\")\n",
    "# print(f\"MSE  : {mse_test:.2f}\")\n",
    "# print(f\"RMSE : {rmse_test:.2f}\")\n",
    "# print(f\"MAPE : {mape_test:.2f}%\")"
   ]
  },
  {
   "cell_type": "code",
   "execution_count": 1097,
   "id": "63ed5f7e",
   "metadata": {},
   "outputs": [],
   "source": [
    "# # --------------------------\n",
    "# # 5️⃣ Test 데이터 평가\n",
    "# # --------------------------\n",
    "# pred_test = final_model.predict(X_test)\n",
    "# pred_test = np.maximum(pred_test, 0)\n",
    "\n",
    "# pred_test_exp = exp_transform(pred_test)\n",
    "# y_test_exp = test_df[\"turn_sum\"].values\n",
    "\n",
    "# mse_test, rmse_test, mae_test, r2_test, mape_test = evaluate(y_test_exp, pred_test_exp)\n",
    "\n",
    "# print(\"\\n📊 Test 성능 (최적 파라미터 적용)\")\n",
    "# print(f\"R²   : {r2_test:.4f}\")\n",
    "# print(f\"MAE  : {mae_test:.2f}\")\n",
    "# print(f\"MSE  : {mse_test:.2f}\")\n",
    "# print(f\"RMSE : {rmse_test:.2f}\")\n",
    "# print(f\"MAPE : {mape_test:.2f}%\")"
   ]
  },
  {
   "cell_type": "markdown",
   "id": "54c8f953",
   "metadata": {},
   "source": [
    "#### 기본 모델"
   ]
  },
  {
   "cell_type": "code",
   "execution_count": 1152,
   "id": "c672207a",
   "metadata": {},
   "outputs": [
    {
     "name": "stdout",
     "output_type": "stream",
     "text": [
      "valid 성능:\n",
      "R2: 0.7894, MAE: 0.12, MSE: 10.08, RMSE: 3.17, MAPE: 54711618.75%\n"
     ]
    }
   ],
   "source": [
    "import xgboost as xgb\n",
    "\n",
    "# 모델 초기화\n",
    "xgb_model = xgb.XGBRegressor(enable_categorical=True, random_state=42)\n",
    "\n",
    "# 1️⃣ Train 데이터 학습\n",
    "xgb_model.fit(X_train, y_train)\n",
    "\n",
    "# 2️⃣ Train 데이터 예측\n",
    "pred_val = xgb_model.predict(X_valid)\n",
    "pred_test = np.maximum(pred_val, 0)\n",
    "\n",
    "pred_val_exp = exp_transform(pred_val)\n",
    "y_train_exp = valid_df[\"turn_sum\"]\n",
    "\n",
    "# 3️⃣ Train 성능 평가\n",
    "mse_train = mean_squared_error(y_train_exp, pred_val_exp)\n",
    "rmse_train = np.sqrt(mse_train)\n",
    "mae_train = mean_absolute_error(y_train_exp, pred_val_exp)\n",
    "r2_train = r2_score(y_train_exp, pred_val_exp)\n",
    "mape_train = mean_absolute_percentage_error(y_train_exp, pred_val_exp)\n",
    "\n",
    "print(\"valid 성능:\")\n",
    "print(f\"R2: {r2_train:.4f}, MAE: {mae_train:.2f}, MSE: {mse_train:.2f}, RMSE: {rmse_train:.2f}, MAPE: {mape_train:.2f}%\")\n",
    "\n",
    "\n"
   ]
  },
  {
   "cell_type": "code",
   "execution_count": 1153,
   "id": "9f1c4f16",
   "metadata": {},
   "outputs": [
    {
     "name": "stdout",
     "output_type": "stream",
     "text": [
      "Test 성능:\n",
      "R2: 0.6458, MAE: 0.17, MSE: 21.90, RMSE: 4.68, MAPE: 54483462.50%\n"
     ]
    }
   ],
   "source": [
    "# 4️⃣ Test 데이터 예측\n",
    "pred_test = xgb_model.predict(X_test)\n",
    "pred_test = np.maximum(pred_test, 0)\n",
    "\n",
    "pred_test_exp = exp_transform(pred_test)\n",
    "y_test_exp = test_df[\"turn_sum\"]\n",
    "\n",
    "# 5️⃣ Test 성능 평가\n",
    "mse_test = mean_squared_error(y_test_exp, pred_test_exp)\n",
    "rmse_test = np.sqrt(mse_test)\n",
    "mae_test = mean_absolute_error(y_test_exp, pred_test_exp)\n",
    "r2_test = r2_score(y_test_exp, pred_test_exp)\n",
    "mape_test = mean_absolute_percentage_error(y_test_exp, pred_test_exp)\n",
    "\n",
    "print(\"Test 성능:\")\n",
    "print(f\"R2: {r2_test:.4f}, MAE: {mae_test:.2f}, MSE: {mse_test:.2f}, RMSE: {rmse_test:.2f}, MAPE: {mape_test:.2f}%\")"
   ]
  },
  {
   "cell_type": "code",
   "execution_count": 1121,
   "id": "dc56afb8",
   "metadata": {},
   "outputs": [
    {
     "data": {
      "text/plain": [
       "Index(['ads_idx', 'mda_idx', 'ads_category_id', 'domain', 'flag',\n",
       "       'turn_day_count', 'turn_sum_lag1', 'turn_sum_lag2', 'turn_sum_lag3',\n",
       "       'turn_day_count_lag1', 'turn_day_count_lag2', 'turn_day_count_lag3',\n",
       "       'ads_idx_mean_turn_lag1', 'ads_idx_mean_turn_lag2',\n",
       "       'ads_idx_mean_turn_lag3', 'ads_idx/ads_category_id_mean_turn_lag1',\n",
       "       'ads_idx/ads_category_id_mean_turn_lag2',\n",
       "       'ads_idx/ads_category_id_mean_turn_lag3', 'mda_idx_mean_turn_lag1',\n",
       "       'mda_idx_mean_turn_lag2', 'mda_idx_mean_turn_lag3',\n",
       "       'mda_idx/ads_category_id_mean_turn_lag1',\n",
       "       'mda_idx/ads_category_id_mean_turn_lag2',\n",
       "       'mda_idx/ads_category_id_mean_turn_lag3', 'turn_sum_lag_mean',\n",
       "       'lag_amount1', 'lag_amount2', 'due_day', 'year', 'month', 'day'],\n",
       "      dtype='object')"
      ]
     },
     "execution_count": 1121,
     "metadata": {},
     "output_type": "execute_result"
    }
   ],
   "source": [
    "X_test.columns"
   ]
  },
  {
   "cell_type": "markdown",
   "id": "611a4fa7",
   "metadata": {},
   "source": [
    "### lgbm"
   ]
  },
  {
   "cell_type": "code",
   "execution_count": 1100,
   "id": "3fcb0724",
   "metadata": {},
   "outputs": [],
   "source": [
    "# import lightgbm as lgb\n",
    "\n",
    "# cat_features = ['ads_idx', 'mda_idx', 'domain']\n",
    "\n",
    "# lgb_model = lgb.LGBMRegressor(random_state=42,\n",
    "#                               cat_features=cat_features)\n",
    "\n",
    "# # 1️⃣ Train 데이터 학습\n",
    "# lgb_model.fit(X_train, y_train)\n",
    "\n",
    "# # 2️⃣ Train 데이터 예측\n",
    "# pred_val = lgb_model.predict(X_valid)\n",
    "# pred_val = np.maximum(pred_val, 0)\n",
    "\n",
    "# pred_val_exp = exp_transform(pred_val)\n",
    "# y_train_exp = valid_df[\"turn_sum\"]\n",
    "\n",
    "# # 3️⃣ Train 성능 평가\n",
    "# mse_train = mean_squared_error(y_train_exp, pred_val_exp)\n",
    "# rmse_train = np.sqrt(mse_train)\n",
    "# mae_train = mean_absolute_error(y_train_exp, pred_val_exp)\n",
    "# r2_train = r2_score(y_train_exp, pred_val_exp)\n",
    "# mape_train = mean_absolute_percentage_error(y_train_exp, pred_val_exp)\n",
    "\n",
    "# print(\"valid 성능:\")\n",
    "# print(f\"R2: {r2_train:.4f}, MAE: {mae_train:.2f}, MSE: {mse_train:.2f}, RMSE: {rmse_train:.2f}, MAPE: {mape_train:.2f}%\")\n"
   ]
  },
  {
   "cell_type": "code",
   "execution_count": 1101,
   "id": "0b1dd168",
   "metadata": {},
   "outputs": [],
   "source": [
    "# # 4️⃣ Test 데이터 예측\n",
    "# pred_test = lgb_model.predict(X_test)\n",
    "# pred_test = np.maximum(pred_test, 0)\n",
    "\n",
    "# pred_test_exp = exp_transform(pred_test)\n",
    "# y_test_exp = test_df[\"turn_sum\"]\n",
    "\n",
    "# # 5️⃣ Test 성능 평가\n",
    "# mse_test = mean_squared_error(y_test_exp, pred_test_exp)\n",
    "# rmse_test = np.sqrt(mse_test)\n",
    "# mae_test = mean_absolute_error(y_test_exp, pred_test_exp)\n",
    "# r2_test = r2_score(y_test_exp, pred_test_exp)\n",
    "# mape_test = mean_absolute_percentage_error(y_test_exp, pred_test_exp)\n",
    "\n",
    "# print(\"Test 성능:\")\n",
    "# print(f\"R2: {r2_test:.4f}, MAE: {mae_test:.2f}, MSE: {mse_test:.2f}, RMSE: {rmse_test:.2f}, MAPE: {mape_test:.2f}%\")"
   ]
  },
  {
   "cell_type": "markdown",
   "id": "7d7024ae",
   "metadata": {},
   "source": [
    "# 잡다구리"
   ]
  },
  {
   "cell_type": "code",
   "execution_count": 1117,
   "id": "d443395c",
   "metadata": {},
   "outputs": [
    {
     "name": "stdout",
     "output_type": "stream",
     "text": [
      "                                   feature  importance\n",
      "6                            turn_sum_lag1    0.604531\n",
      "4                                     flag    0.100401\n",
      "9                      turn_day_count_lag1    0.083204\n",
      "24                       turn_sum_lag_mean    0.078559\n",
      "10                     turn_day_count_lag2    0.033557\n",
      "21  mda_idx/ads_category_id_mean_turn_lag1    0.024593\n",
      "5                           turn_day_count    0.014153\n",
      "2                          ads_category_id    0.008130\n",
      "3                                   domain    0.006564\n",
      "22  mda_idx/ads_category_id_mean_turn_lag2    0.005979\n",
      "23  mda_idx/ads_category_id_mean_turn_lag3    0.005654\n",
      "0                                  ads_idx    0.004772\n",
      "11                     turn_day_count_lag3    0.003026\n",
      "25                             lag_amount1    0.002826\n",
      "1                                  mda_idx    0.002566\n",
      "7                            turn_sum_lag2    0.002224\n",
      "19                  mda_idx_mean_turn_lag2    0.002216\n",
      "27                                 due_day    0.002110\n",
      "18                  mda_idx_mean_turn_lag1    0.001987\n",
      "15  ads_idx/ads_category_id_mean_turn_lag1    0.001837\n",
      "20                  mda_idx_mean_turn_lag3    0.001441\n",
      "30                                     day    0.001313\n",
      "16  ads_idx/ads_category_id_mean_turn_lag2    0.001279\n",
      "14                  ads_idx_mean_turn_lag3    0.001273\n",
      "29                                   month    0.001178\n",
      "8                            turn_sum_lag3    0.001071\n",
      "12                  ads_idx_mean_turn_lag1    0.001041\n",
      "17  ads_idx/ads_category_id_mean_turn_lag3    0.000907\n",
      "26                             lag_amount2    0.000845\n",
      "13                  ads_idx_mean_turn_lag2    0.000759\n",
      "28                                    year    0.000000\n"
     ]
    },
    {
     "data": {
      "image/png": "[encoded data removed]",
      "text/plain": [
       "<Figure size 1000x600 with 1 Axes>"
      ]
     },
     "metadata": {},
     "output_type": "display_data"
    }
   ],
   "source": [
    "# 피처 중요도 추출\n",
    "feature_importance = pd.DataFrame({\n",
    "    'feature': X_train.columns,\n",
    "    'importance': xgb_model.feature_importances_\n",
    "}).sort_values(by='importance', ascending=False)\n",
    "\n",
    "print(feature_importance)\n",
    "\n",
    "# 시각화\n",
    "plt.figure(figsize=(10, 6))\n",
    "plt.barh(feature_importance['feature'], feature_importance['importance'])\n",
    "plt.gca().invert_yaxis()  # 중요도 높은 피처가 위로 오도록\n",
    "plt.title(\"Feature Importance\")\n",
    "plt.show()"
   ]
  },
  {
   "cell_type": "code",
   "execution_count": 1119,
   "id": "59b2df0c",
   "metadata": {},
   "outputs": [
    {
     "data": {
      "image/png": "[encoded data removed]",
      "text/plain": [
       "<Figure size 800x600 with 1 Axes>"
      ]
     },
     "metadata": {},
     "output_type": "display_data"
    }
   ],
   "source": [
    "import numpy as np\n",
    "import pandas as pd\n",
    "import matplotlib.pyplot as plt\n",
    "import seaborn as sns\n",
    "# 예측 (로그값)\n",
    "y_pred_log = xgb_model.predict(X_test)\n",
    "# 로그 역변환\n",
    "y_pred = np.expm1(y_pred_log)\n",
    "y_true = np.expm1(y_test)\n",
    "# 데이터프레임 생성\n",
    "results = pd.DataFrame({\n",
    "    'Actual': y_true,\n",
    "    'Predicted': y_pred\n",
    "})\n",
    "# 시각화\n",
    "plt.figure(figsize=(8, 6))\n",
    "sns.set_style(\"whitegrid\")\n",
    "sns.scatterplot(\n",
    "    x='Actual', y='Predicted', data=results,\n",
    "    alpha=0.4, color='royalblue'\n",
    ")\n",
    "# 완벽한 예측선 (y = x)\n",
    "min_val = min(results['Actual'].min(), results['Predicted'].min())\n",
    "max_val = max(results['Actual'].max(), results['Predicted'].max())\n",
    "plt.plot([min_val, max_val], [min_val, max_val], 'r--', lw=2, label='Perfect Prediction')\n",
    "plt.title('Actual vs Predicted', fontsize=16)\n",
    "plt.xlabel('Actual Values', fontsize=13)\n",
    "plt.ylabel('Predicted Values', fontsize=13)\n",
    "plt.legend()\n",
    "plt.tight_layout()\n",
    "plt.show()"
   ]
  },
  {
   "cell_type": "code",
   "execution_count": 1118,
   "id": "41b81cc4",
   "metadata": {},
   "outputs": [
    {
     "data": {
      "image/png": "[encoded data removed]",
      "text/plain": [
       "<Figure size 1000x600 with 1 Axes>"
      ]
     },
     "metadata": {},
     "output_type": "display_data"
    }
   ],
   "source": [
    "import matplotlib.pyplot as plt\n",
    "import seaborn as sns\n",
    "import pandas as pd\n",
    "import numpy as np\n",
    "\n",
    "# # 실제 날짜 생성\n",
    "# X_test['rpt_time_date'] = pd.to_datetime(X_test[['year','month','day']])\n",
    "\n",
    "# # 예측값 역변환 (로그 예측일 경우)\n",
    "# y_pred = np.expm1(lgb_model.predict(X_test))\n",
    "# y_true = np.expm1(y_test)  # 로그 변환돼 있다면\n",
    "\n",
    "# 시각화\n",
    "plt.figure(figsize=(10, 6))\n",
    "sns.set_style(\"whitegrid\")\n",
    "\n",
    "# 실제 값 선\n",
    "sns.lineplot(x=test_df['rpt_time_date'], y=y_test_exp, marker='o', color='green', label='Actual')\n",
    "\n",
    "# 예측 값 선\n",
    "sns.lineplot(x=test_df['rpt_time_date'], y=pred_test_exp, marker='o', color='blue', label='Predicted')\n",
    "\n",
    "plt.title('Actual vs Predicted Turn Count by Date', fontsize=16)\n",
    "plt.xlabel('Date', fontsize=13)\n",
    "plt.ylabel('Turn Count', fontsize=13)\n",
    "plt.xticks(rotation=45)\n",
    "plt.legend()\n",
    "plt.tight_layout()\n",
    "plt.show()\n"
   ]
  },
  {
   "cell_type": "code",
   "execution_count": 1115,
   "id": "81fe2a97",
   "metadata": {},
   "outputs": [],
   "source": [
    "test_check_df = test_df.copy()\n",
    "test_check_df[\"y_true\"] = y_test_exp\n",
    "test_check_df[\"y_pred\"] = pred_test_exp"
   ]
  },
  {
   "cell_type": "code",
   "execution_count": 1116,
   "id": "e9e7afcb",
   "metadata": {},
   "outputs": [],
   "source": [
    "test_check_df.to_csv(\"test_check_df.csv\", index=False)"
   ]
  },
  {
   "cell_type": "code",
   "execution_count": 1120,
   "id": "ccd97ccc",
   "metadata": {},
   "outputs": [
    {
     "data": {
      "image/png": "[encoded data removed]",
      "text/plain": [
       "<Figure size 1000x600 with 1 Axes>"
      ]
     },
     "metadata": {},
     "output_type": "display_data"
    }
   ],
   "source": [
    "# ads_idx, mda_idx 조건 필터링\n",
    "cond_df = test_check_df[(test_check_df[\"ads_idx\"] == 9982.0) & (test_check_df[\"mda_idx\"] == 1047)]\n",
    "\n",
    "# 시각화\n",
    "plt.figure(figsize=(10, 6))\n",
    "sns.lineplot(x=cond_df['rpt_time_date'], y=cond_df['y_true'], marker='o', color='green', label='Actual')\n",
    "sns.lineplot(x=cond_df['rpt_time_date'], y=cond_df['y_pred'], marker='o', color='blue', label='Predicted')\n",
    "\n",
    "plt.title('Actual vs Predicted (ads_idx=356956, mda_idx=270)', fontsize=16)\n",
    "plt.xlabel('Date', fontsize=13)\n",
    "plt.ylabel('Turn sum', fontsize=13)\n",
    "plt.xticks(rotation=45)\n",
    "plt.legend()\n",
    "plt.tight_layout()\n",
    "plt.show()"
   ]
  },
  {
   "cell_type": "code",
   "execution_count": 1108,
   "id": "b0d5106b",
   "metadata": {},
   "outputs": [
    {
     "data": {
      "application/vnd.microsoft.datawrangler.viewer.v0+json": {
       "columns": [
        {
         "name": "index",
         "rawType": "int64",
         "type": "integer"
        },
        {
         "name": "rpt_time_date",
         "rawType": "datetime64[ns]",
         "type": "datetime"
        },
        {
         "name": "y_true",
         "rawType": "float32",
         "type": "float"
        },
        {
         "name": "y_pred",
         "rawType": "float32",
         "type": "float"
        }
       ],
       "ref": "01618d4b-07bb-4862-85e0-c95a24ffaab5",
       "rows": [
        [
         "95474",
         "2025-08-23 00:00:00",
         "69.0",
         "22.29939"
        ],
        [
         "95475",
         "2025-08-24 00:00:00",
         "209.0",
         "33.81302"
        ],
        [
         "95476",
         "2025-08-25 00:00:00",
         "114.0",
         "70.19454"
        ],
        [
         "95477",
         "2025-08-26 00:00:00",
         "48.0",
         "56.3307"
        ],
        [
         "95478",
         "2025-08-27 00:00:00",
         "62.0",
         "53.513992"
        ],
        [
         "95479",
         "2025-08-28 00:00:00",
         "19.0",
         "38.404392"
        ],
        [
         "95480",
         "2025-08-29 00:00:00",
         "60.0",
         "18.605728"
        ]
       ],
       "shape": {
        "columns": 3,
        "rows": 7
       }
      },
      "text/html": [
       "<div>\n",
       "<style scoped>\n",
       "    .dataframe tbody tr th:only-of-type {\n",
       "        vertical-align: middle;\n",
       "    }\n",
       "\n",
       "    .dataframe tbody tr th {\n",
       "        vertical-align: top;\n",
       "    }\n",
       "\n",
       "    .dataframe thead th {\n",
       "        text-align: right;\n",
       "    }\n",
       "</style>\n",
       "<table border=\"1\" class=\"dataframe\">\n",
       "  <thead>\n",
       "    <tr style=\"text-align: right;\">\n",
       "      <th></th>\n",
       "      <th>rpt_time_date</th>\n",
       "      <th>y_true</th>\n",
       "      <th>y_pred</th>\n",
       "    </tr>\n",
       "  </thead>\n",
       "  <tbody>\n",
       "    <tr>\n",
       "      <th>95474</th>\n",
       "      <td>2025-08-23</td>\n",
       "      <td>69.0</td>\n",
       "      <td>22.299391</td>\n",
       "    </tr>\n",
       "    <tr>\n",
       "      <th>95475</th>\n",
       "      <td>2025-08-24</td>\n",
       "      <td>209.0</td>\n",
       "      <td>33.813019</td>\n",
       "    </tr>\n",
       "    <tr>\n",
       "      <th>95476</th>\n",
       "      <td>2025-08-25</td>\n",
       "      <td>114.0</td>\n",
       "      <td>70.194542</td>\n",
       "    </tr>\n",
       "    <tr>\n",
       "      <th>95477</th>\n",
       "      <td>2025-08-26</td>\n",
       "      <td>48.0</td>\n",
       "      <td>56.330700</td>\n",
       "    </tr>\n",
       "    <tr>\n",
       "      <th>95478</th>\n",
       "      <td>2025-08-27</td>\n",
       "      <td>62.0</td>\n",
       "      <td>53.513992</td>\n",
       "    </tr>\n",
       "    <tr>\n",
       "      <th>95479</th>\n",
       "      <td>2025-08-28</td>\n",
       "      <td>19.0</td>\n",
       "      <td>38.404392</td>\n",
       "    </tr>\n",
       "    <tr>\n",
       "      <th>95480</th>\n",
       "      <td>2025-08-29</td>\n",
       "      <td>60.0</td>\n",
       "      <td>18.605728</td>\n",
       "    </tr>\n",
       "  </tbody>\n",
       "</table>\n",
       "</div>"
      ],
      "text/plain": [
       "      rpt_time_date  y_true     y_pred\n",
       "95474    2025-08-23    69.0  22.299391\n",
       "95475    2025-08-24   209.0  33.813019\n",
       "95476    2025-08-25   114.0  70.194542\n",
       "95477    2025-08-26    48.0  56.330700\n",
       "95478    2025-08-27    62.0  53.513992\n",
       "95479    2025-08-28    19.0  38.404392\n",
       "95480    2025-08-29    60.0  18.605728"
      ]
     },
     "execution_count": 1108,
     "metadata": {},
     "output_type": "execute_result"
    }
   ],
   "source": [
    "cond_df[['rpt_time_date', 'y_true', 'y_pred']]"
   ]
  },
  {
   "cell_type": "code",
   "execution_count": 1109,
   "id": "83fdcfcc",
   "metadata": {},
   "outputs": [],
   "source": [
    "mix_df= test_check_df.groupby(['ads_idx', 'mda_idx']).apply(\n",
    "    lambda x: np.abs(x['y_true'] - x['y_pred']).sum()\n",
    ").reset_index(name='abs_error_sum').sort_values(by='abs_error_sum', ascending=False)"
   ]
  },
  {
   "cell_type": "code",
   "execution_count": 1110,
   "id": "194fe046",
   "metadata": {},
   "outputs": [
    {
     "name": "stdout",
     "output_type": "stream",
     "text": [
      "모델 A (전체 학습, 광고한 날 평가): {'MAE': '4.2817', 'RMSE': '17.9089', 'R2': '0.7948'}\n"
     ]
    }
   ],
   "source": [
    "from sklearn.metrics import mean_absolute_error, mean_squared_error, r2_score\n",
    "import numpy as np\n",
    "\n",
    "# flag == 1인 데이터만 필터링\n",
    "df_flag = test_check_df[test_check_df[\"flag\"] == 1]\n",
    "\n",
    "# 실제값과 모델 예측값 컬럼 이름 예시\n",
    "# (이미 df 안에 y_true, y_pred_A, y_pred_B 같은 컬럼이 있다고 가정)\n",
    "y_true = df_flag[\"y_true\"].values\n",
    "y_pred_A = df_flag[\"y_pred\"].values   # 전체 학습 모델\n",
    "\n",
    "# 성능지표 계산 함수\n",
    "def get_metrics(y_true, y_pred):\n",
    "    mae = mean_absolute_error(y_true, y_pred)\n",
    "    rmse = np.sqrt(mean_squared_error(y_true, y_pred))\n",
    "    r2 = r2_score(y_true, y_pred)\n",
    "    return {\"MAE\": f\"{mae:.4f}\", \"RMSE\": f\"{rmse:.4f}\", \"R2\": f\"{r2:.4f}\"}\n",
    "\n",
    "# 두 모델 결과 비교\n",
    "metrics_A = get_metrics(y_true, y_pred_A)\n",
    "\n",
    "print(\"모델 A (전체 학습, 광고한 날 평가):\", metrics_A)\n",
    " "
   ]
  },
  {
   "cell_type": "code",
   "execution_count": 1111,
   "id": "9f106509",
   "metadata": {},
   "outputs": [
    {
     "name": "stderr",
     "output_type": "stream",
     "text": [
      "/var/folders/hl/90p2p86n5cs6t3p_1xwxdx2r0000gn/T/ipykernel_50495/1982273722.py:30: UserWarning: Glyph 45216 (\\N{HANGUL SYLLABLE NAL}) missing from current font.\n",
      "  plt.tight_layout()\n",
      "/var/folders/hl/90p2p86n5cs6t3p_1xwxdx2r0000gn/T/ipykernel_50495/1982273722.py:30: UserWarning: Glyph 51676 (\\N{HANGUL SYLLABLE JJA}) missing from current font.\n",
      "  plt.tight_layout()\n",
      "/var/folders/hl/90p2p86n5cs6t3p_1xwxdx2r0000gn/T/ipykernel_50495/1982273722.py:30: UserWarning: Glyph 50696 (\\N{HANGUL SYLLABLE YE}) missing from current font.\n",
      "  plt.tight_layout()\n",
      "/var/folders/hl/90p2p86n5cs6t3p_1xwxdx2r0000gn/T/ipykernel_50495/1982273722.py:30: UserWarning: Glyph 52769 (\\N{HANGUL SYLLABLE CEUG}) missing from current font.\n",
      "  plt.tight_layout()\n",
      "/var/folders/hl/90p2p86n5cs6t3p_1xwxdx2r0000gn/T/ipykernel_50495/1982273722.py:30: UserWarning: Glyph 51204 (\\N{HANGUL SYLLABLE JEON}) missing from current font.\n",
      "  plt.tight_layout()\n",
      "/var/folders/hl/90p2p86n5cs6t3p_1xwxdx2r0000gn/T/ipykernel_50495/1982273722.py:30: UserWarning: Glyph 54872 (\\N{HANGUL SYLLABLE HWAN}) missing from current font.\n",
      "  plt.tight_layout()\n",
      "/var/folders/hl/90p2p86n5cs6t3p_1xwxdx2r0000gn/T/ipykernel_50495/1982273722.py:30: UserWarning: Glyph 49688 (\\N{HANGUL SYLLABLE SU}) missing from current font.\n",
      "  plt.tight_layout()\n",
      "/var/folders/hl/90p2p86n5cs6t3p_1xwxdx2r0000gn/T/ipykernel_50495/1982273722.py:30: UserWarning: Glyph 44305 (\\N{HANGUL SYLLABLE GWANG}) missing from current font.\n",
      "  plt.tight_layout()\n",
      "/var/folders/hl/90p2p86n5cs6t3p_1xwxdx2r0000gn/T/ipykernel_50495/1982273722.py:30: UserWarning: Glyph 44256 (\\N{HANGUL SYLLABLE GO}) missing from current font.\n",
      "  plt.tight_layout()\n",
      "/var/folders/hl/90p2p86n5cs6t3p_1xwxdx2r0000gn/T/ipykernel_50495/1982273722.py:30: UserWarning: Glyph 47588 (\\N{HANGUL SYLLABLE MAE}) missing from current font.\n",
      "  plt.tight_layout()\n",
      "/var/folders/hl/90p2p86n5cs6t3p_1xwxdx2r0000gn/T/ipykernel_50495/1982273722.py:30: UserWarning: Glyph 52404 (\\N{HANGUL SYLLABLE CE}) missing from current font.\n",
      "  plt.tight_layout()\n",
      "/var/folders/hl/90p2p86n5cs6t3p_1xwxdx2r0000gn/T/ipykernel_50495/1982273722.py:30: UserWarning: Glyph 48324 (\\N{HANGUL SYLLABLE BYEOL}) missing from current font.\n",
      "  plt.tight_layout()\n",
      "/var/folders/hl/90p2p86n5cs6t3p_1xwxdx2r0000gn/T/ipykernel_50495/1982273722.py:30: UserWarning: Glyph 51068 (\\N{HANGUL SYLLABLE IL}) missing from current font.\n",
      "  plt.tight_layout()\n",
      "/var/folders/hl/90p2p86n5cs6t3p_1xwxdx2r0000gn/T/ipykernel_50495/1982273722.py:30: UserWarning: Glyph 44036 (\\N{HANGUL SYLLABLE GAN}) missing from current font.\n",
      "  plt.tight_layout()\n",
      "/opt/anaconda3/envs/py38/lib/python3.8/site-packages/IPython/core/pylabtools.py:152: UserWarning: Glyph 45216 (\\N{HANGUL SYLLABLE NAL}) missing from current font.\n",
      "  fig.canvas.print_figure(bytes_io, **kw)\n",
      "/opt/anaconda3/envs/py38/lib/python3.8/site-packages/IPython/core/pylabtools.py:152: UserWarning: Glyph 51676 (\\N{HANGUL SYLLABLE JJA}) missing from current font.\n",
      "  fig.canvas.print_figure(bytes_io, **kw)\n",
      "/opt/anaconda3/envs/py38/lib/python3.8/site-packages/IPython/core/pylabtools.py:152: UserWarning: Glyph 50696 (\\N{HANGUL SYLLABLE YE}) missing from current font.\n",
      "  fig.canvas.print_figure(bytes_io, **kw)\n",
      "/opt/anaconda3/envs/py38/lib/python3.8/site-packages/IPython/core/pylabtools.py:152: UserWarning: Glyph 52769 (\\N{HANGUL SYLLABLE CEUG}) missing from current font.\n",
      "  fig.canvas.print_figure(bytes_io, **kw)\n",
      "/opt/anaconda3/envs/py38/lib/python3.8/site-packages/IPython/core/pylabtools.py:152: UserWarning: Glyph 51204 (\\N{HANGUL SYLLABLE JEON}) missing from current font.\n",
      "  fig.canvas.print_figure(bytes_io, **kw)\n",
      "/opt/anaconda3/envs/py38/lib/python3.8/site-packages/IPython/core/pylabtools.py:152: UserWarning: Glyph 54872 (\\N{HANGUL SYLLABLE HWAN}) missing from current font.\n",
      "  fig.canvas.print_figure(bytes_io, **kw)\n",
      "/opt/anaconda3/envs/py38/lib/python3.8/site-packages/IPython/core/pylabtools.py:152: UserWarning: Glyph 49688 (\\N{HANGUL SYLLABLE SU}) missing from current font.\n",
      "  fig.canvas.print_figure(bytes_io, **kw)\n",
      "/opt/anaconda3/envs/py38/lib/python3.8/site-packages/IPython/core/pylabtools.py:152: UserWarning: Glyph 44305 (\\N{HANGUL SYLLABLE GWANG}) missing from current font.\n",
      "  fig.canvas.print_figure(bytes_io, **kw)\n",
      "/opt/anaconda3/envs/py38/lib/python3.8/site-packages/IPython/core/pylabtools.py:152: UserWarning: Glyph 44256 (\\N{HANGUL SYLLABLE GO}) missing from current font.\n",
      "  fig.canvas.print_figure(bytes_io, **kw)\n",
      "/opt/anaconda3/envs/py38/lib/python3.8/site-packages/IPython/core/pylabtools.py:152: UserWarning: Glyph 47588 (\\N{HANGUL SYLLABLE MAE}) missing from current font.\n",
      "  fig.canvas.print_figure(bytes_io, **kw)\n",
      "/opt/anaconda3/envs/py38/lib/python3.8/site-packages/IPython/core/pylabtools.py:152: UserWarning: Glyph 52404 (\\N{HANGUL SYLLABLE CE}) missing from current font.\n",
      "  fig.canvas.print_figure(bytes_io, **kw)\n",
      "/opt/anaconda3/envs/py38/lib/python3.8/site-packages/IPython/core/pylabtools.py:152: UserWarning: Glyph 48324 (\\N{HANGUL SYLLABLE BYEOL}) missing from current font.\n",
      "  fig.canvas.print_figure(bytes_io, **kw)\n",
      "/opt/anaconda3/envs/py38/lib/python3.8/site-packages/IPython/core/pylabtools.py:152: UserWarning: Glyph 51068 (\\N{HANGUL SYLLABLE IL}) missing from current font.\n",
      "  fig.canvas.print_figure(bytes_io, **kw)\n",
      "/opt/anaconda3/envs/py38/lib/python3.8/site-packages/IPython/core/pylabtools.py:152: UserWarning: Glyph 44036 (\\N{HANGUL SYLLABLE GAN}) missing from current font.\n",
      "  fig.canvas.print_figure(bytes_io, **kw)\n"
     ]
    },
    {
     "data": {
      "image/png": "[encoded data removed]",
      "text/plain": [
       "<Figure size 1200x600 with 1 Axes>"
      ]
     },
     "metadata": {},
     "output_type": "display_data"
    }
   ],
   "source": [
    "import matplotlib.pyplot as plt\n",
    "import seaborn as sns\n",
    "\n",
    "target_ad = 356956\n",
    "df_plot = df_flag[df_flag[\"ads_idx\"] == target_ad].sort_values(\"rpt_time_date\")\n",
    "\n",
    "# 빨주노초 컬러 리스트\n",
    "color_list = [\"#FF0000\", \"#FF9900\", \"#FFFF00\", \"#00FF00\"]  # 빨강, 주황, 노랑, 초록\n",
    "\n",
    "plt.figure(figsize=(12, 6))\n",
    "sns.lineplot(\n",
    "    data=df_plot,\n",
    "    x=\"rpt_time_date\",\n",
    "    y=\"y_pred\",\n",
    "    hue=\"mda_idx\",\n",
    "    linewidth=2,\n",
    "    alpha=0.8,\n",
    "    marker=\"o\",\n",
    "    palette=color_list\n",
    ")\n",
    "\n",
    "for _, row in df_plot.iterrows():\n",
    "    plt.text(row[\"rpt_time_date\"], row[\"y_pred\"], f'{row[\"y_pred\"]:.1f}', \n",
    "             ha='center', va='bottom', fontsize=9, color='black', rotation=0)\n",
    "\n",
    "plt.title(f\"광고 {target_ad} - 매체별 7일간 예측 전환수\")\n",
    "plt.xlabel(\"날짜\")\n",
    "plt.ylabel(\"예측 전환수\")\n",
    "plt.xticks(rotation=45)\n",
    "plt.tight_layout()\n",
    "plt.show()\n"
   ]
  },
  {
   "cell_type": "code",
   "execution_count": null,
   "id": "ccab7902",
   "metadata": {},
   "outputs": [],
   "source": []
  }
 ],
 "metadata": {
  "kernelspec": {
   "display_name": "py38",
   "language": "python",
   "name": "python3"
  },
  "language_info": {
   "codemirror_mode": {
    "name": "ipython",
    "version": 3
   },
   "file_extension": ".py",
   "mimetype": "text/x-python",
   "name": "python",
   "nbconvert_exporter": "python",
   "pygments_lexer": "ipython3",
   "version": "3.8.19"
  }
 },
 "nbformat": 4,
 "nbformat_minor": 5
}
