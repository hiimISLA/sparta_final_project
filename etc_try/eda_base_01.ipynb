{
 "cells": [
  {
   "cell_type": "code",
   "execution_count": 2,
   "id": "6ee2076b",
   "metadata": {},
   "outputs": [],
   "source": [
    "import xgboost\n",
    "# print(xgboost.__version__)"
   ]
  },
  {
   "cell_type": "code",
   "execution_count": 1,
   "id": "8c0c7361",
   "metadata": {},
   "outputs": [],
   "source": [
    "import pandas as pd\n",
    "import numpy as np\n",
    "import os\n",
    "import pandas as pd\n",
    "import matplotlib.pyplot as plt"
   ]
  },
  {
   "cell_type": "code",
   "execution_count": 2,
   "id": "cc173bf1",
   "metadata": {},
   "outputs": [],
   "source": [
    "df = pd.read_csv(\"아이브1년치_참여데이터.csv\")\n"
   ]
  },
  {
   "cell_type": "code",
   "execution_count": 3,
   "id": "49dcb1b3",
   "metadata": {},
   "outputs": [
    {
     "data": {
      "application/vnd.microsoft.datawrangler.viewer.v0+json": {
       "columns": [
        {
         "name": "index",
         "rawType": "int64",
         "type": "integer"
        },
        {
         "name": "Unnamed: 0",
         "rawType": "int64",
         "type": "integer"
        },
        {
         "name": "rpt_time_date",
         "rawType": "object",
         "type": "string"
        },
        {
         "name": "rpt_time_time",
         "rawType": "int64",
         "type": "integer"
        },
        {
         "name": "ads_idx",
         "rawType": "int64",
         "type": "integer"
        },
        {
         "name": "mda_idx",
         "rawType": "int64",
         "type": "integer"
        },
        {
         "name": "rpt_time_clk",
         "rawType": "int64",
         "type": "integer"
        },
        {
         "name": "rpt_time_turn",
         "rawType": "int64",
         "type": "integer"
        },
        {
         "name": "rpt_time_scost",
         "rawType": "int64",
         "type": "integer"
        },
        {
         "name": "rpt_time_acost",
         "rawType": "int64",
         "type": "integer"
        },
        {
         "name": "rpt_time_cost",
         "rawType": "int64",
         "type": "integer"
        },
        {
         "name": "rpt_time_earn",
         "rawType": "int64",
         "type": "integer"
        }
       ],
       "ref": "833b5634-c593-457d-86a7-2f98459154bc",
       "rows": [
        [
         "0",
         "0",
         "2024-07-27",
         "0",
         "4418",
         "761",
         "1",
         "0",
         "0",
         "0",
         "0",
         "0"
        ],
        [
         "1",
         "1",
         "2024-07-27",
         "0",
         "7377",
         "213",
         "1",
         "0",
         "0",
         "0",
         "0",
         "0"
        ],
        [
         "2",
         "2",
         "2024-07-27",
         "0",
         "7377",
         "337",
         "1",
         "0",
         "0",
         "0",
         "0",
         "0"
        ],
        [
         "3",
         "3",
         "2024-07-27",
         "0",
         "7377",
         "496",
         "1",
         "1",
         "230",
         "230",
         "180",
         "180"
        ],
        [
         "4",
         "4",
         "2024-07-27",
         "0",
         "7528",
         "792",
         "1",
         "0",
         "0",
         "0",
         "0",
         "0"
        ]
       ],
       "shape": {
        "columns": 11,
        "rows": 5
       }
      },
      "text/html": [
       "<div>\n",
       "<style scoped>\n",
       "    .dataframe tbody tr th:only-of-type {\n",
       "        vertical-align: middle;\n",
       "    }\n",
       "\n",
       "    .dataframe tbody tr th {\n",
       "        vertical-align: top;\n",
       "    }\n",
       "\n",
       "    .dataframe thead th {\n",
       "        text-align: right;\n",
       "    }\n",
       "</style>\n",
       "<table border=\"1\" class=\"dataframe\">\n",
       "  <thead>\n",
       "    <tr style=\"text-align: right;\">\n",
       "      <th></th>\n",
       "      <th>Unnamed: 0</th>\n",
       "      <th>rpt_time_date</th>\n",
       "      <th>rpt_time_time</th>\n",
       "      <th>ads_idx</th>\n",
       "      <th>mda_idx</th>\n",
       "      <th>rpt_time_clk</th>\n",
       "      <th>rpt_time_turn</th>\n",
       "      <th>rpt_time_scost</th>\n",
       "      <th>rpt_time_acost</th>\n",
       "      <th>rpt_time_cost</th>\n",
       "      <th>rpt_time_earn</th>\n",
       "    </tr>\n",
       "  </thead>\n",
       "  <tbody>\n",
       "    <tr>\n",
       "      <th>0</th>\n",
       "      <td>0</td>\n",
       "      <td>2024-07-27</td>\n",
       "      <td>0</td>\n",
       "      <td>4418</td>\n",
       "      <td>761</td>\n",
       "      <td>1</td>\n",
       "      <td>0</td>\n",
       "      <td>0</td>\n",
       "      <td>0</td>\n",
       "      <td>0</td>\n",
       "      <td>0</td>\n",
       "    </tr>\n",
       "    <tr>\n",
       "      <th>1</th>\n",
       "      <td>1</td>\n",
       "      <td>2024-07-27</td>\n",
       "      <td>0</td>\n",
       "      <td>7377</td>\n",
       "      <td>213</td>\n",
       "      <td>1</td>\n",
       "      <td>0</td>\n",
       "      <td>0</td>\n",
       "      <td>0</td>\n",
       "      <td>0</td>\n",
       "      <td>0</td>\n",
       "    </tr>\n",
       "    <tr>\n",
       "      <th>2</th>\n",
       "      <td>2</td>\n",
       "      <td>2024-07-27</td>\n",
       "      <td>0</td>\n",
       "      <td>7377</td>\n",
       "      <td>337</td>\n",
       "      <td>1</td>\n",
       "      <td>0</td>\n",
       "      <td>0</td>\n",
       "      <td>0</td>\n",
       "      <td>0</td>\n",
       "      <td>0</td>\n",
       "    </tr>\n",
       "    <tr>\n",
       "      <th>3</th>\n",
       "      <td>3</td>\n",
       "      <td>2024-07-27</td>\n",
       "      <td>0</td>\n",
       "      <td>7377</td>\n",
       "      <td>496</td>\n",
       "      <td>1</td>\n",
       "      <td>1</td>\n",
       "      <td>230</td>\n",
       "      <td>230</td>\n",
       "      <td>180</td>\n",
       "      <td>180</td>\n",
       "    </tr>\n",
       "    <tr>\n",
       "      <th>4</th>\n",
       "      <td>4</td>\n",
       "      <td>2024-07-27</td>\n",
       "      <td>0</td>\n",
       "      <td>7528</td>\n",
       "      <td>792</td>\n",
       "      <td>1</td>\n",
       "      <td>0</td>\n",
       "      <td>0</td>\n",
       "      <td>0</td>\n",
       "      <td>0</td>\n",
       "      <td>0</td>\n",
       "    </tr>\n",
       "  </tbody>\n",
       "</table>\n",
       "</div>"
      ],
      "text/plain": [
       "   Unnamed: 0 rpt_time_date  rpt_time_time  ads_idx  mda_idx  rpt_time_clk  \\\n",
       "0           0    2024-07-27              0     4418      761             1   \n",
       "1           1    2024-07-27              0     7377      213             1   \n",
       "2           2    2024-07-27              0     7377      337             1   \n",
       "3           3    2024-07-27              0     7377      496             1   \n",
       "4           4    2024-07-27              0     7528      792             1   \n",
       "\n",
       "   rpt_time_turn  rpt_time_scost  rpt_time_acost  rpt_time_cost  rpt_time_earn  \n",
       "0              0               0               0              0              0  \n",
       "1              0               0               0              0              0  \n",
       "2              0               0               0              0              0  \n",
       "3              1             230             230            180            180  \n",
       "4              0               0               0              0              0  "
      ]
     },
     "execution_count": 3,
     "metadata": {},
     "output_type": "execute_result"
    }
   ],
   "source": [
    "df.head()"
   ]
  },
  {
   "cell_type": "code",
   "execution_count": 4,
   "id": "5f03ab96",
   "metadata": {},
   "outputs": [
    {
     "name": "stdout",
     "output_type": "stream",
     "text": [
      "<class 'pandas.core.frame.DataFrame'>\n",
      "RangeIndex: 6953146 entries, 0 to 6953145\n",
      "Data columns (total 11 columns):\n",
      " #   Column          Dtype \n",
      "---  ------          ----- \n",
      " 0   Unnamed: 0      int64 \n",
      " 1   rpt_time_date   object\n",
      " 2   rpt_time_time   int64 \n",
      " 3   ads_idx         int64 \n",
      " 4   mda_idx         int64 \n",
      " 5   rpt_time_clk    int64 \n",
      " 6   rpt_time_turn   int64 \n",
      " 7   rpt_time_scost  int64 \n",
      " 8   rpt_time_acost  int64 \n",
      " 9   rpt_time_cost   int64 \n",
      " 10  rpt_time_earn   int64 \n",
      "dtypes: int64(10), object(1)\n",
      "memory usage: 583.5+ MB\n"
     ]
    }
   ],
   "source": [
    "df.info()"
   ]
  },
  {
   "cell_type": "markdown",
   "id": "b408a44c",
   "metadata": {},
   "source": [
    "### 데이터 전처리"
   ]
  },
  {
   "cell_type": "code",
   "execution_count": 61,
   "id": "d391d1dc",
   "metadata": {},
   "outputs": [],
   "source": [
    "# 아이디별 행 개수 세기\n",
    "id_counts = df['unique_id'].value_counts()\n",
    "\n",
    "# # 시각화\n",
    "# plt.figure(figsize=(10,6))\n",
    "# id_counts.plot(kind='bar')\n",
    "# plt.xlabel(\"unique_id\")\n",
    "# plt.ylabel(\"행 개수\")\n",
    "# plt.title(\"아이디별 행 개수 분포\")\n",
    "# plt.show()"
   ]
  },
  {
   "cell_type": "code",
   "execution_count": 62,
   "id": "dcc08b51",
   "metadata": {},
   "outputs": [
    {
     "name": "stdout",
     "output_type": "stream",
     "text": [
      "<class 'pandas.core.frame.DataFrame'>\n",
      "RangeIndex: 6953146 entries, 0 to 6953145\n",
      "Data columns (total 12 columns):\n",
      " #   Column          Dtype \n",
      "---  ------          ----- \n",
      " 0   Unnamed: 0      int64 \n",
      " 1   rpt_time_date   object\n",
      " 2   rpt_time_time   int64 \n",
      " 3   ads_idx         int64 \n",
      " 4   mda_idx         int64 \n",
      " 5   rpt_time_clk    int64 \n",
      " 6   rpt_time_turn   int64 \n",
      " 7   rpt_time_scost  int64 \n",
      " 8   rpt_time_acost  int64 \n",
      " 9   rpt_time_cost   int64 \n",
      " 10  rpt_time_earn   int64 \n",
      " 11  unique_id       int64 \n",
      "dtypes: int64(11), object(1)\n",
      "memory usage: 636.6+ MB\n"
     ]
    }
   ],
   "source": [
    "df.info()"
   ]
  },
  {
   "cell_type": "code",
   "execution_count": 70,
   "id": "db3c2a20",
   "metadata": {},
   "outputs": [],
   "source": [
    "# 2) 아이디별 마지막 날짜 구하기\n",
    "last_dates = df.groupby('unique_id')['rpt_time_date'].min().reset_index()\n",
    "\n",
    "# 3) 2025년 이전인 id만 필터링\n",
    "valid_ids = last_dates[last_dates['rpt_time_date'] > \"2025-05-01\"][\"unique_id\"]\n",
    "\n",
    "# 4) 원본 데이터에서 해당 id만 추출\n",
    "filtered_df = df[df['unique_id'].isin(valid_ids)]"
   ]
  },
  {
   "cell_type": "code",
   "execution_count": 71,
   "id": "96275376",
   "metadata": {},
   "outputs": [
    {
     "data": {
      "text/plain": [
       "157878"
      ]
     },
     "execution_count": 71,
     "metadata": {},
     "output_type": "execute_result"
    }
   ],
   "source": [
    "filtered_df['unique_id'].nunique()"
   ]
  },
  {
   "cell_type": "code",
   "execution_count": 5,
   "id": "45145b76",
   "metadata": {},
   "outputs": [],
   "source": [
    "# 고유 ID 생성: ads_idx와 mda_idx를 결합\n",
    "df[\"unique_id\"] = (\n",
    "    df[\"ads_idx\"].astype(str).str.zfill(6) +   # ads_idx는 항상 6자리\n",
    "    df[\"mda_idx\"].astype(str).str.zfill(4)     # mda_idx는 항상 4자리\n",
    ")\n",
    "\n",
    "# 필요하다면 숫자로 변환\n",
    "df[\"unique_id\"] = df[\"unique_id\"].astype(int)"
   ]
  },
  {
   "cell_type": "code",
   "execution_count": 6,
   "id": "26de5d48",
   "metadata": {},
   "outputs": [
    {
     "data": {
      "text/plain": [
       "815226"
      ]
     },
     "execution_count": 6,
     "metadata": {},
     "output_type": "execute_result"
    }
   ],
   "source": [
    "df[\"unique_id\"].nunique()"
   ]
  },
  {
   "cell_type": "code",
   "execution_count": 8,
   "id": "1cc765f7",
   "metadata": {},
   "outputs": [],
   "source": [
    "df_time = df[[\"unique_id\", \"rpt_time_date\", \"rpt_time_turn\"]].copy()"
   ]
  },
  {
   "cell_type": "code",
   "execution_count": null,
   "id": "f9241756",
   "metadata": {},
   "outputs": [],
   "source": [
    "# 주 단위로 집계\n",
    "'''\n",
    "주 단위 집계 월부터 시작!!\n",
    "rpt_time_date = 2024-07-27 (토요일)\n",
    "→ 같은 주의 월요일인 2024-07-22가 week_start가 됨\n",
    "'''\n",
    "\n",
    "df_time[\"rpt_time_date\"] = pd.to_datetime(df_time[\"rpt_time_date\"])\n",
    "\n",
    "# 연도, 주차 따로 추출\n",
    "iso = df_time[\"rpt_time_date\"].dt.isocalendar()\n",
    "df_time[\"year\"] = iso.year\n",
    "df_time[\"week\"] = iso.week\n",
    "\n",
    "# 연도-주차 키 생성\n",
    "df_time[\"year_week\"] = df_time[\"year\"].astype(str) + \"_\" + df_time[\"week\"].astype(str)\n",
    "\n",
    "# 그룹화\n",
    "df_week = (\n",
    "    df_time.groupby([\"unique_id\", \"year_week\"], as_index=False)[\"rpt_time_turn\"].sum()\n",
    "    .rename(columns={\"rpt_time_turn\": \"turn_sum\"})\n",
    ")"
   ]
  },
  {
   "cell_type": "code",
   "execution_count": 11,
   "id": "554a0b32",
   "metadata": {},
   "outputs": [
    {
     "data": {
      "application/vnd.microsoft.datawrangler.viewer.v0+json": {
       "columns": [
        {
         "name": "index",
         "rawType": "int64",
         "type": "integer"
        },
        {
         "name": "unique_id",
         "rawType": "int64",
         "type": "integer"
        },
        {
         "name": "year_week",
         "rawType": "object",
         "type": "string"
        },
        {
         "name": "turn_sum",
         "rawType": "int64",
         "type": "integer"
        }
       ],
       "ref": "43ff86bf-0eae-4840-83e0-b04bf0ad06ca",
       "rows": [
        [
         "0",
         "25950054",
         "2025_12",
         "16"
        ],
        [
         "1",
         "25950054",
         "2025_13",
         "15"
        ],
        [
         "2",
         "25950054",
         "2025_14",
         "4"
        ],
        [
         "3",
         "25950246",
         "2024_48",
         "0"
        ],
        [
         "4",
         "25950246",
         "2024_49",
         "0"
        ]
       ],
       "shape": {
        "columns": 3,
        "rows": 5
       }
      },
      "text/html": [
       "<div>\n",
       "<style scoped>\n",
       "    .dataframe tbody tr th:only-of-type {\n",
       "        vertical-align: middle;\n",
       "    }\n",
       "\n",
       "    .dataframe tbody tr th {\n",
       "        vertical-align: top;\n",
       "    }\n",
       "\n",
       "    .dataframe thead th {\n",
       "        text-align: right;\n",
       "    }\n",
       "</style>\n",
       "<table border=\"1\" class=\"dataframe\">\n",
       "  <thead>\n",
       "    <tr style=\"text-align: right;\">\n",
       "      <th></th>\n",
       "      <th>unique_id</th>\n",
       "      <th>year_week</th>\n",
       "      <th>turn_sum</th>\n",
       "    </tr>\n",
       "  </thead>\n",
       "  <tbody>\n",
       "    <tr>\n",
       "      <th>0</th>\n",
       "      <td>25950054</td>\n",
       "      <td>2025_12</td>\n",
       "      <td>16</td>\n",
       "    </tr>\n",
       "    <tr>\n",
       "      <th>1</th>\n",
       "      <td>25950054</td>\n",
       "      <td>2025_13</td>\n",
       "      <td>15</td>\n",
       "    </tr>\n",
       "    <tr>\n",
       "      <th>2</th>\n",
       "      <td>25950054</td>\n",
       "      <td>2025_14</td>\n",
       "      <td>4</td>\n",
       "    </tr>\n",
       "    <tr>\n",
       "      <th>3</th>\n",
       "      <td>25950246</td>\n",
       "      <td>2024_48</td>\n",
       "      <td>0</td>\n",
       "    </tr>\n",
       "    <tr>\n",
       "      <th>4</th>\n",
       "      <td>25950246</td>\n",
       "      <td>2024_49</td>\n",
       "      <td>0</td>\n",
       "    </tr>\n",
       "  </tbody>\n",
       "</table>\n",
       "</div>"
      ],
      "text/plain": [
       "   unique_id year_week  turn_sum\n",
       "0   25950054   2025_12        16\n",
       "1   25950054   2025_13        15\n",
       "2   25950054   2025_14         4\n",
       "3   25950246   2024_48         0\n",
       "4   25950246   2024_49         0"
      ]
     },
     "execution_count": 11,
     "metadata": {},
     "output_type": "execute_result"
    }
   ],
   "source": [
    "df_week.head()"
   ]
  },
  {
   "cell_type": "markdown",
   "id": "dbecf924",
   "metadata": {},
   "source": [
    "###  타깃값 분포 확인"
   ]
  },
  {
   "cell_type": "code",
   "execution_count": 13,
   "id": "b2cc4361",
   "metadata": {},
   "outputs": [
    {
     "data": {
      "image/png": "[encoded data removed]",
      "text/plain": [
       "<Figure size 800x500 with 1 Axes>"
      ]
     },
     "metadata": {},
     "output_type": "display_data"
    }
   ],
   "source": [
    "import matplotlib.pyplot as plt\n",
    "import seaborn as sns\n",
    "\n",
    "# 히스토그램 + KDE\n",
    "plt.figure(figsize=(8,5))\n",
    "sns.histplot(df_week[\"turn_sum\"], bins=30, kde=True)\n",
    "plt.title(\"Distribution of turn_sum\")\n",
    "plt.xlabel(\"turn_sum\")\n",
    "plt.ylabel(\"Frequency\")\n",
    "plt.show()\n"
   ]
  },
  {
   "cell_type": "code",
   "execution_count": 14,
   "id": "52361e8f",
   "metadata": {},
   "outputs": [
    {
     "data": {
      "image/png": "[encoded data removed]",
      "text/plain": [
       "<Figure size 600x400 with 1 Axes>"
      ]
     },
     "metadata": {},
     "output_type": "display_data"
    }
   ],
   "source": [
    "plt.figure(figsize=(6,4))\n",
    "sns.boxplot(x=df_week[\"turn_sum\"])\n",
    "plt.title(\"Boxplot of turn_sum\")\n",
    "plt.show()"
   ]
  },
  {
   "cell_type": "code",
   "execution_count": 15,
   "id": "9a6d134b",
   "metadata": {},
   "outputs": [
    {
     "data": {
      "text/plain": [
       "283717"
      ]
     },
     "execution_count": 15,
     "metadata": {},
     "output_type": "execute_result"
    }
   ],
   "source": [
    "(df_week[\"turn_sum\"]==0).sum()"
   ]
  },
  {
   "cell_type": "code",
   "execution_count": 16,
   "id": "fec6fad8",
   "metadata": {},
   "outputs": [
    {
     "name": "stdout",
     "output_type": "stream",
     "text": [
      "0인 비율: 26.50% (283,717개)\n",
      "0이 아닌 비율: 73.50% (787,048개)\n"
     ]
    }
   ],
   "source": [
    "zero_count = (df_week[\"turn_sum\"] == 0).sum()\n",
    "nonzero_count = (df_week[\"turn_sum\"] > 0).sum()\n",
    "zero_ratio = zero_count / len(df_week)\n",
    "\n",
    "print(f\"0인 비율: {zero_ratio:.2%} ({zero_count:,}개)\")\n",
    "print(f\"0이 아닌 비율: {1-zero_ratio:.2%} ({nonzero_count:,}개)\")"
   ]
  },
  {
   "cell_type": "code",
   "execution_count": 20,
   "id": "faf82291",
   "metadata": {},
   "outputs": [
    {
     "name": "stdout",
     "output_type": "stream",
     "text": [
      "전환수 > 0인 아이디 수: 645107\n",
      "전환수 == 0인 아이디 수: 170119\n"
     ]
    }
   ],
   "source": [
    "# 아이디별 전환수 합계\n",
    "id_sum = df_week.groupby(\"unique_id\", as_index=False)[\"turn_sum\"].sum()\n",
    "\n",
    "# 전환수 합계 > 0인 아이디 개수\n",
    "positive_count = (id_sum[\"turn_sum\"] > 0).sum()\n",
    "\n",
    "# 전환수 합계 == 0인 아이디 개수\n",
    "zero_count = (id_sum[\"turn_sum\"] == 0).sum()\n",
    "\n",
    "print(\"전환수 > 0인 아이디 수:\", positive_count)\n",
    "print(\"전환수 == 0인 아이디 수:\", zero_count)"
   ]
  },
  {
   "cell_type": "code",
   "execution_count": null,
   "id": "84d27464",
   "metadata": {},
   "outputs": [],
   "source": []
  },
  {
   "cell_type": "markdown",
   "id": "46265395",
   "metadata": {},
   "source": [
    "### 타깃값 로그 변환"
   ]
  },
  {
   "cell_type": "code",
   "execution_count": 21,
   "id": "20141cdc",
   "metadata": {},
   "outputs": [],
   "source": [
    "import numpy as np\n",
    "\n",
    "# turn_sum 로그 변환 (0 포함 가능) y=log(1+x)\n",
    "df_week[\"turn_sum_log\"] = np.log1p(df_week[\"turn_sum\"])"
   ]
  },
  {
   "cell_type": "code",
   "execution_count": 22,
   "id": "6616ad6f",
   "metadata": {},
   "outputs": [
    {
     "data": {
      "image/png": "[encoded data removed]",
      "text/plain": [
       "<Figure size 800x500 with 1 Axes>"
      ]
     },
     "metadata": {},
     "output_type": "display_data"
    }
   ],
   "source": [
    "import matplotlib.pyplot as plt\n",
    "import seaborn as sns\n",
    "\n",
    "# 히스토그램 + KDE\n",
    "plt.figure(figsize=(8,5))\n",
    "sns.histplot(df_week[\"turn_sum_log\"], bins=30, kde=True)\n",
    "plt.title(\"Distribution of turn_sum_log\")\n",
    "plt.xlabel(\"turn_sum_log\")\n",
    "plt.ylabel(\"Frequency\")\n",
    "plt.show()\n"
   ]
  },
  {
   "cell_type": "code",
   "execution_count": null,
   "id": "3c2c77ef",
   "metadata": {},
   "outputs": [],
   "source": []
  },
  {
   "cell_type": "markdown",
   "id": "312e4c6a",
   "metadata": {},
   "source": [
    "### 글로벌 모델링 형태로 변환\n"
   ]
  },
  {
   "cell_type": "code",
   "execution_count": 26,
   "id": "3d61a4d8",
   "metadata": {},
   "outputs": [
    {
     "name": "stdout",
     "output_type": "stream",
     "text": [
      "<class 'pandas.core.frame.DataFrame'>\n",
      "RangeIndex: 1070765 entries, 0 to 1070764\n",
      "Data columns (total 4 columns):\n",
      " #   Column        Non-Null Count    Dtype  \n",
      "---  ------        --------------    -----  \n",
      " 0   unique_id     1070765 non-null  int64  \n",
      " 1   year_week     1070765 non-null  object \n",
      " 2   turn_sum      1070765 non-null  int64  \n",
      " 3   turn_sum_log  1070765 non-null  float64\n",
      "dtypes: float64(1), int64(2), object(1)\n",
      "memory usage: 32.7+ MB\n"
     ]
    }
   ],
   "source": [
    "df_week.info()"
   ]
  },
  {
   "cell_type": "code",
   "execution_count": 27,
   "id": "578b819b",
   "metadata": {},
   "outputs": [],
   "source": [
    "df_sorted = df_week.sort_values(by=[\"unique_id\", \"year_week\"]).reset_index(drop=True)"
   ]
  },
  {
   "cell_type": "code",
   "execution_count": 28,
   "id": "019109a6",
   "metadata": {},
   "outputs": [],
   "source": [
    "# 현재 year_week = \"2024_1\", \"2024_12\" 형태\n",
    "# 1~9주 앞에 0을 붙여 두 자리로 만들기\n",
    "df_week[\"year_week_num\"] = df_week[\"year_week\"].apply(lambda x: x.split(\"_\")[0] + x.split(\"_\")[1].zfill(2))\n",
    "\n",
    "# 숫자형으로 변환 가능\n",
    "df_week[\"year_week_num\"] = df_week[\"year_week_num\"].astype(int)"
   ]
  },
  {
   "cell_type": "code",
   "execution_count": null,
   "id": "f1f1583d",
   "metadata": {},
   "outputs": [],
   "source": []
  },
  {
   "cell_type": "markdown",
   "id": "123d404e",
   "metadata": {},
   "source": [
    "### 0전처리 없이 ver."
   ]
  },
  {
   "cell_type": "code",
   "execution_count": 37,
   "id": "2fade22c",
   "metadata": {},
   "outputs": [],
   "source": [
    "df_model = df_week[[\"unique_id\", \"year_week_num\", \"turn_sum\"]].copy()"
   ]
  },
  {
   "cell_type": "code",
   "execution_count": 30,
   "id": "af8e6da6",
   "metadata": {},
   "outputs": [
    {
     "name": "stdout",
     "output_type": "stream",
     "text": [
      "<class 'pandas.core.frame.DataFrame'>\n",
      "RangeIndex: 1070765 entries, 0 to 1070764\n",
      "Data columns (total 3 columns):\n",
      " #   Column         Non-Null Count    Dtype  \n",
      "---  ------         --------------    -----  \n",
      " 0   unique_id      1070765 non-null  int64  \n",
      " 1   year_week_num  1070765 non-null  int64  \n",
      " 2   turn_sum_log   1070765 non-null  float64\n",
      "dtypes: float64(1), int64(2)\n",
      "memory usage: 24.5 MB\n"
     ]
    }
   ],
   "source": [
    "df_model.info()"
   ]
  },
  {
   "cell_type": "code",
   "execution_count": 38,
   "id": "ef51f38a",
   "metadata": {},
   "outputs": [],
   "source": [
    "#데이터 나누기!!\n",
    "from sklearn.metrics import mean_squared_error\n",
    "import numpy as np\n",
    "\n",
    "# 입력 변수와 타겟\n",
    "X = df_model[[\"unique_id\", \"year_week_num\"]]\n",
    "y = df_model[\"turn_sum\"]\n",
    "\n",
    "# 전체 데이터에서 마지막 N%를 검증용으로 사용\n",
    "split_ratio = 0.8\n",
    "split_index = int(len(df_model) * split_ratio)\n",
    "\n",
    "X_train = df_model[[\"unique_id\", \"year_week_num\"]].iloc[:split_index]\n",
    "y_train = df_model[\"turn_sum\"].iloc[:split_index]\n",
    "\n",
    "X_test = df_model[[\"unique_id\", \"year_week_num\"]].iloc[split_index:]\n",
    "y_test = df_model[\"turn_sum\"].iloc[split_index:]\n"
   ]
  },
  {
   "cell_type": "markdown",
   "id": "d82490a9",
   "metadata": {},
   "source": [
    "#### Random Forest"
   ]
  },
  {
   "cell_type": "code",
   "execution_count": 40,
   "id": "6b389b2a",
   "metadata": {},
   "outputs": [
    {
     "data": {
      "text/html": [
       "<style>#sk-container-id-2 {color: black;}#sk-container-id-2 pre{padding: 0;}#sk-container-id-2 div.sk-toggleable {background-color: white;}#sk-container-id-2 label.sk-toggleable__label {cursor: pointer;display: block;width: 100%;margin-bottom: 0;padding: 0.3em;box-sizing: border-box;text-align: center;}#sk-container-id-2 label.sk-toggleable__label-arrow:before {content: \"▸\";float: left;margin-right: 0.25em;color: #696969;}#sk-container-id-2 label.sk-toggleable__label-arrow:hover:before {color: black;}#sk-container-id-2 div.sk-estimator:hover label.sk-toggleable__label-arrow:before {color: black;}#sk-container-id-2 div.sk-toggleable__content {max-height: 0;max-width: 0;overflow: hidden;text-align: left;background-color: #f0f8ff;}#sk-container-id-2 div.sk-toggleable__content pre {margin: 0.2em;color: black;border-radius: 0.25em;background-color: #f0f8ff;}#sk-container-id-2 input.sk-toggleable__control:checked~div.sk-toggleable__content {max-height: 200px;max-width: 100%;overflow: auto;}#sk-container-id-2 input.sk-toggleable__control:checked~label.sk-toggleable__label-arrow:before {content: \"▾\";}#sk-container-id-2 div.sk-estimator input.sk-toggleable__control:checked~label.sk-toggleable__label {background-color: #d4ebff;}#sk-container-id-2 div.sk-label input.sk-toggleable__control:checked~label.sk-toggleable__label {background-color: #d4ebff;}#sk-container-id-2 input.sk-hidden--visually {border: 0;clip: rect(1px 1px 1px 1px);clip: rect(1px, 1px, 1px, 1px);height: 1px;margin: -1px;overflow: hidden;padding: 0;position: absolute;width: 1px;}#sk-container-id-2 div.sk-estimator {font-family: monospace;background-color: #f0f8ff;border: 1px dotted black;border-radius: 0.25em;box-sizing: border-box;margin-bottom: 0.5em;}#sk-container-id-2 div.sk-estimator:hover {background-color: #d4ebff;}#sk-container-id-2 div.sk-parallel-item::after {content: \"\";width: 100%;border-bottom: 1px solid gray;flex-grow: 1;}#sk-container-id-2 div.sk-label:hover label.sk-toggleable__label {background-color: #d4ebff;}#sk-container-id-2 div.sk-serial::before {content: \"\";position: absolute;border-left: 1px solid gray;box-sizing: border-box;top: 0;bottom: 0;left: 50%;z-index: 0;}#sk-container-id-2 div.sk-serial {display: flex;flex-direction: column;align-items: center;background-color: white;padding-right: 0.2em;padding-left: 0.2em;position: relative;}#sk-container-id-2 div.sk-item {position: relative;z-index: 1;}#sk-container-id-2 div.sk-parallel {display: flex;align-items: stretch;justify-content: center;background-color: white;position: relative;}#sk-container-id-2 div.sk-item::before, #sk-container-id-2 div.sk-parallel-item::before {content: \"\";position: absolute;border-left: 1px solid gray;box-sizing: border-box;top: 0;bottom: 0;left: 50%;z-index: -1;}#sk-container-id-2 div.sk-parallel-item {display: flex;flex-direction: column;z-index: 1;position: relative;background-color: white;}#sk-container-id-2 div.sk-parallel-item:first-child::after {align-self: flex-end;width: 50%;}#sk-container-id-2 div.sk-parallel-item:last-child::after {align-self: flex-start;width: 50%;}#sk-container-id-2 div.sk-parallel-item:only-child::after {width: 0;}#sk-container-id-2 div.sk-dashed-wrapped {border: 1px dashed gray;margin: 0 0.4em 0.5em 0.4em;box-sizing: border-box;padding-bottom: 0.4em;background-color: white;}#sk-container-id-2 div.sk-label label {font-family: monospace;font-weight: bold;display: inline-block;line-height: 1.2em;}#sk-container-id-2 div.sk-label-container {text-align: center;}#sk-container-id-2 div.sk-container {/* jupyter's `normalize.less` sets `[hidden] { display: none; }` but bootstrap.min.css set `[hidden] { display: none !important; }` so we also need the `!important` here to be able to override the default hidden behavior on the sphinx rendered scikit-learn.org. See: https://github.com/scikit-learn/scikit-learn/issues/21755 */display: inline-block !important;position: relative;}#sk-container-id-2 div.sk-text-repr-fallback {display: none;}</style><div id=\"sk-container-id-2\" class=\"sk-top-container\"><div class=\"sk-text-repr-fallback\"><pre>RandomForestRegressor()</pre><b>In a Jupyter environment, please rerun this cell to show the HTML representation or trust the notebook. <br />On GitHub, the HTML representation is unable to render, please try loading this page with nbviewer.org.</b></div><div class=\"sk-container\" hidden><div class=\"sk-item\"><div class=\"sk-estimator sk-toggleable\"><input class=\"sk-toggleable__control sk-hidden--visually\" id=\"sk-estimator-id-2\" type=\"checkbox\" checked><label for=\"sk-estimator-id-2\" class=\"sk-toggleable__label sk-toggleable__label-arrow\">RandomForestRegressor</label><div class=\"sk-toggleable__content\"><pre>RandomForestRegressor()</pre></div></div></div></div></div>"
      ],
      "text/plain": [
       "RandomForestRegressor()"
      ]
     },
     "execution_count": 40,
     "metadata": {},
     "output_type": "execute_result"
    }
   ],
   "source": [
    "from sklearn.ensemble import RandomForestRegressor\n",
    "\n",
    "# 랜덤포레스트 회귀 모델\n",
    "rf = RandomForestRegressor()\n",
    "\n",
    "# 학습\n",
    "rf.fit(X_train, y_train)\n"
   ]
  },
  {
   "cell_type": "code",
   "execution_count": 59,
   "id": "0e074180",
   "metadata": {},
   "outputs": [
    {
     "name": "stdout",
     "output_type": "stream",
     "text": [
      "R^2: 0.9752\n",
      "RMSE: 0.2453\n",
      "MAE: 0.1621\n",
      "MAPE: 4146935845.61%\n"
     ]
    }
   ],
   "source": [
    "# 일반 평가\n",
    "from sklearn.metrics import mean_squared_error, mean_absolute_error, r2_score\n",
    "import numpy as np\n",
    "\n",
    "# 예측\n",
    "y_pred = rf.predict(X_train)\n",
    "\n",
    "# 성능 지표 계산\n",
    "r2 = r2_score(y_train, y_pred)\n",
    "rmse = np.sqrt(mean_squared_error(y_train, y_pred))\n",
    "mae = mean_absolute_error(y_train, y_pred)\n",
    "\n",
    "# MAPE 계산 (0 나누기 방지 위해 1e-9 더함)\n",
    "mape = np.mean(np.abs((y_train - y_pred) / (y_train + 1e-9))) * 100\n",
    "\n",
    "print(f\"R^2: {r2:.4f}\")\n",
    "print(f\"RMSE: {rmse:.4f}\")\n",
    "print(f\"MAE: {mae:.4f}\")\n",
    "print(f\"MAPE: {mape:.2f}%\")"
   ]
  },
  {
   "cell_type": "code",
   "execution_count": 41,
   "id": "cb93a3c1",
   "metadata": {},
   "outputs": [
    {
     "name": "stdout",
     "output_type": "stream",
     "text": [
      "R^2: -0.0036\n",
      "RMSE: 381.6105\n",
      "MAE: 26.4862\n",
      "MAPE: 110942548275.38%\n"
     ]
    }
   ],
   "source": [
    "# 일반 평가\n",
    "from sklearn.metrics import mean_squared_error, mean_absolute_error, r2_score\n",
    "import numpy as np\n",
    "\n",
    "# 예측\n",
    "y_pred = rf.predict(X_test)\n",
    "\n",
    "# 성능 지표 계산\n",
    "r2 = r2_score(y_test, y_pred)\n",
    "rmse = np.sqrt(mean_squared_error(y_test, y_pred))\n",
    "mae = mean_absolute_error(y_test, y_pred)\n",
    "\n",
    "# MAPE 계산 (0 나누기 방지 위해 1e-9 더함)\n",
    "mape = np.mean(np.abs((y_test - y_pred) / (y_test + 1e-9))) * 100\n",
    "\n",
    "print(f\"R^2: {r2:.4f}\")\n",
    "print(f\"RMSE: {rmse:.4f}\")\n",
    "print(f\"MAE: {mae:.4f}\")\n",
    "print(f\"MAPE: {mape:.2f}%\")\n"
   ]
  },
  {
   "cell_type": "code",
   "execution_count": 36,
   "id": "720f7136",
   "metadata": {},
   "outputs": [
    {
     "name": "stdout",
     "output_type": "stream",
     "text": [
      "R^2 (original unit): -0.0042\n",
      "RMSE (original unit): 381.7146\n",
      "MAE (original unit): 25.4869\n",
      "MAPE (original unit): 37125928639.85%\n"
     ]
    }
   ],
   "source": [
    "# 로그 변환된 타겟을 원래 단위로 복원한 후 성능 평가\n",
    "from sklearn.metrics import mean_squared_error, mean_absolute_error, r2_score\n",
    "import numpy as np\n",
    "\n",
    "# 예측\n",
    "y_pred = rf.predict(X_test)\n",
    "\n",
    "# 로그 -> 원래 단위 복원\n",
    "y_test_original = np.expm1(y_test)\n",
    "y_pred_original = np.expm1(y_pred)\n",
    "\n",
    "# RMSE, MAE, MAPE 계산 (원래 단위)\n",
    "rmse_orig = np.sqrt(mean_squared_error(y_test_original, y_pred_original))\n",
    "mae_orig = mean_absolute_error(y_test_original, y_pred_original)\n",
    "mape_orig = np.mean(np.abs((y_test_original - y_pred_original) / (y_test_original + 1e-9))) * 100\n",
    "r2_orig = r2_score(y_test_original, y_pred_original)\n",
    "\n",
    "print(f\"R^2 (original unit): {r2_orig:.4f}\")\n",
    "print(f\"RMSE (original unit): {rmse_orig:.4f}\")\n",
    "print(f\"MAE (original unit): {mae_orig:.4f}\")\n",
    "print(f\"MAPE (original unit): {mape_orig:.2f}%\")\n"
   ]
  },
  {
   "cell_type": "markdown",
   "id": "5ffefc49",
   "metadata": {},
   "source": [
    "### 0전처리 "
   ]
  },
  {
   "cell_type": "markdown",
   "id": "eff161ed",
   "metadata": {},
   "source": [
    "#### 전처리만"
   ]
  },
  {
   "cell_type": "code",
   "execution_count": 42,
   "id": "209b26ce",
   "metadata": {},
   "outputs": [],
   "source": [
    "# 아이디별 turn_sum 합계 계산\n",
    "id_sum = df_week.groupby(\"unique_id\")[\"turn_sum\"].sum().reset_index()\n",
    "\n",
    "# 합계 > 0인 아이디 필터링\n",
    "valid_ids = id_sum[id_sum[\"turn_sum\"] > 0][\"unique_id\"]\n",
    "\n",
    "# df_week에서 필터링\n",
    "df_zero = df_week[df_week[\"unique_id\"].isin(valid_ids)].copy()\n"
   ]
  },
  {
   "cell_type": "code",
   "execution_count": 45,
   "id": "ceb9cc70",
   "metadata": {},
   "outputs": [
    {
     "data": {
      "image/png": "[encoded data removed]",
      "text/plain": [
       "<Figure size 800x500 with 1 Axes>"
      ]
     },
     "metadata": {},
     "output_type": "display_data"
    }
   ],
   "source": [
    "import matplotlib.pyplot as plt\n",
    "import seaborn as sns\n",
    "\n",
    "# 히스토그램 + KDE\n",
    "plt.figure(figsize=(8,5))\n",
    "sns.histplot(df_zero[\"turn_sum\"], bins=30, kde=True)\n",
    "plt.title(\"Distribution of turn_sum\")\n",
    "plt.xlabel(\"turn_sum\")\n",
    "plt.ylabel(\"Frequency\")\n",
    "plt.show()\n"
   ]
  },
  {
   "cell_type": "code",
   "execution_count": 44,
   "id": "56d3a890",
   "metadata": {},
   "outputs": [],
   "source": [
    "import numpy as np\n",
    "\n",
    "# 로그 변환\n",
    "df_zero[\"turn_sum_log\"] = np.log1p(df_zero[\"turn_sum\"])\n",
    "\n",
    "# year_week_num: \"2024_1\" -> 202401\n",
    "df_zero[\"year_week_num\"] = df_zero[\"year_week\"].apply(lambda x: x.split(\"_\")[0] + x.split(\"_\")[1].zfill(2)).astype(int)\n"
   ]
  },
  {
   "cell_type": "code",
   "execution_count": 46,
   "id": "6cb1261e",
   "metadata": {},
   "outputs": [
    {
     "data": {
      "image/png": "[encoded data removed]",
      "text/plain": [
       "<Figure size 800x500 with 1 Axes>"
      ]
     },
     "metadata": {},
     "output_type": "display_data"
    }
   ],
   "source": [
    "import matplotlib.pyplot as plt\n",
    "import seaborn as sns\n",
    "\n",
    "# 히스토그램 + KDE\n",
    "plt.figure(figsize=(8,5))\n",
    "sns.histplot(df_zero[\"turn_sum_log\"], bins=30, kde=True)\n",
    "plt.title(\"Distribution of turn_sum_log\")\n",
    "plt.xlabel(\"turn_sum_log\")\n",
    "plt.ylabel(\"Frequency\")\n",
    "plt.show()\n"
   ]
  },
  {
   "cell_type": "markdown",
   "id": "b242314e",
   "metadata": {},
   "source": [
    "#### 모델링"
   ]
  },
  {
   "cell_type": "code",
   "execution_count": 47,
   "id": "f22a9822",
   "metadata": {},
   "outputs": [
    {
     "name": "stdout",
     "output_type": "stream",
     "text": [
      "<class 'pandas.core.frame.DataFrame'>\n",
      "Index: 842178 entries, 0 to 1070764\n",
      "Data columns (total 5 columns):\n",
      " #   Column         Non-Null Count   Dtype  \n",
      "---  ------         --------------   -----  \n",
      " 0   unique_id      842178 non-null  int64  \n",
      " 1   year_week      842178 non-null  object \n",
      " 2   turn_sum       842178 non-null  int64  \n",
      " 3   turn_sum_log   842178 non-null  float64\n",
      " 4   year_week_num  842178 non-null  int64  \n",
      "dtypes: float64(1), int64(3), object(1)\n",
      "memory usage: 38.6+ MB\n"
     ]
    }
   ],
   "source": [
    "df_zero.info()"
   ]
  },
  {
   "cell_type": "code",
   "execution_count": 48,
   "id": "d6e81d4f",
   "metadata": {},
   "outputs": [],
   "source": [
    "df_zero_model = df_zero[[\"unique_id\", \"year_week_num\", \"turn_sum_log\"]].copy()"
   ]
  },
  {
   "cell_type": "code",
   "execution_count": 50,
   "id": "0ed68097",
   "metadata": {},
   "outputs": [],
   "source": [
    "#데이터 나누기!!\n",
    "from sklearn.metrics import mean_squared_error\n",
    "import numpy as np\n",
    "\n",
    "# 입력 변수와 타겟\n",
    "X = df_zero_model[[\"unique_id\", \"year_week_num\"]]\n",
    "y = df_zero_model[\"turn_sum_log\"]\n",
    "\n",
    "# 전체 데이터에서 마지막 N%를 검증용으로 사용\n",
    "split_ratio = 0.8\n",
    "split_index = int(len(df_zero_model) * split_ratio)\n",
    "\n",
    "X_train = df_zero_model[[\"unique_id\", \"year_week_num\"]].iloc[:split_index]\n",
    "y_train = df_zero_model[\"turn_sum_log\"].iloc[:split_index]\n",
    "\n",
    "X_test = df_zero_model[[\"unique_id\", \"year_week_num\"]].iloc[split_index:]\n",
    "y_test = df_zero_model[\"turn_sum_log\"].iloc[split_index:]\n"
   ]
  },
  {
   "cell_type": "code",
   "execution_count": null,
   "id": "2f67fdf3",
   "metadata": {},
   "outputs": [],
   "source": []
  },
  {
   "cell_type": "markdown",
   "id": "3856cdd8",
   "metadata": {},
   "source": [
    "#### 랜포\n"
   ]
  },
  {
   "cell_type": "code",
   "execution_count": 51,
   "id": "b695dea2",
   "metadata": {},
   "outputs": [
    {
     "name": "stdout",
     "output_type": "stream",
     "text": [
      "R^2 (original unit): -0.0058\n",
      "RMSE (original unit): 430.4929\n",
      "MAE (original unit): 32.6500\n",
      "MAPE (original unit): 2289302636.80%\n"
     ]
    }
   ],
   "source": [
    "from sklearn.ensemble import RandomForestRegressor\n",
    "\n",
    "# 랜덤포레스트 회귀 모델\n",
    "rf = RandomForestRegressor()\n",
    "\n",
    "# 학습\n",
    "rf.fit(X_train, y_train)\n",
    "\n",
    "# 로그 변환된 타겟을 원래 단위로 복원한 후 성능 평가\n",
    "from sklearn.metrics import mean_squared_error, mean_absolute_error, r2_score\n",
    "import numpy as np\n",
    "\n",
    "# 예측\n",
    "y_pred = rf.predict(X_test)\n",
    "\n",
    "# 로그 -> 원래 단위 복원\n",
    "y_test_original = np.expm1(y_test)\n",
    "y_pred_original = np.expm1(y_pred)\n",
    "\n",
    "# RMSE, MAE, MAPE 계산 (원래 단위)\n",
    "rmse_orig = np.sqrt(mean_squared_error(y_test_original, y_pred_original))\n",
    "mae_orig = mean_absolute_error(y_test_original, y_pred_original)\n",
    "mape_orig = np.mean(np.abs((y_test_original - y_pred_original) / (y_test_original + 1e-9))) * 100\n",
    "r2_orig = r2_score(y_test_original, y_pred_original)\n",
    "\n",
    "print(f\"R^2 (original unit): {r2_orig:.4f}\")\n",
    "print(f\"RMSE (original unit): {rmse_orig:.4f}\")\n",
    "print(f\"MAE (original unit): {mae_orig:.4f}\")\n",
    "print(f\"MAPE (original unit): {mape_orig:.2f}%\")\n"
   ]
  },
  {
   "cell_type": "markdown",
   "id": "866c1568",
   "metadata": {},
   "source": [
    "#### 레그피처 추가+랜포"
   ]
  },
  {
   "cell_type": "code",
   "execution_count": 52,
   "id": "8f98a3b4",
   "metadata": {},
   "outputs": [],
   "source": [
    "df_model_filtered = df_zero_model.sort_values(by=[\"unique_id\", \"year_week_num\"])\n",
    "df_model_filtered[\"lag1\"] = df_model_filtered.groupby(\"unique_id\")[\"turn_sum_log\"].shift(1)\n",
    "df_model_filtered[\"lag2\"] = df_model_filtered.groupby(\"unique_id\")[\"turn_sum_log\"].shift(2)\n",
    "df_model_filtered[\"lag3\"] = df_model_filtered.groupby(\"unique_id\")[\"turn_sum_log\"].shift(3)\n",
    "\n",
    "# NaN 제거\n",
    "df_model_filtered = df_model_filtered.dropna(subset=[\"lag1\", \"lag2\", \"lag3\"])\n"
   ]
  },
  {
   "cell_type": "code",
   "execution_count": 53,
   "id": "45fe0350",
   "metadata": {},
   "outputs": [
    {
     "name": "stdout",
     "output_type": "stream",
     "text": [
      "<class 'pandas.core.frame.DataFrame'>\n",
      "Index: 77632 entries, 6 to 1060611\n",
      "Data columns (total 6 columns):\n",
      " #   Column         Non-Null Count  Dtype  \n",
      "---  ------         --------------  -----  \n",
      " 0   unique_id      77632 non-null  int64  \n",
      " 1   year_week_num  77632 non-null  int64  \n",
      " 2   turn_sum_log   77632 non-null  float64\n",
      " 3   lag1           77632 non-null  float64\n",
      " 4   lag2           77632 non-null  float64\n",
      " 5   lag3           77632 non-null  float64\n",
      "dtypes: float64(4), int64(2)\n",
      "memory usage: 4.1 MB\n"
     ]
    }
   ],
   "source": [
    "df_model_filtered.info()    "
   ]
  },
  {
   "cell_type": "code",
   "execution_count": 55,
   "id": "0d4de91a",
   "metadata": {},
   "outputs": [],
   "source": [
    "#데이터 나누기!!\n",
    "from sklearn.metrics import mean_squared_error\n",
    "import numpy as np\n",
    "\n",
    "# 입력 변수와 타겟\n",
    "X = df_model_filtered[[\"unique_id\", \"year_week_num\",'lag1','lag2','lag3']]\n",
    "y = df_model_filtered[\"turn_sum_log\"]\n",
    "\n",
    "# 전체 데이터에서 마지막 N%를 검증용으로 사용\n",
    "split_ratio = 0.8\n",
    "split_index = int(len(df_model_filtered) * split_ratio)\n",
    "\n",
    "X_train = df_model_filtered[[\"unique_id\", \"year_week_num\",'lag1','lag2','lag3']].iloc[:split_index]\n",
    "y_train = df_model_filtered[\"turn_sum_log\"].iloc[:split_index]\n",
    "\n",
    "X_test = df_model_filtered[[\"unique_id\", \"year_week_num\",'lag1','lag2','lag3']].iloc[split_index:]\n",
    "y_test = df_model_filtered[\"turn_sum_log\"].iloc[split_index:]\n"
   ]
  },
  {
   "cell_type": "code",
   "execution_count": 56,
   "id": "e73752c1",
   "metadata": {},
   "outputs": [
    {
     "name": "stdout",
     "output_type": "stream",
     "text": [
      "R^2 (original unit): 0.0171\n",
      "RMSE (original unit): 706.8009\n",
      "MAE (original unit): 32.1899\n",
      "MAPE (original unit): 95295458194.16%\n"
     ]
    }
   ],
   "source": [
    "from sklearn.ensemble import RandomForestRegressor\n",
    "\n",
    "# 랜덤포레스트 회귀 모델\n",
    "rf = RandomForestRegressor()\n",
    "\n",
    "# 학습\n",
    "rf.fit(X_train, y_train)\n",
    "\n",
    "# 로그 변환된 타겟을 원래 단위로 복원한 후 성능 평가\n",
    "from sklearn.metrics import mean_squared_error, mean_absolute_error, r2_score\n",
    "import numpy as np\n",
    "\n",
    "# 예측\n",
    "y_pred = rf.predict(X_test)\n",
    "\n",
    "# 로그 -> 원래 단위 복원\n",
    "y_test_original = np.expm1(y_test)\n",
    "y_pred_original = np.expm1(y_pred)\n",
    "\n",
    "# RMSE, MAE, MAPE 계산 (원래 단위)\n",
    "rmse_orig = np.sqrt(mean_squared_error(y_test_original, y_pred_original))\n",
    "mae_orig = mean_absolute_error(y_test_original, y_pred_original)\n",
    "mape_orig = np.mean(np.abs((y_test_original - y_pred_original) / (y_test_original + 1e-9))) * 100\n",
    "r2_orig = r2_score(y_test_original, y_pred_original)\n",
    "\n",
    "print(f\"R^2 (original unit): {r2_orig:.4f}\")\n",
    "print(f\"RMSE (original unit): {rmse_orig:.4f}\")\n",
    "print(f\"MAE (original unit): {mae_orig:.4f}\")\n",
    "print(f\"MAPE (original unit): {mape_orig:.2f}%\")\n"
   ]
  },
  {
   "cell_type": "code",
   "execution_count": null,
   "id": "ae4c2cf2",
   "metadata": {},
   "outputs": [],
   "source": []
  }
 ],
 "metadata": {
  "kernelspec": {
   "display_name": "py38",
   "language": "python",
   "name": "python3"
  },
  "language_info": {
   "codemirror_mode": {
    "name": "ipython",
    "version": 3
   },
   "file_extension": ".py",
   "mimetype": "text/x-python",
   "name": "python",
   "nbconvert_exporter": "python",
   "pygments_lexer": "ipython3",
   "version": "3.8.20"
  }
 },
 "nbformat": 4,
 "nbformat_minor": 5
}
